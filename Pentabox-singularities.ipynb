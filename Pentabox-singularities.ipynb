{
 "cells": [
  {
   "cell_type": "markdown",
   "metadata": {},
   "source": [
    "<img src=\"Pentabox.png\" alt=\"Pentabox\" style=\"width:200px\">"
   ]
  },
  {
   "cell_type": "markdown",
   "metadata": {},
   "source": [
    "<H3><center><b>Picard-Fuchs equation for the pentabox graph $(4,1,3)$ with  seven-points</b></center></H3>\n",
    "$$\n",
    "\\int_{x_i\\geq0}{\\textbf{U}_{(2,1,3)}^2\\over \\textbf{F}_{(2,1,3);D}(t)^4} dx_1\\cdots dx_{7}\n",
    "$$\n",
    "\\begin{align}\n",
    "{\\bf U}_{(4,1,3)} & = (x_1 + x_2 + x_3 + x_4) (y_1 + y_2 + y_3) + \n",
    " z (x_1 + x_2 + x_3 + x_4 + y_1 + y_2 + y_3) ,\\\\\n",
    "{\\bf V}_{(4,1,3);D} & =  x_1 x_2 y_1 p_1  \\cdot  p_1 + x_1 x_3 y_1 p_1  \\cdot  p_1 + x_1 x_4 y_1 p_1  \\cdot  p_1 + x_1 x_2 y_2 p_1  \\cdot  p_1 + \n",
    " x_1 x_3 y_2 p_1  \\cdot  p_1 + x_1 x_4 y_2 p_1  \\cdot  p_1 + x_1 y_1 y_2 p_1  \\cdot  p_1 + x_2 y_1 y_2 p_1  \\cdot  p_1 + \n",
    " x_3 y_1 y_2 p_1  \\cdot  p_1 + x_4 y_1 y_2 p_1  \\cdot  p_1 + x_1 x_2 y_3 p_1  \\cdot  p_1 + x_1 x_3 y_3 p_1  \\cdot  p_1 + \n",
    " x_1 x_4 y_3 p_1  \\cdot  p_1 + x_1 y_1 y_3 p_1  \\cdot  p_1 + x_2 y_1 y_3 p_1  \\cdot  p_1 + x_3 y_1 y_3 p_1  \\cdot  p_1 + \n",
    " x_4 y_1 y_3 p_1  \\cdot  p_1 + x_1 x_2 z p_1  \\cdot  p_1 + x_1 x_3 z p_1  \\cdot  p_1 + x_1 x_4 z p_1  \\cdot  p_1 + \n",
    " x_2 y_1 z p_1  \\cdot  p_1 + x_3 y_1 z p_1  \\cdot  p_1 + x_4 y_1 z p_1  \\cdot  p_1 + x_1 y_2 z p_1  \\cdot  p_1 + \n",
    " y_1 y_2 z p_1  \\cdot  p_1 + x_1 y_3 z p_1  \\cdot  p_1 + y_1 y_3 z p_1  \\cdot  p_1 + 2 x_1 x_3 y_1 p_1  \\cdot  p_2 + \n",
    " 2 x_1 x_4 y_1 p_1  \\cdot  p_2 + 2 x_1 x_3 y_2 p_1  \\cdot  p_2 + 2 x_1 x_4 y_2 p_1  \\cdot  p_2 + 2 x_1 y_1 y_2 p_1  \\cdot  p_2 + \n",
    " 2 x_2 y_1 y_2 p_1  \\cdot  p_2 + 2 x_3 y_1 y_2 p_1  \\cdot  p_2 + 2 x_4 y_1 y_2 p_1  \\cdot  p_2 + 2 x_1 x_3 y_3 p_1  \\cdot  p_2 + \n",
    " 2 x_1 x_4 y_3 p_1  \\cdot  p_2 + 2 x_1 y_1 y_3 p_1  \\cdot  p_2 + 2 x_2 y_1 y_3 p_1  \\cdot  p_2 + 2 x_3 y_1 y_3 p_1  \\cdot  p_2 + \n",
    " 2 x_4 y_1 y_3 p_1  \\cdot  p_2 + 2 x_1 x_3 z p_1  \\cdot  p_2 + 2 x_1 x_4 z p_1  \\cdot  p_2 + 2 x_3 y_1 z p_1  \\cdot  p_2 + \n",
    " 2 x_4 y_1 z p_1  \\cdot  p_2 + 2 x_1 y_2 z p_1  \\cdot  p_2 + 2 y_1 y_2 z p_1  \\cdot  p_2 + 2 x_1 y_3 z p_1  \\cdot  p_2 + \n",
    " 2 y_1 y_3 z p_1  \\cdot  p_2 + 2 x_1 x_4 y_1 p_1  \\cdot  p_3 + 2 x_1 x_4 y_2 p_1  \\cdot  p_3 + 2 x_1 y_1 y_2 p_1  \\cdot  p_3 + \n",
    " 2 x_2 y_1 y_2 p_1  \\cdot  p_3 + 2 x_3 y_1 y_2 p_1  \\cdot  p_3 + 2 x_4 y_1 y_2 p_1  \\cdot  p_3 + 2 x_1 x_4 y_3 p_1  \\cdot  p_3 + \n",
    " 2 x_1 y_1 y_3 p_1  \\cdot  p_3 + 2 x_2 y_1 y_3 p_1  \\cdot  p_3 + 2 x_3 y_1 y_3 p_1  \\cdot  p_3 + 2 x_4 y_1 y_3 p_1  \\cdot  p_3 + \n",
    " 2 x_1 x_4 z p_1  \\cdot  p_3 + 2 x_4 y_1 z p_1  \\cdot  p_3 + 2 x_1 y_2 z p_1  \\cdot  p_3 + 2 y_1 y_2 z p_1  \\cdot  p_3 + \n",
    " 2 x_1 y_3 z p_1  \\cdot  p_3 + 2 y_1 y_3 z p_1  \\cdot  p_3 + 2 x_1 y_1 y_2 p_1  \\cdot  p_4 + 2 x_2 y_1 y_2 p_1  \\cdot  p_4 + \n",
    " 2 x_3 y_1 y_2 p_1  \\cdot  p_4 + 2 x_4 y_1 y_2 p_1  \\cdot  p_4 + 2 x_1 y_2 z p_1  \\cdot  p_4 + 2 y_1 y_2 z p_1  \\cdot  p_4 + \n",
    " 2 x_1 y_1 y_2 p_1  \\cdot  p_6 + 2 x_2 y_1 y_2 p_1  \\cdot  p_6 + 2 x_3 y_1 y_2 p_1  \\cdot  p_6 + 2 x_4 y_1 y_2 p_1  \\cdot  p_6 + \n",
    " 2 x_1 y_1 y_3 p_1  \\cdot  p_6 + 2 x_2 y_1 y_3 p_1  \\cdot  p_6 + 2 x_3 y_1 y_3 p_1  \\cdot  p_6 + 2 x_4 y_1 y_3 p_1  \\cdot  p_6 + \n",
    " 2 x_2 y_1 z p_1  \\cdot  p_6 + 2 x_3 y_1 z p_1  \\cdot  p_6 + 2 x_4 y_1 z p_1  \\cdot  p_6 + 2 y_1 y_2 z p_1  \\cdot  p_6 + \n",
    " 2 y_1 y_3 z p_1  \\cdot  p_6 + 2 x_1 y_1 y_2 p_1  \\cdot  p_7 + 2 x_2 y_1 y_2 p_1  \\cdot  p_7 + 2 x_3 y_1 y_2 p_1  \\cdot  p_7 + \n",
    " 2 x_4 y_1 y_2 p_1  \\cdot  p_7 + 2 x_1 y_1 y_3 p_1  \\cdot  p_7 + 2 x_2 y_1 y_3 p_1  \\cdot  p_7 + 2 x_3 y_1 y_3 p_1  \\cdot  p_7 + \n",
    " 2 x_4 y_1 y_3 p_1  \\cdot  p_7 + 2 x_1 y_2 z p_1  \\cdot  p_7 + 2 y_1 y_2 z p_1  \\cdot  p_7 + 2 x_1 y_3 z p_1  \\cdot  p_7 + \n",
    " 2 y_1 y_3 z p_1  \\cdot  p_7 + x_1 x_3 y_1 p_2  \\cdot  p_2 + x_2 x_3 y_1 p_2  \\cdot  p_2 + x_1 x_4 y_1 p_2  \\cdot  p_2 + \n",
    " x_2 x_4 y_1 p_2  \\cdot  p_2 + x_1 x_3 y_2 p_2  \\cdot  p_2 + x_2 x_3 y_2 p_2  \\cdot  p_2 + x_1 x_4 y_2 p_2  \\cdot  p_2 + \n",
    " x_2 x_4 y_2 p_2  \\cdot  p_2 + x_1 y_1 y_2 p_2  \\cdot  p_2 + x_2 y_1 y_2 p_2  \\cdot  p_2 + x_3 y_1 y_2 p_2  \\cdot  p_2 + \n",
    " x_4 y_1 y_2 p_2  \\cdot  p_2 + x_1 x_3 y_3 p_2  \\cdot  p_2 + x_2 x_3 y_3 p_2  \\cdot  p_2 + x_1 x_4 y_3 p_2  \\cdot  p_2 + \n",
    " x_2 x_4 y_3 p_2  \\cdot  p_2 + x_1 y_1 y_3 p_2  \\cdot  p_2 + x_2 y_1 y_3 p_2  \\cdot  p_2 + x_3 y_1 y_3 p_2  \\cdot  p_2 + \n",
    " x_4 y_1 y_3 p_2  \\cdot  p_2 + x_1 x_3 z p_2  \\cdot  p_2 + x_2 x_3 z p_2  \\cdot  p_2 + x_1 x_4 z p_2  \\cdot  p_2 + \n",
    " x_2 x_4 z p_2  \\cdot  p_2 + x_3 y_1 z p_2  \\cdot  p_2 + x_4 y_1 z p_2  \\cdot  p_2 + x_1 y_2 z p_2  \\cdot  p_2 + \n",
    " x_2 y_2 z p_2  \\cdot  p_2 + y_1 y_2 z p_2  \\cdot  p_2 + x_1 y_3 z p_2  \\cdot  p_2 + x_2 y_3 z p_2  \\cdot  p_2 + \n",
    " y_1 y_3 z p_2  \\cdot  p_2 + 2 x_1 x_4 y_1 p_2  \\cdot  p_3 + 2 x_2 x_4 y_1 p_2  \\cdot  p_3 + 2 x_1 x_4 y_2 p_2  \\cdot  p_3 + \n",
    " 2 x_2 x_4 y_2 p_2  \\cdot  p_3 + 2 x_1 y_1 y_2 p_2  \\cdot  p_3 + 2 x_2 y_1 y_2 p_2  \\cdot  p_3 + 2 x_3 y_1 y_2 p_2  \\cdot  p_3 + \n",
    " 2 x_4 y_1 y_2 p_2  \\cdot  p_3 + 2 x_1 x_4 y_3 p_2  \\cdot  p_3 + 2 x_2 x_4 y_3 p_2  \\cdot  p_3 + 2 x_1 y_1 y_3 p_2  \\cdot  p_3 + \n",
    " 2 x_2 y_1 y_3 p_2  \\cdot  p_3 + 2 x_3 y_1 y_3 p_2  \\cdot  p_3 + 2 x_4 y_1 y_3 p_2  \\cdot  p_3 + 2 x_1 x_4 z p_2  \\cdot  p_3 + \n",
    " 2 x_2 x_4 z p_2  \\cdot  p_3 + 2 x_4 y_1 z p_2  \\cdot  p_3 + 2 x_1 y_2 z p_2  \\cdot  p_3 + 2 x_2 y_2 z p_2  \\cdot  p_3 + \n",
    " 2 y_1 y_2 z p_2  \\cdot  p_3 + 2 x_1 y_3 z p_2  \\cdot  p_3 + 2 x_2 y_3 z p_2  \\cdot  p_3 + 2 y_1 y_3 z p_2  \\cdot  p_3 + \n",
    " 2 x_1 y_1 y_2 p_2  \\cdot  p_4 + 2 x_2 y_1 y_2 p_2  \\cdot  p_4 + 2 x_3 y_1 y_2 p_2  \\cdot  p_4 + 2 x_4 y_1 y_2 p_2  \\cdot  p_4 + \n",
    " 2 x_1 y_2 z p_2  \\cdot  p_4 + 2 x_2 y_2 z p_2  \\cdot  p_4 + 2 y_1 y_2 z p_2  \\cdot  p_4 + 2 x_1 y_1 y_2 p_2  \\cdot  p_6 + \n",
    " 2 x_2 y_1 y_2 p_2  \\cdot  p_6 + 2 x_3 y_1 y_2 p_2  \\cdot  p_6 + 2 x_4 y_1 y_2 p_2  \\cdot  p_6 + 2 x_1 y_1 y_3 p_2  \\cdot  p_6 + \n",
    " 2 x_2 y_1 y_3 p_2  \\cdot  p_6 + 2 x_3 y_1 y_3 p_2  \\cdot  p_6 + 2 x_4 y_1 y_3 p_2  \\cdot  p_6 + 2 x_3 y_1 z p_2  \\cdot  p_6 + \n",
    " 2 x_4 y_1 z p_2  \\cdot  p_6 + 2 y_1 y_2 z p_2  \\cdot  p_6 + 2 y_1 y_3 z p_2  \\cdot  p_6 + 2 x_1 y_1 y_2 p_2  \\cdot  p_7 + \n",
    " 2 x_2 y_1 y_2 p_2  \\cdot  p_7 + 2 x_3 y_1 y_2 p_2  \\cdot  p_7 + 2 x_4 y_1 y_2 p_2  \\cdot  p_7 + 2 x_1 y_1 y_3 p_2  \\cdot  p_7 + \n",
    " 2 x_2 y_1 y_3 p_2  \\cdot  p_7 + 2 x_3 y_1 y_3 p_2  \\cdot  p_7 + 2 x_4 y_1 y_3 p_2  \\cdot  p_7 + 2 x_1 y_2 z p_2  \\cdot  p_7 + \n",
    " 2 x_2 y_2 z p_2  \\cdot  p_7 + 2 y_1 y_2 z p_2  \\cdot  p_7 + 2 x_1 y_3 z p_2  \\cdot  p_7 + 2 x_2 y_3 z p_2  \\cdot  p_7 + \n",
    " 2 y_1 y_3 z p_2  \\cdot  p_7 + x_1 x_4 y_1 p_3  \\cdot  p_3 + x_2 x_4 y_1 p_3  \\cdot  p_3 + x_3 x_4 y_1 p_3  \\cdot  p_3 + \n",
    " x_1 x_4 y_2 p_3  \\cdot  p_3 + x_2 x_4 y_2 p_3  \\cdot  p_3 + x_3 x_4 y_2 p_3  \\cdot  p_3 + x_1 y_1 y_2 p_3  \\cdot  p_3 + \n",
    " x_2 y_1 y_2 p_3  \\cdot  p_3 + x_3 y_1 y_2 p_3  \\cdot  p_3 + x_4 y_1 y_2 p_3  \\cdot  p_3 + x_1 x_4 y_3 p_3  \\cdot  p_3 + \n",
    " x_2 x_4 y_3 p_3  \\cdot  p_3 + x_3 x_4 y_3 p_3  \\cdot  p_3 + x_1 y_1 y_3 p_3  \\cdot  p_3 + x_2 y_1 y_3 p_3  \\cdot  p_3 + \n",
    " x_3 y_1 y_3 p_3  \\cdot  p_3 + x_4 y_1 y_3 p_3  \\cdot  p_3 + x_1 x_4 z p_3  \\cdot  p_3 + x_2 x_4 z p_3  \\cdot  p_3 + \n",
    " x_3 x_4 z p_3  \\cdot  p_3 + x_4 y_1 z p_3  \\cdot  p_3 + x_1 y_2 z p_3  \\cdot  p_3 + x_2 y_2 z p_3  \\cdot  p_3 + \n",
    " x_3 y_2 z p_3  \\cdot  p_3 + y_1 y_2 z p_3  \\cdot  p_3 + x_1 y_3 z p_3  \\cdot  p_3 + x_2 y_3 z p_3  \\cdot  p_3 + \n",
    " x_3 y_3 z p_3  \\cdot  p_3 + y_1 y_3 z p_3  \\cdot  p_3 + 2 x_1 y_1 y_2 p_3  \\cdot  p_4 + 2 x_2 y_1 y_2 p_3  \\cdot  p_4 + \n",
    " 2 x_3 y_1 y_2 p_3  \\cdot  p_4 + 2 x_4 y_1 y_2 p_3  \\cdot  p_4 + 2 x_1 y_2 z p_3  \\cdot  p_4 + 2 x_2 y_2 z p_3  \\cdot  p_4 + \n",
    " 2 x_3 y_2 z p_3  \\cdot  p_4 + 2 y_1 y_2 z p_3  \\cdot  p_4 + 2 x_1 y_1 y_2 p_3  \\cdot  p_6 + 2 x_2 y_1 y_2 p_3  \\cdot  p_6 + \n",
    " 2 x_3 y_1 y_2 p_3  \\cdot  p_6 + 2 x_4 y_1 y_2 p_3  \\cdot  p_6 + 2 x_1 y_1 y_3 p_3  \\cdot  p_6 + 2 x_2 y_1 y_3 p_3  \\cdot  p_6 + \n",
    " 2 x_3 y_1 y_3 p_3  \\cdot  p_6 + 2 x_4 y_1 y_3 p_3  \\cdot  p_6 + 2 x_4 y_1 z p_3  \\cdot  p_6 + 2 y_1 y_2 z p_3  \\cdot  p_6 + \n",
    " 2 y_1 y_3 z p_3  \\cdot  p_6 + 2 x_1 y_1 y_2 p_3  \\cdot  p_7 + 2 x_2 y_1 y_2 p_3  \\cdot  p_7 + 2 x_3 y_1 y_2 p_3  \\cdot  p_7 + \n",
    " 2 x_4 y_1 y_2 p_3  \\cdot  p_7 + 2 x_1 y_1 y_3 p_3  \\cdot  p_7 + 2 x_2 y_1 y_3 p_3  \\cdot  p_7 + 2 x_3 y_1 y_3 p_3  \\cdot  p_7 + \n",
    " 2 x_4 y_1 y_3 p_3  \\cdot  p_7 + 2 x_1 y_2 z p_3  \\cdot  p_7 + 2 x_2 y_2 z p_3  \\cdot  p_7 + 2 x_3 y_2 z p_3  \\cdot  p_7 + \n",
    " 2 y_1 y_2 z p_3  \\cdot  p_7 + 2 x_1 y_3 z p_3  \\cdot  p_7 + 2 x_2 y_3 z p_3  \\cdot  p_7 + 2 x_3 y_3 z p_3  \\cdot  p_7 + \n",
    " 2 y_1 y_3 z p_3  \\cdot  p_7 + x_1 y_1 y_2 p_4  \\cdot  p_4 + x_2 y_1 y_2 p_4  \\cdot  p_4 + x_3 y_1 y_2 p_4  \\cdot  p_4 + \n",
    " x_4 y_1 y_2 p_4  \\cdot  p_4 + x_1 y_2 y_3 p_4  \\cdot  p_4 + x_2 y_2 y_3 p_4  \\cdot  p_4 + x_3 y_2 y_3 p_4  \\cdot  p_4 + \n",
    " x_4 y_2 y_3 p_4  \\cdot  p_4 + x_1 y_2 z p_4  \\cdot  p_4 + x_2 y_2 z p_4  \\cdot  p_4 + x_3 y_2 z p_4  \\cdot  p_4 + \n",
    " x_4 y_2 z p_4  \\cdot  p_4 + y_1 y_2 z p_4  \\cdot  p_4 + y_2 y_3 z p_4  \\cdot  p_4 + 2 x_1 y_1 y_2 p_4  \\cdot  p_6 + \n",
    " 2 x_2 y_1 y_2 p_4  \\cdot  p_6 + 2 x_3 y_1 y_2 p_4  \\cdot  p_6 + 2 x_4 y_1 y_2 p_4  \\cdot  p_6 + 2 y_1 y_2 z p_4  \\cdot  p_6 + \n",
    " 2 x_1 y_1 y_2 p_4  \\cdot  p_7 + 2 x_2 y_1 y_2 p_4  \\cdot  p_7 + 2 x_3 y_1 y_2 p_4  \\cdot  p_7 + 2 x_4 y_1 y_2 p_4  \\cdot  p_7 + \n",
    " 2 x_1 y_2 z p_4  \\cdot  p_7 + 2 x_2 y_2 z p_4  \\cdot  p_7 + 2 x_3 y_2 z p_4  \\cdot  p_7 + 2 x_4 y_2 z p_4  \\cdot  p_7 + \n",
    " 2 y_1 y_2 z p_4  \\cdot  p_7 + x_1 y_1 y_2 p_6  \\cdot  p_6 + x_2 y_1 y_2 p_6  \\cdot  p_6 + x_3 y_1 y_2 p_6  \\cdot  p_6 + \n",
    " x_4 y_1 y_2 p_6  \\cdot  p_6 + x_1 y_1 y_3 p_6  \\cdot  p_6 + x_2 y_1 y_3 p_6  \\cdot  p_6 + x_3 y_1 y_3 p_6  \\cdot  p_6 + \n",
    " x_4 y_1 y_3 p_6  \\cdot  p_6 + x_1 y_1 z p_6  \\cdot  p_6 + x_2 y_1 z p_6  \\cdot  p_6 + x_3 y_1 z p_6  \\cdot  p_6 + \n",
    " x_4 y_1 z p_6  \\cdot  p_6 + y_1 y_2 z p_6  \\cdot  p_6 + y_1 y_3 z p_6  \\cdot  p_6 + 2 x_1 y_1 y_2 p_6  \\cdot  p_7 + \n",
    " 2 x_2 y_1 y_2 p_6  \\cdot  p_7 + 2 x_3 y_1 y_2 p_6  \\cdot  p_7 + 2 x_4 y_1 y_2 p_6  \\cdot  p_7 + 2 x_1 y_1 y_3 p_6  \\cdot  p_7 + \n",
    " 2 x_2 y_1 y_3 p_6  \\cdot  p_7 + 2 x_3 y_1 y_3 p_6  \\cdot  p_7 + 2 x_4 y_1 y_3 p_6  \\cdot  p_7 + 2 y_1 y_2 z p_6  \\cdot  p_7 + \n",
    " 2 y_1 y_3 z p_6  \\cdot  p_7 + x_1 y_1 y_2 p_7  \\cdot  p_7 + x_2 y_1 y_2 p_7  \\cdot  p_7 + x_3 y_1 y_2 p_7  \\cdot  p_7 + \n",
    " x_4 y_1 y_2 p_7  \\cdot  p_7 + x_1 y_1 y_3 p_7  \\cdot  p_7 + x_2 y_1 y_3 p_7  \\cdot  p_7 + x_3 y_1 y_3 p_7  \\cdot  p_7 + \n",
    " x_4 y_1 y_3 p_7  \\cdot  p_7 + x_1 y_2 z p_7  \\cdot  p_7 + x_2 y_2 z p_7  \\cdot  p_7 + x_3 y_2 z p_7  \\cdot  p_7 + \n",
    " x_4 y_2 z p_7  \\cdot  p_7 + y_1 y_2 z p_7  \\cdot  p_7 + x_1 y_3 z p_7  \\cdot  p_7 + x_2 y_3 z p_7  \\cdot  p_7 + \n",
    " x_3 y_3 z p_7  \\cdot  p_7 + x_4 y_3 z p_7  \\cdot  p_7 + y_1 y_3 z p_7  \\cdot  p_7 ,\\cr\n",
    "\\nonumber {\\bf F}_{(4,1,3);D}(t) & = {\\bf U}_{(4,1,3)}\\left( \\sum_{i=1}^3 m_{i+4}^2 y_i + \\sum_{i=1}^4 m^2_i x_i+  m^2_{8} z\\right) -t {\\bf V}_{(4,1,3);D}.\n",
    "\\end{align}"
   ]
  },
  {
   "cell_type": "markdown",
   "metadata": {},
   "source": [
    "<b>This is a derivation of the singularities of the fibers of the quadric fibration for the pentabox  graph polynomial $F_{(4,1,3);4}$ discussed in section 5.4 of the paper [XXXX]</b>\n",
    "\n",
    "<b>There are some of the numerical cases obtained in <a href=\"https://arxiv.org/abs/2209.10962\">[arXiv:2209.10962]</a> and given on the page <a href=\"https://nbviewer.org/github/pierrevanhove/PicardFuchs/blob/main/PF-Pentabox.ipynb\">PF-Pentabox.ipynb</a>. We just compare to some examples.</b>"
   ]
  },
  {
   "cell_type": "code",
   "execution_count": 1,
   "metadata": {},
   "outputs": [],
   "source": [
    "from ore_algebra import *\n",
    "OA, z, Dz = DifferentialOperators(QQ, 'z')"
   ]
  },
  {
   "cell_type": "markdown",
   "metadata": {},
   "source": [
    "<b>This is the graph polynomial for a 7 points case in $D=4$ dimensions</b>"
   ]
  },
  {
   "cell_type": "markdown",
   "metadata": {},
   "source": [
    "`F := (24649*x1 + 9409*x2 + 10201*x3 + 4*x4 + 32761*x5 + 32761*x6 + 37249*x7 + 1369*x8)*(x1*x5 + x2*x5 + x3*x5 + x4*x5 + x1*x6 + x2*x6 + x3*x6 + x4*x6 + x1*x7 + x2*x7 + x3*x7 + x4*x7 + x1*x8 + x2*x8 + x3*x8 + x4*x8 + x5*x8 + x6*x8 + x7*x8) - t*(11955*x2*x3*x5 + 39622*x1*x4*x5 + 32221*x2*x4*x5 + 15254*x3*x4*x5 + 11955*x2*x3*x6 + 39622*x1*x4*x6 + 32221*x2*x4*x6 + 15254*x3*x4*x6 + 14057*x1*x5*x6 + 14057*x2*x5*x6 + 14057*x3*x5*x6 + 14057*x4*x5*x6 + 11955*x2*x3*x7 + 39622*x1*x4*x7 + 32221*x2*x4*x7 + 15254*x3*x4*x7 + 9495*x1*x5*x7 + 9495*x2*x5*x7 + 9495*x3*x5*x7 + 9495*x4*x5*x7 + 9946*x1*x6*x7 + 9946*x2*x6*x7 + 9946*x3*x6*x7 + 9946*x4*x6*x7 + 11955*x2*x3*x8 + 39622*x1*x4*x8 + 32221*x2*x4*x8 + 15254*x3*x4*x8 + 13751*x1*x5*x8 + 37265*x2*x5*x8 - 3525*x3*x5*x8 + 28321*x4*x5*x8 + 28170*x1*x6*x8 + 71182*x2*x6*x8 + 31634*x3*x6*x8 + 45374*x4*x6*x8 + 14057*x5*x6*x8 + 6322*x1*x7*x8 + 44652*x2*x7*x8 + 17962*x3*x7*x8 + 45738*x4*x7*x8 + 9495*x5*x7*x8 + 9946*x6*x7*x8 + 8791*x2*((x5 + x6 + x7)*x8 + x1*(x5 + x6 + x7 + x8)) + 31248*x3*((x5 + x6 + x7)*x8 + x1*(x5 + x6 + x7 + x8)))`"
   ]
  },
  {
   "cell_type": "markdown",
   "metadata": {},
   "source": [
    "<b>The associated Picard-Fuchs operator is the file <a href=\"PF-Pentabox-7pt-case1.txt\">PF-Pentabox-7pt-case1.txt</a></b>"
   ]
  },
  {
   "cell_type": "code",
   "execution_count": 16,
   "metadata": {},
   "outputs": [
    {
     "data": {
      "text/plain": [
       "[4, 67]"
      ]
     },
     "execution_count": 16,
     "metadata": {},
     "output_type": "execute_result"
    }
   ],
   "source": [
    "s = open(\"PF-Pentabox-7pt-case1.txt\").readlines()[0]\n",
    "PentaBox7ptcase1 = OA(s.replace(\"^\", \"**\").replace(\"t\", \"z\").replace(\"D\", \"Dz\"))\n",
    "[PentaBox7ptcase1.order(),PentaBox7ptcase1.degree()]"
   ]
  },
  {
   "cell_type": "code",
   "execution_count": 23,
   "metadata": {},
   "outputs": [],
   "source": [
    "sing7ptcase1=(PentaBox7ptcase1.desingularize()).leading_coefficient()"
   ]
  },
  {
   "cell_type": "markdown",
   "metadata": {},
   "source": [
    "<b>This is the graph polynomial for a 5 points case in $D=4$</b>"
   ]
  },
  {
   "cell_type": "markdown",
   "metadata": {},
   "source": [
    "`F := (19321*x1 + 7921*x2 + 7921*x3 + 11449*x4 + 3481*x5 + 39601*x6 + 10609*x7 + 36481*x8)*(x1*x5 + x2*x5 + x3*x5 + x4*x5 + x1*x6 + x2*x6 + x3*x6 + x4*x6 + x1*x7 + x2*x7 + x3*x7 + x4*x7 + x1*x8 + x2*x8 + x3*x8 + x4*x8 + x5*x8 + x6*x8 + x7*x8) - t*(3*x2*x3*x5 + 101*x1*x4*x5 + 5*x2*x4*x5 + 97*x3*x4*x5 + 3*x2*x3*x6 + 101*x1*x4*x6 + 5*x2*x4*x6 + 97*x3*x4*x6 + 131*x1*x5*x6 + 131*x2*x5*x6 + 131*x3*x5*x6 + 131*x4*x5*x6 + 3*x2*x3*x7 + 101*x1*x4*x7 + 5*x2*x4*x7 + 97*x3*x4*x7 + 101*x1*x5*x7 + 101*x2*x5*x7 + 101*x3*x5*x7 + 101*x4*x5*x7 + 7*x1*x6*x7 + 7*x2*x6*x7 + 7*x3*x6*x7 + 7*x4*x6*x7 + 3*x2*x3*x8 + 101*x1*x4*x8 + 5*x2*x4*x8 + 97*x3*x4*x8 + 101*x4*x5*x8 + 131*x1*x6*x8 + 73*x2*x6*x8 + 193*x3*x6*x8 + 7*x4*x6*x8 + 131*x5*x6*x8 + 101*x1*x7*x8 + 5*x2*x7*x8 + 97*x3*x7*x8 + 101*x5*x7*x8 + 7*x6*x7*x8 + 137*x2*(x5*x8 + x1*(x5 + x6 + x7 + x8)) + 103*x3*(x5*x8 + x1*(x5 + x6 + x7 + x8)))`"
   ]
  },
  {
   "cell_type": "markdown",
   "metadata": {},
   "source": [
    "<b>The associated Picard-Fuchs operator is the file <a href=\"PF-Pentabox-5pt-case1.txt\">PF-Pentabox-5pt-case1.txt</a></b>"
   ]
  },
  {
   "cell_type": "code",
   "execution_count": 36,
   "metadata": {
    "scrolled": true
   },
   "outputs": [
    {
     "data": {
      "text/plain": [
       "[2, 18]"
      ]
     },
     "execution_count": 36,
     "metadata": {},
     "output_type": "execute_result"
    }
   ],
   "source": [
    "s = open(\"PF-Pentabox-5pt-case1.txt\").readlines()[0]\n",
    "PentaBox5ptcase1 = OA(s.replace(\"^\", \"**\").replace(\"t\", \"z\").replace(\"D\", \"Dz\"))\n",
    "[PentaBox5ptcase1.order(),PentaBox5ptcase1.degree()]"
   ]
  },
  {
   "cell_type": "code",
   "execution_count": 37,
   "metadata": {},
   "outputs": [],
   "source": [
    "sing5ptcase1=(PentaBox5ptcase1.desingularize()).leading_coefficient()"
   ]
  },
  {
   "cell_type": "markdown",
   "metadata": {},
   "source": [
    "<b>This computes the singularities of the quadric fibration</b>"
   ]
  },
  {
   "cell_type": "code",
   "execution_count": 69,
   "metadata": {},
   "outputs": [],
   "source": [
    "R.<w,X,Y,Z,x1,x2,x3,x4,x5,x6,x7,x8,s22,s123,s23,s33,s44,s55,s66,s77,s45,s671,s71,s345,s712,s456,s67,s234,s56,s567,s34,s12,s11,s51,s,t> = QQ[]"
   ]
  },
  {
   "cell_type": "code",
   "execution_count": 70,
   "metadata": {},
   "outputs": [],
   "source": [
    "# The 7 point case1\n",
    "F7= (24649*x1 + 9409*x2 + 10201*x3 + 4*x4 + 32761*x5 + 32761*x6 + 37249*x7 + 1369*x8)*(x1*x5 + x2*x5 + x3*x5 + x4*x5 + x1*x6 + x2*x6 + x3*x6 + x4*x6 + x1*x7 + x2*x7 + x3*x7 + x4*x7 + x1*x8 + x2*x8 + x3*x8 + x4*x8 + x5*x8 + x6*x8 + x7*x8) - t*(11955*x2*x3*x5 + 39622*x1*x4*x5 + 32221*x2*x4*x5 + 15254*x3*x4*x5 + 11955*x2*x3*x6 + 39622*x1*x4*x6 + 32221*x2*x4*x6 + 15254*x3*x4*x6 + 14057*x1*x5*x6 + 14057*x2*x5*x6 + 14057*x3*x5*x6 + 14057*x4*x5*x6 + 11955*x2*x3*x7 + 39622*x1*x4*x7 + 32221*x2*x4*x7 + 15254*x3*x4*x7 + 9495*x1*x5*x7 + 9495*x2*x5*x7 + 9495*x3*x5*x7 + 9495*x4*x5*x7 + 9946*x1*x6*x7 + 9946*x2*x6*x7 + 9946*x3*x6*x7 + 9946*x4*x6*x7 + 11955*x2*x3*x8 + 39622*x1*x4*x8 + 32221*x2*x4*x8 + 15254*x3*x4*x8 + 13751*x1*x5*x8 + 37265*x2*x5*x8 - 3525*x3*x5*x8 + 28321*x4*x5*x8 + 28170*x1*x6*x8 + 71182*x2*x6*x8 + 31634*x3*x6*x8 + 45374*x4*x6*x8 + 14057*x5*x6*x8 + 6322*x1*x7*x8 + 44652*x2*x7*x8 + 17962*x3*x7*x8 + 45738*x4*x7*x8 + 9495*x5*x7*x8 + 9946*x6*x7*x8 + 8791*x2*((x5 + x6 + x7)*x8 + x1*(x5 + x6 + x7 + x8)) + 31248*x3*((x5 + x6 + x7)*x8 + x1*(x5 + x6 + x7 + x8)))\n",
    "q = x8/(x8 + x1 + x2 + x3 + x4)\n",
    "H5 = (F7.substitute(x5 = x5*q, x6 = x6*q, x7 =x7*q)/x8).numerator()\n",
    "G5 = H5.substitute(x7 = X - (x1 + x2 + x3 + x4 + x5 + x6),x8 = Z).substitute(x1=x1/w,x2=x2/w, x3 = x3/w, x4=x4/w, x5=x5/w, x6=x6/w).numerator()\n",
    "R5 = G5.substitute(w=0)\n",
    "M5 = matrix(R,7)\n",
    "for i in range(0,len(Ylist)):\n",
    "    for j in range(0,len(Ylist)):\n",
    "        if i == j:\n",
    "            M5[i,j] = 2*G5.coefficient(Ylist[i]*Ylist[j])\n",
    "        else:\n",
    "            M5[i,j] = G5.coefficient(Ylist[i]*Ylist[j])\n",
    "C57ptcase1 = M5.determinant()   # singular fibers of the quadric fibrations"
   ]
  },
  {
   "cell_type": "code",
   "execution_count": 47,
   "metadata": {},
   "outputs": [],
   "source": [
    "RR.<t>=QQ[]"
   ]
  },
  {
   "cell_type": "code",
   "execution_count": 73,
   "metadata": {},
   "outputs": [],
   "source": [
    "singC57ptcase1=RR((C57ptcase1//(X * (X + Z) * t^3 * Z^3)).discriminant(X)//( t^6 * Z^12)).substitute(t=z)"
   ]
  },
  {
   "cell_type": "code",
   "execution_count": 74,
   "metadata": {},
   "outputs": [
    {
     "data": {
      "text/plain": [
       "(100191127805732408366213681034942165637361381694345566836641933814294066187821237564109464185913297855743988697092273771077510321023504261728081413794247430253576158348110077125667586048) * z^-1 * (z^2 - 272276224308303/134697948839851*z + 19588922293222971/5926709748953444)^-1"
      ]
     },
     "execution_count": 74,
     "metadata": {},
     "output_type": "execute_result"
    }
   ],
   "source": [
    "(singC57ptcase1/sing7ptcase1).factor()"
   ]
  },
  {
   "cell_type": "markdown",
   "metadata": {},
   "source": [
    "<b>This checks that the singularities of the quadric fibrations are singularities of the differential operator</b>"
   ]
  },
  {
   "cell_type": "code",
   "execution_count": 46,
   "metadata": {},
   "outputs": [],
   "source": [
    "# The 5 point case1\n",
    "F5=(19321*x1 + 7921*x2 + 7921*x3 + 11449*x4 + 3481*x5 + 39601*x6 + 10609*x7 + 36481*x8)*(x1*x5 + x2*x5 + x3*x5 + x4*x5 + x1*x6 + x2*x6 + x3*x6 + x4*x6 + x1*x7 + x2*x7 + x3*x7 + x4*x7 + x1*x8 + x2*x8 + x3*x8 + x4*x8 + x5*x8 + x6*x8 + x7*x8) - t*(3*x2*x3*x5 + 101*x1*x4*x5 + 5*x2*x4*x5 + 97*x3*x4*x5 + 3*x2*x3*x6 + 101*x1*x4*x6 + 5*x2*x4*x6 + 97*x3*x4*x6 + 131*x1*x5*x6 + 131*x2*x5*x6 + 131*x3*x5*x6 + 131*x4*x5*x6 + 3*x2*x3*x7 + 101*x1*x4*x7 + 5*x2*x4*x7 + 97*x3*x4*x7 + 101*x1*x5*x7 + 101*x2*x5*x7 + 101*x3*x5*x7 + 101*x4*x5*x7 + 7*x1*x6*x7 + 7*x2*x6*x7 + 7*x3*x6*x7 + 7*x4*x6*x7 + 3*x2*x3*x8 + 101*x1*x4*x8 + 5*x2*x4*x8 + 97*x3*x4*x8 + 101*x4*x5*x8 + 131*x1*x6*x8 + 73*x2*x6*x8 + 193*x3*x6*x8 + 7*x4*x6*x8 + 131*x5*x6*x8 + 101*x1*x7*x8 + 5*x2*x7*x8 + 97*x3*x7*x8 + 101*x5*x7*x8 + 7*x6*x7*x8 + 137*x2*(x5*x8 + x1*(x5 + x6 + x7 + x8)) + 103*x3*(x5*x8 + x1*(x5 + x6 + x7 + x8))) \n",
    "q = x8/(x8 + x1 + x2 + x3 + x4)\n",
    "H5 = (F5.substitute(x5 = x5*q, x6 = x6*q, x7 =x7*q)/x8).numerator()\n",
    "G5 = H5.substitute(x7 = X - (x1 + x2 + x3 + x4 + x5 + x6),x8 = Z).substitute(x1=x1/w,x2=x2/w, x3 = x3/w, x4=x4/w, x5=x5/w, x6=x6/w).numerator()\n",
    "R5 = G5.substitute(w=0)\n",
    "Xlist = [x1,x2,x3,x4,x5,x6]\n",
    "L5 = matrix(R,6)\n",
    "for i in range(0,len(Xlist)):\n",
    "    for j in range(0,len(Xlist)):\n",
    "        if i == j:\n",
    "            L5[i,j] = 2*R5.coefficient(Xlist[i]*Xlist[j])\n",
    "        else:\n",
    "            L5[i,j] = R5.coefficient(Xlist[i]*Xlist[j])\n",
    "            \n",
    "Ylist = [x1,x2,x3,x4,x5,x6,w]\n",
    "M5 = matrix(R,7)\n",
    "for i in range(0,len(Ylist)):\n",
    "    for j in range(0,len(Ylist)):\n",
    "        if i == j:\n",
    "            M5[i,j] = 2*G5.coefficient(Ylist[i]*Ylist[j])\n",
    "        else:\n",
    "            M5[i,j] = G5.coefficient(Ylist[i]*Ylist[j])\n",
    "D55ptcase1 = (L5.determinant()) # L5 the elliptic/rational curve the 5th weight graded piece\n",
    "C55ptcase1 = M5.determinant()   # singular fibers of the quadric fibrations"
   ]
  },
  {
   "cell_type": "code",
   "execution_count": 75,
   "metadata": {},
   "outputs": [],
   "source": [
    "C55ptsing=RR(((C55ptcase1//((X + Z) * t^3 * Z^3 * X^3)).discriminant(X))//Z^2).substitute(t=z)"
   ]
  },
  {
   "cell_type": "code",
   "execution_count": 76,
   "metadata": {},
   "outputs": [
    {
     "data": {
      "text/plain": [
       "(29827437227515019008176016) * z^-1 * (z^2 - 66872717576/154901661*z + 434288064000/51633887)^-1"
      ]
     },
     "execution_count": 76,
     "metadata": {},
     "output_type": "execute_result"
    }
   ],
   "source": [
    "(C55ptsing/sing5ptcase1).factor()"
   ]
  },
  {
   "cell_type": "markdown",
   "metadata": {},
   "source": [
    "<b>This checks that the singularities of the quadric fibrations are singularities of the differential operator</b>"
   ]
  }
 ],
 "metadata": {
  "kernelspec": {
   "display_name": "SageMath 9.7",
   "language": "sage",
   "name": "sagemath-9.7"
  },
  "language_info": {
   "codemirror_mode": {
    "name": "ipython",
    "version": 3
   },
   "file_extension": ".py",
   "mimetype": "text/x-python",
   "name": "python",
   "nbconvert_exporter": "python",
   "pygments_lexer": "ipython3",
   "version": "3.10.5"
  }
 },
 "nbformat": 4,
 "nbformat_minor": 1
}
