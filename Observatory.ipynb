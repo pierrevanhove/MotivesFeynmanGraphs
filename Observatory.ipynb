{
 "cells": [
  {
   "cell_type": "markdown",
   "metadata": {},
   "source": [
    "<img src=\"observatory.png\" alt=\"Observatory\" style=\"width:200px\">"
   ]
  },
  {
   "cell_type": "markdown",
   "metadata": {},
   "source": [
    "<H3><center><b>Picard-Fuchs equation for the two-loop observatory integral in four dimensions</b></center></H3>\n",
    "$$\n",
    "\\int_{x_i\\geq0} {dx_1dy_1dy_2dy_3dz\\over {\\bf U}_{(3,1,1)}{\\bf F}_{(3,1,1);4}(t)} \n",
    "$$\n",
    "with the following graph polynomials\n",
    "\\begin{align}\n",
    "{\\bf U}_{(3,1,1)} & = (x_{1}+z) \\left(y_{1}+ y_{2}+ y_{3}\\right)+z x_{1} , \\cr\n",
    "{\\bf V}_{(3,1,1)} & = p_{1}^2 x_{1} z (y_{1}+y_{2}+y_{3})+2  y_{2} (p_{1}\\cdot p_{2}\n",
    "   x_{1} z+p_{4}\\cdot p_{2} y_{3} (x_{1}+z))-2 p_{1}\\cdot p_{4} x_{1}\n",
    "   y_{3} z+p_{2}^2 y_{2} (x_{1} (y_{1}+y_{3}+z)+z\n",
    "   (y_{1}+y_{3}))+p_{4}^2 y_{3} (x_{1} (y_{1}+y_{2}+z)+z\n",
    "   (y_{1}+y_{2})),\\cr\n",
    "{\\bf F}_{(3,1,1),D}(t) & = {\\bf U}_{(3,1,1)}\\left( m_1^2y_1 + m_2^2y_2 + m_{3}^2y_3 + m_{4}^2x_1 + m^2_{5} z\\right) -t{\\bf V}_{(3,1,1),D},\n",
    "\\end{align}"
   ]
  },
  {
   "cell_type": "markdown",
   "metadata": {},
   "source": [
    "This is a derivation of the observatory elliptic curve associated to a given graph polynomial F discussed in section 7.4 of the paper [XXXX]\n",
    "\n",
    "There are  numerical cases obtained using the algorithms for the extended Griffiths--Dwork method described of <a href=\"https://arxiv.org/abs/2209.10962\">[arXiv:2209.10962]</a> "
   ]
  },
  {
   "cell_type": "code",
   "execution_count": 2,
   "metadata": {},
   "outputs": [],
   "source": [
    "from ore_algebra import *\n",
    "OA, z, Dz = DifferentialOperators(QQ, 'z')"
   ]
  },
  {
   "cell_type": "markdown",
   "metadata": {},
   "source": [
    "`F := -7921*x1*y1^2 - 9770*x1*y1*y2 + 17747*t*x1*y1*y2 - 1849*x1*y2^2 - 8042*x1*y1*y3 +  31993*t*x1*y1*y3 - 1970*x1*y2*y3 + 25326*t*x1*y2*y3 - 121*x1*y3^2 - 7921*x1*y1*z +  11375*t*x1*y1*z - 7921*y1^2*z - 1849*x1*y2*z + 14086*t*x1*y2*z - 9770*y1*y2*z +  17747*t*y1*y2*z - 1849*y2^2*z - 121*x1*y3*z + 56178*t*x1*y3*z - 8042*y1*y3*z +  31993*t*y1*y3*z - 1970*y2*y3*z + 25326*t*y2*y3*z - 121*y3^2*z -  361*x1*((y1 + y2 + y3)*z + x1*(y1 + y2 + y3 + z)) -  49*z*((y1 + y2 + y3)*z + x1*(y1 + y2 + y3 + z))`"
   ]
  },
  {
   "cell_type": "code",
   "execution_count": 4,
   "metadata": {
    "scrolled": true
   },
   "outputs": [
    {
     "data": {
      "text/plain": [
       "[4,\n",
       " 20,\n",
       " (-2133304776695992848769156455304642053373977646022616991358796537320305551716240255104776376229861757970724331491939804963264363124526911489161946427380965310407816723174416449536) * (alpha - 2) * (alpha - 1) * alpha * (alpha + 1)]"
      ]
     },
     "execution_count": 4,
     "metadata": {},
     "output_type": "execute_result"
    }
   ],
   "source": [
    "s = open(\"PF-I311-case1-d4.txt\").readlines()[0]\n",
    "dopObservatoryd4case1 = OA(s.replace(\"^\", \"**\").replace(\"t\", \"z\").replace(\"D\", \"Dz\"))\n",
    "[dopObservatoryd4case1.order(),dopObservatoryd4case1.degree(),dopObservatoryd4case1.indicial_polynomial(z).factor()]"
   ]
  },
  {
   "cell_type": "code",
   "execution_count": 7,
   "metadata": {
    "scrolled": false
   },
   "outputs": [
    {
     "name": "stdout",
     "output_type": "stream",
     "text": [
      "### Try factoring an operator of order 4\n",
      "### Try factoring an operator of order 3\n",
      "Degree bound for right factor 314\n",
      "Current order of truncation 57\n",
      "Current working precision 200 (before monodromy computation)\n",
      "Current algebraic degree 1\n",
      "Start computing monodromy matrices\n",
      "loss = 22\n",
      "1 matrices computed\n",
      "Try guessing symbolic coefficients\n",
      "loss = 45\n",
      "2 matrices computed\n",
      "Try guessing symbolic coefficients\n",
      "Find rational coefficients\n",
      "3 matrices computed\n",
      "Try guessing symbolic coefficients\n",
      "Find rational coefficients\n",
      "loss = 50\n",
      "4 matrices computed\n",
      "Try guessing symbolic coefficients\n",
      "Find rational coefficients\n",
      "5 matrices computed\n",
      "Try guessing symbolic coefficients\n",
      "Find rational coefficients\n",
      "6 matrices computed\n",
      "Try guessing symbolic coefficients\n",
      "7 matrices computed\n",
      "Try guessing symbolic coefficients\n",
      "Find rational coefficients\n",
      "8 matrices computed\n",
      "Try guessing symbolic coefficients\n",
      "Find rational coefficients\n",
      "Current order of truncation 114\n",
      "Current working precision 350 (before monodromy computation)\n",
      "Current algebraic degree 2\n",
      "Start computing monodromy matrices\n",
      "1 matrices computed\n",
      "Try guessing symbolic coefficients\n",
      "2 matrices computed\n",
      "Try guessing symbolic coefficients\n",
      "Find rational coefficients\n",
      "3 matrices computed\n",
      "Try guessing symbolic coefficients\n",
      "Find rational coefficients\n",
      "Conclude with One_Dimensional method\n",
      "### Try factoring an operator of order 2\n",
      "Degree bound for right factor 56\n",
      "Current order of truncation 36\n",
      "Current working precision 150 (before monodromy computation)\n",
      "Current algebraic degree 1\n",
      "Start computing monodromy matrices\n",
      "loss = 6\n",
      "1 matrices computed\n",
      "Try guessing symbolic coefficients\n",
      "loss = 21\n",
      "2 matrices computed\n",
      "Conclude with One_Dimensional method\n"
     ]
    },
    {
     "data": {
      "text/plain": [
       "[2, 1, 1]"
      ]
     },
     "execution_count": 7,
     "metadata": {},
     "output_type": "execute_result"
    }
   ],
   "source": [
    "dopObservatoryd4case1fac=dopObservatoryd4case1.factor(verbose=True)\n",
    "[x.order() for x in dopObservatoryd4case1fac]"
   ]
  },
  {
   "cell_type": "code",
   "execution_count": 67,
   "metadata": {},
   "outputs": [],
   "source": [
    "# elliptic curve\n",
    "R.<x1,y1,y2,y3,z,t,w,X> = QQ[]\n",
    "Fcase1= -7921*x1*y1^2 - 9770*x1*y1*y2 + 17747*t*x1*y1*y2 - 1849*x1*y2^2 - 8042*x1*y1*y3 +  31993*t*x1*y1*y3 - 1970*x1*y2*y3 + 25326*t*x1*y2*y3 - 121*x1*y3^2 - 7921*x1*y1*z +  11375*t*x1*y1*z - 7921*y1^2*z - 1849*x1*y2*z + 14086*t*x1*y2*z - 9770*y1*y2*z +  17747*t*y1*y2*z - 1849*y2^2*z - 121*x1*y3*z + 56178*t*x1*y3*z - 8042*y1*y3*z +  31993*t*y1*y3*z - 1970*y2*y3*z + 25326*t*y2*y3*z - 121*y3^2*z -  361*x1*((y1 + y2 + y3)*z + x1*(y1 + y2 + y3 + z)) -  49*z*((y1 + y2 + y3)*z + x1*(y1 + y2 + y3 + z))\n",
    "S = Fcase1.substitute(y1=y1/w,y2=y2/w,y3=y3/w).numerator()\n",
    "Xlist = [y1,y2,y3,w]\n",
    "M = matrix(R,4)\n",
    "for i in range(0,len(Xlist)):\n",
    "    for j in range(0,len(Xlist)):\n",
    "        if i == j:\n",
    "            M[i,j] = 2*S.coefficient(Xlist[i]*Xlist[j])\n",
    "        else:\n",
    "            M[i,j] = S.coefficient(Xlist[i]*Xlist[j])\n",
    "P=(M.determinant())//(t^2*(z+x1)^2)\n",
    "G = P.substitute(x1=X,z=1)\n",
    "B4 = G.coefficient(X^4)\n",
    "B3 = G.coefficient(X^3)\n",
    "B2 = G.coefficient(X^2)\n",
    "B1 = G.coefficient(X)\n",
    "B0 = G.substitute(X=0)\n",
    "\n",
    "H = X^3 + B2*X^2 + (-4*B0*B4+B1*B3)*X + (B0*B3^2-4*B0*B2*B4+B1^2*B4)\n",
    "H1 = 4*H.substitute(X=X-B2/3)\n",
    "#g2 = H1.coefficient(X)\n",
    "#g3 = H1.substitute(X=0)\n",
    "h2 = -(H1).coefficient(X)\n",
    "h3 = -(H1).substitute(X=0)\n",
    "Del = h2^3 - 27*h3^2\n",
    "Delsmall=(3*(h2.derivative(t))*h3 - 2*h2*(h3.derivative(t)))\n",
    "A2 = 16*Del*(3*(h2.derivative(t))*h3 - 2*h2*(h3.derivative(t)))\n",
    "A1 = 16*(9*h2^2*h3*(h2.derivative(t))^2 - (7*h2^3 + 135*h3^2)*(h2.derivative(t))*(h3.derivative(t)) + 108*h2*h3*(h3.derivative(t))^2 + Del*(-3*h3*(h2.derivative(t,2)) + 2*h2*(h3.derivative(t,2))))\n",
    "A0 = 21*h2*h3*(h2.derivative(t))^3 - 18*h2^2*(h2.derivative(t))^2*(h3.derivative(t)) + 8*(h3.derivative(t))*(15*h2*(h3.derivative(t))^2 - Del*(h2.derivative(t,2))) - 4*(h2.derivative(t))*(27*h3*(h3.derivative(t))^2 - 2*Del*(h3.derivative(t,2)))\n",
    "P1 = A1/A2\n",
    "P2 = A0/A2"
   ]
  },
  {
   "cell_type": "code",
   "execution_count": 82,
   "metadata": {},
   "outputs": [
    {
     "data": {
      "text/plain": [
       "(-858441991587799259570804469186275682811904) * (553061172321*t^2 - 216847682068*t + 42422968512) * (2979995579048782611469511919*t^3 - 1752622945426789054917747778*t^2 - 433345569418282463032414530*t + 237214580810504843371780452)"
      ]
     },
     "execution_count": 82,
     "metadata": {},
     "output_type": "execute_result"
    }
   ],
   "source": [
    "(Delsmall).factor()"
   ]
  },
  {
   "cell_type": "code",
   "execution_count": 99,
   "metadata": {},
   "outputs": [],
   "source": [
    "PP1=dopObservatoryd4case1fac[0].coefficients()[1]/dopObservatoryd4case1fac[0].coefficients()[2]\n",
    "PP2=dopObservatoryd4case1fac[0].coefficients()[0]/dopObservatoryd4case1fac[0].coefficients()[2]"
   ]
  },
  {
   "cell_type": "code",
   "execution_count": 100,
   "metadata": {},
   "outputs": [
    {
     "data": {
      "text/plain": [
       "z + 4771344786926282/16164553189710317"
      ]
     },
     "execution_count": 100,
     "metadata": {},
     "output_type": "execute_result"
    }
   ],
   "source": [
    "(PP1.denominator())/(PP2.denominator())"
   ]
  },
  {
   "cell_type": "code",
   "execution_count": 90,
   "metadata": {},
   "outputs": [],
   "source": [
    "normalEll=P2-P1^2/4-1/2*diff(P1,t)\n",
    "normalPF=PP2-PP1^2/4-1/2*diff(PP1,z)"
   ]
  },
  {
   "cell_type": "code",
   "execution_count": 98,
   "metadata": {},
   "outputs": [
    {
     "data": {
      "text/plain": [
       "(-178934503263260493895012499515954095100709278225461218875409288324561940053335930091806251287815858356557536627711937573844453003435424692527242293210972145236012686849041568084547517947466997805444658236200789370058615521509845248783054837643189735959554678892531469662504941610158031552009384033706659426659254527720705733329945995990814664965544966327660488860561230544413003899824601540124702838384578540097491682151991628433225862430960955133632006549031035224494096114615069973972580280767771919180246881076839350324596061982354613628524937046222517774632122187832230089691731188655159424531463189089934860336736347340495830485421911980331377577010709633091609761262241821221664027522386876873906340354849913544406320882037776080849642656196066221477455365089060192256000000) * (16164553189710317*z + 4771344786926282)^-2 * (16164553189710317*z^2 + 8445626090211764*z + 2884819437729990) * (16164553189710317*z^2 + 9308995577337364*z + 3312337190097878) * (2979995579048782611469511919*z^3 - 1752622945426789054917747778*z^2 - 433345569418282463032414530*z + 237214580810504843371780452)^2 * (4180629282245129380434674900020411965808067794217559494491611083811841375166126221225629686086341173337029903924889800880494002125*z^11 + 6698249552889301714994720775815384951581503293980799372018244601479298499532416798557772548097893211985319544342156247057101423670*z^10 - 27466271217257248597581286914430921094496581213134408267359852449884048275305690565550944486600188088723050410323666122341089105575*z^9 - 72408774666380882479113587784797932493442084609551908088886614285835052803655769689363356117267535842431642427924816647637722983688*z^8 - 10203768928017939945997619313804407732864674156576702069630711684998540253250664371588666214461800763921211176666658982062583827834*z^7 + 57993231847810817534053379478452311735172632729352309830288111014852483111301084490664430754131122245563954999014569189320970592632*z^6 + 29363046088359656377413882107678288374199127970600424662531075524134050674447391954219043287227444967527692435549066407999344813788*z^5 - 2855862666859943827788381105683699738174599144408562609936406922139436326556195471457128785524253069476574528255848135000294323720*z^4 - 1348666184220518272041375153363463536169692887976663904910245359036323921978762839827772895206078444711846809889039442162022223208*z^3 - 80338384677896857948808509197735257024925893159381216599712367617579504792126958177300842494086453447821034538554065827270775504*z^2 + 25425344993864013074281515210023451822538621667530880052517049238905774634486826371669152001785842177534819644146868410029246272*z - 581755645596787930965113125649721606825398772355644245400994128104323838225271177308356726501279906356760990641169061082627072)^-2"
      ]
     },
     "execution_count": 98,
     "metadata": {},
     "output_type": "execute_result"
    }
   ],
   "source": [
    "((normalEll.denominator().substitute(t=z))/(normalPF.denominator())).factor()"
   ]
  },
  {
   "cell_type": "code",
   "execution_count": 15,
   "metadata": {},
   "outputs": [
    {
     "data": {
      "text/plain": [
       "f(z) = _C1*((31570418511428244480644596628931775771728006151328139450*z^4+28064342441137746975224697752134697843929659489988244623*z^3-13317090528583437606756398547802339544654968242122072326*z^2+1653033419088893453870893620420674478728811790857120004*z-81592554821909109000425295673755263421242587246068072)/(553061172321*z^2-216847682068*z+42422968512)/((16164553189710317*z^2+8877310833774564*z+3090112481386782)/z^2)^(3/2)/z^3*hypergeom([1/4, 3/4],[1],(-87341082535776034864290214368*z^2+34245237679061273079077442944*z-6699562687920279852351645696)/(16164553189710317*z^2+8877310833774564*z+3090112481386782)^2)-450679789407*(264844717261620988096700429075253828936969612568565194964443184500671689265*z^7+2530004794002856993781436730027534819409073168614201426586521001140554050280*z^6+2557471972020283629279678295825404040760234839010494389372601487632008553048*z^5-173778364576651520303036800789294606993320528645881193116126749140579022560*z^4-505061736298845120758936524850911225290653385869267995456697938096415717516*z^3-258000894396724346272837584176316113999156985368693627842595140960820101328*z^2-3430969684006040247241979533167889601217406890354947066320574322644591088*z+831217398580970312462276491771142390997008599003618968063960660788594592)/z^3/(16164553189710317*z^2+8877310833774564*z+3090112481386782)^2/((16164553189710317*z^2+8877310833774564*z+3090112481386782)/z^2)^(3/2)/(553061172321*z^2-216847682068*z+42422968512)*hypergeom([5/4, 7/4],[2],(-87341082535776034864290214368*z^2+34245237679061273079077442944*z-6699562687920279852351645696)/(16164553189710317*z^2+8877310833774564*z+3090112481386782)^2))+_C2*((31570418511428244480644596628931775771728006151328139450*z^4+28064342441137746975224697752134697843929659489988244623*z^3-13317090528583437606756398547802339544654968242122072326*z^2+1653033419088893453870893620420674478728811790857120004*z-81592554821909109000425295673755263421242587246068072)/(553061172321*z^2-216847682068*z+42422968512)/((16164553189710317*z^2+8877310833774564*z+3090112481386782)/z^2)^(3/2)/z^3*hypergeom([1/4, 3/4],[1],(261292779822973983576606376240489*z^4+286995526308281164425597685953576*z^3+178794563857115759796545889264252*z^2+54829532779514699918205477383152*z+9555494710310295412254235961220)/(16164553189710317*z^2+8877310833774564*z+3090112481386782)^2)+450679789407*(264844717261620988096700429075253828936969612568565194964443184500671689265*z^7+2530004794002856993781436730027534819409073168614201426586521001140554050280*z^6+2557471972020283629279678295825404040760234839010494389372601487632008553048*z^5-173778364576651520303036800789294606993320528645881193116126749140579022560*z^4-505061736298845120758936524850911225290653385869267995456697938096415717516*z^3-258000894396724346272837584176316113999156985368693627842595140960820101328*z^2-3430969684006040247241979533167889601217406890354947066320574322644591088*z+831217398580970312462276491771142390997008599003618968063960660788594592)/z^3/(16164553189710317*z^2+8877310833774564*z+3090112481386782)^2/((16164553189710317*z^2+8877310833774564*z+3090112481386782)/z^2)^(3/2)/(553061172321*z^2-216847682068*z+42422968512)*hypergeom([5/4, 7/4],[2],(261292779822973983576606376240489*z^4+286995526308281164425597685953576*z^3+178794563857115759796545889264252*z^2+54829532779514699918205477383152*z+9555494710310295412254235961220)/(16164553189710317*z^2+8877310833774564*z+3090112481386782)^2))"
      ]
     },
     "execution_count": 15,
     "metadata": {},
     "output_type": "execute_result"
    }
   ],
   "source": [
    "maple('with(DEtools);')\n",
    "maple.set('L1',dopObservatoryd4case1fac[0])\n",
    "solObservatoryd4case1=maple('dsolve(diffop2de(L1,f(z),[Dz,z]))')\n",
    "solObservatoryd4case1"
   ]
  },
  {
   "cell_type": "markdown",
   "metadata": {},
   "source": [
    "`F := -289*x1*y1^2 - 458*x1*y1*y2 + 17747*t*x1*y1*y2 - 169*x1*y2^2 - 458*x1*y1*y3 +  31993*t*x1*y1*y3 - 338*x1*y2*y3 + 25326*t*x1*y2*y3 - 169*x1*y3^2 - 289*x1*y1*z +  11375*t*x1*y1*z - 289*y1^2*z - 169*x1*y2*z + 14086*t*x1*y2*z - 458*y1*y2*z +  17747*t*y1*y2*z - 169*y2^2*z - 169*x1*y3*z + 56178*t*x1*y3*z - 458*y1*y3*z +  31993*t*y1*y3*z - 338*y2*y3*z + 25326*t*y2*y3*z - 169*y3^2*z -  3481*x1*((y1 + y2 + y3)*z + x1*(y1 + y2 + y3 + z)) -  4*z*((y1 + y2 + y3)*z + x1*(y1 + y2 + y3 + z))`"
   ]
  },
  {
   "cell_type": "code",
   "execution_count": 9,
   "metadata": {
    "scrolled": true
   },
   "outputs": [
    {
     "data": {
      "text/plain": [
       "[4,\n",
       " 20,\n",
       " (-2133304776695992848769156455304642053373977646022616991358796537320305551716240255104776376229861757970724331491939804963264363124526911489161946427380965310407816723174416449536) * (alpha - 2) * (alpha - 1) * alpha * (alpha + 1)]"
      ]
     },
     "execution_count": 9,
     "metadata": {},
     "output_type": "execute_result"
    }
   ],
   "source": [
    "s = open(\"PF-I311-case1-d4.txt\").readlines()[0]\n",
    "dopObservatoryd4case2 = OA(s.replace(\"^\", \"**\").replace(\"t\", \"z\").replace(\"D\", \"Dz\"))\n",
    "[dopObservatoryd4case2.order(),dopObservatoryd4case2.degree(),dopObservatoryd4case2.indicial_polynomial(z).factor()]"
   ]
  },
  {
   "cell_type": "code",
   "execution_count": 10,
   "metadata": {
    "scrolled": true
   },
   "outputs": [
    {
     "name": "stdout",
     "output_type": "stream",
     "text": [
      "### Try factoring an operator of order 4\n",
      "### Try factoring an operator of order 3\n",
      "Degree bound for right factor 314\n",
      "Current order of truncation 57\n",
      "Current working precision 200 (before monodromy computation)\n",
      "Current algebraic degree 1\n",
      "Start computing monodromy matrices\n",
      "loss = 22\n",
      "1 matrices computed\n",
      "Try guessing symbolic coefficients\n",
      "loss = 45\n",
      "2 matrices computed\n",
      "Try guessing symbolic coefficients\n",
      "3 matrices computed\n",
      "Try guessing symbolic coefficients\n",
      "loss = 50\n",
      "4 matrices computed\n",
      "Try guessing symbolic coefficients\n",
      "5 matrices computed\n",
      "Try guessing symbolic coefficients\n",
      "Find rational coefficients\n",
      "6 matrices computed\n",
      "Try guessing symbolic coefficients\n",
      "7 matrices computed\n",
      "Try guessing symbolic coefficients\n",
      "8 matrices computed\n",
      "Try guessing symbolic coefficients\n",
      "Find rational coefficients\n",
      "Current order of truncation 114\n",
      "Current working precision 350 (before monodromy computation)\n",
      "Current algebraic degree 2\n",
      "Start computing monodromy matrices\n",
      "1 matrices computed\n",
      "Try guessing symbolic coefficients\n",
      "2 matrices computed\n",
      "Try guessing symbolic coefficients\n",
      "Find rational coefficients\n",
      "3 matrices computed\n",
      "Try guessing symbolic coefficients\n",
      "Find rational coefficients\n",
      "Conclude with One_Dimensional method\n",
      "### Try factoring an operator of order 2\n",
      "Degree bound for right factor 56\n",
      "Current order of truncation 36\n",
      "Current working precision 150 (before monodromy computation)\n",
      "Current algebraic degree 1\n",
      "Start computing monodromy matrices\n",
      "loss = 6\n",
      "1 matrices computed\n",
      "Try guessing symbolic coefficients\n",
      "loss = 21\n",
      "2 matrices computed\n",
      "Conclude with One_Dimensional method\n"
     ]
    },
    {
     "data": {
      "text/plain": [
       "[2, 1, 1]"
      ]
     },
     "execution_count": 10,
     "metadata": {},
     "output_type": "execute_result"
    }
   ],
   "source": [
    "dopObservatoryd4case2fac=dopObservatoryd4case2.factor(verbose=True)\n",
    "[x.order() for x in dopObservatoryd4case2fac]"
   ]
  },
  {
   "cell_type": "code",
   "execution_count": 14,
   "metadata": {},
   "outputs": [
    {
     "data": {
      "text/plain": [
       "f(z) = _C1*((31570418511428244480644596628931775771728006151328139450*z^4+28064342441137746975224697752134697843929659489988244623*z^3-13317090528583437606756398547802339544654968242122072326*z^2+1653033419088893453870893620420674478728811790857120004*z-81592554821909109000425295673755263421242587246068072)/(553061172321*z^2-216847682068*z+42422968512)/((16164553189710317*z^2+8877310833774564*z+3090112481386782)/z^2)^(3/2)/z^3*hypergeom([1/4, 3/4],[1],(-87341082535776034864290214368*z^2+34245237679061273079077442944*z-6699562687920279852351645696)/(16164553189710317*z^2+8877310833774564*z+3090112481386782)^2)-450679789407*(264844717261620988096700429075253828936969612568565194964443184500671689265*z^7+2530004794002856993781436730027534819409073168614201426586521001140554050280*z^6+2557471972020283629279678295825404040760234839010494389372601487632008553048*z^5-173778364576651520303036800789294606993320528645881193116126749140579022560*z^4-505061736298845120758936524850911225290653385869267995456697938096415717516*z^3-258000894396724346272837584176316113999156985368693627842595140960820101328*z^2-3430969684006040247241979533167889601217406890354947066320574322644591088*z+831217398580970312462276491771142390997008599003618968063960660788594592)/z^3/(16164553189710317*z^2+8877310833774564*z+3090112481386782)^2/((16164553189710317*z^2+8877310833774564*z+3090112481386782)/z^2)^(3/2)/(553061172321*z^2-216847682068*z+42422968512)*hypergeom([5/4, 7/4],[2],(-87341082535776034864290214368*z^2+34245237679061273079077442944*z-6699562687920279852351645696)/(16164553189710317*z^2+8877310833774564*z+3090112481386782)^2))+_C2*((31570418511428244480644596628931775771728006151328139450*z^4+28064342441137746975224697752134697843929659489988244623*z^3-13317090528583437606756398547802339544654968242122072326*z^2+1653033419088893453870893620420674478728811790857120004*z-81592554821909109000425295673755263421242587246068072)/(553061172321*z^2-216847682068*z+42422968512)/((16164553189710317*z^2+8877310833774564*z+3090112481386782)/z^2)^(3/2)/z^3*hypergeom([1/4, 3/4],[1],(261292779822973983576606376240489*z^4+286995526308281164425597685953576*z^3+178794563857115759796545889264252*z^2+54829532779514699918205477383152*z+9555494710310295412254235961220)/(16164553189710317*z^2+8877310833774564*z+3090112481386782)^2)+450679789407*(264844717261620988096700429075253828936969612568565194964443184500671689265*z^7+2530004794002856993781436730027534819409073168614201426586521001140554050280*z^6+2557471972020283629279678295825404040760234839010494389372601487632008553048*z^5-173778364576651520303036800789294606993320528645881193116126749140579022560*z^4-505061736298845120758936524850911225290653385869267995456697938096415717516*z^3-258000894396724346272837584176316113999156985368693627842595140960820101328*z^2-3430969684006040247241979533167889601217406890354947066320574322644591088*z+831217398580970312462276491771142390997008599003618968063960660788594592)/z^3/(16164553189710317*z^2+8877310833774564*z+3090112481386782)^2/((16164553189710317*z^2+8877310833774564*z+3090112481386782)/z^2)^(3/2)/(553061172321*z^2-216847682068*z+42422968512)*hypergeom([5/4, 7/4],[2],(261292779822973983576606376240489*z^4+286995526308281164425597685953576*z^3+178794563857115759796545889264252*z^2+54829532779514699918205477383152*z+9555494710310295412254235961220)/(16164553189710317*z^2+8877310833774564*z+3090112481386782)^2))"
      ]
     },
     "execution_count": 14,
     "metadata": {},
     "output_type": "execute_result"
    }
   ],
   "source": [
    "maple('with(DEtools);')\n",
    "maple.set('L2',dopObservatoryd4case2fac[0])\n",
    "solObservatoryd4case2=maple('dsolve(diffop2de(L2,f(z),[Dz,z]))')\n",
    "solObservatoryd4case2"
   ]
  },
  {
   "cell_type": "markdown",
   "metadata": {},
   "source": [
    "`F :=-(t*(1681*x1*y2*y3 + 625*y1*y2*y3 + 16*x1*y1*(y2 + y3) + 23*y2*y3*z +     729*x1*(y2 + y3)*z + 1681*y1*(y2 + y3)*z)) + (4*x1 + 81*y1 + 49*y2 + y3 + 9*z)*  (y2*y3 + y2*(x1 + y1 + z) + y3*(x1 + y1 + z))`"
   ]
  },
  {
   "cell_type": "code",
   "execution_count": 11,
   "metadata": {
    "scrolled": true
   },
   "outputs": [
    {
     "data": {
      "text/plain": [
       "[4,\n",
       " 20,\n",
       " (-148996243459604942413544756346360269010764176203658627010458753076601944976295573045742244650365846208243109959734533251) * (alpha - 2) * (alpha - 1) * alpha * (alpha + 1)]"
      ]
     },
     "execution_count": 11,
     "metadata": {},
     "output_type": "execute_result"
    }
   ],
   "source": [
    "s = open(\"PF-I311-case3-d4.txt\").readlines()[0]\n",
    "dopObservatoryd4case3 = OA(s.replace(\"^\", \"**\").replace(\"t\", \"z\").replace(\"D\", \"Dz\"))\n",
    "[dopObservatoryd4case3.order(),dopObservatoryd4case3.degree(),dopObservatoryd4case3.indicial_polynomial(z).factor()]"
   ]
  },
  {
   "cell_type": "code",
   "execution_count": 50,
   "metadata": {},
   "outputs": [
    {
     "name": "stdout",
     "output_type": "stream",
     "text": [
      "### Try factoring an operator of order 4\n",
      "### Try factoring an operator of order 3\n",
      "Degree bound for right factor 314\n",
      "Current order of truncation 57\n",
      "Current working precision 200 (before monodromy computation)\n",
      "Current algebraic degree 1\n",
      "Start computing monodromy matrices\n",
      "loss = 18\n",
      "1 matrices computed\n",
      "Try guessing symbolic coefficients\n",
      "loss = 51\n",
      "2 matrices computed\n",
      "Try guessing symbolic coefficients\n",
      "3 matrices computed\n",
      "Try guessing symbolic coefficients\n",
      "Find rational coefficients\n",
      "loss = 55\n",
      "4 matrices computed\n",
      "Try guessing symbolic coefficients\n",
      "5 matrices computed\n",
      "Try guessing symbolic coefficients\n",
      "6 matrices computed\n",
      "Try guessing symbolic coefficients\n",
      "7 matrices computed\n",
      "Try guessing symbolic coefficients\n",
      "8 matrices computed\n",
      "Try guessing symbolic coefficients\n",
      "Find rational coefficients\n",
      "Current order of truncation 114\n",
      "Current working precision 350 (before monodromy computation)\n",
      "Current algebraic degree 2\n",
      "Start computing monodromy matrices\n",
      "1 matrices computed\n",
      "Try guessing symbolic coefficients\n",
      "loss = 57\n",
      "2 matrices computed\n",
      "Try guessing symbolic coefficients\n",
      "Find rational coefficients\n",
      "3 matrices computed\n",
      "Try guessing symbolic coefficients\n",
      "loss = 61\n",
      "4 matrices computed\n",
      "Try guessing symbolic coefficients\n",
      "Find rational coefficients\n",
      "5 matrices computed\n",
      "Try guessing symbolic coefficients\n",
      "Find rational coefficients\n",
      "Conclude with One_Dimensional method\n",
      "### Try factoring an operator of order 2\n",
      "Degree bound for right factor 56\n",
      "Current order of truncation 36\n",
      "Current working precision 150 (before monodromy computation)\n",
      "Current algebraic degree 1\n",
      "Start computing monodromy matrices\n",
      "loss = 4\n",
      "1 matrices computed\n",
      "Try guessing symbolic coefficients\n",
      "loss = 11\n",
      "2 matrices computed\n",
      "Try guessing symbolic coefficients\n",
      "Find rational coefficients\n",
      "loss = 22\n",
      "3 matrices computed\n",
      "Conclude with One_Dimensional method\n"
     ]
    },
    {
     "data": {
      "text/plain": [
       "[2, 1, 1]"
      ]
     },
     "execution_count": 50,
     "metadata": {},
     "output_type": "execute_result"
    }
   ],
   "source": [
    "dopObservatoryd4case3fac=dopObservatoryd4case3.factor(verbose=True)\n",
    "[x.order() for x in dopObservatoryd4case3fac]"
   ]
  },
  {
   "cell_type": "code",
   "execution_count": 51,
   "metadata": {
    "scrolled": true
   },
   "outputs": [
    {
     "data": {
      "text/plain": [
       "f(z) = _C1*(3*(21486653489756950297874278164511432704*z^4-63768242485383054266436193465225385472*z^3+17935446164076837076128499663594399552*z^2-1435573195454648160089660613257583316*z+43038357552805711181390411644693265)/(19607184*z^2-51210504*z+4683001)/((5615129693824*z^2-651010759696*z+29340621229)/z^2)^(3/2)/z^3*hypergeom([1/4, 3/4],[1],(290119733333148450816*z^2-757741538220691562496*z+69292510404291994624)/(5615129693824*z^2-651010759696*z+29340621229)^2)+589788098*(7596294863186613387246948999351715520204364998246400*z^7+1153860028836181734717623329840630647403184764337651712*z^6-392641908447936643626601036631021381668979859953041408*z^5+52781296530747960828091229836965130686687387707920384*z^4-3597717358094228537133323896111808250863949525521536*z^3+119925319863896004429704920784370745407095215135592*z^2-1232842766296081152739682212552915051118446222334*z-16361065387373337973048200110177668166767830937)/z^3/(5615129693824*z^2-651010759696*z+29340621229)^2/((5615129693824*z^2-651010759696*z+29340621229)/z^2)^(3/2)/(19607184*z^2-51210504*z+4683001)*hypergeom([5/4, 7/4],[2],(290119733333148450816*z^2-757741538220691562496*z+69292510404291994624)/(5615129693824*z^2-651010759696*z+29340621229)^2))+_C2*(3*(21486653489756950297874278164511432704*z^4-63768242485383054266436193465225385472*z^3+17935446164076837076128499663594399552*z^2-1435573195454648160089660613257583316*z+43038357552805711181390411644693265)/(19607184*z^2-51210504*z+4683001)/((5615129693824*z^2-651010759696*z+29340621229)/z^2)^(3/2)/z^3*hypergeom([1/4, 3/4],[1],(31529681478464007983742976*z^4-7311019695535860238635008*z^3+753027676503031358740992*z^2-37444378694267058810272*z+791579543699353475817)/(5615129693824*z^2-651010759696*z+29340621229)^2)-589788098*(7596294863186613387246948999351715520204364998246400*z^7+1153860028836181734717623329840630647403184764337651712*z^6-392641908447936643626601036631021381668979859953041408*z^5+52781296530747960828091229836965130686687387707920384*z^4-3597717358094228537133323896111808250863949525521536*z^3+119925319863896004429704920784370745407095215135592*z^2-1232842766296081152739682212552915051118446222334*z-16361065387373337973048200110177668166767830937)/z^3/(5615129693824*z^2-651010759696*z+29340621229)^2/((5615129693824*z^2-651010759696*z+29340621229)/z^2)^(3/2)/(19607184*z^2-51210504*z+4683001)*hypergeom([5/4, 7/4],[2],(31529681478464007983742976*z^4-7311019695535860238635008*z^3+753027676503031358740992*z^2-37444378694267058810272*z+791579543699353475817)/(5615129693824*z^2-651010759696*z+29340621229)^2))"
      ]
     },
     "execution_count": 51,
     "metadata": {},
     "output_type": "execute_result"
    }
   ],
   "source": [
    "maple('with(DEtools);')\n",
    "maple.set('L3',dopObservatoryd4case3fac[0])\n",
    "solObservatoryd4case3=maple('dsolve(diffop2de(L3,f(z),[Dz,z]))')\n",
    "solObservatoryd4case3"
   ]
  },
  {
   "cell_type": "markdown",
   "metadata": {},
   "source": [
    "`F:=-2809*x1*y1^2 - 3170*x1*y1*y2 + 16702*t*x1*y1*y2 - 361*x1*y2^2 - 6290*x1*y1*y3 +  55974*t*x1*y1*y3 - 3842*x1*y2*y3 + 42222*t*x1*y2*y3 - 3481*x1*y3^2 - 2809*x1*y1*z +  13249*t*x1*y1*z - 2809*y1^2*z - 361*x1*y2*z + 6085*t*x1*y2*z - 3170*y1*y2*z +  16702*t*y1*y2*z - 361*y2^2*z - 3481*x1*y3*z + 74211*t*x1*y3*z - 6290*y1*y3*z +  55974*t*y1*y3*z - 3842*y2*y3*z + 42222*t*y2*y3*z - 3481*y3^2*z -  529*x1*((y1 + y2 + y3)*z + x1*(y1 + y2 + y3 + z)) -  7921*z*((y1 + y2 + y3)*z + x1*(y1 + y2 + y3 + z))`"
   ]
  },
  {
   "cell_type": "code",
   "execution_count": 47,
   "metadata": {},
   "outputs": [
    {
     "data": {
      "text/plain": [
       "[4, 20, (alpha - 3) * (alpha - 2) * (alpha - 1) * alpha]"
      ]
     },
     "execution_count": 47,
     "metadata": {},
     "output_type": "execute_result"
    }
   ],
   "source": [
    "s = open(\"PF-I311-case4-d4.txt\").readlines()[0]\n",
    "dopObservatoryd4case4 = OA(s.replace(\"^\", \"**\").replace(\"t\", \"z\").replace(\"D\", \"Dz\"))\n",
    "[dopObservatoryd4case4.order(),dopObservatoryd4case4.degree(),dopObservatoryd4case4.indicial_polynomial(z).factor()]"
   ]
  },
  {
   "cell_type": "code",
   "execution_count": 48,
   "metadata": {},
   "outputs": [
    {
     "name": "stdout",
     "output_type": "stream",
     "text": [
      "### Try factoring an operator of order 4\n",
      "### Try factoring an operator of order 3\n",
      "Degree bound for right factor 314\n",
      "Current order of truncation 57\n",
      "Current working precision 200 (before monodromy computation)\n",
      "Current algebraic degree 1\n",
      "Start computing monodromy matrices\n",
      "loss = 8\n",
      "1 matrices computed\n",
      "Try guessing symbolic coefficients\n",
      "loss = 17\n",
      "2 matrices computed\n",
      "Try guessing symbolic coefficients\n",
      "Find rational coefficients\n",
      "3 matrices computed\n",
      "Try guessing symbolic coefficients\n",
      "loss = 35\n",
      "4 matrices computed\n",
      "Try guessing symbolic coefficients\n",
      "Find rational coefficients\n",
      "5 matrices computed\n",
      "Try guessing symbolic coefficients\n",
      "Find rational coefficients\n",
      "loss = 38\n",
      "6 matrices computed\n",
      "Try guessing symbolic coefficients\n",
      "7 matrices computed\n",
      "Try guessing symbolic coefficients\n",
      "Find rational coefficients\n",
      "8 matrices computed\n",
      "Try guessing symbolic coefficients\n",
      "Find rational coefficients\n",
      "Current order of truncation 114\n",
      "Current working precision 362 (before monodromy computation)\n",
      "Current algebraic degree 2\n",
      "Start computing monodromy matrices\n",
      "1 matrices computed\n",
      "Try guessing symbolic coefficients\n",
      "Find rational coefficients\n",
      "2 matrices computed\n",
      "Try guessing symbolic coefficients\n",
      "Find rational coefficients\n",
      "3 matrices computed\n",
      "Try guessing symbolic coefficients\n",
      "Find rational coefficients\n",
      "4 matrices computed\n",
      "Try guessing symbolic coefficients\n",
      "Find rational coefficients\n",
      "5 matrices computed\n",
      "Try guessing symbolic coefficients\n",
      "Find rational coefficients\n",
      "Conclude with One_Dimensional method\n",
      "### Try factoring an operator of order 2\n",
      "Degree bound for right factor 56\n",
      "Current order of truncation 36\n",
      "Current working precision 150 (before monodromy computation)\n",
      "Current algebraic degree 1\n",
      "Start computing monodromy matrices\n",
      "loss = 10\n",
      "1 matrices computed\n",
      "Try guessing symbolic coefficients\n",
      "loss = 15\n",
      "2 matrices computed\n",
      "Try guessing symbolic coefficients\n",
      "Find rational coefficients\n",
      "3 matrices computed\n",
      "Conclude with One_Dimensional method\n"
     ]
    },
    {
     "data": {
      "text/plain": [
       "[2, 1, 1]"
      ]
     },
     "execution_count": 48,
     "metadata": {},
     "output_type": "execute_result"
    }
   ],
   "source": [
    "dopObservatoryd4case4fac=dopObservatoryd4case4.factor(verbose=True)\n",
    "[x.order() for x in dopObservatoryd4case4fac]"
   ]
  },
  {
   "cell_type": "code",
   "execution_count": 49,
   "metadata": {},
   "outputs": [
    {
     "data": {
      "text/plain": [
       "f(z) = _C1*((862571810886142916672838103429950266146864641720504677840826*z^4-155546422358004799613547623295616848493511360878877330231997*z^3+766992208338346404513236088690194632401800921782036627719*z^2+757738173959443263828297414297978964385659665573268146489*z-22183172837258204336834800588457075573188825021009207157)/(9868102069014*z^2-2102384047955*z+98269126272)/((161722246285539891*z^2-170679924620364302*z+36981225084902367)/z^2)^(3/2)/z^3*hypergeom([1/4, 3/4],[1],(-882655118544793041452937655013760*z^2+188048322574739848585315319147200*z-8789709175309741149191524884480)/(161722246285539891*z^2-170679924620364302*z+36981225084902367)^2)-333535259465*(6960865868554947183515364419844617719119481334923463537134035174641404035300740400*z^7-9900369085527819532642940966003686163213352508819281181692999434858638461039466539*z^6+6754690331234121787387852663479354623000983815783610554271320482286266279705281152*z^5-2499418487597950690073408767784445927019475625006210791748319654155961278084461559*z^4+527974416670813154482550938716796475127222026833640083120328290881653887318351824*z^3-60675717149723436707991117709649314557262835901083463685523462307331838067063889*z^2+3430696704626652238262490499375214985073857108713246586020512711442931124467840*z-69842476127682654798044760121037603592382249455666417230271670298095313240205)/z^3/(161722246285539891*z^2-170679924620364302*z+36981225084902367)^2/((161722246285539891*z^2-170679924620364302*z+36981225084902367)/z^2)^(3/2)/(9868102069014*z^2-2102384047955*z+98269126272)*hypergeom([5/4, 7/4],[2],(-882655118544793041452937655013760*z^2+188048322574739848585315319147200*z-8789709175309741149191524884480)/(161722246285539891*z^2-170679924620364302*z+36981225084902367)^2))+_C2*((862571810886142916672838103429950266146864641720504677840826*z^4-155546422358004799613547623295616848493511360878877330231997*z^3+766992208338346404513236088690194632401800921782036627719*z^2+757738173959443263828297414297978964385659665573268146489*z-22183172837258204336834800588457075573188825021009207157)/(9868102069014*z^2-2102384047955*z+98269126272)/((161722246285539891*z^2-170679924620364302*z+36981225084902367)/z^2)^(3/2)/z^3*hypergeom([1/4, 3/4],[1],(26154084943640821071763401352291881*z^4-55205481610903878659298662346742164*z^3+41975665369201166185142440088604958*z^2-12811953742294462716346226603352868*z+1376400717955521822476753447087169)/(161722246285539891*z^2-170679924620364302*z+36981225084902367)^2)+333535259465*(6960865868554947183515364419844617719119481334923463537134035174641404035300740400*z^7-9900369085527819532642940966003686163213352508819281181692999434858638461039466539*z^6+6754690331234121787387852663479354623000983815783610554271320482286266279705281152*z^5-2499418487597950690073408767784445927019475625006210791748319654155961278084461559*z^4+527974416670813154482550938716796475127222026833640083120328290881653887318351824*z^3-60675717149723436707991117709649314557262835901083463685523462307331838067063889*z^2+3430696704626652238262490499375214985073857108713246586020512711442931124467840*z-69842476127682654798044760121037603592382249455666417230271670298095313240205)/z^3/(161722246285539891*z^2-170679924620364302*z+36981225084902367)^2/((161722246285539891*z^2-170679924620364302*z+36981225084902367)/z^2)^(3/2)/(9868102069014*z^2-2102384047955*z+98269126272)*hypergeom([5/4, 7/4],[2],(26154084943640821071763401352291881*z^4-55205481610903878659298662346742164*z^3+41975665369201166185142440088604958*z^2-12811953742294462716346226603352868*z+1376400717955521822476753447087169)/(161722246285539891*z^2-170679924620364302*z+36981225084902367)^2))"
      ]
     },
     "execution_count": 49,
     "metadata": {},
     "output_type": "execute_result"
    }
   ],
   "source": [
    "maple('with(DEtools);')\n",
    "maple.set('L4',dopObservatoryd4case4fac[0])\n",
    "solObservatoryd4case4=maple('dsolve(diffop2de(L4,f(z),[Dz,z]))')\n",
    "solObservatoryd4case4"
   ]
  },
  {
   "cell_type": "code",
   "execution_count": null,
   "metadata": {},
   "outputs": [],
   "source": []
  }
 ],
 "metadata": {
  "kernelspec": {
   "display_name": "SageMath 9.7",
   "language": "sage",
   "name": "sagemath-9.7"
  },
  "language_info": {
   "codemirror_mode": {
    "name": "ipython",
    "version": 3
   },
   "file_extension": ".py",
   "mimetype": "text/x-python",
   "name": "python",
   "nbconvert_exporter": "python",
   "pygments_lexer": "ipython3",
   "version": "3.10.5"
  }
 },
 "nbformat": 4,
 "nbformat_minor": 1
}
