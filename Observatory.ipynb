{
 "cells": [
  {
   "cell_type": "markdown",
   "metadata": {},
   "source": [
    "<b>In this worksheet we compare the Picard-Fuchs operator for the Feynman integral obtained  using the algorithms in <a href=\"https://arxiv.org/abs/2209.10962\">[arXiv:2209.10962]</a> with the one associated to the  elliptic curve constructed in section 7.4 of the paper <a href=\"https://arxiv.org/search/advanced?advanced=&terms-0-operator=AND&terms-0-term=vanhove&terms-0-field=author&terms-1-operator=AND&terms-1-term=doran&terms-1-field=author&terms-2-operator=AND&terms-2-term=harder&terms-2-field=author&classification-mathematics=y&classification-physics_archives=all&classification-include_cross_list=include&date-filter_by=all_dates&date-year=&date-from_date=&date-to_date=&date-date_type=submitted_date&abstracts=show&size=50&order=-announced_date_first\">Motivic geometry of two-loop Feynman integrals</a></b>"
   ]
  },
  {
   "cell_type": "markdown",
   "metadata": {},
   "source": [
    "<img src=\"observatory.png\" alt=\"Observatory\" style=\"width:200px\">"
   ]
  },
  {
   "cell_type": "markdown",
   "metadata": {},
   "source": [
    "<H3><center><b>Picard-Fuchs equation for the two-loop observatory integral in four dimensions</b></center></H3>\n",
    "$$\n",
    "\\int_{x_i\\geq0} {dx_1dy_1dy_2dy_3dz\\over {\\bf U}_{(3,1,1)}{\\bf F}_{(3,1,1);4}(t)} \n",
    "$$\n",
    "<b>with the following graph polynomials</b>\n",
    "\\begin{align}\n",
    "{\\bf U}_{(3,1,1)} & = (x_{1}+z) \\left(y_{1}+ y_{2}+ y_{3}\\right)+z x_{1} , \\cr\n",
    "{\\bf V}_{(3,1,1)} & = p_{1}^2 x_{1} z (y_{1}+y_{2}+y_{3})+2  y_{2} (p_{1}\\cdot p_{2}\n",
    "   x_{1} z+p_{4}\\cdot p_{2} y_{3} (x_{1}+z))-2 p_{1}\\cdot p_{4} x_{1}\n",
    "   y_{3} z+p_{2}^2 y_{2} (x_{1} (y_{1}+y_{3}+z)+z\n",
    "   (y_{1}+y_{3}))+p_{4}^2 y_{3} (x_{1} (y_{1}+y_{2}+z)+z\n",
    "   (y_{1}+y_{2})),\\cr\n",
    "{\\bf F}_{(3,1,1),D}(t) & = {\\bf U}_{(3,1,1)}\\left( m_1^2y_1 + m_2^2y_2 + m_{3}^2y_3 + m_{4}^2x_1 + m^2_{5} z\\right) -t{\\bf V}_{(3,1,1),D},\n",
    "\\end{align}"
   ]
  },
  {
   "cell_type": "code",
   "execution_count": 1,
   "metadata": {},
   "outputs": [],
   "source": [
    "from ore_algebra import *\n",
    "OA, z, Dz = DifferentialOperators(QQ, 'z')"
   ]
  },
  {
   "cell_type": "markdown",
   "metadata": {},
   "source": [
    "`F := -7921*x1*y1^2 - 9770*x1*y1*y2 + 17747*t*x1*y1*y2 - 1849*x1*y2^2 - 8042*x1*y1*y3 +  31993*t*x1*y1*y3 - 1970*x1*y2*y3 + 25326*t*x1*y2*y3 - 121*x1*y3^2 - 7921*x1*y1*z +  11375*t*x1*y1*z - 7921*y1^2*z - 1849*x1*y2*z + 14086*t*x1*y2*z - 9770*y1*y2*z +  17747*t*y1*y2*z - 1849*y2^2*z - 121*x1*y3*z + 56178*t*x1*y3*z - 8042*y1*y3*z +  31993*t*y1*y3*z - 1970*y2*y3*z + 25326*t*y2*y3*z - 121*y3^2*z -  361*x1*((y1 + y2 + y3)*z + x1*(y1 + y2 + y3 + z)) -  49*z*((y1 + y2 + y3)*z + x1*(y1 + y2 + y3 + z))`"
   ]
  },
  {
   "cell_type": "code",
   "execution_count": 2,
   "metadata": {
    "scrolled": true
   },
   "outputs": [
    {
     "data": {
      "text/plain": [
       "[4, 20]"
      ]
     },
     "execution_count": 2,
     "metadata": {},
     "output_type": "execute_result"
    }
   ],
   "source": [
    "s = open(\"PF-I311-case1-d4.txt\").readlines()[0]\n",
    "dopObservatoryd4case1 = OA(s.replace(\"^\", \"**\").replace(\"t\", \"z\").replace(\"D\", \"Dz\"))\n",
    "[dopObservatoryd4case1.order(),dopObservatoryd4case1.degree()]"
   ]
  },
  {
   "cell_type": "code",
   "execution_count": 3,
   "metadata": {
    "scrolled": false
   },
   "outputs": [
    {
     "name": "stdout",
     "output_type": "stream",
     "text": [
      "### Try factoring an operator of order 4\n",
      "### Try factoring an operator of order 3\n",
      "Degree bound for right factor 314\n",
      "Current order of truncation 57\n",
      "Current working precision 200 (before monodromy computation)\n",
      "Current algebraic degree 1\n",
      "Start computing monodromy matrices\n",
      "loss = 22\n",
      "1 matrices computed\n",
      "Try guessing symbolic coefficients\n",
      "loss = 45\n",
      "2 matrices computed\n",
      "Try guessing symbolic coefficients\n",
      "3 matrices computed\n",
      "Try guessing symbolic coefficients\n",
      "Find rational coefficients\n",
      "loss = 50\n",
      "4 matrices computed\n",
      "Try guessing symbolic coefficients\n",
      "5 matrices computed\n",
      "Try guessing symbolic coefficients\n",
      "6 matrices computed\n",
      "Try guessing symbolic coefficients\n",
      "7 matrices computed\n",
      "Try guessing symbolic coefficients\n",
      "Find rational coefficients\n",
      "8 matrices computed\n",
      "Try guessing symbolic coefficients\n",
      "Find rational coefficients\n",
      "Current order of truncation 114\n",
      "Current working precision 350 (before monodromy computation)\n",
      "Current algebraic degree 2\n",
      "Start computing monodromy matrices\n",
      "1 matrices computed\n",
      "Try guessing symbolic coefficients\n",
      "2 matrices computed\n",
      "Try guessing symbolic coefficients\n",
      "Find rational coefficients\n",
      "Conclude with One_Dimensional method\n",
      "### Try factoring an operator of order 2\n",
      "Degree bound for right factor 56\n",
      "Current order of truncation 36\n",
      "Current working precision 150 (before monodromy computation)\n",
      "Current algebraic degree 1\n",
      "Start computing monodromy matrices\n",
      "loss = 6\n",
      "1 matrices computed\n",
      "Try guessing symbolic coefficients\n",
      "loss = 21\n",
      "2 matrices computed\n",
      "Conclude with One_Dimensional method\n"
     ]
    },
    {
     "data": {
      "text/plain": [
       "[2, 1, 1]"
      ]
     },
     "execution_count": 3,
     "metadata": {},
     "output_type": "execute_result"
    }
   ],
   "source": [
    "dopObservatoryd4case1fac=dopObservatoryd4case1.factor(verbose=True)\n",
    "[x.order() for x in dopObservatoryd4case1fac]"
   ]
  },
  {
   "cell_type": "markdown",
   "metadata": {},
   "source": [
    "<b>Following the construction in section 7.4 we construct the elliptic curve associated with the Observatory graph</b>"
   ]
  },
  {
   "cell_type": "code",
   "execution_count": 4,
   "metadata": {},
   "outputs": [],
   "source": [
    "# Case1\n",
    "R.<x1,y1,y2,y3,z,t,w,X> = QQ[]\n",
    "Fcase1= -7921*x1*y1^2 - 9770*x1*y1*y2 + 17747*t*x1*y1*y2 - 1849*x1*y2^2 - 8042*x1*y1*y3 +  31993*t*x1*y1*y3 - 1970*x1*y2*y3 + 25326*t*x1*y2*y3 - 121*x1*y3^2 - 7921*x1*y1*z +  11375*t*x1*y1*z - 7921*y1^2*z - 1849*x1*y2*z + 14086*t*x1*y2*z - 9770*y1*y2*z +  17747*t*y1*y2*z - 1849*y2^2*z - 121*x1*y3*z + 56178*t*x1*y3*z - 8042*y1*y3*z +  31993*t*y1*y3*z - 1970*y2*y3*z + 25326*t*y2*y3*z - 121*y3^2*z -  361*x1*((y1 + y2 + y3)*z + x1*(y1 + y2 + y3 + z)) -  49*z*((y1 + y2 + y3)*z + x1*(y1 + y2 + y3 + z))\n",
    "S = Fcase1.substitute(y1=y1/w,y2=y2/w,y3=y3/w).numerator()\n",
    "Xlist = [y1,y2,y3,w]\n",
    "M = matrix(R,4)\n",
    "for i in range(0,len(Xlist)):\n",
    "    for j in range(0,len(Xlist)):\n",
    "        if i == j:\n",
    "            M[i,j] = 2*S.coefficient(Xlist[i]*Xlist[j])\n",
    "        else:\n",
    "            M[i,j] = S.coefficient(Xlist[i]*Xlist[j])\n",
    "P=(M.determinant())//(t^2*(z+x1)^2)\n",
    "G = P.substitute(x1=X,z=1)\n",
    "B4 = G.coefficient(X^4)\n",
    "B3 = G.coefficient(X^3)\n",
    "B2 = G.coefficient(X^2)\n",
    "B1 = G.coefficient(X)\n",
    "B0 = G.substitute(X=0)\n",
    "\n",
    "H = X^3 + B2*X^2 + (-4*B0*B4+B1*B3)*X + (B0*B3^2-4*B0*B2*B4+B1^2*B4)\n",
    "H1 = 4*H.substitute(X=X-B2/3)\n",
    "#g2 = H1.coefficient(X)\n",
    "#g3 = H1.substitute(X=0)\n",
    "h2 = -(H1).coefficient(X)\n",
    "h3 = -(H1).substitute(X=0)\n",
    "Del = h2^3 - 27*h3^2\n",
    "Delsmall=(3*(h2.derivative(t))*h3 - 2*h2*(h3.derivative(t)))\n",
    "A2 = 16*Del*(3*(h2.derivative(t))*h3 - 2*h2*(h3.derivative(t)))\n",
    "A1 = 16*(9*h2^2*h3*(h2.derivative(t))^2 - (7*h2^3 + 135*h3^2)*(h2.derivative(t))*(h3.derivative(t)) + 108*h2*h3*(h3.derivative(t))^2 + Del*(-3*h3*(h2.derivative(t,2)) + 2*h2*(h3.derivative(t,2))))\n",
    "A0 = 21*h2*h3*(h2.derivative(t))^3 - 18*h2^2*(h2.derivative(t))^2*(h3.derivative(t)) + 8*(h3.derivative(t))*(15*h2*(h3.derivative(t))^2 - Del*(h2.derivative(t,2))) - 4*(h2.derivative(t))*(27*h3*(h3.derivative(t))^2 - 2*Del*(h3.derivative(t,2)))\n",
    "\n",
    "Lellcase1=OA(A2.substitute(t=z))*Dz^2+OA(A1.substitute(t=z))*Dz+OA(A0.substitute(t=z))"
   ]
  },
  {
   "cell_type": "markdown",
   "metadata": {},
   "source": [
    "<b>We now check that the two differential operators <tt>dopObservatoryd4case1fac[0]</tt> and <tt>Lell1</tt> have the same non-apparent singularities</b>"
   ]
  },
  {
   "cell_type": "code",
   "execution_count": 5,
   "metadata": {},
   "outputs": [
    {
     "data": {
      "text/plain": [
       "(z^2 - 216847682068/553061172321*z + 1571221056/20483747123) * (z^2 + 8445626090211764/16164553189710317*z + 2884819437729990/16164553189710317) * (z^2 + 9308995577337364/16164553189710317*z + 3312337190097878/16164553189710317)"
      ]
     },
     "execution_count": 5,
     "metadata": {},
     "output_type": "execute_result"
    }
   ],
   "source": [
    "dopObservatoryd4case1fac[0].desingularize().leading_coefficient().factor()"
   ]
  },
  {
   "cell_type": "code",
   "execution_count": 6,
   "metadata": {},
   "outputs": [
    {
     "data": {
      "text/plain": [
       "(z^2 - 216847682068/553061172321*z + 1571221056/20483747123) * (z^2 + 8445626090211764/16164553189710317*z + 2884819437729990/16164553189710317) * (z^2 + 9308995577337364/16164553189710317*z + 3312337190097878/16164553189710317)"
      ]
     },
     "execution_count": 6,
     "metadata": {},
     "output_type": "execute_result"
    }
   ],
   "source": [
    "Lellcase1.desingularize().leading_coefficient().factor()"
   ]
  },
  {
   "cell_type": "markdown",
   "metadata": {},
   "source": [
    "`F := -289*x1*y1^2 - 458*x1*y1*y2 + 17747*t*x1*y1*y2 - 169*x1*y2^2 - 458*x1*y1*y3 +  31993*t*x1*y1*y3 - 338*x1*y2*y3 + 25326*t*x1*y2*y3 - 169*x1*y3^2 - 289*x1*y1*z +  11375*t*x1*y1*z - 289*y1^2*z - 169*x1*y2*z + 14086*t*x1*y2*z - 458*y1*y2*z +  17747*t*y1*y2*z - 169*y2^2*z - 169*x1*y3*z + 56178*t*x1*y3*z - 458*y1*y3*z +  31993*t*y1*y3*z - 338*y2*y3*z + 25326*t*y2*y3*z - 169*y3^2*z -  3481*x1*((y1 + y2 + y3)*z + x1*(y1 + y2 + y3 + z)) -  4*z*((y1 + y2 + y3)*z + x1*(y1 + y2 + y3 + z))`"
   ]
  },
  {
   "cell_type": "code",
   "execution_count": 7,
   "metadata": {
    "scrolled": true
   },
   "outputs": [
    {
     "data": {
      "text/plain": [
       "[4, 20]"
      ]
     },
     "execution_count": 7,
     "metadata": {},
     "output_type": "execute_result"
    }
   ],
   "source": [
    "s = open(\"PF-I311-case2-d4.txt\").readlines()[0]\n",
    "dopObservatoryd4case2 = OA(s.replace(\"^\", \"**\").replace(\"t\", \"z\").replace(\"D\", \"Dz\"))\n",
    "[dopObservatoryd4case2.order(),dopObservatoryd4case2.degree()]"
   ]
  },
  {
   "cell_type": "code",
   "execution_count": 8,
   "metadata": {
    "scrolled": true
   },
   "outputs": [
    {
     "name": "stdout",
     "output_type": "stream",
     "text": [
      "### Try factoring an operator of order 4\n",
      "### Try factoring an operator of order 3\n",
      "Degree bound for right factor 314\n",
      "Current order of truncation 57\n",
      "Current working precision 200 (before monodromy computation)\n",
      "Current algebraic degree 1\n",
      "Start computing monodromy matrices\n",
      "loss = 16\n",
      "1 matrices computed\n",
      "Try guessing symbolic coefficients\n",
      "Find rational coefficients\n",
      "loss = 27\n",
      "2 matrices computed\n",
      "Try guessing symbolic coefficients\n",
      "loss = 28\n",
      "3 matrices computed\n",
      "Try guessing symbolic coefficients\n",
      "Find rational coefficients\n",
      "loss = 88\n",
      "4 matrices computed\n",
      "Try guessing symbolic coefficients\n",
      "5 matrices computed\n",
      "Try guessing symbolic coefficients\n",
      "loss = 90\n",
      "6 matrices computed\n",
      "Try guessing symbolic coefficients\n",
      "7 matrices computed\n",
      "Try guessing symbolic coefficients\n",
      "Find rational coefficients\n",
      "8 matrices computed\n",
      "Try guessing symbolic coefficients\n",
      "Current order of truncation 114\n",
      "Current working precision 350 (before monodromy computation)\n",
      "Current algebraic degree 2\n",
      "Start computing monodromy matrices\n",
      "1 matrices computed\n",
      "Try guessing symbolic coefficients\n",
      "Find rational coefficients\n",
      "2 matrices computed\n",
      "Try guessing symbolic coefficients\n",
      "3 matrices computed\n",
      "Try guessing symbolic coefficients\n",
      "4 matrices computed\n",
      "Try guessing symbolic coefficients\n",
      "Find rational coefficients\n",
      "5 matrices computed\n",
      "Try guessing symbolic coefficients\n",
      "6 matrices computed\n",
      "Try guessing symbolic coefficients\n",
      "7 matrices computed\n",
      "Try guessing symbolic coefficients\n",
      "8 matrices computed\n",
      "Try guessing symbolic coefficients\n",
      "Current order of truncation 228\n",
      "Current working precision 610 (before monodromy computation)\n",
      "Current algebraic degree 3\n",
      "Start computing monodromy matrices\n",
      "1 matrices computed\n",
      "Try guessing symbolic coefficients\n",
      "2 matrices computed\n",
      "Try guessing symbolic coefficients\n",
      "3 matrices computed\n",
      "Try guessing symbolic coefficients\n",
      "Find rational coefficients\n",
      "4 matrices computed\n",
      "Try guessing symbolic coefficients\n",
      "5 matrices computed\n",
      "Try guessing symbolic coefficients\n",
      "Find rational coefficients\n",
      "Conclude with One_Dimensional method\n",
      "### Try factoring an operator of order 2\n",
      "Degree bound for right factor 56\n",
      "Current order of truncation 36\n",
      "Current working precision 150 (before monodromy computation)\n",
      "Current algebraic degree 1\n",
      "Start computing monodromy matrices\n",
      "loss = 32\n",
      "1 matrices computed\n",
      "Try guessing symbolic coefficients\n",
      "Find rational coefficients\n",
      "loss = 49\n",
      "2 matrices computed\n",
      "Try guessing symbolic coefficients\n",
      "Find rational coefficients\n",
      "3 matrices computed\n",
      "Conclude with One_Dimensional method\n"
     ]
    },
    {
     "data": {
      "text/plain": [
       "[2, 1, 1]"
      ]
     },
     "execution_count": 8,
     "metadata": {},
     "output_type": "execute_result"
    }
   ],
   "source": [
    "dopObservatoryd4case2fac=dopObservatoryd4case2.factor(verbose=True)\n",
    "[x.order() for x in dopObservatoryd4case2fac]"
   ]
  },
  {
   "cell_type": "markdown",
   "metadata": {},
   "source": [
    "<b>Following the construction in section 7.4 we construct the elliptic curve associated with the Observatory graph</b>"
   ]
  },
  {
   "cell_type": "code",
   "execution_count": 9,
   "metadata": {},
   "outputs": [],
   "source": [
    "# Case2\n",
    "R.<x1,y1,y2,y3,z,t,w,X> = QQ[]\n",
    "Fcase2=  -289*x1*y1^2 - 458*x1*y1*y2 + 17747*t*x1*y1*y2 - 169*x1*y2^2 - 458*x1*y1*y3 +  31993*t*x1*y1*y3 - 338*x1*y2*y3 + 25326*t*x1*y2*y3 - 169*x1*y3^2 - 289*x1*y1*z +  11375*t*x1*y1*z - 289*y1^2*z - 169*x1*y2*z + 14086*t*x1*y2*z - 458*y1*y2*z +  17747*t*y1*y2*z - 169*y2^2*z - 169*x1*y3*z + 56178*t*x1*y3*z - 458*y1*y3*z +  31993*t*y1*y3*z - 338*y2*y3*z + 25326*t*y2*y3*z - 169*y3^2*z -  3481*x1*((y1 + y2 + y3)*z + x1*(y1 + y2 + y3 + z)) -  4*z*((y1 + y2 + y3)*z + x1*(y1 + y2 + y3 + z))\n",
    "\n",
    "S = Fcase2.substitute(y1=y1/w,y2=y2/w,y3=y3/w).numerator()\n",
    "Xlist = [y1,y2,y3,w]\n",
    "M = matrix(R,4)\n",
    "for i in range(0,len(Xlist)):\n",
    "    for j in range(0,len(Xlist)):\n",
    "        if i == j:\n",
    "            M[i,j] = 2*S.coefficient(Xlist[i]*Xlist[j])\n",
    "        else:\n",
    "            M[i,j] = S.coefficient(Xlist[i]*Xlist[j])\n",
    "P=(M.determinant())//(t^2*(z+x1)^2)\n",
    "G = P.substitute(x1=X,z=1)\n",
    "B4 = G.coefficient(X^4)\n",
    "B3 = G.coefficient(X^3)\n",
    "B2 = G.coefficient(X^2)\n",
    "B1 = G.coefficient(X)\n",
    "B0 = G.substitute(X=0)\n",
    "\n",
    "H = X^3 + B2*X^2 + (-4*B0*B4+B1*B3)*X + (B0*B3^2-4*B0*B2*B4+B1^2*B4)\n",
    "H1 = 4*H.substitute(X=X-B2/3)\n",
    "#g2 = H1.coefficient(X)\n",
    "#g3 = H1.substitute(X=0)\n",
    "h2 = -(H1).coefficient(X)\n",
    "h3 = -(H1).substitute(X=0)\n",
    "Del = h2^3 - 27*h3^2\n",
    "Delsmall=(3*(h2.derivative(t))*h3 - 2*h2*(h3.derivative(t)))\n",
    "A2 = 16*Del*(3*(h2.derivative(t))*h3 - 2*h2*(h3.derivative(t)))\n",
    "A1 = 16*(9*h2^2*h3*(h2.derivative(t))^2 - (7*h2^3 + 135*h3^2)*(h2.derivative(t))*(h3.derivative(t)) + 108*h2*h3*(h3.derivative(t))^2 + Del*(-3*h3*(h2.derivative(t,2)) + 2*h2*(h3.derivative(t,2))))\n",
    "A0 = 21*h2*h3*(h2.derivative(t))^3 - 18*h2^2*(h2.derivative(t))^2*(h3.derivative(t)) + 8*(h3.derivative(t))*(15*h2*(h3.derivative(t))^2 - Del*(h2.derivative(t,2))) - 4*(h2.derivative(t))*(27*h3*(h3.derivative(t))^2 - 2*Del*(h3.derivative(t,2)))\n",
    "\n",
    "Lellcase2=OA(A2.substitute(t=z))*Dz^2+OA(A1.substitute(t=z))*Dz+OA(A0.substitute(t=z))"
   ]
  },
  {
   "cell_type": "markdown",
   "metadata": {},
   "source": [
    "<b>We now check that the two differential operators <tt>dopObservatoryd4case1fac[0]</tt> and <tt>Lell1</tt> have the same non-apparent singularities</b>"
   ]
  },
  {
   "cell_type": "code",
   "execution_count": 10,
   "metadata": {},
   "outputs": [
    {
     "data": {
      "text/plain": [
       "(z^2 - 5750551183044004/16164553189710317*z + 5027174766514368/113151872327972219) * (z^2 - 4984554194466404/16164553189710317*z + 3750907941876800/113151872327972219) * (z^2 - 13741725652/553061172321*z + 14400/567779771)"
      ]
     },
     "execution_count": 10,
     "metadata": {},
     "output_type": "execute_result"
    }
   ],
   "source": [
    "dopObservatoryd4case2fac[0].desingularize().leading_coefficient().factor()"
   ]
  },
  {
   "cell_type": "code",
   "execution_count": 11,
   "metadata": {},
   "outputs": [
    {
     "data": {
      "text/plain": [
       "(z^2 - 5750551183044004/16164553189710317*z + 5027174766514368/113151872327972219) * (z^2 - 4984554194466404/16164553189710317*z + 3750907941876800/113151872327972219) * (z^2 - 13741725652/553061172321*z + 14400/567779771)"
      ]
     },
     "execution_count": 11,
     "metadata": {},
     "output_type": "execute_result"
    }
   ],
   "source": [
    "Lellcase2.desingularize().leading_coefficient().factor()"
   ]
  },
  {
   "cell_type": "markdown",
   "metadata": {},
   "source": [
    "`F:=-2809*x1*y1^2 - 3170*x1*y1*y2 + 16702*t*x1*y1*y2 - 361*x1*y2^2 - 6290*x1*y1*y3 +  55974*t*x1*y1*y3 - 3842*x1*y2*y3 + 42222*t*x1*y2*y3 - 3481*x1*y3^2 - 2809*x1*y1*z +  13249*t*x1*y1*z - 2809*y1^2*z - 361*x1*y2*z + 6085*t*x1*y2*z - 3170*y1*y2*z +  16702*t*y1*y2*z - 361*y2^2*z - 3481*x1*y3*z + 74211*t*x1*y3*z - 6290*y1*y3*z +  55974*t*y1*y3*z - 3842*y2*y3*z + 42222*t*y2*y3*z - 3481*y3^2*z -  529*x1*((y1 + y2 + y3)*z + x1*(y1 + y2 + y3 + z)) -  7921*z*((y1 + y2 + y3)*z + x1*(y1 + y2 + y3 + z))`"
   ]
  },
  {
   "cell_type": "code",
   "execution_count": 12,
   "metadata": {},
   "outputs": [
    {
     "data": {
      "text/plain": [
       "[4, 20]"
      ]
     },
     "execution_count": 12,
     "metadata": {},
     "output_type": "execute_result"
    }
   ],
   "source": [
    "s = open(\"PF-I311-case3-d4.txt\").readlines()[0]\n",
    "dopObservatoryd4case3 = OA(s.replace(\"^\", \"**\").replace(\"t\", \"z\").replace(\"D\", \"Dz\"))\n",
    "[dopObservatoryd4case3.order(),dopObservatoryd4case3.degree()]"
   ]
  },
  {
   "cell_type": "code",
   "execution_count": 13,
   "metadata": {
    "scrolled": true
   },
   "outputs": [
    {
     "name": "stdout",
     "output_type": "stream",
     "text": [
      "### Try factoring an operator of order 4\n",
      "### Try factoring an operator of order 3\n",
      "Degree bound for right factor 314\n",
      "Current order of truncation 57\n",
      "Current working precision 200 (before monodromy computation)\n",
      "Current algebraic degree 1\n",
      "Start computing monodromy matrices\n",
      "loss = 8\n",
      "1 matrices computed\n",
      "Try guessing symbolic coefficients\n",
      "loss = 17\n",
      "2 matrices computed\n",
      "Try guessing symbolic coefficients\n",
      "Find rational coefficients\n",
      "3 matrices computed\n",
      "Try guessing symbolic coefficients\n",
      "loss = 35\n",
      "4 matrices computed\n",
      "Try guessing symbolic coefficients\n",
      "Find rational coefficients\n",
      "5 matrices computed\n",
      "Try guessing symbolic coefficients\n",
      "Find rational coefficients\n",
      "loss = 38\n",
      "6 matrices computed\n",
      "Try guessing symbolic coefficients\n",
      "7 matrices computed\n",
      "Try guessing symbolic coefficients\n",
      "Find rational coefficients\n",
      "8 matrices computed\n",
      "Try guessing symbolic coefficients\n",
      "Current order of truncation 114\n",
      "Current working precision 362 (before monodromy computation)\n",
      "Current algebraic degree 2\n",
      "Start computing monodromy matrices\n",
      "1 matrices computed\n",
      "Try guessing symbolic coefficients\n",
      "Find rational coefficients\n",
      "2 matrices computed\n",
      "Try guessing symbolic coefficients\n",
      "Find rational coefficients\n",
      "3 matrices computed\n",
      "Try guessing symbolic coefficients\n",
      "Find rational coefficients\n",
      "Conclude with One_Dimensional method\n",
      "### Try factoring an operator of order 2\n",
      "Degree bound for right factor 56\n",
      "Current order of truncation 36\n",
      "Current working precision 150 (before monodromy computation)\n",
      "Current algebraic degree 1\n",
      "Start computing monodromy matrices\n",
      "loss = 10\n",
      "1 matrices computed\n",
      "Try guessing symbolic coefficients\n",
      "Find rational coefficients\n",
      "loss = 15\n",
      "2 matrices computed\n",
      "Try guessing symbolic coefficients\n",
      "Find rational coefficients\n",
      "3 matrices computed\n",
      "Conclude with One_Dimensional method\n"
     ]
    },
    {
     "data": {
      "text/plain": [
       "[2, 1, 1]"
      ]
     },
     "execution_count": 13,
     "metadata": {},
     "output_type": "execute_result"
    }
   ],
   "source": [
    "dopObservatoryd4case3fac=dopObservatoryd4case3.factor(verbose=True)\n",
    "[x.order() for x in dopObservatoryd4case3fac]"
   ]
  },
  {
   "cell_type": "markdown",
   "metadata": {},
   "source": [
    "<b>Following the construction in section 7.4 we construct the elliptic curve associated with the Observatory graph</b>"
   ]
  },
  {
   "cell_type": "code",
   "execution_count": 14,
   "metadata": {},
   "outputs": [],
   "source": [
    "# Case3\n",
    "R.<x1,y1,y2,y3,z,t,w,X> = QQ[]\n",
    "Fcase3= -2809*x1*y1^2 - 3170*x1*y1*y2 + 16702*t*x1*y1*y2 - 361*x1*y2^2 - 6290*x1*y1*y3 +  55974*t*x1*y1*y3 - 3842*x1*y2*y3 + 42222*t*x1*y2*y3 - 3481*x1*y3^2 - 2809*x1*y1*z +  13249*t*x1*y1*z - 2809*y1^2*z - 361*x1*y2*z + 6085*t*x1*y2*z - 3170*y1*y2*z +  16702*t*y1*y2*z - 361*y2^2*z - 3481*x1*y3*z + 74211*t*x1*y3*z - 6290*y1*y3*z +  55974*t*y1*y3*z - 3842*y2*y3*z + 42222*t*y2*y3*z - 3481*y3^2*z -  529*x1*((y1 + y2 + y3)*z + x1*(y1 + y2 + y3 + z)) -  7921*z*((y1 + y2 + y3)*z + x1*(y1 + y2 + y3 + z))\n",
    "S = Fcase3.substitute(y1=y1/w,y2=y2/w,y3=y3/w).numerator()\n",
    "Xlist = [y1,y2,y3,w]\n",
    "M = matrix(R,4)\n",
    "for i in range(0,len(Xlist)):\n",
    "    for j in range(0,len(Xlist)):\n",
    "        if i == j:\n",
    "            M[i,j] = 2*S.coefficient(Xlist[i]*Xlist[j])\n",
    "        else:\n",
    "            M[i,j] = S.coefficient(Xlist[i]*Xlist[j])\n",
    "P=(M.determinant())//(t^2*(z+x1)^2)\n",
    "G = P.substitute(x1=X,z=1)\n",
    "B4 = G.coefficient(X^4)\n",
    "B3 = G.coefficient(X^3)\n",
    "B2 = G.coefficient(X^2)\n",
    "B1 = G.coefficient(X)\n",
    "B0 = G.substitute(X=0)\n",
    "\n",
    "H = X^3 + B2*X^2 + (-4*B0*B4+B1*B3)*X + (B0*B3^2-4*B0*B2*B4+B1^2*B4)\n",
    "H1 = 4*H.substitute(X=X-B2/3)\n",
    "#g2 = H1.coefficient(X)\n",
    "#g3 = H1.substitute(X=0)\n",
    "h2 = -(H1).coefficient(X)\n",
    "h3 = -(H1).substitute(X=0)\n",
    "Del = h2^3 - 27*h3^2\n",
    "Delsmall=(3*(h2.derivative(t))*h3 - 2*h2*(h3.derivative(t)))\n",
    "A2 = 16*Del*(3*(h2.derivative(t))*h3 - 2*h2*(h3.derivative(t)))\n",
    "A1 = 16*(9*h2^2*h3*(h2.derivative(t))^2 - (7*h2^3 + 135*h3^2)*(h2.derivative(t))*(h3.derivative(t)) + 108*h2*h3*(h3.derivative(t))^2 + Del*(-3*h3*(h2.derivative(t,2)) + 2*h2*(h3.derivative(t,2))))\n",
    "A0 = 21*h2*h3*(h2.derivative(t))^3 - 18*h2^2*(h2.derivative(t))^2*(h3.derivative(t)) + 8*(h3.derivative(t))*(15*h2*(h3.derivative(t))^2 - Del*(h2.derivative(t,2))) - 4*(h2.derivative(t))*(27*h3*(h3.derivative(t))^2 - 2*Del*(h3.derivative(t,2)))\n",
    "\n",
    "Lellcase3=OA(A2.substitute(t=z))*Dz^2+OA(A1.substitute(t=z))*Dz+OA(A0.substitute(t=z))"
   ]
  },
  {
   "cell_type": "markdown",
   "metadata": {},
   "source": [
    "<b>We now check that the two differential operators <tt>dopObservatoryd4case1fac[0]</tt> and <tt>Lell1</tt> have the same non-apparent singularities</b>"
   ]
  },
  {
   "cell_type": "code",
   "execution_count": 15,
   "metadata": {},
   "outputs": [
    {
     "data": {
      "text/plain": [
       "(z^2 - 252775771458291098/161722246285539891*z + 12044140481097939/17969138476171099) * (z^2 - 88584077782437506/161722246285539891*z + 12697744047919619/161722246285539891) * (z^2 - 2102384047955/9868102069014*z + 5459395904/548227892723)"
      ]
     },
     "execution_count": 15,
     "metadata": {},
     "output_type": "execute_result"
    }
   ],
   "source": [
    "dopObservatoryd4case3fac[0].desingularize().leading_coefficient().factor()"
   ]
  },
  {
   "cell_type": "code",
   "execution_count": 16,
   "metadata": {},
   "outputs": [
    {
     "data": {
      "text/plain": [
       "(z^2 - 252775771458291098/161722246285539891*z + 12044140481097939/17969138476171099) * (z^2 - 88584077782437506/161722246285539891*z + 12697744047919619/161722246285539891) * (z^2 - 2102384047955/9868102069014*z + 5459395904/548227892723)"
      ]
     },
     "execution_count": 16,
     "metadata": {},
     "output_type": "execute_result"
    }
   ],
   "source": [
    "Lellcase3.desingularize().leading_coefficient().factor()"
   ]
  }
 ],
 "metadata": {
  "kernelspec": {
   "display_name": "SageMath 9.8",
   "language": "sage",
   "name": "sagemath-9.8"
  },
  "language_info": {
   "codemirror_mode": {
    "name": "ipython",
    "version": 3
   },
   "file_extension": ".py",
   "mimetype": "text/x-python",
   "name": "python",
   "nbconvert_exporter": "python",
   "pygments_lexer": "ipython3",
   "version": "3.11.1"
  }
 },
 "nbformat": 4,
 "nbformat_minor": 1
}
