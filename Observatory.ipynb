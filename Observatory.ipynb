{
 "cells": [
  {
   "cell_type": "markdown",
   "metadata": {},
   "source": [
    "<img src=\"observatory.png\" alt=\"Observatory\" style=\"width:200px\">"
   ]
  },
  {
   "cell_type": "markdown",
   "metadata": {},
   "source": [
    "<H3><center><b>Picard-Fuchs equation for the two-loop observatory integral in four dimensions</b></center></H3>\n",
    "$$\n",
    "\\int_{x_i\\geq0} {dx_1dy_1dy_2dy_3dz\\over {\\bf U}_{(3,1,1)}{\\bf F}_{(3,1,1);4}(t)} \n",
    "$$\n",
    "<b>with the following graph polynomials</b>\n",
    "\\begin{align}\n",
    "{\\bf U}_{(3,1,1)} & = (x_{1}+z) \\left(y_{1}+ y_{2}+ y_{3}\\right)+z x_{1} , \\cr\n",
    "{\\bf V}_{(3,1,1)} & = p_{1}^2 x_{1} z (y_{1}+y_{2}+y_{3})+2  y_{2} (p_{1}\\cdot p_{2}\n",
    "   x_{1} z+p_{4}\\cdot p_{2} y_{3} (x_{1}+z))-2 p_{1}\\cdot p_{4} x_{1}\n",
    "   y_{3} z+p_{2}^2 y_{2} (x_{1} (y_{1}+y_{3}+z)+z\n",
    "   (y_{1}+y_{3}))+p_{4}^2 y_{3} (x_{1} (y_{1}+y_{2}+z)+z\n",
    "   (y_{1}+y_{2})),\\cr\n",
    "{\\bf F}_{(3,1,1),D}(t) & = {\\bf U}_{(3,1,1)}\\left( m_1^2y_1 + m_2^2y_2 + m_{3}^2y_3 + m_{4}^2x_1 + m^2_{5} z\\right) -t{\\bf V}_{(3,1,1),D},\n",
    "\\end{align}"
   ]
  },
  {
   "cell_type": "markdown",
   "metadata": {},
   "source": [
    "<b>In this worksheet we compare the Picard-Fuchs operator for the Feynman integral obtained  using the algorithms in <a href=\"https://arxiv.org/abs/2209.10962\">[arXiv:2209.10962]</a> with the one associated to the  elliptic curve constructed in section 7.4 of the paper [XXXX]</b>"
   ]
  },
  {
   "cell_type": "code",
   "execution_count": 1,
   "metadata": {},
   "outputs": [],
   "source": [
    "from ore_algebra import *\n",
    "OA, z, Dz = DifferentialOperators(QQ, 'z')"
   ]
  },
  {
   "cell_type": "markdown",
   "metadata": {},
   "source": [
    "`F := -7921*x1*y1^2 - 9770*x1*y1*y2 + 17747*t*x1*y1*y2 - 1849*x1*y2^2 - 8042*x1*y1*y3 +  31993*t*x1*y1*y3 - 1970*x1*y2*y3 + 25326*t*x1*y2*y3 - 121*x1*y3^2 - 7921*x1*y1*z +  11375*t*x1*y1*z - 7921*y1^2*z - 1849*x1*y2*z + 14086*t*x1*y2*z - 9770*y1*y2*z +  17747*t*y1*y2*z - 1849*y2^2*z - 121*x1*y3*z + 56178*t*x1*y3*z - 8042*y1*y3*z +  31993*t*y1*y3*z - 1970*y2*y3*z + 25326*t*y2*y3*z - 121*y3^2*z -  361*x1*((y1 + y2 + y3)*z + x1*(y1 + y2 + y3 + z)) -  49*z*((y1 + y2 + y3)*z + x1*(y1 + y2 + y3 + z))`"
   ]
  },
  {
   "cell_type": "code",
   "execution_count": 2,
   "metadata": {
    "scrolled": true
   },
   "outputs": [
    {
     "data": {
      "text/plain": [
       "[4, 20]"
      ]
     },
     "execution_count": 2,
     "metadata": {},
     "output_type": "execute_result"
    }
   ],
   "source": [
    "s = open(\"PF-I311-case1-d4.txt\").readlines()[0]\n",
    "dopObservatoryd4case1 = OA(s.replace(\"^\", \"**\").replace(\"t\", \"z\").replace(\"D\", \"Dz\"))\n",
    "[dopObservatoryd4case1.order(),dopObservatoryd4case1.degree()]"
   ]
  },
  {
   "cell_type": "code",
   "execution_count": 3,
   "metadata": {
    "scrolled": false
   },
   "outputs": [
    {
     "name": "stdout",
     "output_type": "stream",
     "text": [
      "### Try factoring an operator of order 4\n",
      "### Try factoring an operator of order 3\n",
      "Degree bound for right factor 314\n",
      "Current order of truncation 57\n",
      "Current working precision 200 (before monodromy computation)\n",
      "Current algebraic degree 1\n",
      "Start computing monodromy matrices\n",
      "loss = 22\n",
      "1 matrices computed\n",
      "Try guessing symbolic coefficients\n",
      "loss = 45\n",
      "2 matrices computed\n",
      "Try guessing symbolic coefficients\n",
      "3 matrices computed\n",
      "Try guessing symbolic coefficients\n",
      "Find rational coefficients\n",
      "loss = 50\n",
      "4 matrices computed\n",
      "Try guessing symbolic coefficients\n",
      "5 matrices computed\n",
      "Try guessing symbolic coefficients\n",
      "6 matrices computed\n",
      "Try guessing symbolic coefficients\n",
      "Find rational coefficients\n",
      "7 matrices computed\n",
      "Try guessing symbolic coefficients\n",
      "Find rational coefficients\n",
      "8 matrices computed\n",
      "Try guessing symbolic coefficients\n",
      "Current order of truncation 114\n",
      "Current working precision 350 (before monodromy computation)\n",
      "Current algebraic degree 2\n",
      "Start computing monodromy matrices\n",
      "1 matrices computed\n",
      "Try guessing symbolic coefficients\n",
      "2 matrices computed\n",
      "Try guessing symbolic coefficients\n",
      "3 matrices computed\n",
      "Try guessing symbolic coefficients\n",
      "Find rational coefficients\n",
      "Conclude with One_Dimensional method\n",
      "### Try factoring an operator of order 2\n",
      "Degree bound for right factor 56\n",
      "Current order of truncation 36\n",
      "Current working precision 150 (before monodromy computation)\n",
      "Current algebraic degree 1\n",
      "Start computing monodromy matrices\n",
      "loss = 6\n",
      "1 matrices computed\n",
      "Try guessing symbolic coefficients\n",
      "loss = 21\n",
      "2 matrices computed\n",
      "Conclude with One_Dimensional method\n"
     ]
    },
    {
     "data": {
      "text/plain": [
       "[2, 1, 1]"
      ]
     },
     "execution_count": 3,
     "metadata": {},
     "output_type": "execute_result"
    }
   ],
   "source": [
    "dopObservatoryd4case1fac=dopObservatoryd4case1.factor(verbose=True)\n",
    "[x.order() for x in dopObservatoryd4case1fac]"
   ]
  },
  {
   "cell_type": "markdown",
   "metadata": {},
   "source": [
    "<b>Following the construction in section 7.4 we construct the elliptic curve associated with the Observatory graph</b>"
   ]
  },
  {
   "cell_type": "code",
   "execution_count": 4,
   "metadata": {},
   "outputs": [],
   "source": [
    "# Case1\n",
    "R.<x1,y1,y2,y3,z,t,w,X> = QQ[]\n",
    "Fcase1= -7921*x1*y1^2 - 9770*x1*y1*y2 + 17747*t*x1*y1*y2 - 1849*x1*y2^2 - 8042*x1*y1*y3 +  31993*t*x1*y1*y3 - 1970*x1*y2*y3 + 25326*t*x1*y2*y3 - 121*x1*y3^2 - 7921*x1*y1*z +  11375*t*x1*y1*z - 7921*y1^2*z - 1849*x1*y2*z + 14086*t*x1*y2*z - 9770*y1*y2*z +  17747*t*y1*y2*z - 1849*y2^2*z - 121*x1*y3*z + 56178*t*x1*y3*z - 8042*y1*y3*z +  31993*t*y1*y3*z - 1970*y2*y3*z + 25326*t*y2*y3*z - 121*y3^2*z -  361*x1*((y1 + y2 + y3)*z + x1*(y1 + y2 + y3 + z)) -  49*z*((y1 + y2 + y3)*z + x1*(y1 + y2 + y3 + z))\n",
    "S = Fcase1.substitute(y1=y1/w,y2=y2/w,y3=y3/w).numerator()\n",
    "Xlist = [y1,y2,y3,w]\n",
    "M = matrix(R,4)\n",
    "for i in range(0,len(Xlist)):\n",
    "    for j in range(0,len(Xlist)):\n",
    "        if i == j:\n",
    "            M[i,j] = 2*S.coefficient(Xlist[i]*Xlist[j])\n",
    "        else:\n",
    "            M[i,j] = S.coefficient(Xlist[i]*Xlist[j])\n",
    "P=(M.determinant())//(t^2*(z+x1)^2)\n",
    "G = P.substitute(x1=X,z=1)\n",
    "B4 = G.coefficient(X^4)\n",
    "B3 = G.coefficient(X^3)\n",
    "B2 = G.coefficient(X^2)\n",
    "B1 = G.coefficient(X)\n",
    "B0 = G.substitute(X=0)\n",
    "\n",
    "H = X^3 + B2*X^2 + (-4*B0*B4+B1*B3)*X + (B0*B3^2-4*B0*B2*B4+B1^2*B4)\n",
    "H1 = 4*H.substitute(X=X-B2/3)\n",
    "#g2 = H1.coefficient(X)\n",
    "#g3 = H1.substitute(X=0)\n",
    "h2 = -(H1).coefficient(X)\n",
    "h3 = -(H1).substitute(X=0)\n",
    "Del = h2^3 - 27*h3^2\n",
    "Delsmall=(3*(h2.derivative(t))*h3 - 2*h2*(h3.derivative(t)))\n",
    "A2 = 16*Del*(3*(h2.derivative(t))*h3 - 2*h2*(h3.derivative(t)))\n",
    "A1 = 16*(9*h2^2*h3*(h2.derivative(t))^2 - (7*h2^3 + 135*h3^2)*(h2.derivative(t))*(h3.derivative(t)) + 108*h2*h3*(h3.derivative(t))^2 + Del*(-3*h3*(h2.derivative(t,2)) + 2*h2*(h3.derivative(t,2))))\n",
    "A0 = 21*h2*h3*(h2.derivative(t))^3 - 18*h2^2*(h2.derivative(t))^2*(h3.derivative(t)) + 8*(h3.derivative(t))*(15*h2*(h3.derivative(t))^2 - Del*(h2.derivative(t,2))) - 4*(h2.derivative(t))*(27*h3*(h3.derivative(t))^2 - 2*Del*(h3.derivative(t,2)))\n",
    "\n",
    "Lellcase1=OA(A2.substitute(t=z))*Dz^2+OA(A1.substitute(t=z))*Dz+OA(A0.substitute(t=z))"
   ]
  },
  {
   "cell_type": "markdown",
   "metadata": {},
   "source": [
    "<b>We now check that the two differential operators <tt>dopObservatoryd4case1fac[0]</tt> and <tt>Lell1</tt> have the same non-apparent singularities</b>"
   ]
  },
  {
   "cell_type": "code",
   "execution_count": 5,
   "metadata": {},
   "outputs": [
    {
     "data": {
      "text/plain": [
       "(z^2 - 216847682068/553061172321*z + 1571221056/20483747123) * (z^2 + 8445626090211764/16164553189710317*z + 2884819437729990/16164553189710317) * (z^2 + 9308995577337364/16164553189710317*z + 3312337190097878/16164553189710317)"
      ]
     },
     "execution_count": 5,
     "metadata": {},
     "output_type": "execute_result"
    }
   ],
   "source": [
    "dopObservatoryd4case1fac[0].desingularize().leading_coefficient().factor()"
   ]
  },
  {
   "cell_type": "code",
   "execution_count": 6,
   "metadata": {},
   "outputs": [
    {
     "data": {
      "text/plain": [
       "(z^2 - 216847682068/553061172321*z + 1571221056/20483747123) * (z^2 + 8445626090211764/16164553189710317*z + 2884819437729990/16164553189710317) * (z^2 + 9308995577337364/16164553189710317*z + 3312337190097878/16164553189710317)"
      ]
     },
     "execution_count": 6,
     "metadata": {},
     "output_type": "execute_result"
    }
   ],
   "source": [
    "Lellcase1.desingularize().leading_coefficient().factor()"
   ]
  },
  {
   "cell_type": "markdown",
   "metadata": {},
   "source": [
    "`F := -289*x1*y1^2 - 458*x1*y1*y2 + 17747*t*x1*y1*y2 - 169*x1*y2^2 - 458*x1*y1*y3 +  31993*t*x1*y1*y3 - 338*x1*y2*y3 + 25326*t*x1*y2*y3 - 169*x1*y3^2 - 289*x1*y1*z +  11375*t*x1*y1*z - 289*y1^2*z - 169*x1*y2*z + 14086*t*x1*y2*z - 458*y1*y2*z +  17747*t*y1*y2*z - 169*y2^2*z - 169*x1*y3*z + 56178*t*x1*y3*z - 458*y1*y3*z +  31993*t*y1*y3*z - 338*y2*y3*z + 25326*t*y2*y3*z - 169*y3^2*z -  3481*x1*((y1 + y2 + y3)*z + x1*(y1 + y2 + y3 + z)) -  4*z*((y1 + y2 + y3)*z + x1*(y1 + y2 + y3 + z))`"
   ]
  },
  {
   "cell_type": "code",
   "execution_count": 7,
   "metadata": {
    "scrolled": true
   },
   "outputs": [
    {
     "data": {
      "text/plain": [
       "[4, 20]"
      ]
     },
     "execution_count": 7,
     "metadata": {},
     "output_type": "execute_result"
    }
   ],
   "source": [
    "s = open(\"PF-I311-case2-d4.txt\").readlines()[0]\n",
    "dopObservatoryd4case2 = OA(s.replace(\"^\", \"**\").replace(\"t\", \"z\").replace(\"D\", \"Dz\"))\n",
    "[dopObservatoryd4case2.order(),dopObservatoryd4case2.degree()]"
   ]
  },
  {
   "cell_type": "code",
   "execution_count": 8,
   "metadata": {
    "scrolled": true
   },
   "outputs": [
    {
     "name": "stdout",
     "output_type": "stream",
     "text": [
      "### Try factoring an operator of order 4\n",
      "### Try factoring an operator of order 3\n",
      "Degree bound for right factor 314\n",
      "Current order of truncation 57\n",
      "Current working precision 200 (before monodromy computation)\n",
      "Current algebraic degree 1\n",
      "Start computing monodromy matrices\n",
      "loss = 16\n",
      "1 matrices computed\n",
      "Try guessing symbolic coefficients\n",
      "Find rational coefficients\n",
      "loss = 27\n",
      "2 matrices computed\n",
      "Try guessing symbolic coefficients\n",
      "loss = 28\n",
      "3 matrices computed\n",
      "Try guessing symbolic coefficients\n",
      "loss = 88\n",
      "4 matrices computed\n",
      "Try guessing symbolic coefficients\n",
      "5 matrices computed\n",
      "Try guessing symbolic coefficients\n",
      "loss = 90\n",
      "6 matrices computed\n",
      "Try guessing symbolic coefficients\n",
      "7 matrices computed\n",
      "Try guessing symbolic coefficients\n",
      "Find rational coefficients\n",
      "8 matrices computed\n",
      "Try guessing symbolic coefficients\n",
      "Current order of truncation 114\n",
      "Current working precision 350 (before monodromy computation)\n",
      "Current algebraic degree 2\n",
      "Start computing monodromy matrices\n",
      "1 matrices computed\n",
      "Try guessing symbolic coefficients\n",
      "Find rational coefficients\n",
      "2 matrices computed\n",
      "Try guessing symbolic coefficients\n",
      "3 matrices computed\n",
      "Try guessing symbolic coefficients\n",
      "Find rational coefficients\n",
      "4 matrices computed\n",
      "Try guessing symbolic coefficients\n",
      "5 matrices computed\n",
      "Try guessing symbolic coefficients\n",
      "6 matrices computed\n",
      "Try guessing symbolic coefficients\n",
      "Find rational coefficients\n",
      "7 matrices computed\n",
      "Try guessing symbolic coefficients\n",
      "8 matrices computed\n",
      "Try guessing symbolic coefficients\n",
      "Find rational coefficients\n",
      "Current order of truncation 228\n",
      "Current working precision 610 (before monodromy computation)\n",
      "Current algebraic degree 3\n",
      "Start computing monodromy matrices\n",
      "1 matrices computed\n",
      "Try guessing symbolic coefficients\n",
      "2 matrices computed\n",
      "Try guessing symbolic coefficients\n",
      "3 matrices computed\n",
      "Try guessing symbolic coefficients\n",
      "4 matrices computed\n",
      "Try guessing symbolic coefficients\n",
      "Find rational coefficients\n",
      "Conclude with One_Dimensional method\n",
      "### Try factoring an operator of order 2\n",
      "Degree bound for right factor 56\n",
      "Current order of truncation 36\n",
      "Current working precision 150 (before monodromy computation)\n",
      "Current algebraic degree 1\n",
      "Start computing monodromy matrices\n",
      "loss = 32\n",
      "1 matrices computed\n",
      "Try guessing symbolic coefficients\n",
      "Find rational coefficients\n",
      "loss = 49\n",
      "2 matrices computed\n",
      "Try guessing symbolic coefficients\n",
      "Find rational coefficients\n",
      "3 matrices computed\n",
      "Conclude with One_Dimensional method\n"
     ]
    },
    {
     "data": {
      "text/plain": [
       "[2, 1, 1]"
      ]
     },
     "execution_count": 8,
     "metadata": {},
     "output_type": "execute_result"
    }
   ],
   "source": [
    "dopObservatoryd4case2fac=dopObservatoryd4case2.factor(verbose=True)\n",
    "[x.order() for x in dopObservatoryd4case2fac]"
   ]
  },
  {
   "cell_type": "markdown",
   "metadata": {},
   "source": [
    "<b>Following the construction in section 7.4 we construct the elliptic curve associated with the Observatory graph</b>"
   ]
  },
  {
   "cell_type": "code",
   "execution_count": 36,
   "metadata": {},
   "outputs": [],
   "source": [
    "# Case2\n",
    "R.<x1,y1,y2,y3,z,t,w,X> = QQ[]\n",
    "Fcase2=  -289*x1*y1^2 - 458*x1*y1*y2 + 17747*t*x1*y1*y2 - 169*x1*y2^2 - 458*x1*y1*y3 +  31993*t*x1*y1*y3 - 338*x1*y2*y3 + 25326*t*x1*y2*y3 - 169*x1*y3^2 - 289*x1*y1*z +  11375*t*x1*y1*z - 289*y1^2*z - 169*x1*y2*z + 14086*t*x1*y2*z - 458*y1*y2*z +  17747*t*y1*y2*z - 169*y2^2*z - 169*x1*y3*z + 56178*t*x1*y3*z - 458*y1*y3*z +  31993*t*y1*y3*z - 338*y2*y3*z + 25326*t*y2*y3*z - 169*y3^2*z -  3481*x1*((y1 + y2 + y3)*z + x1*(y1 + y2 + y3 + z)) -  4*z*((y1 + y2 + y3)*z + x1*(y1 + y2 + y3 + z))\n",
    "\n",
    "S = Fcase2.substitute(y1=y1/w,y2=y2/w,y3=y3/w).numerator()\n",
    "Xlist = [y1,y2,y3,w]\n",
    "M = matrix(R,4)\n",
    "for i in range(0,len(Xlist)):\n",
    "    for j in range(0,len(Xlist)):\n",
    "        if i == j:\n",
    "            M[i,j] = 2*S.coefficient(Xlist[i]*Xlist[j])\n",
    "        else:\n",
    "            M[i,j] = S.coefficient(Xlist[i]*Xlist[j])\n",
    "P=(M.determinant())//(t^2*(z+x1)^2)\n",
    "G = P.substitute(x1=X,z=1)\n",
    "B4 = G.coefficient(X^4)\n",
    "B3 = G.coefficient(X^3)\n",
    "B2 = G.coefficient(X^2)\n",
    "B1 = G.coefficient(X)\n",
    "B0 = G.substitute(X=0)\n",
    "\n",
    "H = X^3 + B2*X^2 + (-4*B0*B4+B1*B3)*X + (B0*B3^2-4*B0*B2*B4+B1^2*B4)\n",
    "H1 = 4*H.substitute(X=X-B2/3)\n",
    "#g2 = H1.coefficient(X)\n",
    "#g3 = H1.substitute(X=0)\n",
    "h2 = -(H1).coefficient(X)\n",
    "h3 = -(H1).substitute(X=0)\n",
    "Del = h2^3 - 27*h3^2\n",
    "Delsmall=(3*(h2.derivative(t))*h3 - 2*h2*(h3.derivative(t)))\n",
    "A2 = 16*Del*(3*(h2.derivative(t))*h3 - 2*h2*(h3.derivative(t)))\n",
    "A1 = 16*(9*h2^2*h3*(h2.derivative(t))^2 - (7*h2^3 + 135*h3^2)*(h2.derivative(t))*(h3.derivative(t)) + 108*h2*h3*(h3.derivative(t))^2 + Del*(-3*h3*(h2.derivative(t,2)) + 2*h2*(h3.derivative(t,2))))\n",
    "A0 = 21*h2*h3*(h2.derivative(t))^3 - 18*h2^2*(h2.derivative(t))^2*(h3.derivative(t)) + 8*(h3.derivative(t))*(15*h2*(h3.derivative(t))^2 - Del*(h2.derivative(t,2))) - 4*(h2.derivative(t))*(27*h3*(h3.derivative(t))^2 - 2*Del*(h3.derivative(t,2)))\n",
    "\n",
    "Lellcase2=OA(A2.substitute(t=z))*Dz^2+OA(A1.substitute(t=z))*Dz+OA(A0.substitute(t=z))"
   ]
  },
  {
   "cell_type": "markdown",
   "metadata": {},
   "source": [
    "<b>We now check that the two differential operators <tt>dopObservatoryd4case1fac[0]</tt> and <tt>Lell1</tt> have the same non-apparent singularities</b>"
   ]
  },
  {
   "cell_type": "code",
   "execution_count": 10,
   "metadata": {},
   "outputs": [
    {
     "data": {
      "text/plain": [
       "(z^2 - 5750551183044004/16164553189710317*z + 5027174766514368/113151872327972219) * (z^2 - 4984554194466404/16164553189710317*z + 3750907941876800/113151872327972219) * (z^2 - 13741725652/553061172321*z + 14400/567779771)"
      ]
     },
     "execution_count": 10,
     "metadata": {},
     "output_type": "execute_result"
    }
   ],
   "source": [
    "dopObservatoryd4case2fac[0].desingularize().leading_coefficient().factor()"
   ]
  },
  {
   "cell_type": "code",
   "execution_count": 11,
   "metadata": {},
   "outputs": [
    {
     "data": {
      "text/plain": [
       "(z^2 - 5750551183044004/16164553189710317*z + 5027174766514368/113151872327972219) * (z^2 - 4984554194466404/16164553189710317*z + 3750907941876800/113151872327972219) * (z^2 - 13741725652/553061172321*z + 14400/567779771)"
      ]
     },
     "execution_count": 11,
     "metadata": {},
     "output_type": "execute_result"
    }
   ],
   "source": [
    "Lellcase2.desingularize().leading_coefficient().factor()"
   ]
  },
  {
   "cell_type": "markdown",
   "metadata": {},
   "source": [
    "`F:=-2809*x1*y1^2 - 3170*x1*y1*y2 + 16702*t*x1*y1*y2 - 361*x1*y2^2 - 6290*x1*y1*y3 +  55974*t*x1*y1*y3 - 3842*x1*y2*y3 + 42222*t*x1*y2*y3 - 3481*x1*y3^2 - 2809*x1*y1*z +  13249*t*x1*y1*z - 2809*y1^2*z - 361*x1*y2*z + 6085*t*x1*y2*z - 3170*y1*y2*z +  16702*t*y1*y2*z - 361*y2^2*z - 3481*x1*y3*z + 74211*t*x1*y3*z - 6290*y1*y3*z +  55974*t*y1*y3*z - 3842*y2*y3*z + 42222*t*y2*y3*z - 3481*y3^2*z -  529*x1*((y1 + y2 + y3)*z + x1*(y1 + y2 + y3 + z)) -  7921*z*((y1 + y2 + y3)*z + x1*(y1 + y2 + y3 + z))`"
   ]
  },
  {
   "cell_type": "code",
   "execution_count": 45,
   "metadata": {},
   "outputs": [
    {
     "data": {
      "text/plain": [
       "[4, 20]"
      ]
     },
     "execution_count": 45,
     "metadata": {},
     "output_type": "execute_result"
    }
   ],
   "source": [
    "s = open(\"PF-I311-case3-d4.txt\").readlines()[0]\n",
    "dopObservatoryd4case3 = OA(s.replace(\"^\", \"**\").replace(\"t\", \"z\").replace(\"D\", \"Dz\"))\n",
    "[dopObservatoryd4case3.order(),dopObservatoryd4case3.degree()]"
   ]
  },
  {
   "cell_type": "code",
   "execution_count": 52,
   "metadata": {
    "scrolled": true
   },
   "outputs": [
    {
     "name": "stdout",
     "output_type": "stream",
     "text": [
      "### Try factoring an operator of order 4\n",
      "### Try factoring an operator of order 3\n",
      "Degree bound for right factor 314\n",
      "Current order of truncation 57\n",
      "Current working precision 200 (before monodromy computation)\n",
      "Current algebraic degree 1\n",
      "Start computing monodromy matrices\n",
      "loss = 8\n",
      "1 matrices computed\n",
      "Try guessing symbolic coefficients\n",
      "loss = 17\n",
      "2 matrices computed\n",
      "Try guessing symbolic coefficients\n",
      "Find rational coefficients\n",
      "3 matrices computed\n",
      "Try guessing symbolic coefficients\n",
      "loss = 35\n",
      "4 matrices computed\n",
      "Try guessing symbolic coefficients\n",
      "Find rational coefficients\n",
      "5 matrices computed\n",
      "Try guessing symbolic coefficients\n",
      "Find rational coefficients\n",
      "loss = 38\n",
      "6 matrices computed\n",
      "Try guessing symbolic coefficients\n",
      "Find rational coefficients\n",
      "7 matrices computed\n",
      "Try guessing symbolic coefficients\n",
      "Find rational coefficients\n",
      "8 matrices computed\n",
      "Try guessing symbolic coefficients\n",
      "Find rational coefficients\n",
      "Current order of truncation 114\n",
      "Current working precision 362 (before monodromy computation)\n",
      "Current algebraic degree 2\n",
      "Start computing monodromy matrices\n",
      "1 matrices computed\n",
      "Try guessing symbolic coefficients\n",
      "Find rational coefficients\n",
      "2 matrices computed\n",
      "Try guessing symbolic coefficients\n",
      "Find rational coefficients\n",
      "3 matrices computed\n",
      "Try guessing symbolic coefficients\n",
      "4 matrices computed\n",
      "Try guessing symbolic coefficients\n",
      "Find rational coefficients\n",
      "5 matrices computed\n",
      "Try guessing symbolic coefficients\n",
      "Find rational coefficients\n",
      "Conclude with One_Dimensional method\n",
      "### Try factoring an operator of order 2\n",
      "Degree bound for right factor 56\n",
      "Current order of truncation 36\n",
      "Current working precision 150 (before monodromy computation)\n",
      "Current algebraic degree 1\n",
      "Start computing monodromy matrices\n",
      "loss = 10\n",
      "1 matrices computed\n",
      "Try guessing symbolic coefficients\n",
      "Find rational coefficients\n",
      "loss = 15\n",
      "2 matrices computed\n",
      "Try guessing symbolic coefficients\n",
      "Find rational coefficients\n",
      "3 matrices computed\n",
      "Conclude with One_Dimensional method\n"
     ]
    },
    {
     "data": {
      "text/plain": [
       "[2, 1, 1]"
      ]
     },
     "execution_count": 52,
     "metadata": {},
     "output_type": "execute_result"
    }
   ],
   "source": [
    "dopObservatoryd4case3fac=dopObservatoryd4case3.factor(verbose=True)\n",
    "[x.order() for x in dopObservatoryd4case3fac]"
   ]
  },
  {
   "cell_type": "markdown",
   "metadata": {},
   "source": [
    "<b>Following the construction in section 7.4 we construct the elliptic curve associated with the Observatory graph</b>"
   ]
  },
  {
   "cell_type": "code",
   "execution_count": 51,
   "metadata": {},
   "outputs": [],
   "source": [
    "# Case3\n",
    "R.<x1,y1,y2,y3,z,t,w,X> = QQ[]\n",
    "Fcase3= -2809*x1*y1^2 - 3170*x1*y1*y2 + 16702*t*x1*y1*y2 - 361*x1*y2^2 - 6290*x1*y1*y3 +  55974*t*x1*y1*y3 - 3842*x1*y2*y3 + 42222*t*x1*y2*y3 - 3481*x1*y3^2 - 2809*x1*y1*z +  13249*t*x1*y1*z - 2809*y1^2*z - 361*x1*y2*z + 6085*t*x1*y2*z - 3170*y1*y2*z +  16702*t*y1*y2*z - 361*y2^2*z - 3481*x1*y3*z + 74211*t*x1*y3*z - 6290*y1*y3*z +  55974*t*y1*y3*z - 3842*y2*y3*z + 42222*t*y2*y3*z - 3481*y3^2*z -  529*x1*((y1 + y2 + y3)*z + x1*(y1 + y2 + y3 + z)) -  7921*z*((y1 + y2 + y3)*z + x1*(y1 + y2 + y3 + z))\n",
    "S = Fcase3.substitute(y1=y1/w,y2=y2/w,y3=y3/w).numerator()\n",
    "Xlist = [y1,y2,y3,w]\n",
    "M = matrix(R,4)\n",
    "for i in range(0,len(Xlist)):\n",
    "    for j in range(0,len(Xlist)):\n",
    "        if i == j:\n",
    "            M[i,j] = 2*S.coefficient(Xlist[i]*Xlist[j])\n",
    "        else:\n",
    "            M[i,j] = S.coefficient(Xlist[i]*Xlist[j])\n",
    "P=(M.determinant())//(t^2*(z+x1)^2)\n",
    "G = P.substitute(x1=X,z=1)\n",
    "B4 = G.coefficient(X^4)\n",
    "B3 = G.coefficient(X^3)\n",
    "B2 = G.coefficient(X^2)\n",
    "B1 = G.coefficient(X)\n",
    "B0 = G.substitute(X=0)\n",
    "\n",
    "H = X^3 + B2*X^2 + (-4*B0*B4+B1*B3)*X + (B0*B3^2-4*B0*B2*B4+B1^2*B4)\n",
    "H1 = 4*H.substitute(X=X-B2/3)\n",
    "#g2 = H1.coefficient(X)\n",
    "#g3 = H1.substitute(X=0)\n",
    "h2 = -(H1).coefficient(X)\n",
    "h3 = -(H1).substitute(X=0)\n",
    "Del = h2^3 - 27*h3^2\n",
    "Delsmall=(3*(h2.derivative(t))*h3 - 2*h2*(h3.derivative(t)))\n",
    "A2 = 16*Del*(3*(h2.derivative(t))*h3 - 2*h2*(h3.derivative(t)))\n",
    "A1 = 16*(9*h2^2*h3*(h2.derivative(t))^2 - (7*h2^3 + 135*h3^2)*(h2.derivative(t))*(h3.derivative(t)) + 108*h2*h3*(h3.derivative(t))^2 + Del*(-3*h3*(h2.derivative(t,2)) + 2*h2*(h3.derivative(t,2))))\n",
    "A0 = 21*h2*h3*(h2.derivative(t))^3 - 18*h2^2*(h2.derivative(t))^2*(h3.derivative(t)) + 8*(h3.derivative(t))*(15*h2*(h3.derivative(t))^2 - Del*(h2.derivative(t,2))) - 4*(h2.derivative(t))*(27*h3*(h3.derivative(t))^2 - 2*Del*(h3.derivative(t,2)))\n",
    "\n",
    "Lellcase3=OA(A2.substitute(t=z))*Dz^2+OA(A1.substitute(t=z))*Dz+OA(A0.substitute(t=z))"
   ]
  },
  {
   "cell_type": "markdown",
   "metadata": {},
   "source": [
    "<b>We now check that the two differential operators <tt>dopObservatoryd4case1fac[0]</tt> and <tt>Lell1</tt> have the same non-apparent singularities</b>"
   ]
  },
  {
   "cell_type": "code",
   "execution_count": 53,
   "metadata": {},
   "outputs": [
    {
     "data": {
      "text/plain": [
       "(z^2 - 252775771458291098/161722246285539891*z + 12044140481097939/17969138476171099) * (z^2 - 88584077782437506/161722246285539891*z + 12697744047919619/161722246285539891) * (z^2 - 2102384047955/9868102069014*z + 5459395904/548227892723)"
      ]
     },
     "execution_count": 53,
     "metadata": {},
     "output_type": "execute_result"
    }
   ],
   "source": [
    "dopObservatoryd4case3fac[0].desingularize().leading_coefficient().factor()"
   ]
  },
  {
   "cell_type": "code",
   "execution_count": 54,
   "metadata": {},
   "outputs": [
    {
     "data": {
      "text/plain": [
       "(z^2 - 252775771458291098/161722246285539891*z + 12044140481097939/17969138476171099) * (z^2 - 88584077782437506/161722246285539891*z + 12697744047919619/161722246285539891) * (z^2 - 2102384047955/9868102069014*z + 5459395904/548227892723)"
      ]
     },
     "execution_count": 54,
     "metadata": {},
     "output_type": "execute_result"
    }
   ],
   "source": [
    "Lellcase3.desingularize().leading_coefficient().factor()"
   ]
  },
  {
   "cell_type": "code",
   "execution_count": 56,
   "metadata": {},
   "outputs": [
    {
     "data": {
      "text/plain": [
       "((4791063518133140712284609507321306806890074701846604060467317672095310913425844950140943251657379439795216923425203819593357197790712435265255212522405908206057858426584800*z^17 - 20495716540119583492460661227256296071909952705583591438436705348720301041092649794760487854590522423032815443872195148725457253319287112257256952747990913408722358438867488*z^16 + 35429029074836175174315957626109730511435128722175822784966452974604399368827701479055512881928829737192617635528026607617866559838076764699221411930669268362628970025785358*z^15 - 29174529397763721030300625588770505808595185513763238981119226939804437902581037141103532024101978449446133027071826370002860382904343964307453793102270051191027736959934449*z^14 + 5803442179895357533809606218135039102322773687077599267632380488027576702288289573745688943253785544718514917720311634782713011440671087666593708315335883685867898689126143*z^13 + 11916698010329207059933123951020170682347152859249024532629007572981355109825074648904628752474113942339465254318557532293847362436871535107279235517727603252082709181301752*z^12 - 14252194494427306138195624599210641504158595375671513981568773332168831688236927209801377862384732380972932016495405975865594454352613669271562966463850897396503364610243506*z^11 + 8609345495322674277131248723938820074031886717326272882758235238792749055544282922969254968050268586925946940517425342788804533947473741546185971346520282551052210743401631*z^10 - 3432515745304216559288272579058818832737227064261714096970207551423692731835445818545806143526045113664978289535457782622665133741046022406278989709046985080369578813364041*z^9 + 971750319884634093814604252551046111655844716867762081819760937010904974111649710485061389844069923990656803810149691384528975324915888440758729646044483307841393538910760*z^8 - 515112092504218830449385795578495262236866360157013238688205890616739162581946896684744571910538878012420619905735860876442969387161613843951932527490012800756210154576493526742162348998/2567019782310157*z^7 + 78139962232547036302569218902711227132670019160924461284462541771275153349531822372791148536740150622152710608502970967022437491529000962400279950510810037469169447191543512923096183225/2567019782310157*z^6 - 60613348168570222222086822060899021325500132417357361073904512362298126704298087096758970065315774641813309609755621148823344790277063500556199215153371826837112316608511589389038448129/17969138476171099*z^5 + 43397194088488345161034345612053508468528593680088376561858664252041267022647520649417522647164943246861756668265611551612522615763589193702486896057189345717143797189824846146120111232/161722246285539891*z^4 - 2398876243170458357610830336186624171282133073552957351952413422221730585905008327170845206673493829711169306404123463677430159153011557822148045279427272129595131867660962118386079130/161722246285539891*z^3 + 38108072225509626870292638040813053536571467680832329296439495282396478184635689392570811640043302320383289264125516383396267275297430352798197273587091932730363662989071442856621/70837602402777*z^2 - 206086070193766227509792054563785121278894436806977780599850294453961627125291580085669509828788177549428069028944638642453565693440371931883904792227765930338008226935884984100433/17969138476171099*z + 1958425024847521842069634246686235090931525435830610904862479098562729531124381888801598101345262321776210475074760973574007215368696597160183159155114204504630000728153199767424/17969138476171099)/(z - 617208795223501/161722246285539891))*Dz^2 + ((9582127036266281424569219014642613613780149403693208120934635344190621826851689900281886503314758879590433846850407639186714395581424870530510425044811816412115716853169600*z^17 - 27120467141487805157477652047993645270026465030261152745547259047088444204372065867187026087215789160444140475695951897451811096976042219995473640879495129235085130420603264*z^16 + 13035700862257858365157192399658710731713993425204033747338095512693039689553117149695273234840096246470797947917361240765021837927998440044120004092660059314001024969137048*z^15 + 40094276805687474258385530280979244792365367575565363895186753799501830584362947044415056795444329766591589442807185146760873730311833320478432629804123920765808782422787269*z^14 - 78137249828754022953226392758693588397614695433527486465750157039049829579262639615754662202719186550170024551995873181912889376926050519786012591990688686162858273231682664*z^13 + 70044384578062087998037577968803991239036729831287187200004531313434565570601430958023710505134483885182893152147039691367837127057739167913302626166066753725573817336825409*z^12 - 39247568626305586331321466788086342870298614977416508166288874920566711249461226349706625250844023761289486473626298135223145809269815091359559380259349665506950614145436928*z^11 + 14960207692235765503360613879054363510463428301758335205447490780277925504327268678628367224854478290806288108248969986479862296601128583563319331430312550272525051112064665*z^10 - 10175616836430687089498859186256102614360668233327027407580653175066718385495268783443057929157110239733596631173146165361450505312342123341119594113172458915911880501636022446833093730640/2567019782310157*z^9 + 1832763120088995886856704378687064666823401718500414860152202292299972709480400872517583860501474085973819139530885594720048074546102827521885377276327539565488233204815400348632399107873/2567019782310157*z^8 - 202842732422856495873470701416923033618354299414324303977972312559286648173002448124723573941311980528238400947805477724526797917272231304622860671203015758272208876086432137466270970440/2567019782310157*z^7 + 19974420207660381587211047591539219486373150063028598648181027368202224602869875106394715590510707769548701756550461562536411720236050269801018755632250433167955643157112314585418401920265741960388423/6589590562771685833147745364649*z^6 + 75368782461176371308215916661187551334460287158987037736138664009248292259425146852461082260210594301038329299769996058975886954423156536934357806692590160017281830385154761242311022510691181256347992/138381401818205402496102652657629*z^5 - 307586121584260796369953329256462277976985195276472083924550265689776591666510059018574826864304995631096728601322512101903366125702776653752317523388038746805548237086644856960956146193927951046204989/2906009438182313452418155705810209*z^4 + 77378082013633483870934689016598402018741678418632604653764632358908094103097796594768706551060560664461763565587424287515507614419780239921120855575794519200804721817647456615953640450506912408956656/8718028314546940357254467117430627*z^3 - 10775628933372896522296663399886944972558082494622086012219882989316258472317685200882932592528615188399280909881038706548746810693000896860394536367069420421614891835692386717286868105921445477016469/26154084943640821071763401352291881*z^2 + 88619200501422024005993088809959823716197526650491233062104274906389198337280330096877478061464324929748858171199428184850989005925815694125836999932149458063896176241502792301070160604089865149312/8718028314546940357254467117430627*z - 102241096856305043480613275990621401420214424009281842864737878882912444157970818481992896999660661175888893011919784957926034535046291099985778988606294548849274915197097326751476783180014618531/968669812727437817472718568603403)/(z^2 - 1234417590447002/161722246285539891*z + 380946696901245590832542697001/26154084943640821071763401352291881))*Dz - 589175235989517422440683467191681904352834573290263373038796690326172476636879399465977628505206686414826159248563346324061134500781099413304127434223140004326367612020288*z^13 + 2988233088298748914594771659419374178098699384818942836028248885810486624336320623262283901744561155822188143575433922321732381034805788847176746480892500687285057824505788*z^12 - 8042957226198649796874533426010967142676256647200868522935594474069015392954816930352831511975931829449475354839673489399965003761153951026166678250921728858223194265795533*z^11 + 10012326723658308851103229735936099704074770979171048674673032191867541101073726767580785669839442610602579558893010154025111538692823425505980100840306166624503245601247329*z^10 - 6692369360183966558140544262379627163860088124437095693153995689985968844467406641701763826588467365287595827176117988855814324665644012964583224669305613648333219905778507*z^9 + 2882780630325948055180113374210779040754777906623526656448971302890890370959395495285838966011557263595733821149464161800300530113383706945329326981491683733982578736836663*z^8 - 1079592177389543164967359913646628662676025900287772704988184662952795194977075151448097129612057861668512394339077985981893559578787816749852258224645816766238465133938738*z^7 + 426057060733632026771742878351112194848484378878321689908008359626155004729362954521643709453880745551379495206566828678958450424630061928720308562161782087665868889842026*z^6 - 144307098457975278826332788653845949688291788246731841686511048379674423936087849418601891915595572157479503900605552721478742984600493771645013632976219632961847853102118*z^5 + 34114783738810186654836983417376937811106622433332802487148843476399891487671289360842154976061163714688128408509083286965734057779877183437900313700946344438922087174186*z^4 - 5242455582944279573598946343486979390363872245620774287947016542834546445425357032307272905381184979306447970698979821535963496850242435383708696506049992099307555528817*z^3 + 502185470372977308649885683495316670686920737548494176444957653767451158665268774170583295544494332314693486516217941404847849806592319047175680903756621118850349028933*z^2 - 27358795886349792016822265085461078367297176511309376774702789860530454072829064876609430392320064745515397028584334995048579968522733879149004856313361458780297836511*z + 648190225622055513951129658858435198889451114697981998149611721161905419691162436042149185294375010266171020940207738597345215875809215347460815559113045129338605011"
      ]
     },
     "execution_count": 56,
     "metadata": {},
     "output_type": "execute_result"
    }
   ],
   "source": [
    "dopObservatoryd4case3fac[0]"
   ]
  },
  {
   "cell_type": "code",
   "execution_count": null,
   "metadata": {},
   "outputs": [
    {
     "name": "stdout",
     "output_type": "stream",
     "text": [
      "### Try factoring an operator of order 4\n",
      "Degree bound for right factor 3099\n",
      "Current order of truncation 76\n",
      "Current working precision 250 (before monodromy computation)\n",
      "Current algebraic degree 1\n",
      "Start computing monodromy matrices\n",
      "loss = 64\n",
      "1 matrices computed\n",
      "Try guessing symbolic coefficients\n",
      "loss = 113\n",
      "2 matrices computed\n",
      "Try guessing symbolic coefficients\n",
      "3 matrices computed\n",
      "Try guessing symbolic coefficients\n",
      "4 matrices computed\n",
      "Try guessing symbolic coefficients\n",
      "Find rational coefficients\n",
      "Try guessing symbolic coefficients\n",
      "5 matrices computed\n",
      "Try guessing symbolic coefficients\n",
      "loss = 131\n",
      "6 matrices computed\n",
      "Current order of truncation 76\n",
      "Current working precision 400 (before monodromy computation)\n",
      "Current algebraic degree 1\n",
      "Start computing monodromy matrices\n",
      "1 matrices computed\n",
      "Try guessing symbolic coefficients\n",
      "2 matrices computed\n",
      "Try guessing symbolic coefficients\n",
      "Find rational coefficients\n",
      "Try guessing symbolic coefficients\n",
      "Find rational coefficients\n",
      "3 matrices computed\n",
      "Try guessing symbolic coefficients\n",
      "4 matrices computed\n",
      "Try guessing symbolic coefficients\n",
      "Find rational coefficients\n",
      "Try guessing symbolic coefficients\n",
      "5 matrices computed\n",
      "Try guessing symbolic coefficients\n",
      "Find rational coefficients\n",
      "loss = 146\n",
      "6 matrices computed\n",
      "Try guessing symbolic coefficients\n",
      "7 matrices computed\n",
      "Try guessing symbolic coefficients\n",
      "Find rational coefficients\n",
      "loss = 153\n",
      "8 matrices computed\n",
      "Try guessing symbolic coefficients\n",
      "Current order of truncation 152\n",
      "Current working precision 647 (before monodromy computation)\n",
      "Current algebraic degree 2\n",
      "Start computing monodromy matrices\n",
      "1 matrices computed\n",
      "Try guessing symbolic coefficients\n",
      "2 matrices computed\n",
      "Try guessing symbolic coefficients\n",
      "Find rational coefficients\n",
      "Try guessing symbolic coefficients\n",
      "Find rational coefficients\n",
      "3 matrices computed\n",
      "Try guessing symbolic coefficients\n",
      "Find rational coefficients\n",
      "4 matrices computed\n",
      "Try guessing symbolic coefficients\n",
      "5 matrices computed\n",
      "Try guessing symbolic coefficients\n",
      "6 matrices computed\n",
      "Try guessing symbolic coefficients\n",
      "7 matrices computed\n",
      "Try guessing symbolic coefficients\n",
      "Find rational coefficients\n",
      "8 matrices computed\n",
      "Try guessing symbolic coefficients\n",
      "Find rational coefficients\n",
      "Current order of truncation 304\n",
      "Current working precision 1141 (before monodromy computation)\n",
      "Current algebraic degree 3\n",
      "Start computing monodromy matrices\n",
      "1 matrices computed\n",
      "Try guessing symbolic coefficients\n",
      "2 matrices computed\n",
      "Try guessing symbolic coefficients\n",
      "3 matrices computed\n",
      "Try guessing symbolic coefficients\n",
      "Try guessing symbolic coefficients\n",
      "4 matrices computed\n",
      "Try guessing symbolic coefficients\n",
      "Try guessing symbolic coefficients\n",
      "5 matrices computed\n",
      "Try guessing symbolic coefficients\n",
      "Find rational coefficients\n",
      "6 matrices computed\n",
      "Try guessing symbolic coefficients\n",
      "Find rational coefficients\n",
      "7 matrices computed\n",
      "Try guessing symbolic coefficients\n",
      "Find rational coefficients\n",
      "8 matrices computed\n",
      "Try guessing symbolic coefficients\n",
      "Find rational coefficients\n"
     ]
    }
   ],
   "source": [
    "dopObservatoryd4case3adj=dopObservatoryd4case3.adjoint()\n",
    "dopObservatoryd4case3adjfac=dopObservatoryd4case3adj.factor(verbose=True)\n",
    "[x.order() for x in dopObservatoryd4case3adjfac]"
   ]
  },
  {
   "cell_type": "code",
   "execution_count": null,
   "metadata": {},
   "outputs": [],
   "source": []
  }
 ],
 "metadata": {
  "kernelspec": {
   "display_name": "SageMath 9.7",
   "language": "sage",
   "name": "sagemath-9.7"
  },
  "language_info": {
   "codemirror_mode": {
    "name": "ipython",
    "version": 3
   },
   "file_extension": ".py",
   "mimetype": "text/x-python",
   "name": "python",
   "nbconvert_exporter": "python",
   "pygments_lexer": "ipython3",
   "version": "3.10.5"
  }
 },
 "nbformat": 4,
 "nbformat_minor": 1
}
