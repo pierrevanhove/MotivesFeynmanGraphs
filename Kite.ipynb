{
 "cells": [
  {
   "cell_type": "markdown",
   "metadata": {},
   "source": [
    "<img src=\"kite.png\" alt=\"Kite\" style=\"width:200px\">"
   ]
  },
  {
   "cell_type": "markdown",
   "metadata": {},
   "source": [
    "<H3><center><b>Picard-Fuchs equation for the two-loop Kite integral in four dimensions</b></center></H3>\n",
    "$$\n",
    "\\int_{x_i\\geq0} {dx_1dx_2dy_1dy_2dz\\over {\\bf U}_{(2,1,2)}{\\bf F}_{(2,1,2),4}(t)} \n",
    "$$\n",
    "<b>with the following graph polynomials</b>\n",
    "\\begin{align}\n",
    "{\\bf U}_{(2,1,2)} & = \\left(z +  x_1 + x_2\\right) \\left( y_1 + y_2 \\right) + z \\left(x_1 + x_2\\right), \\cr\n",
    "{\\bf V}_{(2,1,2)} & = \\left( z + y_1 + y_2\\right)\\, p^2 x_1\n",
    "                  x_2  + \\left(z+x_1 + x_2\\right)\\, q^2\n",
    "                  y_1y_2 + z \\left(r_{11}^2 x_1y_2 + r_{12}^2x_1y_2 + r_{21}^2x_2y_1 + r_{22}^2x_2y_2 \\right),\\cr\n",
    "{\\bf F}_{(2,1,2),D}(t) & = {\\bf U}_{(2,1,2)}\\left( m_1^2y_1 + m_2^2y_2 + m_{3}^2x_1 + m_{4}^2x_2 + m^2_{5} z\\right) + {\\bf V}_{(2,1,2),D},\n",
    "\\end{align}"
   ]
  },
  {
   "cell_type": "markdown",
   "metadata": {},
   "source": [
    "<b>This is a derivation of the Kite elliptic curve studied in section 6.2 of the paper [XXXX]</b>"
   ]
  },
  {
   "cell_type": "code",
   "execution_count": 3,
   "metadata": {},
   "outputs": [],
   "source": [
    "S.<p2,p00,p01,p10,p11,q2,m0,m1,m2,m3,m4>=QQ[]\n",
    "R.<x0,x1,z,y0,y1,t,X,w> = S[]\n",
    "\n",
    "\n",
    "U = z*(x0 + x1 + y0 + y1) + (x0 + x1)*(y0 + y1)\n",
    "V = p2*x0*x1*(z + y0 + y1) + q2*y0*y1*(z + x0 + x1) + z*(p00*x0*y0 + p01*x0*y1 + p10*x1*y0 + p11*x1*y1)\n",
    "F = U*(m0*x0 + m1*x1 + m2*z + m3*y0 + m4*y1) - t*V"
   ]
  },
  {
   "cell_type": "code",
   "execution_count": 4,
   "metadata": {},
   "outputs": [],
   "source": [
    "# first elliptic curve by blow up the linear space x0=x1=z\n",
    "q = z/(z + x0 + x1)\n",
    "G = (F.substitute(y1=y1*q, y0=y0*q)/z).numerator()\n",
    "H = G.substitute(x1 = X - x0 - y0 - y1)\n",
    "H1 = H.substitute(x0=x0/w, y1=y1/w, y0=y0/w).numerator()\n",
    "Xlist = [w,x0,y0,y1]\n",
    "M = matrix(R,4)\n",
    "for i in range(0,len(Xlist)):\n",
    "    for j in range(0,len(Xlist)):\n",
    "        if i == j:\n",
    "            M[i,j] = 2*H1.coefficient(Xlist[i]*Xlist[j])\n",
    "        else:\n",
    "            M[i,j] = H1.coefficient(Xlist[i]*Xlist[j])\n",
    "Wt = (M.determinant()).substitute(z=1)\n",
    "B4 = Wt.coefficient(X^4)\n",
    "B3 = Wt.coefficient(X^3)\n",
    "B2 = Wt.coefficient(X^2)\n",
    "B1 = Wt.coefficient(X)\n",
    "B0 = Wt.substitute(X=0)\n",
    "\n",
    "Rx = X^3 + B2*X^2 + (-4*B0*B4+B1*B3)*X + (B0*B3^2-4*B0*B2*B4+B1^2*B4)\n",
    "R1x = Rx.substitute(X=X-B2/3)\n",
    "g2x = R1x.coefficient(X)\n",
    "g3x = R1x.substitute(X=0)\n",
    "#Jx = 4*g2x^3/(4*g2x^3 + 27*g3x^2)"
   ]
  },
  {
   "cell_type": "code",
   "execution_count": null,
   "metadata": {},
   "outputs": [],
   "source": [
    "#with open('Kite-elliptic-curve-g2-x.txt',\"w\") as f:\n",
    "#  f.write(str(g2x))\n",
    "#f.close()\n",
    "#with open('Kite-elliptic-curve-g3-x.txt',\"w\") as f:\n",
    "#  f.write(str(g3x))\n",
    "#f.close()"
   ]
  },
  {
   "cell_type": "code",
   "execution_count": 11,
   "metadata": {},
   "outputs": [],
   "source": [
    "# second elliptic curve by blowing up the linear space y0=y1=z\n",
    "q = z/(z + y0 + y1)\n",
    "G = (F.substitute(x1=x1*q, x0=x0*q)/z).numerator()\n",
    "H = G.substitute(y1 = X - y0 - x0 - x1)\n",
    "H1 = H.substitute(y0=y0/w, x1=x1/w, x0=x0/w).numerator()\n",
    "Xlist = [w,y0,x0,x1]\n",
    "M = matrix(R,4)\n",
    "for i in range(0,len(Xlist)):\n",
    "    for j in range(0,len(Xlist)):\n",
    "        if i == j:\n",
    "            M[i,j] = 2*H1.coefficient(Xlist[i]*Xlist[j])\n",
    "        else:\n",
    "            M[i,j] = H1.coefficient(Xlist[i]*Xlist[j])\n",
    "Wt = (M.determinant()).substitute(z=1)\n",
    "B4 = Wt.coefficient(X^4)\n",
    "B3 = Wt.coefficient(X^3)\n",
    "B2 = Wt.coefficient(X^2)\n",
    "B1 = Wt.coefficient(X)\n",
    "B0 = Wt.substitute(X=0)\n",
    "\n",
    "Ry = X^3 + B2*X^2 + (-4*B0*B4+B1*B3)*X + (B0*B3^2-4*B0*B2*B4+B1^2*B4)\n",
    "R1y = Ry.substitute(X=X-B2/3)\n",
    "g2y = R1y.coefficient(X)\n",
    "g3y = R1y.substitute(X=0)\n",
    "#Jy = 4*g2y^3/(4*g2y^3 + 27*g3y^2)"
   ]
  },
  {
   "cell_type": "code",
   "execution_count": null,
   "metadata": {},
   "outputs": [],
   "source": [
    "#with open('Kite-elliptic-curve-g2-y.txt',\"w\") as f:\n",
    "#  f.write(str(g2y))\n",
    "#f.close()\n",
    "#with open('Kite-elliptic-curve-g3-y.txt',\"w\") as f:\n",
    "#  f.write(str(g3y))\n",
    "#f.close()"
   ]
  },
  {
   "cell_type": "markdown",
   "metadata": {},
   "source": [
    "<b>The two kite elliptic curves are  $y^2=x^3+g2_x\\, x+g3_x$ and $y^2=x^3+g2_y\\, x+g3_y$ which coefficients for generic parametets are stored in the files</b>\n",
    "<br>\n",
    "<li><a href=\"Kite-elliptic-curve-g2-x.txt\">Kite-elliptic-curve-g2-x.txt</a>  </li>\n",
    "<li><a href=\"Kite-elliptic-curve-g3-x.txt\">Kite-elliptic-curve-g3-x.txt</a>  </li>\n",
    "<li><a href=\"Kite-elliptic-curve-g2-y.txt\">Kite-elliptic-curve-g2-y.txt</a>  </li>\n",
    "<li><a href=\"Kite-elliptic-curve-g3-y.txt\">Kite-elliptic-curve-g3-y.txt</a>  </li>\n",
    "<br>\n",
    "<b>The two elliptic curves are identical because $g2_x=g2_y$ and $g3_x=g3_y$</b>"
   ]
  },
  {
   "cell_type": "markdown",
   "metadata": {},
   "source": [
    "<b>The coefficients are large expression and their match can be checked on numerical cases  obtained in <a href=\"https://arxiv.org/abs/2209.10962\">[arXiv:2209.10962]</a> and given on the page <a href=\"https://nbviewer.org/github/pierrevanhove/PicardFuchs/blob/main/PF-Kite.ipynb\">PF-Kite.ipynb</a> </b> "
   ]
  },
  {
   "cell_type": "code",
   "execution_count": 49,
   "metadata": {},
   "outputs": [],
   "source": [
    "# case1\n",
    "m0 = 1\n",
    "m1 = 9\n",
    "m2 = 16\n",
    "m3 = 64\n",
    "m4 = 1\n",
    "p2 = 676\n",
    "p00 = 28\n",
    "p01 = 324\n",
    "p10 = 9\n",
    "p11 = 32\n",
    "q2 = 1156  \n",
    "\n",
    "#case2\n",
    "m0 = 64\n",
    "m1 = 4\n",
    "m2 = 49\n",
    "m3 = 100\n",
    "m4 = 36\n",
    "p2 = 1225\n",
    "p00 = 9\n",
    "p01 = 529\n",
    "p10 = 4\n",
    "p11 = 4\n",
    "q2 = 484  \n",
    "\n",
    "#case3\n",
    "#m0 = 1\n",
    "#m1 = 1\n",
    "#m2 = 1\n",
    "# m3 = 1\n",
    "#m4 = 1\n",
    "#p2 = 1225\n",
    "#p00 = 9\n",
    "#p01 = 529\n",
    "#p10 = 4\n",
    "# p11 = 4\n",
    "#q2 = 484  \n",
    "\n",
    "#case4\n",
    "#m0 = 9\n",
    "#m1 = 1\n",
    "#m2 = 27\n",
    "#m3 = 7\n",
    "# m4 = 11\n",
    "#p2 = 18587\n",
    "#p00 = 11990\n",
    "#p01 = 13117\n",
    "#p10 = 30107\n",
    "# p11 = 8388\n",
    "#q2 = 40073  \n",
    "\n",
    "#case5\n",
    "#m0 = 49\n",
    "#m1 = 25\n",
    "#m2 = 100\n",
    "# m3 = 100\n",
    "#m4 = 100\n",
    "#p2 = 784\n",
    "#p00 = 23\n",
    "#p01 = 256\n",
    "#p10 = 676\n",
    "# p11 = 13\n",
    "#q2 = 841  \n",
    "\n",
    "#case6\n",
    "#m0 = 9\n",
    "#m1 = 1\n",
    "#m2 = 27\n",
    "#m3 = 7\n",
    "# m4 = 11\n",
    "#p2 = 9425\n",
    "#p00 = 14428\n",
    "#p01 = 32253\n",
    "#p10 = 8379\n",
    "# p11 = 11622\n",
    "#q2 = 28699  \n",
    "\n",
    "#case7\n",
    "#m0 = 9\n",
    "#m1 = 1\n",
    "#m2 = 27\n",
    "#m3 = 7\n",
    "#m4 = 11\n",
    "#p2 = 3043\n",
    "#p00 = 13562\n",
    "#p01 = 19975\n",
    "#p10 = 10377\n",
    "#p11 = 12990\n",
    "#q2 = 30113"
   ]
  },
  {
   "cell_type": "code",
   "execution_count": 50,
   "metadata": {},
   "outputs": [],
   "source": [
    "file = open('Kite-elliptic-curve-g2-x.txt', 'r')\n",
    "lines = file.readlines()\n",
    "s = ''.join(lines);\n",
    "g2x=eval(preparse(s))\n",
    "file.close()"
   ]
  },
  {
   "cell_type": "code",
   "execution_count": 51,
   "metadata": {},
   "outputs": [],
   "source": [
    "sys.setrecursionlimit(100000)"
   ]
  },
  {
   "cell_type": "code",
   "execution_count": 52,
   "metadata": {},
   "outputs": [],
   "source": [
    "file = open('Kite-elliptic-curve-g3-x.txt', 'r')\n",
    "lines = file.readlines()\n",
    "s = ''.join(lines);\n",
    "g3x=eval(preparse(s))\n",
    "file.close()"
   ]
  },
  {
   "cell_type": "code",
   "execution_count": 53,
   "metadata": {},
   "outputs": [],
   "source": [
    "file = open('Kite-elliptic-curve-g2-y.txt', 'r')\n",
    "lines = file.readlines()\n",
    "s = ''.join(lines);\n",
    "g2y=eval(preparse(s))\n",
    "file.close()"
   ]
  },
  {
   "cell_type": "code",
   "execution_count": 54,
   "metadata": {},
   "outputs": [],
   "source": [
    "file = open('Kite-elliptic-curve-g3-y.txt', 'r')\n",
    "lines = file.readlines()\n",
    "s = ''.join(lines);\n",
    "g3y=eval(preparse(s))\n",
    "file.close()"
   ]
  },
  {
   "cell_type": "markdown",
   "metadata": {},
   "source": [
    "<b>Here we see that the two elliptic curves match on numerics</b>"
   ]
  },
  {
   "cell_type": "code",
   "execution_count": 55,
   "metadata": {},
   "outputs": [
    {
     "data": {
      "text/plain": [
       "0"
      ]
     },
     "execution_count": 55,
     "metadata": {},
     "output_type": "execute_result"
    }
   ],
   "source": [
    "g2x-g2y"
   ]
  },
  {
   "cell_type": "code",
   "execution_count": 56,
   "metadata": {},
   "outputs": [
    {
     "data": {
      "text/plain": [
       "0"
      ]
     },
     "execution_count": 56,
     "metadata": {},
     "output_type": "execute_result"
    }
   ],
   "source": [
    "g3x-g3y"
   ]
  },
  {
   "cell_type": "code",
   "execution_count": 13,
   "metadata": {},
   "outputs": [],
   "source": [
    "from ore_algebra import *\n",
    "OA, z, Dz = DifferentialOperators(QQ, 'z')"
   ]
  },
  {
   "cell_type": "markdown",
   "metadata": {},
   "source": [
    "`F := (9*x1 + x2 + 64*x3 + x4 + 16*x5)*((x3 + x4)*x5 + x1*(x3 + x4 + x5) + x2*(x3 + x4 + x5)) - t*((9*x1*x3 + 28*x2*x3 + 32*x1*x4 + 324*x2*x4)*x5 + 1156*x3*x4*(x1 + x2 + x5) + 676*x1*x2*(x3 + x4 + x5))`\n",
    "<br><b>This the case 1 (above) and the associated Picard-Fuchs operator is the file <a href=\"PF-Kite-d4-case1.txt\">PF-Kite-d4-case1.txt</a></b>"
   ]
  },
  {
   "cell_type": "code",
   "execution_count": 14,
   "metadata": {
    "scrolled": true
   },
   "outputs": [
    {
     "data": {
      "text/plain": [
       "[7, 83]"
      ]
     },
     "execution_count": 14,
     "metadata": {},
     "output_type": "execute_result"
    }
   ],
   "source": [
    "s = open(\"PF-Kite-d4-case1.txt\").readlines()[0]\n",
    "dopKited4case1 = OA(s.replace(\"^\", \"**\").replace(\"t\", \"z\").replace(\"D\", \"Dz\"))\n",
    "[dopKited4case1.order(),dopKited4case1.degree()]"
   ]
  },
  {
   "cell_type": "code",
   "execution_count": 15,
   "metadata": {},
   "outputs": [],
   "source": [
    "dopKited4case1desing=dopKited4case1.desingularize()"
   ]
  },
  {
   "cell_type": "code",
   "execution_count": 35,
   "metadata": {},
   "outputs": [
    {
     "data": {
      "text/plain": [
       "(-49352871780055475118102874247290778969317814303771910755214950400) * z^12 * (z^10 - 755949288816940893972368908621/103335565741105939652777498496*z^9 + 240754454689484820609930312357817859993/35611719257045722281189693753328367616*z^8 + 17746908640099306353587956956521971655/20349553861168984160679825001901924352*z^7 + 37233597096760645638062648291643400633/2279150032450926225996140400213015527424*z^6 - 5733819772873235801332375823677346989/1139575016225463112998070200106507763712*z^5 - 46765743060053182291709296632855449/325592861778703746570877200030430789632*z^4 + 700824481044588868588976833141511/71223438514091444562379387506656735232*z^3 + 37571685004429214555587794056497/71223438514091444562379387506656735232*z^2 - 20962269470169928699283390495/635923558161530755021244531309435136*z + 32816286237237404453624855/60564148396336262382975669648517632)"
      ]
     },
     "execution_count": 35,
     "metadata": {},
     "output_type": "execute_result"
    }
   ],
   "source": [
    "RR.<t>=QQ[] \n",
    "DiscEllipticCurve=RR(4*g2y^3 + 27*g3y^2).substitute(t=z)"
   ]
  },
  {
   "cell_type": "markdown",
   "metadata": {},
   "source": [
    "<b>This discriminent has zeroes at $z=0$ and roots of a 10th order polynomial, which are singularities of the kite differential operator</b>"
   ]
  },
  {
   "cell_type": "code",
   "execution_count": 39,
   "metadata": {},
   "outputs": [
    {
     "data": {
      "text/plain": [
       "(-1/49352871780055475118102874247290778969317814303771910755214950400) * z^-10 * (z - 81/1156) * (z - 49/1156) * (z - 4/169) * (z - 1/169) * (z^2 + 2232483943465/64036087046568*z - 117916789735/2049154785490176) * (z^2 + 745713978035/1793011377024*z - 75422205785615/33163538429435904)"
      ]
     },
     "execution_count": 39,
     "metadata": {},
     "output_type": "execute_result"
    }
   ],
   "source": [
    "((dopKited4case1desing.leading_coefficient())/DiscEllipticCurve).factor()"
   ]
  },
  {
   "cell_type": "markdown",
   "metadata": {},
   "source": [
    "`F := (4*x1 + 64*x2 + 100*x3 + 36*x4 + 49*x5)*((x3 + x4)*x5 + x1*(x3 + x4 + x5) + x2*(x3 + x4 + x5)) - t*((4*x1*x3 + 9*x2*x3 + 4*x1*x4 + 529*x2*x4)*x5 + 484*x3*x4*(x1 + x2 + x5) + 1225*x1*x2*(x3 + x4 + x5))`\n",
    "<br><b>This the case 2 (above) and the associated Picard-Fuchs operator is the file <a href=\"PF-Kite-d4-case2.txt\">PF-Kite-d4-case2.txt</a></b>"
   ]
  },
  {
   "cell_type": "code",
   "execution_count": 57,
   "metadata": {},
   "outputs": [
    {
     "data": {
      "text/plain": [
       "[7, 83]"
      ]
     },
     "execution_count": 57,
     "metadata": {},
     "output_type": "execute_result"
    }
   ],
   "source": [
    "s = open(\"PF-Kite-d4-case2.txt\").readlines()[0]\n",
    "dopKited4case2 = OA(s.replace(\"^\", \"**\").replace(\"t\", \"z\").replace(\"D\", \"Dz\"))\n",
    "[dopKited4case2.order(),dopKited4case2.degree()]"
   ]
  },
  {
   "cell_type": "code",
   "execution_count": 59,
   "metadata": {},
   "outputs": [],
   "source": [
    "dopKited4case2desing=dopKited4case2.desingularize()"
   ]
  },
  {
   "cell_type": "code",
   "execution_count": 61,
   "metadata": {},
   "outputs": [
    {
     "data": {
      "text/plain": [
       "(z - 64/121) * (z - 4/49) * (z - 4/121) * (z - 36/1225) * z^2 * (z^2 - 33736/4459*z + 30621488/237936699) * (z^2 + 334469/518364*z + 42583393/413227584) * (z^10 - 2078978098739092392925130/88422269407909844603427*z^9 + 65066972945220315833858167/412637257236912608149326*z^8 - 114896335948378280258989608347/349503756879664979102479122*z^7 + 4332550037521860992237745428185/25164270495335878495378496784*z^6 - 96887547688532097155807750533/3145533811916984811922312098*z^5 - 80076614868499292270963879239/37746405743003817743067745176*z^4 + 5379897820389772864753061413/4718300717875477217883468147*z^3 - 6912344200682361412711616725/75492811486007635486135490352*z^2 + 12861717102483377583095240/4718300717875477217883468147*z - 43437911174903352064768/1572766905958492405961156049)"
      ]
     },
     "execution_count": 61,
     "metadata": {},
     "output_type": "execute_result"
    }
   ],
   "source": [
    "dopKited4case2desing.leading_coefficient().factor()"
   ]
  },
  {
   "cell_type": "code",
   "execution_count": 62,
   "metadata": {},
   "outputs": [
    {
     "data": {
      "text/plain": [
       "(-959625113590454980829018276031290568639483384692736000000000000) * z^12 * (z^10 - 2078978098739092392925130/88422269407909844603427*z^9 + 65066972945220315833858167/412637257236912608149326*z^8 - 114896335948378280258989608347/349503756879664979102479122*z^7 + 4332550037521860992237745428185/25164270495335878495378496784*z^6 - 96887547688532097155807750533/3145533811916984811922312098*z^5 - 80076614868499292270963879239/37746405743003817743067745176*z^4 + 5379897820389772864753061413/4718300717875477217883468147*z^3 - 6912344200682361412711616725/75492811486007635486135490352*z^2 + 12861717102483377583095240/4718300717875477217883468147*z - 43437911174903352064768/1572766905958492405961156049)"
      ]
     },
     "execution_count": 62,
     "metadata": {},
     "output_type": "execute_result"
    }
   ],
   "source": [
    "RR.<t>=QQ[] \n",
    "DiscEllipticCurveCase2=RR(4*g2y^3 + 27*g3y^2).substitute(t=z)\n",
    "DiscEllipticCurveCase2.factor()"
   ]
  },
  {
   "cell_type": "markdown",
   "metadata": {},
   "source": [
    "<b>This discriminent has zeroes at $z=0$ and roots of a 10th order polynomial, which are singularities of the kite differential operator</b>"
   ]
  },
  {
   "cell_type": "markdown",
   "metadata": {},
   "source": [
    "The factorisation is in the text file <a href=\"PF-Kite-d4-case2-factor.txt\">PF-Kite-d4-case2-factor.txt</a>"
   ]
  },
  {
   "cell_type": "code",
   "execution_count": null,
   "metadata": {},
   "outputs": [],
   "source": [
    "file = open('PF-Kite-d4-case2-factor.txt', 'r')\n",
    "lines = file.readlines()\n",
    "s = ''.join(lines);\n",
    "fac2=eval(preparse(s))\n",
    "[x.order() for x  in fac2]"
   ]
  },
  {
   "cell_type": "code",
   "execution_count": null,
   "metadata": {
    "scrolled": true
   },
   "outputs": [],
   "source": [
    "fac2[3]"
   ]
  },
  {
   "cell_type": "code",
   "execution_count": null,
   "metadata": {},
   "outputs": [],
   "source": [
    "fac2[2].indicial_polynomial(z).factor()"
   ]
  },
  {
   "cell_type": "markdown",
   "metadata": {},
   "source": [
    "`F := (x1 + x2 + x3 + x4 + x5)*((x3 + x4)*x5 + x1*(x3 + x4 + x5) + x2*(x3 + x4 + x5)) - t*((4*x1*x3 + 9*x2*x3 + 4*x1*x4 + 529*x2*x4)*x5 + 484*x3*x4*(x1 + x2 + x5) + 1225*x1*x2*(x3 + x4 + x5))`\n",
    "<br><b>This the case 3 (above) and the associated Picard-Fuchs operator is the file <a href=\"PF-Kite-d4-case3.txt\">PF-Kite-d4-case3.txt</a></b>"
   ]
  },
  {
   "cell_type": "code",
   "execution_count": null,
   "metadata": {},
   "outputs": [],
   "source": [
    "s = open(\"PF-Kite-d4-case3.txt\").readlines()[0]\n",
    "dopKited4case3 = OA(s.replace(\"^\", \"**\").replace(\"t\", \"z\").replace(\"D\", \"Dz\"))\n",
    "[dopKited4case3.order(),dopKited4case3.degree(),dopKited4case3.local_basis_monomials(0)]"
   ]
  },
  {
   "cell_type": "code",
   "execution_count": null,
   "metadata": {},
   "outputs": [],
   "source": [
    "#fac3=dopKited4case3.factor(); \n",
    "#save(fac3,'PF-Kite-d4-case3-factorized.txt')"
   ]
  },
  {
   "cell_type": "markdown",
   "metadata": {},
   "source": [
    "The factorisation is in the text file <a href=\"PF-Kite-d4-case3-factor.txt\">PF-Kite-d4-case3-factor.txt</a>"
   ]
  },
  {
   "cell_type": "code",
   "execution_count": null,
   "metadata": {},
   "outputs": [],
   "source": [
    "file = open('PF-Kite-d4-case3-factor.txt', 'r')\n",
    "lines = file.readlines()\n",
    "s = ''.join(lines);\n",
    "fac3=eval(preparse(s))\n",
    "[x.order() for x  in fac3]"
   ]
  },
  {
   "cell_type": "code",
   "execution_count": null,
   "metadata": {},
   "outputs": [],
   "source": [
    "fac3[3]"
   ]
  },
  {
   "cell_type": "code",
   "execution_count": null,
   "metadata": {},
   "outputs": [],
   "source": [
    "fac3[2].indicial_polynomial(z).factor()"
   ]
  },
  {
   "cell_type": "markdown",
   "metadata": {},
   "source": [
    "`F := (x1 + 9*x2 + 7*x3 + 11*x4 + 27*x5)*(x1*x3 + x2*x3 + x1*x4 + x2*x4 + x1*x5 + x2*x5 + x3*x5 + x4*x5) - t*(18587*x1*x2*x3 + 18587*x1*x2*x4 + 40073*x1*x3*x4 + 40073*x2*x3*x4 + 18587*x1*x2*x5 + 30107*x1*x3*x5 + 11990*x2*x3*x5 + 8388*x1*x4*x5 + 13117*x2*x4*x5 + 40073*x3*x4*x5)`\n",
    "<br><b>This the case 4 (above) and the associated Picard-Fuchs operator is the file <a href=\"PF-Kite-d4-case4.txt\">PF-Kite-d4-case4.txt</a></b>"
   ]
  },
  {
   "cell_type": "code",
   "execution_count": null,
   "metadata": {},
   "outputs": [],
   "source": [
    "s = open(\"PF-Kite-d4-case4.txt\").readlines()[0]\n",
    "dopKited4case4 = OA(s.replace(\"^\", \"**\").replace(\"t\", \"z\").replace(\"D\", \"Dz\"))\n",
    "[dopKited4case4.order(),dopKited4case4.degree(),dopKited4case4.local_basis_monomials(0)]"
   ]
  },
  {
   "cell_type": "code",
   "execution_count": null,
   "metadata": {},
   "outputs": [],
   "source": [
    "#fac4=dopKited4case4.factor(); \n",
    "#save(fac4,'PF-Kite-d4-case4-factorized.txt')"
   ]
  },
  {
   "cell_type": "markdown",
   "metadata": {},
   "source": [
    "The factorisation is in the text file <a href=\"PF-Kite-d4-case4-factor.txt\">PF-Kite-d4-case4-factor.txt</a>"
   ]
  },
  {
   "cell_type": "code",
   "execution_count": null,
   "metadata": {},
   "outputs": [],
   "source": [
    "file = open('PF-Kite-d4-case4-factor.txt', 'r')\n",
    "lines = file.readlines()\n",
    "s = ''.join(lines);\n",
    "fac4=eval(preparse(s))\n",
    "[x.order() for x  in fac4]"
   ]
  },
  {
   "cell_type": "code",
   "execution_count": null,
   "metadata": {},
   "outputs": [],
   "source": [
    "fac4[3]"
   ]
  },
  {
   "cell_type": "code",
   "execution_count": null,
   "metadata": {},
   "outputs": [],
   "source": [
    "fac4[2].indicial_polynomial(z).factor()"
   ]
  },
  {
   "cell_type": "code",
   "execution_count": null,
   "metadata": {},
   "outputs": [],
   "source": [
    "maple('with(DEtools);')\n",
    "maple.set('L',fac4[2])\n",
    "solKite4ptcase5=maple('dsolve(diffop2de(L,f(z),[Dz,z]))')\n",
    "solKite4ptcase5"
   ]
  },
  {
   "cell_type": "markdown",
   "metadata": {},
   "source": [
    "`F := (25*x1 + 49*x2 + 100*x3 + 100*x4 + 100*x5)*((x3 + x4)*x5 + x1*(x3 + x4 + x5) + x2*(x3 + x4 + x5)) - t*((676*x1*x3 + 23*x2*x3 + 13*x1*x4 + 256*x2*x4)*x5 + 841*x3*x4*(x1 + x2 + x5) + 784*x1*x2*(x3 + x4 + x5))`\n",
    "<br><b>This the case 5 (above) and the associated Picard-Fuchs operator is the file <a href=\"PF-Kite-d4-case5.txt\">PF-Kite-d4-case5.txt</a></b>"
   ]
  },
  {
   "cell_type": "code",
   "execution_count": null,
   "metadata": {},
   "outputs": [],
   "source": [
    "s = open(\"PF-Kite-d4-case5.txt\").readlines()[0]\n",
    "dopKited4case5 = OA(s.replace(\"^\", \"**\").replace(\"t\", \"z\").replace(\"D\", \"Dz\"))\n",
    "[dopKited4case5.order(),dopKited4case5.degree(),dopKited4case5.local_basis_monomials(0)]"
   ]
  },
  {
   "cell_type": "code",
   "execution_count": null,
   "metadata": {},
   "outputs": [],
   "source": [
    "#fac5=dopKited4case5.factor(); \n",
    "#[x.order() for x in fac5]\n",
    "#save(fac5,'PF-Kite-d4-case5-factorized.txt')"
   ]
  },
  {
   "cell_type": "markdown",
   "metadata": {},
   "source": [
    "The factorisation is in the text file <a href=\"PF-Kite-d4-case5-factor.txt\">PF-Kite-d4-case5-factor.txt</a>"
   ]
  },
  {
   "cell_type": "code",
   "execution_count": null,
   "metadata": {},
   "outputs": [],
   "source": [
    "file = open('PF-Kite-d4-case5-factor.txt', 'r')\n",
    "lines = file.readlines()\n",
    "s = ''.join(lines);\n",
    "fac5=eval(preparse(s))\n",
    "[x.order() for x  in fac5]"
   ]
  },
  {
   "cell_type": "code",
   "execution_count": null,
   "metadata": {},
   "outputs": [],
   "source": [
    "fac5[2].indicial_polynomial(z).factor()"
   ]
  },
  {
   "cell_type": "code",
   "execution_count": null,
   "metadata": {},
   "outputs": [],
   "source": [
    "maple('with(DEtools);')\n",
    "maple.set('L',fac5[2])\n",
    "solKite4ptcase5=maple('dsolve(diffop2de(L,f(z),[Dz,z]))')\n",
    "solKite4ptcase5"
   ]
  },
  {
   "cell_type": "markdown",
   "metadata": {},
   "source": [
    "`F := (x1 + 9*x2 + 7*x3 + 11*x4 + 27*x5)*(x1*x3 + x2*x3 + x1*x4 + x2*x4 + x1*x5 + x2*x5 + x3*x5 + x4*x5) - t*(9425*x1*x2*x3 + 9425*x1*x2*x4 + 28699*x1*x3*x4 + 28699*x2*x3*x4 + 9425*x1*x2*x5 + 8379*x1*x3*x5 + 14428*x2*x3*x5 + 11622*x1*x4*x5 + 32253*x2*x4*x5 + 28699*x3*x4*x5)`\n",
    "<br><b>This the case 1 (above) and the associated Picard-Fuchs operator is the file <a href=\"PF-Kite-d4-case6.txt\">PF-Kite-d4-case6.txt</a></b>"
   ]
  },
  {
   "cell_type": "code",
   "execution_count": null,
   "metadata": {},
   "outputs": [],
   "source": [
    "s = open(\"PF-Kite-d4-case6.txt\").readlines()[0]\n",
    "dopKited4case6 = OA(s.replace(\"^\", \"**\").replace(\"t\", \"z\").replace(\"D\", \"Dz\"))\n",
    "[dopKited4case6.order(),dopKited4case6.degree(),dopKited4case6.local_basis_monomials(0)]"
   ]
  },
  {
   "cell_type": "code",
   "execution_count": null,
   "metadata": {},
   "outputs": [],
   "source": [
    "#fac6=dopKited4case6.factor(); \n",
    "#[x.order() for x in fac6]\n",
    "#save(fac6,'PF-Kite-d4-case6-factorized.txt')"
   ]
  },
  {
   "cell_type": "markdown",
   "metadata": {},
   "source": [
    "The factorisation is in the text file <a href=\"PF-Kite-d4-case6-factor.txt\">PF-Kite-d4-case6-factor.txt</a>"
   ]
  },
  {
   "cell_type": "code",
   "execution_count": null,
   "metadata": {},
   "outputs": [],
   "source": [
    "file = open('PF-Kite-d4-case6-factor.txt', 'r')\n",
    "lines = file.readlines()\n",
    "s = ''.join(lines);\n",
    "fac6=eval(preparse(s))\n",
    "[x.order() for x  in fac6]"
   ]
  },
  {
   "cell_type": "code",
   "execution_count": null,
   "metadata": {},
   "outputs": [],
   "source": [
    "fac6[3]"
   ]
  },
  {
   "cell_type": "code",
   "execution_count": null,
   "metadata": {},
   "outputs": [],
   "source": [
    "fac6[2].indicial_polynomial(z).factor()"
   ]
  },
  {
   "cell_type": "code",
   "execution_count": null,
   "metadata": {},
   "outputs": [],
   "source": [
    "maple('with(DEtools);')\n",
    "maple.set('L',fac6[2])\n",
    "solKite4ptcase6=maple('dsolve(diffop2de(L,f(z),[Dz,z]))')\n",
    "solKite4ptcase6"
   ]
  },
  {
   "cell_type": "markdown",
   "metadata": {},
   "source": [
    "`F := (x1 + 9*x2 + 7*x3 + 11*x4 + 27*x5)*(x1*x3 + x2*x3 + x1*x4 + x2*x4 + x1*x5 + x2*x5 + x3*x5 + x4*x5) - t*(9425*x1*x2*x3 + 9425*x1*x2*x4 + 28699*x1*x3*x4 + 28699*x2*x3*x4 + 9425*x1*x2*x5 + 8379*x1*x3*x5 + 14428*x2*x3*x5 + 11622*x1*x4*x5 + 32253*x2*x4*x5 + 28699*x3*x4*x5)`\n",
    "<br><b>This the case 7 (above) and the associated Picard-Fuchs operator is the file <a href=\"PF-Kite-d4-case7.txt\">PF-Kite-d4-case7.txt</a></b>"
   ]
  },
  {
   "cell_type": "code",
   "execution_count": null,
   "metadata": {},
   "outputs": [],
   "source": [
    "s = open(\"PF-Kite-d4-case7.txt\").readlines()[0]\n",
    "dopKited4case7 = OA(s.replace(\"^\", \"**\").replace(\"t\", \"z\").replace(\"D\", \"Dz\"))\n",
    "[dopKited4case7.order(),dopKited4case7.degree(),dopKited4case7.local_basis_monomials(0)]"
   ]
  },
  {
   "cell_type": "code",
   "execution_count": null,
   "metadata": {},
   "outputs": [],
   "source": [
    "#fac7=dopKited4case7.factor(); \n",
    "#[x.order() for x in fac7]\n",
    "#save(fac7,'PF-Kite-d4-case7-factorized.txt')"
   ]
  },
  {
   "cell_type": "markdown",
   "metadata": {},
   "source": [
    "The factorisation is in the text file <a href=\"PF-Kite-d4-case7-factor.txt\">PF-Kite-d4-case7-factor.txt</a>"
   ]
  },
  {
   "cell_type": "code",
   "execution_count": null,
   "metadata": {},
   "outputs": [],
   "source": [
    "file = open('PF-Kite-d4-case7-factor.txt', 'r')\n",
    "lines = file.readlines()\n",
    "s = ''.join(lines);\n",
    "fac7=eval(preparse(s))\n",
    "[x.order() for x  in fac7]"
   ]
  },
  {
   "cell_type": "code",
   "execution_count": null,
   "metadata": {},
   "outputs": [],
   "source": [
    "dopKited4case7desing=dopKited4case7.desingularize()"
   ]
  },
  {
   "cell_type": "code",
   "execution_count": null,
   "metadata": {},
   "outputs": [],
   "source": [
    "dopKited4case7desing.leading_coefficient().factor()"
   ]
  },
  {
   "cell_type": "code",
   "execution_count": null,
   "metadata": {},
   "outputs": [],
   "source": [
    "Del.factor()"
   ]
  }
 ],
 "metadata": {
  "kernelspec": {
   "display_name": "SageMath 9.7",
   "language": "sage",
   "name": "sagemath-9.7"
  },
  "language_info": {
   "codemirror_mode": {
    "name": "ipython",
    "version": 3
   },
   "file_extension": ".py",
   "mimetype": "text/x-python",
   "name": "python",
   "nbconvert_exporter": "python",
   "pygments_lexer": "ipython3",
   "version": "3.10.5"
  }
 },
 "nbformat": 4,
 "nbformat_minor": 1
}
