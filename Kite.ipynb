{
 "cells": [
  {
   "cell_type": "markdown",
   "metadata": {},
   "source": [
    "<H3><center><b>The Kite graph  motive</b></center></H3>\n",
    "<b>This is a derivation of the Kite elliptic curve studied in section 6.2 of the paper <a href=\"https://arxiv.org/abs/2302.14840\">Motivic geometry of two-loop Feynman integrals</a></b>"
   ]
  },
  {
   "cell_type": "markdown",
   "metadata": {},
   "source": [
    "<center><img src=\"kite.png\" alt=\"Kite\" style=\"width:200px\"></center>"
   ]
  },
  {
   "cell_type": "markdown",
   "metadata": {},
   "source": [
    "<H3><center><b>Picard-Fuchs equation for the two-loop Kite integral in four dimensions</b></center></H3>\n",
    "$$\n",
    "\\int_{x_i\\geq0} {dx_1dx_2dy_1dy_2dz\\over {\\bf U}_{(2,1,2)}{\\bf F}_{(2,1,2),4}(t)} \n",
    "$$\n",
    "<b>with the following graph polynomials</b>\n",
    "\\begin{align}\n",
    "{\\bf U}_{(2,1,2)} & = \\left(z +  x_1 + x_2\\right) \\left( y_1 + y_2 \\right) + z \\left(x_1 + x_2\\right), \\cr\n",
    "{\\bf V}_{(2,1,2)} & = \\left( z + y_1 + y_2\\right)\\, p^2 x_1\n",
    "                  x_2  + \\left(z+x_1 + x_2\\right)\\, q^2\n",
    "                  y_1y_2 + z \\left(r_{11}^2 x_1y_2 + r_{12}^2x_1y_2 + r_{21}^2x_2y_1 + r_{22}^2x_2y_2 \\right),\\cr\n",
    "{\\bf F}_{(2,1,2),D}(t) & = {\\bf U}_{(2,1,2)}\\left( m_1^2y_1 + m_2^2y_2 + m_{3}^2x_1 + m_{4}^2x_2 + m^2_{5} z\\right) + {\\bf V}_{(2,1,2),D},\n",
    "\\end{align}"
   ]
  },
  {
   "cell_type": "code",
   "execution_count": 1,
   "metadata": {},
   "outputs": [],
   "source": [
    "S.<p2,p00,p01,p10,p11,q2,m0,m1,m2,m3,m4>=QQ[]\n",
    "R.<x0,x1,z,y0,y1,t,X,w> = S[]\n",
    "\n",
    "\n",
    "U = z*(x0 + x1 + y0 + y1) + (x0 + x1)*(y0 + y1)\n",
    "V = p2*x0*x1*(z + y0 + y1) + q2*y0*y1*(z + x0 + x1) + z*(p00*x0*y0 + p01*x0*y1 + p10*x1*y0 + p11*x1*y1)\n",
    "F = U*(m0*x0 + m1*x1 + m2*z + m3*y0 + m4*y1) - t*V"
   ]
  },
  {
   "cell_type": "markdown",
   "metadata": {},
   "source": [
    "<b>As explained in the paper two elliptic curves can be associated to the Kite depending on which linear subspace one blows up. Here we construct these two elliptic curves and show that they are the same.</b>"
   ]
  },
  {
   "cell_type": "markdown",
   "metadata": {},
   "source": [
    "<b>The two kite elliptic curves are  $y^2=x^3+g2_x\\, x+g3_x$ and $y^2=x^3+g2_y\\, x+g3_y$ which coefficients for generic parameters are stored in the files (the Weierstrass form is determined below for generic parameters but this takes some time to run)</b>\n",
    "<br>\n",
    "<li><a href=\"Kite-elliptic-curve-g2-x.txt\">Kite-elliptic-curve-g2-x.txt</a>  </li>\n",
    "<li><a href=\"Kite-elliptic-curve-g3-x.txt\">Kite-elliptic-curve-g3-x.txt</a>  </li>\n",
    "<li><a href=\"Kite-elliptic-curve-g2-y.txt\">Kite-elliptic-curve-g2-y.txt</a>  </li>\n",
    "<li><a href=\"Kite-elliptic-curve-g3-y.txt\">Kite-elliptic-curve-g3-y.txt</a>  </li>\n",
    "<br>\n",
    "<b>The two elliptic curves are identical because $g2_x=g2_y$ and $g3_x=g3_y$</b>"
   ]
  },
  {
   "cell_type": "code",
   "execution_count": 2,
   "metadata": {},
   "outputs": [],
   "source": [
    "# first elliptic curve by blow up the linear space x0=x1=z\n",
    "q = z/(z + x0 + x1)\n",
    "G = (F.substitute(y1=y1*q, y0=y0*q)/z).numerator()\n",
    "H = G.substitute(x1 = X - x0 - y0 - y1)\n",
    "H1 = H.substitute(x0=x0/w, y1=y1/w, y0=y0/w).numerator()\n",
    "Xlist = [w,x0,y0,y1]\n",
    "M = matrix(R,4)\n",
    "for i in range(0,len(Xlist)):\n",
    "    for j in range(0,len(Xlist)):\n",
    "        if i == j:\n",
    "            M[i,j] = 2*H1.coefficient(Xlist[i]*Xlist[j])\n",
    "        else:\n",
    "            M[i,j] = H1.coefficient(Xlist[i]*Xlist[j])\n",
    "Wt = (M.determinant()).substitute(z=1)\n",
    "B4 = Wt.coefficient(X^4)\n",
    "B3 = Wt.coefficient(X^3)\n",
    "B2 = Wt.coefficient(X^2)\n",
    "B1 = Wt.coefficient(X)\n",
    "B0 = Wt.substitute(X=0)\n",
    "\n",
    "Rx = X^3 + B2*X^2 + (-4*B0*B4+B1*B3)*X + (B0*B3^2-4*B0*B2*B4+B1^2*B4)\n",
    "R1x = Rx.substitute(X=X-B2/3)\n",
    "g2x = R1x.coefficient(X)\n",
    "g3x = R1x.substitute(X=0)\n",
    "#Jx = 4*g2x^3/(4*g2x^3 + 27*g3x^2)"
   ]
  },
  {
   "cell_type": "code",
   "execution_count": 3,
   "metadata": {},
   "outputs": [],
   "source": [
    "#with open('Kite-elliptic-curve-g2-x.txt',\"w\") as f:\n",
    "#  f.write(str(g2x))\n",
    "#f.close()\n",
    "#with open('Kite-elliptic-curve-g3-x.txt',\"w\") as f:\n",
    "#  f.write(str(g3x))\n",
    "#f.close()"
   ]
  },
  {
   "cell_type": "code",
   "execution_count": 4,
   "metadata": {},
   "outputs": [],
   "source": [
    "# second elliptic curve by blowing up the linear space y0=y1=z\n",
    "q = z/(z + y0 + y1)\n",
    "G = (F.substitute(x1=x1*q, x0=x0*q)/z).numerator()\n",
    "H = G.substitute(y1 = X - y0 - x0 - x1)\n",
    "H1 = H.substitute(y0=y0/w, x1=x1/w, x0=x0/w).numerator()\n",
    "Xlist = [w,y0,x0,x1]\n",
    "M = matrix(R,4)\n",
    "for i in range(0,len(Xlist)):\n",
    "    for j in range(0,len(Xlist)):\n",
    "        if i == j:\n",
    "            M[i,j] = 2*H1.coefficient(Xlist[i]*Xlist[j])\n",
    "        else:\n",
    "            M[i,j] = H1.coefficient(Xlist[i]*Xlist[j])\n",
    "Wt = (M.determinant()).substitute(z=1)\n",
    "B4 = Wt.coefficient(X^4)\n",
    "B3 = Wt.coefficient(X^3)\n",
    "B2 = Wt.coefficient(X^2)\n",
    "B1 = Wt.coefficient(X)\n",
    "B0 = Wt.substitute(X=0)\n",
    "\n",
    "Ry = X^3 + B2*X^2 + (-4*B0*B4+B1*B3)*X + (B0*B3^2-4*B0*B2*B4+B1^2*B4)\n",
    "R1y = Ry.substitute(X=X-B2/3)\n",
    "g2y = R1y.coefficient(X)\n",
    "g3y = R1y.substitute(X=0)\n",
    "#Jy = 4*g2y^3/(4*g2y^3 + 27*g3y^2)"
   ]
  },
  {
   "cell_type": "code",
   "execution_count": 5,
   "metadata": {},
   "outputs": [],
   "source": [
    "#with open('Kite-elliptic-curve-g2-y.txt',\"w\") as f:\n",
    "#  f.write(str(g2y))\n",
    "#f.close()\n",
    "#with open('Kite-elliptic-curve-g3-y.txt',\"w\") as f:\n",
    "#  f.write(str(g3y))\n",
    "#f.close()"
   ]
  },
  {
   "cell_type": "markdown",
   "metadata": {},
   "source": [
    "<b>The coefficients are large expression and their match can be checked on numerical cases  obtained in <a href=\"https://arxiv.org/abs/2209.10962\">[arXiv:2209.10962]</a> and given on the page <a href=\"https://nbviewer.org/github/pierrevanhove/PicardFuchs/blob/main/PF-Kite.ipynb\">PF-Kite.ipynb</a> </b> "
   ]
  },
  {
   "cell_type": "code",
   "execution_count": 6,
   "metadata": {},
   "outputs": [],
   "source": [
    "sys.setrecursionlimit(100000)\n",
    "RR.<t>=QQ[] "
   ]
  },
  {
   "cell_type": "code",
   "execution_count": 7,
   "metadata": {},
   "outputs": [
    {
     "data": {
      "text/plain": [
       "[0, 0]"
      ]
     },
     "execution_count": 7,
     "metadata": {},
     "output_type": "execute_result"
    }
   ],
   "source": [
    "# case1\n",
    "m0 = 1\n",
    "m1 = 9\n",
    "m2 = 16\n",
    "m3 = 64\n",
    "m4 = 1\n",
    "p2 = 676\n",
    "p00 = 28\n",
    "p01 = 324\n",
    "p10 = 9\n",
    "p11 = 32\n",
    "q2 = 1156  \n",
    "#\n",
    "file = open('Kite-elliptic-curve-g2-x.txt', 'r')\n",
    "lines = file.readlines()\n",
    "s = ''.join(lines);\n",
    "g2xcase1=eval(preparse(s))\n",
    "file.close()\n",
    "#\n",
    "file = open('Kite-elliptic-curve-g3-x.txt', 'r')\n",
    "lines = file.readlines()\n",
    "s = ''.join(lines);\n",
    "g3xcase1=eval(preparse(s))\n",
    "file.close()\n",
    "#\n",
    "file = open('Kite-elliptic-curve-g2-y.txt', 'r')\n",
    "lines = file.readlines()\n",
    "s = ''.join(lines);\n",
    "g2ycase1=eval(preparse(s))\n",
    "file.close()\n",
    "#\n",
    "file = open('Kite-elliptic-curve-g3-y.txt', 'r')\n",
    "lines = file.readlines()\n",
    "s = ''.join(lines);\n",
    "g3ycase1=eval(preparse(s))\n",
    "file.close()\n",
    "DiscEllipticCurveCase1=RR(4*g2ycase1^3 + 27*g3ycase1^2).substitute(t=z)\n",
    "# Here we see that the two elliptic curves match on numerics\n",
    "[g2xcase1-g2ycase1,g3xcase1-g3ycase1]"
   ]
  },
  {
   "cell_type": "code",
   "execution_count": 8,
   "metadata": {},
   "outputs": [
    {
     "data": {
      "text/plain": [
       "[0, 0]"
      ]
     },
     "execution_count": 8,
     "metadata": {},
     "output_type": "execute_result"
    }
   ],
   "source": [
    "# case2\n",
    "m0 = 64\n",
    "m1 = 4\n",
    "m2 = 49\n",
    "m3 = 100\n",
    "m4 = 36\n",
    "p2 = 1225\n",
    "p00 = 9\n",
    "p01 = 529\n",
    "p10 = 4\n",
    "p11 = 4\n",
    "q2 = 484    \n",
    "#\n",
    "file = open('Kite-elliptic-curve-g2-x.txt', 'r')\n",
    "lines = file.readlines()\n",
    "s = ''.join(lines);\n",
    "g2xcase2=eval(preparse(s))\n",
    "file.close()\n",
    "#\n",
    "file = open('Kite-elliptic-curve-g3-x.txt', 'r')\n",
    "lines = file.readlines()\n",
    "s = ''.join(lines);\n",
    "g3xcase2=eval(preparse(s))\n",
    "file.close()\n",
    "#\n",
    "file = open('Kite-elliptic-curve-g2-y.txt', 'r')\n",
    "lines = file.readlines()\n",
    "s = ''.join(lines);\n",
    "g2ycase2=eval(preparse(s))\n",
    "file.close()\n",
    "#\n",
    "file = open('Kite-elliptic-curve-g3-y.txt', 'r')\n",
    "lines = file.readlines()\n",
    "s = ''.join(lines);\n",
    "g3ycase2=eval(preparse(s))\n",
    "file.close()\n",
    "DiscEllipticCurveCase2=RR(4*g2ycase2^3 + 27*g3ycase2^2).substitute(t=z)\n",
    "# Here we see that the two elliptic curves match on numerics\n",
    "[g2xcase2-g2ycase2,g3xcase2-g3ycase2]"
   ]
  },
  {
   "cell_type": "code",
   "execution_count": 9,
   "metadata": {},
   "outputs": [
    {
     "data": {
      "text/plain": [
       "[0, 0]"
      ]
     },
     "execution_count": 9,
     "metadata": {},
     "output_type": "execute_result"
    }
   ],
   "source": [
    "#case3\n",
    "m0 = 1\n",
    "m1 = 1\n",
    "m2 = 1\n",
    "m3 = 1\n",
    "m4 = 1\n",
    "p2 = 1225\n",
    "p00 = 9\n",
    "p01 = 529\n",
    "p10 = 4\n",
    "p11 = 4\n",
    "q2 = 484   \n",
    "#\n",
    "file = open('Kite-elliptic-curve-g2-x.txt', 'r')\n",
    "lines = file.readlines()\n",
    "s = ''.join(lines);\n",
    "g2xcase3=eval(preparse(s))\n",
    "file.close()\n",
    "#\n",
    "file = open('Kite-elliptic-curve-g3-x.txt', 'r')\n",
    "lines = file.readlines()\n",
    "s = ''.join(lines);\n",
    "g3xcase3=eval(preparse(s))\n",
    "file.close()\n",
    "#\n",
    "file = open('Kite-elliptic-curve-g2-y.txt', 'r')\n",
    "lines = file.readlines()\n",
    "s = ''.join(lines);\n",
    "g2ycase3=eval(preparse(s))\n",
    "file.close()\n",
    "#\n",
    "file = open('Kite-elliptic-curve-g3-y.txt', 'r')\n",
    "lines = file.readlines()\n",
    "s = ''.join(lines);\n",
    "g3ycase3=eval(preparse(s))\n",
    "file.close()\n",
    "DiscEllipticCurveCase3=RR(4*g2ycase3^3 + 27*g3ycase3^2).substitute(t=z)\n",
    "# Here we see that the two elliptic curves match on numerics\n",
    "[g2xcase3-g2ycase3,g3xcase3-g3ycase3]"
   ]
  },
  {
   "cell_type": "code",
   "execution_count": 10,
   "metadata": {},
   "outputs": [
    {
     "data": {
      "text/plain": [
       "[0, 0]"
      ]
     },
     "execution_count": 10,
     "metadata": {},
     "output_type": "execute_result"
    }
   ],
   "source": [
    "#case4\n",
    "m0 = 9\n",
    "m1 = 1\n",
    "m2 = 27\n",
    "m3 = 7\n",
    "m4 = 11\n",
    "p2 = 18587\n",
    "p00 = 11990\n",
    "p01 = 13117\n",
    "p10 = 30107\n",
    "p11 = 8388\n",
    "q2 = 40073    \n",
    "#\n",
    "file = open('Kite-elliptic-curve-g2-x.txt', 'r')\n",
    "lines = file.readlines()\n",
    "s = ''.join(lines);\n",
    "g2xcase4=eval(preparse(s))\n",
    "file.close()\n",
    "#\n",
    "file = open('Kite-elliptic-curve-g3-x.txt', 'r')\n",
    "lines = file.readlines()\n",
    "s = ''.join(lines);\n",
    "g3xcase4=eval(preparse(s))\n",
    "file.close()\n",
    "#\n",
    "file = open('Kite-elliptic-curve-g2-y.txt', 'r')\n",
    "lines = file.readlines()\n",
    "s = ''.join(lines);\n",
    "g2ycase4=eval(preparse(s))\n",
    "file.close()\n",
    "#\n",
    "file = open('Kite-elliptic-curve-g3-y.txt', 'r')\n",
    "lines = file.readlines()\n",
    "s = ''.join(lines);\n",
    "g3ycase4=eval(preparse(s))\n",
    "file.close()\n",
    "DiscEllipticCurveCase4=RR(4*g2ycase4^3 + 27*g3ycase4^2).substitute(t=z)\n",
    "# Here we see that the two elliptic curves match on numerics\n",
    "[g2xcase4-g2ycase4,g3xcase4-g3ycase4]"
   ]
  },
  {
   "cell_type": "code",
   "execution_count": 11,
   "metadata": {},
   "outputs": [
    {
     "data": {
      "text/plain": [
       "[0, 0]"
      ]
     },
     "execution_count": 11,
     "metadata": {},
     "output_type": "execute_result"
    }
   ],
   "source": [
    "#case5\n",
    "m0 = 49\n",
    "m1 = 25\n",
    "m2 = 100\n",
    "m3 = 100\n",
    "m4 = 100\n",
    "p2 = 784\n",
    "p00 = 23\n",
    "p01 = 256\n",
    "p10 = 676\n",
    "p11 = 13\n",
    "q2 = 841    \n",
    "#\n",
    "file = open('Kite-elliptic-curve-g2-x.txt', 'r')\n",
    "lines = file.readlines()\n",
    "s = ''.join(lines);\n",
    "g2xcase5=eval(preparse(s))\n",
    "file.close()\n",
    "#\n",
    "file = open('Kite-elliptic-curve-g3-x.txt', 'r')\n",
    "lines = file.readlines()\n",
    "s = ''.join(lines);\n",
    "g3xcase5=eval(preparse(s))\n",
    "file.close()\n",
    "#\n",
    "file = open('Kite-elliptic-curve-g2-y.txt', 'r')\n",
    "lines = file.readlines()\n",
    "s = ''.join(lines);\n",
    "g2ycase5=eval(preparse(s))\n",
    "file.close()\n",
    "#\n",
    "file = open('Kite-elliptic-curve-g3-y.txt', 'r')\n",
    "lines = file.readlines()\n",
    "s = ''.join(lines);\n",
    "g3ycase5=eval(preparse(s))\n",
    "file.close()\n",
    "DiscEllipticCurveCase5=RR(4*g2ycase5^3 + 27*g3ycase5^2).substitute(t=z)\n",
    "# Here we see that the two elliptic curves match on numerics\n",
    "[g2xcase5-g2ycase5,g3xcase5-g3ycase5]"
   ]
  },
  {
   "cell_type": "code",
   "execution_count": 12,
   "metadata": {},
   "outputs": [
    {
     "data": {
      "text/plain": [
       "[0, 0]"
      ]
     },
     "execution_count": 12,
     "metadata": {},
     "output_type": "execute_result"
    }
   ],
   "source": [
    "#case6\n",
    "m0 = 9\n",
    "m1 = 1\n",
    "m2 = 27\n",
    "m3 = 7\n",
    "m4 = 11\n",
    "p2 = 9425\n",
    "p00 = 14428\n",
    "p01 = 32253\n",
    "p10 = 8379\n",
    "p11 = 11622\n",
    "q2 = 28699     \n",
    "#\n",
    "file = open('Kite-elliptic-curve-g2-x.txt', 'r')\n",
    "lines = file.readlines()\n",
    "s = ''.join(lines);\n",
    "g2xcase6=eval(preparse(s))\n",
    "file.close()\n",
    "#\n",
    "file = open('Kite-elliptic-curve-g3-x.txt', 'r')\n",
    "lines = file.readlines()\n",
    "s = ''.join(lines);\n",
    "g3xcase6=eval(preparse(s))\n",
    "file.close()\n",
    "#\n",
    "file = open('Kite-elliptic-curve-g2-y.txt', 'r')\n",
    "lines = file.readlines()\n",
    "s = ''.join(lines);\n",
    "g2ycase6=eval(preparse(s))\n",
    "file.close()\n",
    "#\n",
    "file = open('Kite-elliptic-curve-g3-y.txt', 'r')\n",
    "lines = file.readlines()\n",
    "s = ''.join(lines);\n",
    "g3ycase6=eval(preparse(s))\n",
    "file.close()\n",
    "DiscEllipticCurveCase6=RR(4*g2ycase6^3 + 27*g3ycase6^2).substitute(t=z)\n",
    "# Here we see that the two elliptic curves match on numerics\n",
    "[g2xcase6-g2ycase6,g3xcase6-g3ycase6]"
   ]
  },
  {
   "cell_type": "code",
   "execution_count": 13,
   "metadata": {},
   "outputs": [
    {
     "data": {
      "text/plain": [
       "[0, 0]"
      ]
     },
     "execution_count": 13,
     "metadata": {},
     "output_type": "execute_result"
    }
   ],
   "source": [
    "#case7\n",
    "m0 = 9\n",
    "m1 = 1\n",
    "m2 = 27\n",
    "m3 = 7\n",
    "m4 = 11\n",
    "p2 = 3043\n",
    "p00 = 13562\n",
    "p01 = 19975\n",
    "p10 = 10377\n",
    "p11 = 12990\n",
    "q2 = 30113   \n",
    "#\n",
    "file = open('Kite-elliptic-curve-g2-x.txt', 'r')\n",
    "lines = file.readlines()\n",
    "s = ''.join(lines);\n",
    "g2xcase7=eval(preparse(s))\n",
    "file.close()\n",
    "#\n",
    "file = open('Kite-elliptic-curve-g3-x.txt', 'r')\n",
    "lines = file.readlines()\n",
    "s = ''.join(lines);\n",
    "g3xcase7=eval(preparse(s))\n",
    "file.close()\n",
    "#\n",
    "file = open('Kite-elliptic-curve-g2-y.txt', 'r')\n",
    "lines = file.readlines()\n",
    "s = ''.join(lines);\n",
    "g2ycase7=eval(preparse(s))\n",
    "file.close()\n",
    "#\n",
    "file = open('Kite-elliptic-curve-g3-y.txt', 'r')\n",
    "lines = file.readlines()\n",
    "s = ''.join(lines);\n",
    "g3ycase7=eval(preparse(s))\n",
    "file.close()\n",
    "DiscEllipticCurveCase7=RR(4*g2ycase7^3 + 27*g3ycase7^2).substitute(t=z)\n",
    "# Here we see that the two elliptic curves match on numerics\n",
    "[g2xcase7-g2ycase7,g3xcase7-g3ycase7]"
   ]
  },
  {
   "cell_type": "markdown",
   "metadata": {},
   "source": [
    "<b>We compare with the Picard-Fuchs operator derived in <a href=\"https://arxiv.org/abs/2209.10962\">[arXiv:2209.10962] and show that the discrimiant of the elliptic curve captures some of the regular singular points</a>"
   ]
  },
  {
   "cell_type": "code",
   "execution_count": 14,
   "metadata": {},
   "outputs": [],
   "source": [
    "from ore_algebra import *\n",
    "OA, z, Dz = DifferentialOperators(QQ, 'z')"
   ]
  },
  {
   "cell_type": "markdown",
   "metadata": {},
   "source": [
    "`F := (9*x1 + x2 + 64*x3 + x4 + 16*x5)*((x3 + x4)*x5 + x1*(x3 + x4 + x5) + x2*(x3 + x4 + x5)) - t*((9*x1*x3 + 28*x2*x3 + 32*x1*x4 + 324*x2*x4)*x5 + 1156*x3*x4*(x1 + x2 + x5) + 676*x1*x2*(x3 + x4 + x5))`\n",
    "<br><b>This the case 1 (above) and the associated Picard-Fuchs operator is the file <a href=\"PF-Kite-d4-case1.txt\">PF-Kite-d4-case1.txt</a></b>"
   ]
  },
  {
   "cell_type": "code",
   "execution_count": 15,
   "metadata": {
    "scrolled": true
   },
   "outputs": [
    {
     "data": {
      "text/plain": [
       "[7, 83]"
      ]
     },
     "execution_count": 15,
     "metadata": {},
     "output_type": "execute_result"
    }
   ],
   "source": [
    "s = open(\"PF-Kite-d4-case1.txt\").readlines()[0]\n",
    "dopKited4case1 = OA(s.replace(\"^\", \"**\").replace(\"t\", \"z\").replace(\"D\", \"Dz\"))\n",
    "[dopKited4case1.order(),dopKited4case1.degree()]"
   ]
  },
  {
   "cell_type": "code",
   "execution_count": 16,
   "metadata": {},
   "outputs": [],
   "source": [
    "dopKited4case1desing=dopKited4case1.desingularize()"
   ]
  },
  {
   "cell_type": "markdown",
   "metadata": {},
   "source": [
    "<b>This discriminent has zeroes at $z=0$ and roots of a 10th order polynomial, which are singularities of the kite differential operator</b>"
   ]
  },
  {
   "cell_type": "code",
   "execution_count": 17,
   "metadata": {},
   "outputs": [
    {
     "data": {
      "text/plain": [
       "(z - 81/1156) * (z - 49/1156) * (z - 4/169) * (z - 1/169) * z^2 * (z^2 + 2232483943465/64036087046568*z - 117916789735/2049154785490176) * (z^2 + 745713978035/1793011377024*z - 75422205785615/33163538429435904) * (z^10 - 755949288816940893972368908621/103335565741105939652777498496*z^9 + 240754454689484820609930312357817859993/35611719257045722281189693753328367616*z^8 + 17746908640099306353587956956521971655/20349553861168984160679825001901924352*z^7 + 37233597096760645638062648291643400633/2279150032450926225996140400213015527424*z^6 - 5733819772873235801332375823677346989/1139575016225463112998070200106507763712*z^5 - 46765743060053182291709296632855449/325592861778703746570877200030430789632*z^4 + 700824481044588868588976833141511/71223438514091444562379387506656735232*z^3 + 37571685004429214555587794056497/71223438514091444562379387506656735232*z^2 - 20962269470169928699283390495/635923558161530755021244531309435136*z + 32816286237237404453624855/60564148396336262382975669648517632)"
      ]
     },
     "execution_count": 17,
     "metadata": {},
     "output_type": "execute_result"
    }
   ],
   "source": [
    "dopKited4case1desing.leading_coefficient().factor()"
   ]
  },
  {
   "cell_type": "code",
   "execution_count": 18,
   "metadata": {},
   "outputs": [
    {
     "data": {
      "text/plain": [
       "(-21654068875396917074329600) * z^12 * (2279150032450926225996140400213015527424*z^10 + (-16673077016435425996087778519948895335424)*z^9 + 15408285100127028519035539990900343039552*z^8 + 1987653767691122311601851179130460825360*z^7 + 37233597096760645638062648291643400633*z^6 + (-11467639545746471602664751647354693978)*z^5 + (-327360201420372276041965076429988143)*z^4 + 22426383393426843794847258660528352*z^3 + 1202293920141734865778809409807904*z^2 + (-75128773781089024458231671534080)*z + 1234942483679718004398810543360)"
      ]
     },
     "execution_count": 18,
     "metadata": {},
     "output_type": "execute_result"
    }
   ],
   "source": [
    "DiscEllipticCurveCase1.factor()"
   ]
  },
  {
   "cell_type": "markdown",
   "metadata": {},
   "source": [
    "`F := (4*x1 + 64*x2 + 100*x3 + 36*x4 + 49*x5)*((x3 + x4)*x5 + x1*(x3 + x4 + x5) + x2*(x3 + x4 + x5)) - t*((4*x1*x3 + 9*x2*x3 + 4*x1*x4 + 529*x2*x4)*x5 + 484*x3*x4*(x1 + x2 + x5) + 1225*x1*x2*(x3 + x4 + x5))`\n",
    "<br><b>This the case 2 (above) and the associated Picard-Fuchs operator is the file <a href=\"PF-Kite-d4-case2.txt\">PF-Kite-d4-case2.txt</a></b>"
   ]
  },
  {
   "cell_type": "code",
   "execution_count": 19,
   "metadata": {},
   "outputs": [
    {
     "data": {
      "text/plain": [
       "[7, 83]"
      ]
     },
     "execution_count": 19,
     "metadata": {},
     "output_type": "execute_result"
    }
   ],
   "source": [
    "s = open(\"PF-Kite-d4-case2.txt\").readlines()[0]\n",
    "dopKited4case2 = OA(s.replace(\"^\", \"**\").replace(\"t\", \"z\").replace(\"D\", \"Dz\"))\n",
    "[dopKited4case2.order(),dopKited4case2.degree()]"
   ]
  },
  {
   "cell_type": "code",
   "execution_count": 20,
   "metadata": {},
   "outputs": [],
   "source": [
    "dopKited4case2desing=dopKited4case2.desingularize()"
   ]
  },
  {
   "cell_type": "markdown",
   "metadata": {},
   "source": [
    "<b>This discriminent has zeroes at $z=0$ and roots of a 10th order polynomial, which are singularities of the kite differential operator</b>"
   ]
  },
  {
   "cell_type": "code",
   "execution_count": 21,
   "metadata": {
    "scrolled": true
   },
   "outputs": [
    {
     "data": {
      "text/plain": [
       "(z - 64/121) * (z - 4/49) * (z - 4/121) * (z - 36/1225) * z^2 * (z^2 - 33736/4459*z + 30621488/237936699) * (z^2 + 334469/518364*z + 42583393/413227584) * (z^10 - 2078978098739092392925130/88422269407909844603427*z^9 + 65066972945220315833858167/412637257236912608149326*z^8 - 114896335948378280258989608347/349503756879664979102479122*z^7 + 4332550037521860992237745428185/25164270495335878495378496784*z^6 - 96887547688532097155807750533/3145533811916984811922312098*z^5 - 80076614868499292270963879239/37746405743003817743067745176*z^4 + 5379897820389772864753061413/4718300717875477217883468147*z^3 - 6912344200682361412711616725/75492811486007635486135490352*z^2 + 12861717102483377583095240/4718300717875477217883468147*z - 43437911174903352064768/1572766905958492405961156049)"
      ]
     },
     "execution_count": 21,
     "metadata": {},
     "output_type": "execute_result"
    }
   ],
   "source": [
    "dopKited4case2desing.leading_coefficient().factor()"
   ]
  },
  {
   "cell_type": "code",
   "execution_count": 22,
   "metadata": {},
   "outputs": [
    {
     "data": {
      "text/plain": [
       "(-12711476691635979091968000000000000) * z^12 * (75492811486007635486135490352*z^10 + (-1774981605229067346862045790880)*z^9 + 11904132834273947222436019368984*z^8 + (-24817608564849708535941755402952)*z^7 + 12997650112565582976713236284555*z^6 + (-2325301144524770331739386012792)*z^5 + (-160153229736998584541927758478)*z^4 + 86078365126236365836048982608*z^3 + (-6912344200682361412711616725)*z^2 + 205787473639734041329523840*z - 2085019736395360899108864)"
      ]
     },
     "execution_count": 22,
     "metadata": {},
     "output_type": "execute_result"
    }
   ],
   "source": [
    "DiscEllipticCurveCase2.factor()"
   ]
  },
  {
   "cell_type": "markdown",
   "metadata": {},
   "source": [
    "`F := (x1 + x2 + x3 + x4 + x5)*((x3 + x4)*x5 + x1*(x3 + x4 + x5) + x2*(x3 + x4 + x5)) - t*((4*x1*x3 + 9*x2*x3 + 4*x1*x4 + 529*x2*x4)*x5 + 484*x3*x4*(x1 + x2 + x5) + 1225*x1*x2*(x3 + x4 + x5))`\n",
    "<br><b>This the case 3 (above) and the associated Picard-Fuchs operator is the file <a href=\"PF-Kite-d4-case3.txt\">PF-Kite-d4-case3.txt</a></b>"
   ]
  },
  {
   "cell_type": "code",
   "execution_count": 23,
   "metadata": {},
   "outputs": [
    {
     "data": {
      "text/plain": [
       "[7, 64]"
      ]
     },
     "execution_count": 23,
     "metadata": {},
     "output_type": "execute_result"
    }
   ],
   "source": [
    "s = open(\"PF-Kite-d4-case3.txt\").readlines()[0]\n",
    "dopKited4case3 = OA(s.replace(\"^\", \"**\").replace(\"t\", \"z\").replace(\"D\", \"Dz\"))\n",
    "[dopKited4case3.order(),dopKited4case3.degree()]"
   ]
  },
  {
   "cell_type": "code",
   "execution_count": 24,
   "metadata": {},
   "outputs": [],
   "source": [
    "dopKited4case3desing=dopKited4case3.desingularize()"
   ]
  },
  {
   "cell_type": "markdown",
   "metadata": {},
   "source": [
    "<b>This discriminent has zeroes at $z=0$ and roots of a 6th order polynomial, which are singularities of the kite differential operator</b>"
   ]
  },
  {
   "cell_type": "code",
   "execution_count": 25,
   "metadata": {},
   "outputs": [
    {
     "data": {
      "text/plain": [
       "(z - 1/4) * (z - 1/121) * (z - 4/1225) * z^5 * (z^2 - 3993/35672*z - 3066001/3806987184) * (z^2 + 31445/2073456*z + 180353/6611641344) * (z^6 - 10295487754353285737534/88422269407909844603427*z^5 + 46992487342401122045/88422269407909844603427*z^4 + 106359817636452068/68772876206152101358221*z^3 - 4402538539544288057/174751878439832489551239561*z^2 - 70778384917082/2157430598022623327793081*z + 3543147405625/174751878439832489551239561)"
      ]
     },
     "execution_count": 25,
     "metadata": {},
     "output_type": "execute_result"
    }
   ],
   "source": [
    "dopKited4case3desing.leading_coefficient().factor()"
   ]
  },
  {
   "cell_type": "code",
   "execution_count": 26,
   "metadata": {},
   "outputs": [
    {
     "data": {
      "text/plain": [
       "(-47648184183558438912000000000000) * (4*z - 1)^2 * z^14 * (524255635319497468653718683*z^6 + (-61041946895560631137839086)*z^5 + 278618457453096252604805*z^4 + 810780889842674114364*z^3 + (-13207615618632864171)*z^2 + (-17199147534850926)*z + 10629442216875)"
      ]
     },
     "execution_count": 26,
     "metadata": {},
     "output_type": "execute_result"
    }
   ],
   "source": [
    "DiscEllipticCurveCase3.factor()"
   ]
  },
  {
   "cell_type": "markdown",
   "metadata": {},
   "source": [
    "`F := (x1 + 9*x2 + 7*x3 + 11*x4 + 27*x5)*(x1*x3 + x2*x3 + x1*x4 + x2*x4 + x1*x5 + x2*x5 + x3*x5 + x4*x5) - t*(18587*x1*x2*x3 + 18587*x1*x2*x4 + 40073*x1*x3*x4 + 40073*x2*x3*x4 + 18587*x1*x2*x5 + 30107*x1*x3*x5 + 11990*x2*x3*x5 + 8388*x1*x4*x5 + 13117*x2*x4*x5 + 40073*x3*x4*x5)`\n",
    "<br><b>This the case 4 (above) and the associated Picard-Fuchs operator is the file <a href=\"PF-Kite-d4-case4.txt\">PF-Kite-d4-case4.txt</a></b>"
   ]
  },
  {
   "cell_type": "code",
   "execution_count": 27,
   "metadata": {},
   "outputs": [
    {
     "data": {
      "text/plain": [
       "[7, 83]"
      ]
     },
     "execution_count": 27,
     "metadata": {},
     "output_type": "execute_result"
    }
   ],
   "source": [
    "s = open(\"PF-Kite-d4-case4.txt\").readlines()[0]\n",
    "dopKited4case4 = OA(s.replace(\"^\", \"**\").replace(\"t\", \"z\").replace(\"D\", \"Dz\"))\n",
    "[dopKited4case4.order(),dopKited4case4.degree()]"
   ]
  },
  {
   "cell_type": "code",
   "execution_count": 28,
   "metadata": {},
   "outputs": [],
   "source": [
    "dopKited4case4desing=dopKited4case4.desingularize()"
   ]
  },
  {
   "cell_type": "markdown",
   "metadata": {},
   "source": [
    "<b>This discriminent has zeroes at $z=0$ and roots of a 10th order polynomial, which are singularities of the kite differential operator</b>"
   ]
  },
  {
   "cell_type": "code",
   "execution_count": 29,
   "metadata": {},
   "outputs": [
    {
     "data": {
      "text/plain": [
       "(z - 16/18587) * (z - 4/18587) * z^2 * (z^2 - 1128825893881233356/474216287658017532165*z + 936142357244949628/587617209246638124690057) * (z^2 - 32269989863223284/17515326543469924845*z + 11076215880856233356/12868014143901955469084225) * (z^2 - 36/40073*z + 16/1605845329) * (z^10 + 67946164471007276538237898508717216300022384676141/3354274752957136836459682932221443021870572254573940*z^9 + 90243366712786349819785534210238785312957554924238053443813/219858095105562913053536435685095412847568102754504495831138720*z^8 + 1071377377668428034870048548661129739442131206079256095691/831338422117909764983684647434267029829866888540470124861493285*z^7 + 1889964393390311417425026596207083996432487935497033951901/1609471185220273305008413477432740969750622296214350161731850999760*z^6 - 1024560526207606374663103889445169736241076408229321/45984891006293523000240385069506884850017779891838576049481457136*z^5 - 71945759990555456702125133288032338165731922264041/643788474088109322003365390973096387900248918485740064692740399904*z^4 - 4973149905717435314093179742477477373353769443/146315562292752118637128497948430997250056572383122741975622818160*z^3 + 67647915172920165310685056703937890319174401/3218942370440546610016826954865481939501244592428700323463701999520*z^2 - 438247853590162510618433628880901263/140688040666107806381854324950414420432746704214541098053483479*z + 5093799873893874497577502490959256/33530649692089027187675280779848770203137964504465628369413562495)"
      ]
     },
     "execution_count": 29,
     "metadata": {},
     "output_type": "execute_result"
    }
   ],
   "source": [
    "dopKited4case4desing.leading_coefficient().factor()"
   ]
  },
  {
   "cell_type": "code",
   "execution_count": 30,
   "metadata": {},
   "outputs": [
    {
     "data": {
      "text/plain": [
       "(-8521930886078253429523668271104) * z^12 * (3218942370440546610016826954865481939501244592428700323463701999520*z^10 + 65204792043892027324804728606693548275847037944460050753371380328*z^9 + 1321253132041904947711480006372106055767011561645769340470866133*z^8 + 4148373206332153351016827980415894351119932029938879602515552*z^7 + 3779928786780622834850053192414167992864975870994067903802*z^6 + (-71719236834532446226417272261161881536875348576052470)*z^5 + (-359728799952777283510625666440161690828659611320205)*z^4 + (-109409297925783576910049954334504502213782927746)*z^3 + 67647915172920165310685056703937890319174401*z^2 + (-10027110890142918242949761428795020897440)*z + 489004787893811951767440239132088576)"
      ]
     },
     "execution_count": 30,
     "metadata": {},
     "output_type": "execute_result"
    }
   ],
   "source": [
    "DiscEllipticCurveCase4.factor()"
   ]
  },
  {
   "cell_type": "markdown",
   "metadata": {},
   "source": [
    "`F := (25*x1 + 49*x2 + 100*x3 + 100*x4 + 100*x5)*((x3 + x4)*x5 + x1*(x3 + x4 + x5) + x2*(x3 + x4 + x5)) - t*((676*x1*x3 + 23*x2*x3 + 13*x1*x4 + 256*x2*x4)*x5 + 841*x3*x4*(x1 + x2 + x5) + 784*x1*x2*(x3 + x4 + x5))`\n",
    "<br><b>This the case 5 (above) and the associated Picard-Fuchs operator is the file <a href=\"PF-Kite-d4-case5.txt\">PF-Kite-d4-case5.txt</a></b>"
   ]
  },
  {
   "cell_type": "code",
   "execution_count": 31,
   "metadata": {},
   "outputs": [
    {
     "data": {
      "text/plain": [
       "[7, 82]"
      ]
     },
     "execution_count": 31,
     "metadata": {},
     "output_type": "execute_result"
    }
   ],
   "source": [
    "s = open(\"PF-Kite-d4-case5.txt\").readlines()[0]\n",
    "dopKited4case5 = OA(s.replace(\"^\", \"**\").replace(\"t\", \"z\").replace(\"D\", \"Dz\"))\n",
    "[dopKited4case5.order(),dopKited4case5.degree()]"
   ]
  },
  {
   "cell_type": "code",
   "execution_count": 32,
   "metadata": {},
   "outputs": [],
   "source": [
    "dopKited4case5desing=dopKited4case5.desingularize()"
   ]
  },
  {
   "cell_type": "markdown",
   "metadata": {},
   "source": [
    "<b>This discriminent has zeroes at $z=0$ and roots of a 10th order polynomial, which are singularities of the kite differential operator</b>"
   ]
  },
  {
   "cell_type": "code",
   "execution_count": 33,
   "metadata": {},
   "outputs": [
    {
     "data": {
      "text/plain": [
       "(z - 400/841) * (z - 9/49) * (z - 1/196) * z^3 * (z^2 - 131484067255/24650738112*z - 163183905/79008776) * (z^2 - 45548458816000/11645244473511*z - 11218701312000000/3264550200740917) * (z^10 - 5039327536552654730540937108872413/1461405757500446489285875275788288*z^9 + 243669952731757768610887134139191680327269/250527970621077341408243598438231770398720*z^8 + 18490546572539260603582449419084605357469/6263199265526933535206089960955794259968*z^7 + 269705590825541652513067141705080226303/11184284402726667027153732073135346892800*z^6 - 112293833015382779727477327737039761903/611640553274114603047469722749589283200*z^5 + 17484807610920676319890463421320417577/611640553274114603047469722749589283200*z^4 + 413892600797090592578873429131949217/38227534579632162690466857671849330200*z^3 - 169944746180932476704980134303291/1470289791524313949633340679686512700*z^2 - 59190044912531215074887760/457292322061167991186917673363*z + 3236579364238155590400/2969702265283355654831350481)"
      ]
     },
     "execution_count": 33,
     "metadata": {},
     "output_type": "execute_result"
    }
   ],
   "source": [
    "dopKited4case5desing.leading_coefficient().factor()"
   ]
  },
  {
   "cell_type": "code",
   "execution_count": 34,
   "metadata": {},
   "outputs": [
    {
     "data": {
      "text/plain": [
       "(-284590164080325184000000) * z^12 * (1252639853105386707041217992191158851993600*z^10 + (-4319445487839005654849918728246083960193600)*z^9 + 1218349763658788843054435670695958401636345*z^8 + 3698109314507852120716489883816921071493800*z^7 + 30207026172460665081463519870968985345936*z^6 + (-229977770015503932881873567205457432377344)*z^5 + 35808885987165545103135669086864215197696*z^4 + 13562432742919064537624524525795711942656*z^3 + (-144787485514276680313388515062106226688)*z^2 + (-162136571264401799140844249163497472000)*z + 1365210360236691620470239516426240000)"
      ]
     },
     "execution_count": 34,
     "metadata": {},
     "output_type": "execute_result"
    }
   ],
   "source": [
    "DiscEllipticCurveCase5.factor()"
   ]
  },
  {
   "cell_type": "markdown",
   "metadata": {},
   "source": [
    "`F := (x1 + 9*x2 + 7*x3 + 11*x4 + 27*x5)*(x1*x3 + x2*x3 + x1*x4 + x2*x4 + x1*x5 + x2*x5 + x3*x5 + x4*x5) - t*(9425*x1*x2*x3 + 9425*x1*x2*x4 + 28699*x1*x3*x4 + 28699*x2*x3*x4 + 9425*x1*x2*x5 + 8379*x1*x3*x5 + 14428*x2*x3*x5 + 11622*x1*x4*x5 + 32253*x2*x4*x5 + 28699*x3*x4*x5)`\n",
    "<br><b>This the case 1 (above) and the associated Picard-Fuchs operator is the file <a href=\"PF-Kite-d4-case6.txt\">PF-Kite-d4-case6.txt</a></b>"
   ]
  },
  {
   "cell_type": "code",
   "execution_count": 35,
   "metadata": {},
   "outputs": [
    {
     "data": {
      "text/plain": [
       "[7, 83]"
      ]
     },
     "execution_count": 35,
     "metadata": {},
     "output_type": "execute_result"
    }
   ],
   "source": [
    "s = open(\"PF-Kite-d4-case6.txt\").readlines()[0]\n",
    "dopKited4case6 = OA(s.replace(\"^\", \"**\").replace(\"t\", \"z\").replace(\"D\", \"Dz\"))\n",
    "[dopKited4case6.order(),dopKited4case6.degree()]"
   ]
  },
  {
   "cell_type": "code",
   "execution_count": 36,
   "metadata": {},
   "outputs": [],
   "source": [
    "dopKited4case6desing=dopKited4case6.desingularize()"
   ]
  },
  {
   "cell_type": "markdown",
   "metadata": {},
   "source": [
    "<b>This discriminent has zeroes at $z=0$ and roots of a 10th order polynomial, which are singularities of the kite differential operator</b>"
   ]
  },
  {
   "cell_type": "code",
   "execution_count": 37,
   "metadata": {},
   "outputs": [
    {
     "data": {
      "text/plain": [
       "(z - 16/9425) * (z - 4/9425) * z^2 * (z^2 - 23188314457210644/13132033175477306233*z + 3889270058589135076/4899390861339301750551271) * (z^2 - 36/28699*z + 16/823632601) * (z^2 - 111831730321776588/94787793455630396225*z + 328132495313746028/893374953319316484420625) * (z^10 - 60669236045776923949069655188929796029973/9250771876505472909093004115340279263615900*z^9 + 183049770405190962539788507816095513763154603531979617/5599627832331532822346289913721067836215470134198024364000*z^8 - 116758624050398918969695750010058820930113144949183/1378696246596778914592836531787384126340930146677543877500*z^7 + 1317970608119929504460040380801613495708277596913823/7097528277480217852323922465641453482403108395095995881370000*z^6 - 19101454649515409129714306694191114831935302232649/92267867607242832080210992053338895271240409136247946457810000*z^5 + 62209175243195842116001222882237378196174207563/287875746934597636090258295206417353246270076505093592948367200*z^4 - 831540597327889577577741767266463935679777/6407315282409548810391312555957104492880274953030777818670000*z^3 + 7775028557101281831321261567848444318955683/110570457345334092043758299749737574315044643021274584564259220000*z^2 - 27573859360574019314782920821054716949/2533906314163906276002794369264819411386439735904209229597607125*z + 2093975385908425766678739124268936/4223177190273177126671323948774699018977399559840348715996011875)"
      ]
     },
     "execution_count": 37,
     "metadata": {},
     "output_type": "execute_result"
    }
   ],
   "source": [
    "dopKited4case6desing.leading_coefficient().factor()"
   ]
  },
  {
   "cell_type": "code",
   "execution_count": 38,
   "metadata": {},
   "outputs": [
    {
     "data": {
      "text/plain": [
       "(-52803920539978612765903341748224) * z^12 * (1216275030798675012481341297247113317465491073234020430206851420000*z^10 + (-7976683235213897423075939557122706152442934970903968442661067400)*z^9 + 39759582565786922311757131243048507681122832892381595141846885*z^8 + (-103003543683718363590732220001759813043860291828018000598744)*z^7 + 225855351231079839461299279896449298305544698672734192218*z^6 + (-251795375189912123147893990842827275714571154030779118)*z^5 + 262833765402502432940105166677452922878836026953675*z^4 + (-157848025428363966953272408713123783054349348802)*z^3 + 85525314128114100144533877246332887508512513*z^2 + (-13235452493075529271095801994106264135520)*z + 603064911141626620803476867789453568)"
      ]
     },
     "execution_count": 38,
     "metadata": {},
     "output_type": "execute_result"
    }
   ],
   "source": [
    "DiscEllipticCurveCase6.factor()"
   ]
  },
  {
   "cell_type": "markdown",
   "metadata": {},
   "source": [
    "`F := (x1 + 9*x2 + 7*x3 + 11*x4 + 27*x5)*(x1*x3 + x2*x3 + x1*x4 + x2*x4 + x1*x5 + x2*x5 + x3*x5 + x4*x5) - t*(9425*x1*x2*x3 + 9425*x1*x2*x4 + 28699*x1*x3*x4 + 28699*x2*x3*x4 + 9425*x1*x2*x5 + 8379*x1*x3*x5 + 14428*x2*x3*x5 + 11622*x1*x4*x5 + 32253*x2*x4*x5 + 28699*x3*x4*x5)`\n",
    "<br><b>This the case 7 (above) and the associated Picard-Fuchs operator is the file <a href=\"PF-Kite-d4-case7.txt\">PF-Kite-d4-case7.txt</a></b>"
   ]
  },
  {
   "cell_type": "code",
   "execution_count": 39,
   "metadata": {},
   "outputs": [
    {
     "data": {
      "text/plain": [
       "[7, 83]"
      ]
     },
     "execution_count": 39,
     "metadata": {},
     "output_type": "execute_result"
    }
   ],
   "source": [
    "s = open(\"PF-Kite-d4-case7.txt\").readlines()[0]\n",
    "dopKited4case7 = OA(s.replace(\"^\", \"**\").replace(\"t\", \"z\").replace(\"D\", \"Dz\"))\n",
    "[dopKited4case7.order(),dopKited4case7.degree()]"
   ]
  },
  {
   "cell_type": "code",
   "execution_count": 40,
   "metadata": {},
   "outputs": [],
   "source": [
    "dopKited4case7desing=dopKited4case7.desingularize()"
   ]
  },
  {
   "cell_type": "markdown",
   "metadata": {},
   "source": [
    "<b>This discriminent has zeroes at $z=0$ and roots of a 10th order polynomial, which are singularities of the kite differential operator</b>"
   ]
  },
  {
   "cell_type": "code",
   "execution_count": 41,
   "metadata": {},
   "outputs": [
    {
     "data": {
      "text/plain": [
       "(z - 16/3043) * (z - 4/3043) * z^2 * (z^2 - 121595606049847600/50320394840153957029*z + 94747648927706335/43749988999596711782642) * (z^2 - 68741279658928/44009948932634517*z + 390254797438297/631081710575439624010) * (z^2 - 36/30113*z + 16/906792769) * (z^10 - 337979943686947110697468550686544641670277547667872/89801762212516454378654685896473250081709633832088225*z^9 + 165651037817139924905866627284581258324786108009092880106451/5924795051903947787313774789931237244586565727168065501351398000*z^8 - 8135541320506935013033799928607144685807559513177944039/123433230247998912235703641456900775928886785982668031278154125*z^7 + 799663661997157475010476367455381562402536822628619181/3554877031142368672388264873958742346751939436300839300810838800*z^6 - 1116914933797150182301848087342319414716620113222297/2962397525951973893656887394965618622293282863584032750675699000*z^5 + 43755006983965308214676455682999940136566501998803/71097540622847373447765297479174846935038788726016786016216776000*z^4 - 455063602015946656231802199905377984314718873/658310561322660865257086087770137471620729525240896166816822000*z^3 + 44442533245036521487697587134232164713861161/71097540622847373447765297479174846935038788726016786016216776000*z^2 - 29062639631980214526704155438739475259/148119876297598694682844369748280931114664143179201637533784950*z + 473372696043949237717900550843396/24686646049599782447140728291380155185777357196533606255630825)"
      ]
     },
     "execution_count": 41,
     "metadata": {},
     "output_type": "execute_result"
    }
   ],
   "source": [
    "dopKited4case7desing.leading_coefficient().factor()"
   ]
  },
  {
   "cell_type": "code",
   "execution_count": 42,
   "metadata": {},
   "outputs": [
    {
     "data": {
      "text/plain": [
       "(-5337487879888995368694507110400) * z^12 * (71097540622847373447765297479174846935038788726016786016216776000*z^10 + (-267584312200069310533423702535910397467050530218981172898334720)*z^9 + 1987812453805679098870399527414975099897433296109114561277412*z^8 + (-4686071800611994567507468758877715339025154279590495766464)*z^7 + 15993273239943149500209527349107631248050736452572383620*z^6 + (-26805958411131604375244354096215665953198882717335128)*z^5 + 43755006983965308214676455682999940136566501998803*z^4 + (-49146869017722238873034637589780822305989638284)*z^3 + 44442533245036521487697587134232164713861161*z^2 + (-13950067023350502972817994610594948124320)*z + 1363313364606573804627553586428980480)"
      ]
     },
     "execution_count": 42,
     "metadata": {},
     "output_type": "execute_result"
    }
   ],
   "source": [
    "DiscEllipticCurveCase7.factor()"
   ]
  }
 ],
 "metadata": {
  "kernelspec": {
   "display_name": "SageMath 9.8",
   "language": "sage",
   "name": "sagemath-9.8"
  },
  "language_info": {
   "codemirror_mode": {
    "name": "ipython",
    "version": 3
   },
   "file_extension": ".py",
   "mimetype": "text/x-python",
   "name": "python",
   "nbconvert_exporter": "python",
   "pygments_lexer": "ipython3",
   "version": "3.11.1"
  }
 },
 "nbformat": 4,
 "nbformat_minor": 1
}
