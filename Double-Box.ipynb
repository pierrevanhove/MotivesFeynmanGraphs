{
 "cells": [
  {
   "cell_type": "markdown",
   "metadata": {},
   "source": [
    "<H3><center><b>The double box graph motive</b></center></H3>\n",
    "<b>Starting from a generic graph polynomial we perform the analysis of section 5.3 of the paper <a href=\"https://arxiv.org/search/advanced?advanced=&terms-0-operator=AND&terms-0-term=vanhove&terms-0-field=author&terms-1-operator=AND&terms-1-term=doran&terms-1-field=author&terms-2-operator=AND&terms-2-term=harder&terms-2-field=author&classification-mathematics=y&classification-physics_archives=all&classification-include_cross_list=include&date-filter_by=all_dates&date-year=&date-from_date=&date-to_date=&date-date_type=submitted_date&abstracts=show&size=50&order=-announced_date_first\">Motivic geometry of two-loop Feynman integrals</a></b>"
   ]
  },
  {
   "cell_type": "markdown",
   "metadata": {},
   "source": [
    "<center><img src=\"DoubleBox.png\" alt=\"DoubleBox\" style=\"width:200px\"></center>"
   ]
  },
  {
   "cell_type": "markdown",
   "metadata": {},
   "source": [
    "<b>The graph polynomials read</b>\n",
    "$$\n",
    "\\int_{\\gamma}{{\\bf U}_{(3,1,3)}^{7-{3D\\over2}} \\over {\\bf F}_{(3,1,3);D}(t)^{7-D}} dx_1\\cdots dx_{7}\n",
    "$$\n",
    "$$\n",
    "{\\bf U}_{(3,1,3)}  = \\left(  \\sum_{i=1}^3 x_i\\right) \\left( \\sum_{i=1}^3 y_i \\right) + z \\left(\\sum_{i=1}^3 y_i+ \\sum_{i=1}^3 x_i\\right)\n",
    "$$\n",
    "$$\n",
    "{\\bf V}_{(3,1,3);D}  = \\left( z + \\sum_{i=1}^3\n",
    "                  y_i\\right)\\left(p_2^2 x_1\n",
    "                  x_2+(p_2+p_3)^2x_1x_3+p_3^2x_2x_3\\right)    + \\left(z+\\sum_{i=1}^3 x_i\\right)\\left(\n",
    "                  p_6^2y_1 y_2+(p_5+p_6)^2y_1y_3+p_5^2y_2y_5 \\right) \n",
    "                                                + z\\left(       \\sum_{i=1}^3\\sum_{j=1}^3\n",
    "                                                                          \\left(\\sum_{s=7-i}^6\n",
    "                                                                          p_{s}+\\sum_{r=1}^j\n",
    "                                                                          p_r\\right)^2\n",
    "                                                                          x_i y_i \\right)\n",
    "$$\n",
    "$$\n",
    "{\\bf F}_{(3,1,3);D}(t) = {\\bf U}_{(3,1,3)}\\left( \\sum_{i=1}^3 m^2_i y_i +\\sum_{i=1}^3 m_{i+3}^2 x_i + m^2_{7} z\\right)-t {\\bf V}_{(3,1,3);D}\n",
    "$$"
   ]
  },
  {
   "cell_type": "code",
   "execution_count": 1,
   "metadata": {},
   "outputs": [],
   "source": [
    "# Here we define the graph polynomials\n",
    "S.<X,x1,x2,x3,z,y1,y2,y3,w,t,s,s11,s22,s33,s44,s55,s66,s12,s23,s34,s45,s56,s61,s123,s234,s345,s456,s561,s13,s35,m1,m2,m3,m4,m5,m6,m7> = QQ[]\n",
    "U = (y1 + y2 + y3)*z + (x1 + x2 + x3)*z + (y1 + y2 + y3)*(x1 + x2 + x3)\n",
    "P = s55*y1*y2 + s45*y1*y3 + s44*y2*y3\n",
    "Q = s11*x1*x2 + s12*x1*x3 + s22*x2*x3\n",
    "R = s66*x1*y1 + s61*x2*y1 + s345*x3*y1 + s56*x1*y2 + s234*x2*y2 +   s34*x3*y2 + s123*x1*y3 + s23*x2*y3 + s33*x3*y3\n",
    "V = (z+y1+y2+y3)*Q + (z+x1+x2+x3)*P + z*R\n",
    "F = U*(m1*x1+m2*x2+m3*x3 + m4*z + m5*y1 + m6*y2 + m7*y3)  -t* V"
   ]
  },
  {
   "cell_type": "code",
   "execution_count": 2,
   "metadata": {},
   "outputs": [],
   "source": [
    "# Blow up + \n",
    "Xlist = [x1,x2,y1,y2,y3,w]\n",
    "q = z/(z+x1+x2+x3)\n",
    "G = (F.substitute(y1=y1*q, y2=y2*q,y3=y3*q)/z).numerator()\n",
    "H = G.substitute(x3 = X - x1 - x2 - y1-y2-y3).substitute(x1=x1/w,x2=x2/w,y1=y1/w,y2=y2/w,y3=y3/w).numerator()\n",
    "L = matrix(S,6)\n",
    "for i in range(0,len(Xlist)):\n",
    "    for j in range(0,len(Xlist)):\n",
    "        if i == j:\n",
    "            L[i,j] = 2*H.coefficient(Xlist[i]*Xlist[j])\n",
    "        else:\n",
    "            L[i,j] = H.coefficient(Xlist[i]*Xlist[j])\n",
    "Disc = (L.determinant())"
   ]
  },
  {
   "cell_type": "code",
   "execution_count": 3,
   "metadata": {},
   "outputs": [],
   "source": [
    "# The discriminant has the expansion\n",
    "# X z^3 (A X^4+B X^3 z+ C X^2 z^2+ D X z^3+E z^4)\n",
    "# E is the Gram determinant"
   ]
  },
  {
   "cell_type": "code",
   "execution_count": 4,
   "metadata": {},
   "outputs": [],
   "source": [
    "Gram=Disc.coefficient(X)"
   ]
  },
  {
   "cell_type": "code",
   "execution_count": 5,
   "metadata": {},
   "outputs": [
    {
     "data": {
      "text/plain": [
       "(4) * m4 * t^5 * z^7 * (s11^2*s33^2*s55 - s11^2*s33*s44*s55 + s11*s22*s33*s44*s55 + s11^2*s33*s55^2 - s11*s22*s33*s55^2 + s11*s33^2*s55^2 + s11*s22*s33*s44*s66 - s11*s22*s44^2*s66 + s22^2*s44^2*s66 + s11*s22*s33*s55*s66 - s11*s33^2*s55*s66 + s11*s22*s44*s55*s66 - s22^2*s44*s55*s66 + s11*s33*s44*s55*s66 + s22*s33*s44*s55*s66 + s22^2*s44*s66^2 - s22*s33*s44*s66^2 + s22*s44^2*s66^2 + s11*s22*s44^2*s12 - 2*s11*s22*s44*s55*s12 + s11*s33*s44*s55*s12 + s11*s22*s55^2*s12 - s11*s33*s55^2*s12 - s22*s44^2*s66*s12 + s22*s44*s55*s66*s12 - s33*s44*s55*s66*s12 - s11*s33*s55^2*s23 + s22*s33*s55^2*s23 + s11*s33*s55*s66*s23 - 2*s22*s33*s55*s66*s23 - s11*s44*s55*s66*s23 + s22*s44*s55*s66*s23 + s22*s33*s66^2*s23 - s22*s44*s66^2*s23 - 2*s11*s33*s55*s12*s23 + s11*s44*s55*s12*s23 + s22*s44*s55*s12*s23 - s11*s55^2*s12*s23 - s22*s55^2*s12*s23 - s33*s55^2*s12*s23 + s22*s44*s66*s12*s23 + s22*s55*s66*s12*s23 + s33*s55*s66*s12*s23 + s44*s55*s66*s12*s23 - s44*s55*s12^2*s23 + s55^2*s12^2*s23 + s55^2*s12*s23^2 - s55*s66*s12*s23^2 + s55*s12^2*s23^2 + s11^2*s33*s44*s34 - s11^2*s33*s55*s34 + s11*s22*s44*s66*s34 - 2*s11*s33*s44*s66*s34 - s11*s22*s55*s66*s34 + s11*s33*s55*s66*s34 - s22*s44*s66^2*s34 + s33*s44*s66^2*s34 + s11*s33*s55*s23*s34 + s11*s33*s66*s23*s34 + s11*s44*s66*s23*s34 - 2*s22*s44*s66*s23*s34 + s11*s55*s66*s23*s34 + s22*s55*s66*s23*s34 + s33*s55*s66*s23*s34 - s22*s66^2*s23*s34 - s33*s66^2*s23*s34 - s44*s66^2*s23*s34 - s11*s44*s12*s23*s34 + s11*s55*s12*s23*s34 + s44*s66*s12*s23*s34 - 2*s55*s66*s12*s23*s34 - s55*s66*s23^2*s34 + s66^2*s23^2*s34 - s55*s12*s23^2*s34 - s66*s12*s23^2*s34 - s11*s66*s23*s34^2 + s66^2*s23*s34^2 + s66*s23^2*s34^2 - s11^2*s33*s55*s45 + s11*s22*s33*s55*s45 + s11^2*s44*s55*s45 - 2*s11*s22*s44*s55*s45 + s22^2*s44*s55*s45 - s11*s22*s33*s66*s45 + s11*s22*s44*s66*s45 - s22^2*s44*s66*s45 - 2*s11*s22*s44*s12*s45 - 2*s11*s22*s55*s12*s45 + s11*s33*s55*s12*s45 - 2*s11*s44*s55*s12*s45 - 2*s22*s44*s55*s12*s45 + s22*s44*s66*s12*s45 + s44*s55*s12^2*s45 + s11*s55*s12*s23*s45 + s22*s55*s12*s23*s45 - s22*s66*s12*s23*s45 - s55*s12^2*s23*s45 - s11^2*s33*s34*s45 - s11^2*s44*s34*s45 + s11*s22*s44*s34*s45 - s11^2*s55*s34*s45 + s11*s22*s55*s34*s45 - 2*s11*s33*s55*s34*s45 + s11*s22*s66*s34*s45 + s11*s33*s66*s34*s45 + s11*s44*s66*s34*s45 + s22*s44*s66*s34*s45 + s11*s44*s12*s34*s45 + s11*s55*s12*s34*s45 - s44*s66*s12*s34*s45 + s11*s55*s23*s34*s45 - s22*s55*s23*s34*s45 - 2*s11*s66*s23*s34*s45 + s22*s66*s23*s34*s45 + s11*s12*s23*s34*s45 + s55*s12*s23*s34*s45 + s66*s12*s23*s34*s45 + s11^2*s34^2*s45 - s11*s66*s34^2*s45 - s11*s23*s34^2*s45 - s66*s23*s34^2*s45 + s11*s22*s12*s45^2 + s11^2*s34*s45^2 - s11*s22*s34*s45^2 - s11*s12*s34*s45^2 + s11*s34^2*s45^2 - s11*s22*s33*s44*s56 + s11*s22*s33*s55*s56 - s11*s33^2*s55*s56 - s22^2*s44*s66*s56 + s22*s33*s44*s66*s56 + s22^2*s55*s66*s56 - 2*s22*s33*s55*s66*s56 + s33^2*s55*s66*s56 + s11*s33*s55*s23*s56 - 2*s22*s33*s55*s23*s56 - 2*s22*s33*s66*s23*s56 + s22*s44*s66*s23*s56 - 2*s22*s55*s66*s23*s56 - 2*s33*s55*s66*s23*s56 - s22*s44*s12*s23*s56 + s22*s55*s12*s23*s56 + s33*s55*s12*s23*s56 + s55*s66*s23^2*s56 - s55*s12*s23^2*s56 - s11*s33*s23*s34*s56 + s22*s66*s23*s34*s56 + s33*s66*s23*s34*s56 - s66*s23^2*s34*s56 + s12*s23^2*s34*s56 + s11*s22*s33*s45*s56 + s11*s22*s44*s45*s56 - s22^2*s44*s45*s56 + s11*s22*s55*s45*s56 - s22^2*s55*s45*s56 + s11*s33*s55*s45*s56 + s22*s33*s55*s45*s56 - s22^2*s66*s45*s56 + s22*s33*s66*s45*s56 - 2*s22*s44*s66*s45*s56 + s22*s44*s12*s45*s56 + s22*s55*s12*s45*s56 - s33*s55*s12*s45*s56 - s11*s55*s23*s45*s56 + s22*s55*s23*s45*s56 + s22*s66*s23*s45*s56 + s22*s12*s23*s45*s56 + s55*s12*s23*s45*s56 - 2*s11*s22*s34*s45*s56 + s11*s33*s34*s45*s56 + s22*s66*s34*s45*s56 - s33*s66*s34*s45*s56 + s11*s23*s34*s45*s56 + s22*s23*s34*s45*s56 + s66*s23*s34*s45*s56 - 2*s12*s23*s34*s45*s56 - s11*s22*s45^2*s56 + s22^2*s45^2*s56 - s22*s12*s45^2*s56 - s11*s34*s45^2*s56 - s22*s34*s45^2*s56 + s12*s34*s45^2*s56 + s22*s33*s23*s56^2 + s22^2*s45*s56^2 - s22*s33*s45*s56^2 - s22*s23*s45*s56^2 + s22*s45^2*s56^2 - s11*s33^2*s55*s61 + s11*s33*s44*s55*s61 - s22*s33*s44*s55*s61 + s11*s33^2*s66*s61 - 2*s11*s33*s44*s66*s61 + s22*s33*s44*s66*s61 + s11*s44^2*s66*s61 - s22*s44^2*s66*s61 + s11*s33*s44*s12*s61 - s11*s44^2*s12*s61 - s22*s44^2*s12*s61 + s11*s33*s55*s12*s61 + s11*s44*s55*s12*s61 + s22*s44*s55*s12*s61 + s33*s44*s55*s12*s61 - 2*s22*s44*s66*s12*s61 + s33*s44*s66*s12*s61 - s44^2*s66*s12*s61 + s44^2*s12^2*s61 - s44*s55*s12^2*s61 + s33*s55*s12*s23*s61 - 2*s44*s55*s12*s23*s61 - s33*s66*s12*s23*s61 + s44*s66*s12*s23*s61 - s44*s12^2*s23*s61 - s55*s12^2*s23*s61 - 2*s11*s33*s44*s34*s61 + s11*s33*s55*s34*s61 - 2*s11*s33*s66*s34*s61 - 2*s11*s44*s66*s34*s61 + s22*s44*s66*s34*s61 - 2*s33*s44*s66*s34*s61 + s11*s44*s12*s34*s61 - s11*s55*s12*s34*s61 + s44*s66*s12*s34*s61 - s33*s55*s23*s34*s61 + s33*s66*s23*s34*s61 + s44*s66*s23*s34*s61 + s44*s12*s23*s34*s61 + s55*s12*s23*s34*s61 + s66*s12*s23*s34*s61 + s11*s66*s34^2*s61 - s66*s23*s34^2*s61 - s11*s33*s12*s45*s61 + s11*s44*s12*s45*s61 + s22*s44*s12*s45*s61 - s44*s12^2*s45*s61 + s12^2*s23*s45*s61 + s11*s33*s34*s45*s61 + s11*s44*s34*s45*s61 - s22*s44*s34*s45*s61 + s11*s12*s34*s45*s61 + s44*s12*s34*s45*s61 - 2*s12*s23*s34*s45*s61 - s11*s34^2*s45*s61 + s23*s34^2*s45*s61 - s11*s33^2*s56*s61 + s11*s33*s44*s56*s61 + s22*s33*s44*s56*s61 - 2*s11*s33*s55*s56*s61 + s22*s33*s55*s56*s61 - s33^2*s55*s56*s61 + s22*s33*s66*s56*s61 - s33^2*s66*s56*s61 + s22*s44*s66*s56*s61 + s33*s44*s66*s56*s61 + s22*s44*s12*s56*s61 - 2*s33*s44*s12*s56*s61 - s22*s55*s12*s56*s61 + s33*s55*s12*s56*s61 + s33*s55*s23*s56*s61 + s33*s66*s23*s56*s61 - s44*s66*s23*s56*s61 + s33*s12*s23*s56*s61 + s44*s12*s23*s56*s61 + s55*s12*s23*s56*s61 + s11*s33*s34*s56*s61 - s22*s66*s34*s56*s61 + s33*s66*s34*s56*s61 + s33*s23*s34*s56*s61 + s66*s23*s34*s56*s61 - 2*s12*s23*s34*s56*s61 + s11*s33*s45*s56*s61 - 2*s22*s33*s45*s56*s61 - s11*s44*s45*s56*s61 + s22*s44*s45*s56*s61 + s22*s12*s45*s56*s61 + s33*s12*s45*s56*s61 + s44*s12*s45*s56*s61 - 2*s12*s23*s45*s56*s61 + s11*s34*s45*s56*s61 + s22*s34*s45*s56*s61 + s33*s34*s45*s56*s61 - 2*s12*s34*s45*s56*s61 - 2*s23*s34*s45*s56*s61 - s22*s33*s56^2*s61 + s33^2*s56^2*s61 - s33*s23*s56^2*s61 - s22*s45*s56^2*s61 - s33*s45*s56^2*s61 + s23*s45*s56^2*s61 - s33*s44*s12*s61^2 + s44^2*s12*s61^2 + s44*s12^2*s61^2 + s33*s44*s34*s61^2 - s44*s12*s34*s61^2 + s33^2*s56*s61^2 - s33*s44*s56*s61^2 - s33*s12*s56*s61^2 - s44*s12*s56*s61^2 - s33*s34*s56*s61^2 + s12*s34*s56*s61^2 + s33*s56^2*s61^2 - 2*s11*s22*s33*s55*s123 + s11*s22*s44*s55*s123 - s22^2*s44*s55*s123 - s11*s22*s55^2*s123 + s22^2*s55^2*s123 - s11*s33*s55^2*s123 - s22*s33*s55^2*s123 - s22^2*s44*s66*s123 - s22^2*s55*s66*s123 + s22*s33*s55*s66*s123 - 2*s22*s44*s55*s66*s123 + s22*s44*s55*s12*s123 - s22*s55^2*s12*s123 + s33*s55^2*s12*s123 + s11*s55^2*s23*s123 - s22*s55^2*s23*s123 + s22*s55*s66*s23*s123 - 2*s22*s55*s12*s23*s123 - s55^2*s12*s23*s123 - s11*s22*s44*s34*s123 + s11*s22*s55*s34*s123 + s11*s33*s55*s34*s123 + s22*s44*s66*s34*s123 + s22*s55*s66*s34*s123 - s33*s55*s66*s34*s123 - 2*s11*s55*s23*s34*s123 + s22*s55*s23*s34*s123 + s22*s66*s23*s34*s123 + s55*s66*s23*s34*s123 + s55*s12*s23*s34*s123 + s11*s23*s34^2*s123 - s66*s23*s34^2*s123 + s11*s22*s55*s45*s123 - s22^2*s55*s45*s123 + s22^2*s66*s45*s123 + s22*s55*s12*s45*s123 + s11*s22*s34*s45*s123 + s11*s55*s34*s45*s123 + s22*s55*s34*s45*s123 - 2*s22*s66*s34*s45*s123 - s55*s12*s34*s45*s123 - s11*s34^2*s45*s123 + s66*s34^2*s45*s123 + s22^2*s44*s56*s123 - s22^2*s55*s56*s123 + s22*s33*s55*s56*s123 + s22*s55*s23*s56*s123 - s22*s23*s34*s56*s123 - s22^2*s45*s56*s123 - 2*s22*s55*s45*s56*s123 + s22*s34*s45*s56*s123 + s11*s33*s55*s61*s123 + s22*s33*s55*s61*s123 - s11*s44*s55*s61*s123 + s22*s44*s55*s61*s123 - s22*s33*s66*s61*s123 + s22*s44*s66*s61*s123 + s22*s44*s12*s61*s123 + s22*s55*s12*s61*s123 - 2*s33*s55*s12*s61*s123 + s44*s55*s12*s61*s123 + s55*s12*s23*s61*s123 + s11*s33*s34*s61*s123 + s11*s44*s34*s61*s123 + s22*s44*s34*s61*s123 + s11*s55*s34*s61*s123 - 2*s22*s55*s34*s61*s123 + s33*s55*s34*s61*s123 + s22*s66*s34*s61*s123 + s33*s66*s34*s61*s123 + s44*s66*s34*s61*s123 - 2*s44*s12*s34*s61*s123 + s55*s12*s34*s61*s123 + s55*s23*s34*s61*s123 - 2*s66*s23*s34*s61*s123 + s12*s23*s34*s61*s123 - s11*s34^2*s61*s123 - s66*s34^2*s61*s123 - s23*s34^2*s61*s123 - s22*s12*s45*s61*s123 - 2*s11*s34*s45*s61*s123 + s22*s34*s45*s61*s123 + s12*s34*s45*s61*s123 - s34^2*s45*s61*s123 + s22*s33*s56*s61*s123 - 2*s22*s44*s56*s61*s123 + s22*s55*s56*s61*s123 + s33*s55*s56*s61*s123 - s55*s23*s56*s61*s123 + s22*s34*s56*s61*s123 - 2*s33*s34*s56*s61*s123 + s23*s34*s56*s61*s123 + s22*s45*s56*s61*s123 + s34*s45*s56*s61*s123 + s33*s12*s61^2*s123 - s44*s12*s61^2*s123 - s33*s34*s61^2*s123 - s44*s34*s61^2*s123 - s12*s34*s61^2*s123 + s34^2*s61^2*s123 - s33*s56*s61^2*s123 + s44*s56*s61^2*s123 - s34*s56*s61^2*s123 + s22^2*s55*s123^2 + s22*s55^2*s123^2 - s22*s55*s34*s123^2 - s22*s55*s61*s123^2 - s22*s34*s61*s123^2 - s55*s34*s61*s123^2 + s34^2*s61*s123^2 + s34*s61^2*s123^2 - s11*s33^2*s55*s234 - s11*s33^2*s66*s234 + s11*s33*s44*s66*s234 - 2*s22*s33*s44*s66*s234 - 2*s11*s33*s55*s66*s234 + s22*s33*s55*s66*s234 - s33^2*s55*s66*s234 - s22*s33*s66^2*s234 + s33^2*s66^2*s234 - s22*s44*s66^2*s234 - s33*s44*s66^2*s234 - s11*s33*s44*s12*s234 + s11*s33*s55*s12*s234 + s22*s44*s66*s12*s234 + s33*s44*s66*s12*s234 - s22*s55*s66*s12*s234 + s33*s55*s66*s12*s234 + s33*s55*s66*s23*s234 - s33*s66^2*s23*s234 + s44*s66^2*s23*s234 + s33*s55*s12*s23*s234 + s33*s66*s12*s23*s234 - 2*s44*s66*s12*s23*s234 + s55*s66*s12*s23*s234 + s44*s12^2*s23*s234 - s55*s12^2*s23*s234 + s11*s33*s66*s34*s234 + s22*s66^2*s34*s234 - s33*s66^2*s34*s234 - 2*s33*s66*s23*s34*s234 - s66^2*s23*s34*s234 + s66*s12*s23*s34*s234 + s11*s33*s55*s45*s234 - s22*s33*s55*s45*s234 + s11*s33*s66*s45*s234 + s22*s33*s66*s45*s234 - s11*s44*s66*s45*s234 + s22*s44*s66*s45*s234 + s11*s33*s12*s45*s234 + s11*s44*s12*s45*s234 + s22*s44*s12*s45*s234 + s11*s55*s12*s45*s234 + s22*s55*s12*s45*s234 + s33*s55*s12*s45*s234 + s22*s66*s12*s45*s234 - 2*s33*s66*s12*s45*s234 + s44*s66*s12*s45*s234 - s44*s12^2*s45*s234 - s55*s12^2*s45*s234 - 2*s55*s12*s23*s45*s234 + s66*s12*s23*s45*s234 - s12^2*s23*s45*s234 + s11*s33*s34*s45*s234 + s11*s66*s34*s45*s234 - 2*s22*s66*s34*s45*s234 + s33*s66*s34*s45*s234 - 2*s11*s12*s34*s45*s234 + s66*s12*s34*s45*s234 + s66*s23*s34*s45*s234 + s12*s23*s34*s45*s234 - s11*s12*s45^2*s234 - s22*s12*s45^2*s234 + s12^2*s45^2*s234 - s11*s34*s45^2*s234 + s22*s34*s45^2*s234 - s12*s34*s45^2*s234 + s11*s33^2*s56*s234 + s22*s33*s66*s56*s234 - s33^2*s66*s56*s234 + s33*s66*s23*s56*s234 - s33*s12*s23*s56*s234 - 2*s11*s33*s45*s56*s234 + s22*s33*s45*s56*s234 + s22*s66*s45*s56*s234 + s33*s66*s45*s56*s234 - 2*s22*s12*s45*s56*s234 + s33*s12*s45*s56*s234 - s66*s23*s45*s56*s234 + s12*s23*s45*s56*s234 + s11*s45^2*s56*s234 - s22*s45^2*s56*s234 - s12*s45^2*s56*s234 + s33^2*s55*s61*s234 - s33^2*s66*s61*s234 + s33*s44*s66*s61*s234 + s33*s44*s12*s61*s234 - 2*s33*s55*s12*s61*s234 + s33*s66*s12*s61*s234 + s44*s66*s12*s61*s234 - s44*s12^2*s61*s234 + s55*s12^2*s61*s234 + s33*s66*s34*s61*s234 - s66*s12*s34*s61*s234 + s33*s12*s45*s61*s234 - 2*s44*s12*s45*s61*s234 - s12^2*s45*s61*s234 - s33*s34*s45*s61*s234 + s12*s34*s45*s61*s234 - s33^2*s56*s61*s234 - 2*s33*s66*s56*s61*s234 + s33*s12*s56*s61*s234 + s33*s45*s56*s61*s234 + s12*s45*s56*s61*s234 + s11*s33*s55*s123*s234 + s22*s33*s55*s123*s234 + s22*s33*s66*s123*s234 + s22*s44*s66*s123*s234 + s22*s55*s66*s123*s234 + s33*s55*s66*s123*s234 - s22*s44*s12*s123*s234 + s22*s55*s12*s123*s234 - 2*s33*s55*s12*s123*s234 - s55*s66*s23*s123*s234 + s55*s12*s23*s123*s234 - s11*s33*s34*s123*s234 - 2*s22*s66*s34*s123*s234 + s33*s66*s34*s123*s234 + s66*s23*s34*s123*s234 - s12*s23*s34*s123*s234 - s11*s55*s45*s123*s234 + s22*s55*s45*s123*s234 - 2*s22*s66*s45*s123*s234 + s22*s12*s45*s123*s234 + s55*s12*s45*s123*s234 + s11*s34*s45*s123*s234 - 2*s22*s34*s45*s123*s234 - 2*s66*s34*s45*s123*s234 + s12*s34*s45*s123*s234 - s22*s33*s56*s123*s234 + s22*s45*s56*s123*s234 - 2*s33*s55*s61*s123*s234 + s33*s66*s61*s123*s234 - s44*s66*s61*s123*s234 - 2*s33*s12*s61*s123*s234 + s44*s12*s61*s123*s234 - 2*s55*s12*s61*s123*s234 + s33*s34*s61*s123*s234 + s66*s34*s61*s123*s234 + s12*s34*s61*s123*s234 + s12*s45*s61*s123*s234 + s34*s45*s61*s123*s234 + s33*s56*s61*s123*s234 - s45*s56*s61*s123*s234 - s22*s55*s123^2*s234 + s22*s34*s123^2*s234 + s55*s61*s123^2*s234 - s34*s61*s123^2*s234 + s33^2*s66*s234^2 + s33*s66^2*s234^2 - s33*s66*s12*s234^2 - s33*s66*s45*s234^2 - s33*s12*s45*s234^2 - s66*s12*s45*s234^2 + s12^2*s45*s234^2 + s12*s45^2*s234^2 - s33*s66*s123*s234^2 + s33*s12*s123*s234^2 + s66*s45*s123*s234^2 - s12*s45*s123*s234^2 - s11^2*s33*s44*s345 + s11^2*s44^2*s345 - s11*s22*s44^2*s345 - s11^2*s33*s55*s345 - s11^2*s44*s55*s345 + s11*s22*s44*s55*s345 - 2*s11*s33*s44*s55*s345 - 2*s11*s22*s44*s66*s345 + s11*s33*s44*s66*s345 - s11*s44^2*s66*s345 - s22*s44^2*s66*s345 - s11*s44^2*s12*s345 + s11*s44*s55*s12*s345 + s44^2*s66*s12*s345 + s11*s33*s55*s23*s345 + s11*s44*s55*s23*s345 - s22*s44*s55*s23*s345 - s11*s33*s66*s23*s345 + s11*s44*s66*s23*s345 + s22*s44*s66*s23*s345 + s11*s44*s12*s23*s345 + s11*s55*s12*s23*s345 + s44*s55*s12*s23*s345 - 2*s44*s66*s12*s23*s345 - s55*s12*s23^2*s345 + s66*s12*s23^2*s345 - s11^2*s44*s34*s345 + s11^2*s55*s34*s345 + s11*s44*s66*s34*s345 + s11*s44*s23*s34*s345 - 2*s11*s55*s23*s34*s345 + s11*s66*s23*s34*s345 + s44*s66*s23*s34*s345 + s55*s23^2*s34*s345 - s66*s23^2*s34*s345 + s11^2*s33*s45*s345 - s11^2*s44*s45*s345 + s11*s22*s44*s45*s345 + s11*s44*s12*s45*s345 - s11*s12*s23*s45*s345 - s11^2*s34*s45*s345 - 2*s11*s44*s34*s45*s345 + s11*s23*s34*s45*s345 + s11*s22*s44*s56*s345 + s11*s33*s44*s56*s345 - s11*s22*s55*s56*s345 + s11*s33*s55*s56*s345 + s22*s44*s66*s56*s345 - s33*s44*s66*s56*s345 + s11*s33*s23*s56*s345 - 2*s11*s44*s23*s56*s345 + s22*s44*s23*s56*s345 + s11*s55*s23*s56*s345 + s22*s55*s23*s56*s345 + s33*s55*s23*s56*s345 + s22*s66*s23*s56*s345 + s33*s66*s23*s56*s345 + s44*s66*s23*s56*s345 + s44*s12*s23*s56*s345 - 2*s55*s12*s23*s56*s345 - s55*s23^2*s56*s345 - s66*s23^2*s56*s345 - s12*s23^2*s56*s345 + s11*s23*s34*s56*s345 - 2*s66*s23*s34*s56*s345 - s23^2*s34*s56*s345 + s11*s22*s45*s56*s345 - 2*s11*s33*s45*s56*s345 + s11*s44*s45*s56*s345 + s22*s44*s45*s56*s345 - s44*s12*s45*s56*s345 + s11*s23*s45*s56*s345 - 2*s22*s23*s45*s56*s345 + s12*s23*s45*s56*s345 + s11*s34*s45*s56*s345 + s23*s34*s45*s56*s345 - s22*s23*s56^2*s345 - s33*s23*s56^2*s345 + s23^2*s56^2*s345 - s22*s45*s56^2*s345 + s33*s45*s56^2*s345 - s23*s45*s56^2*s345 + s11*s33*s44*s61*s345 - s11*s44^2*s61*s345 + s22*s44^2*s61*s345 - 2*s11*s44*s12*s61*s345 - s44^2*s12*s61*s345 + s44*s12*s23*s61*s345 + s11*s44*s34*s61*s345 - s44*s23*s34*s61*s345 + s11*s33*s56*s61*s345 + s11*s44*s56*s61*s345 - 2*s22*s44*s56*s61*s345 + s33*s44*s56*s61*s345 + s44*s12*s56*s61*s345 - 2*s33*s23*s56*s61*s345 + s44*s23*s56*s61*s345 + s12*s23*s56*s61*s345 - s11*s34*s56*s61*s345 + s23*s34*s56*s61*s345 + s22*s56^2*s61*s345 - s33*s56^2*s61*s345 - s23*s56^2*s61*s345 + s11*s22*s44*s123*s345 + s11*s22*s55*s123*s345 + s11*s33*s55*s123*s345 + s11*s44*s55*s123*s345 + s22*s44*s55*s123*s345 + s22*s44*s66*s123*s345 - s44*s55*s12*s123*s345 - 2*s11*s55*s23*s123*s345 + s22*s55*s23*s123*s345 - s22*s66*s23*s123*s345 + s55*s12*s23*s123*s345 + s11*s44*s34*s123*s345 - 2*s11*s55*s34*s123*s345 - s44*s66*s34*s123*s345 - 2*s11*s23*s34*s123*s345 - 2*s55*s23*s34*s123*s345 + s66*s23*s34*s123*s345 - s11*s22*s45*s123*s345 + s11*s34*s45*s123*s345 - 2*s22*s44*s56*s123*s345 + s22*s55*s56*s123*s345 - s33*s55*s56*s123*s345 + s22*s23*s56*s123*s345 + s55*s23*s56*s123*s345 + s23*s34*s56*s123*s345 + s22*s45*s56*s123*s345 - s34*s45*s56*s123*s345 - s11*s33*s61*s123*s345 + s11*s44*s61*s123*s345 - 2*s22*s44*s61*s123*s345 + s44*s12*s61*s123*s345 - s12*s23*s61*s123*s345 + s11*s34*s61*s123*s345 + s44*s34*s61*s123*s345 + s23*s34*s61*s123*s345 - 2*s22*s56*s61*s123*s345 + s33*s56*s61*s123*s345 - 2*s44*s56*s61*s123*s345 + s23*s56*s61*s123*s345 + s34*s56*s61*s123*s345 - s22*s55*s123^2*s345 + s55*s34*s123^2*s345 + s22*s61*s123^2*s345 - s34*s61*s123^2*s345 + s11*s33*s44*s234*s345 + s11*s33*s55*s234*s345 + s11*s33*s66*s234*s345 + s11*s44*s66*s234*s345 + s22*s44*s66*s234*s345 + s33*s44*s66*s234*s345 + s11*s44*s12*s234*s345 - s11*s55*s12*s234*s345 - 2*s44*s66*s12*s234*s345 - s33*s55*s23*s234*s345 + s33*s66*s23*s234*s345 - 2*s44*s66*s23*s234*s345 - 2*s44*s12*s23*s234*s345 + s55*s12*s23*s234*s345 - 2*s66*s12*s23*s234*s345 - s11*s66*s34*s234*s345 + s66*s23*s34*s234*s345 - 2*s11*s33*s45*s234*s345 + s11*s44*s45*s234*s345 - s22*s44*s45*s234*s345 + s11*s12*s45*s234*s345 + s44*s12*s45*s234*s345 + s12*s23*s45*s234*s345 + s11*s34*s45*s234*s345 - s23*s34*s45*s234*s345 - 2*s11*s33*s56*s234*s345 - s22*s66*s56*s234*s345 + s33*s66*s56*s234*s345 + s33*s23*s56*s234*s345 + s66*s23*s56*s234*s345 + s12*s23*s56*s234*s345 - 2*s11*s45*s56*s234*s345 + s22*s45*s56*s234*s345 - 2*s33*s45*s56*s234*s345 + s12*s45*s56*s234*s345 + s23*s45*s56*s234*s345 - s33*s44*s61*s234*s345 + s44*s12*s61*s234*s345 + s33*s56*s61*s234*s345 - s12*s56*s61*s234*s345 + s11*s33*s123*s234*s345 - 2*s11*s44*s123*s234*s345 + s22*s44*s123*s234*s345 + s11*s55*s123*s234*s345 - 2*s22*s55*s123*s234*s345 + s33*s55*s123*s234*s345 + s22*s66*s123*s234*s345 - 2*s33*s66*s123*s234*s345 + s44*s66*s123*s234*s345 + s44*s12*s123*s234*s345 + s55*s12*s123*s234*s345 + s55*s23*s123*s234*s345 + s66*s23*s123*s234*s345 + s12*s23*s123*s234*s345 + s11*s34*s123*s234*s345 + s66*s34*s123*s234*s345 + s23*s34*s123*s234*s345 + s11*s45*s123*s234*s345 + s22*s45*s123*s234*s345 - 2*s12*s45*s123*s234*s345 + s34*s45*s123*s234*s345 + s22*s56*s123*s234*s345 + s33*s56*s123*s234*s345 - 2*s23*s56*s123*s234*s345 + s45*s56*s123*s234*s345 + s33*s61*s123*s234*s345 + s44*s61*s123*s234*s345 + s12*s61*s123*s234*s345 - 2*s34*s61*s123*s234*s345 + s56*s61*s123*s234*s345 - s22*s123^2*s234*s345 - s55*s123^2*s234*s345 - s34*s123^2*s234*s345 - s61*s123^2*s234*s345 - s33*s66*s234^2*s345 + s66*s12*s234^2*s345 + s33*s45*s234^2*s345 - s12*s45*s234^2*s345 - s33*s123*s234^2*s345 - s66*s123*s234^2*s345 - s12*s123*s234^2*s345 - s45*s123*s234^2*s345 + s123^2*s234^2*s345 + s11^2*s44*s345^2 + s11*s44^2*s345^2 - s11*s44*s23*s345^2 - s11*s44*s56*s345^2 - s11*s23*s56*s345^2 - s44*s23*s56*s345^2 + s23^2*s56*s345^2 + s23*s56^2*s345^2 - s11*s44*s123*s345^2 + s11*s23*s123*s345^2 + s44*s56*s123*s345^2 - s23*s56*s123*s345^2 - s11*s44*s234*s345^2 + s44*s23*s234*s345^2 + s11*s56*s234*s345^2 - s23*s56*s234*s345^2 - s11*s123*s234*s345^2 - s44*s123*s234*s345^2 - s23*s123*s234*s345^2 - s56*s123*s234*s345^2 + s123^2*s234*s345^2 + s123*s234^2*s345^2)"
      ]
     },
     "execution_count": 5,
     "metadata": {},
     "output_type": "execute_result"
    }
   ],
   "source": [
    "# This is the Gram determinant\n",
    "Gram.factor()"
   ]
  },
  {
   "cell_type": "markdown",
   "metadata": {},
   "source": [
    "<b>This checks that the Gram determinant condition is satisfied for external momenta in the four dimensional space $\\mathbb C^4$</b>"
   ]
  },
  {
   "cell_type": "code",
   "execution_count": 6,
   "metadata": {},
   "outputs": [
    {
     "data": {
      "text/plain": [
       "0"
      ]
     },
     "execution_count": 6,
     "metadata": {},
     "output_type": "execute_result"
    }
   ],
   "source": [
    "Gram.substitute(m1 = 1369,m2 = 1369, m3 = 1849,m4 = 22201,m5 = 5041, m6 = 9409,m7 = 1849,s11 = 7419,s12 = 17337, s123 = 34157, s22 = 21028, s23 = 50886, s234 = 35926, s33 = 19674,   s34 = 18678, s345 = 26899, s44 = 10770,s45 = 25171,s55 = 9735,s56 = 13929,s61 = 39449,s66 = 15716)"
   ]
  },
  {
   "cell_type": "code",
   "execution_count": 7,
   "metadata": {},
   "outputs": [
    {
     "data": {
      "text/plain": [
       "0"
      ]
     },
     "execution_count": 7,
     "metadata": {},
     "output_type": "execute_result"
    }
   ],
   "source": [
    "Gram.substitute(m1 = 36481, m2 = 529, m3 = 529, m4 = 2209, m5 = 1681, m6 = 169, m7 = 3481, s11 = 7419, s12 = 17337, s123 = 34157, s22 = 21028, s23 = 50886, s234 = 35926, s33 = 19674, s34 = 18678, s345 = 26899, s44 = 10770, s45 = 25171, s55 = 9735, s56 = 13929, s61 = 39449, s66 = 15716)"
   ]
  },
  {
   "cell_type": "code",
   "execution_count": 8,
   "metadata": {},
   "outputs": [
    {
     "data": {
      "text/plain": [
       "0"
      ]
     },
     "execution_count": 8,
     "metadata": {},
     "output_type": "execute_result"
    }
   ],
   "source": [
    "Gram.substitute(m1 = 10609, m2 = 39601, m3 = 5329, m4 = 9409, m5 = 289, m6 = 32761, m7 = 9, s11 = 5676, s12 = 16990, s123 = 7749, s22 = 9062, s23 = 6887, s234 = 8533, s33 = 13151, s34 = 19419, s345 = 35557, s44 = 21558, s45 = 20726, s55 = 10766, s56 = 26043, s61 = 14135, s66 = 20501)"
   ]
  },
  {
   "cell_type": "code",
   "execution_count": 9,
   "metadata": {},
   "outputs": [
    {
     "data": {
      "text/plain": [
       "0"
      ]
     },
     "execution_count": 9,
     "metadata": {},
     "output_type": "execute_result"
    }
   ],
   "source": [
    "Gram.substitute(m1 = 6241, m2 = 121, m3 = 9, m4 = 26569, m5 = 289, m6 = 121, m7 = 289, s11 = 7028, s12 = 57030, s123 = 32731, s22 = 25366, s23 = 15109, s234 = 37473, s33 = 11077, s34 = 44583, s345 = 60728, s44 = 17658, s45 = 35865, s55 = 8271, s56 = 47727, s61 = 39718, s66 = 46446)"
   ]
  },
  {
   "cell_type": "markdown",
   "metadata": {},
   "source": [
    "<b>There are some of the numerical cases obtained in <a href=\"https://arxiv.org/abs/2209.10962\">[arXiv:2209.10962]</a> and given on the page <a href=\"https://nbviewer.org/github/pierrevanhove/PicardFuchs/blob/main/PF-DoubleBox.ipynb\">PF-DoubleBox.ipynb</a>  </b>"
   ]
  },
  {
   "cell_type": "code",
   "execution_count": 10,
   "metadata": {},
   "outputs": [],
   "source": [
    "Fcase1 = F.substitute(m1 = 1369,m2 = 1369, m3 = 1849,m4 = 22201,m5 = 5041, m6 = 9409,m7 = 1849,s11 = 7419,s12 = 17337, s123 = 34157, s22 = 21028, s23 = 50886, s234 = 35926, s33 = 19674,   s34 = 18678, s345 = 26899, s44 = 10770,s45 = 25171,s55 = 9735,s56 = 13929,s61 = 39449,s66 = 15716)\n",
    "Fcase2 = F.substitute(m1 = 36481, m2 = 529, m3 = 529, m4 = 2209, m5 = 1681, m6 = 169, m7 = 3481, s11 = 7419, s12 = 17337, s123 = 34157, s22 = 21028, s23 = 50886, s234 = 35926, s33 = 19674, s34 = 18678, s345 = 26899, s44 = 10770, s45 = 25171, s55 = 9735, s56 = 13929, s61 = 39449, s66 = 15716)\n",
    "Fcase3 = F.substitute(m1 = 10609, m2 = 39601, m3 = 5329, m4 = 9409, m5 = 289, m6 = 32761, m7 = 9, s11 = 5676, s12 = 16990, s123 = 7749, s22 = 9062, s23 = 6887, s234 = 8533, s33 = 13151, s34 = 19419, s345 = 35557, s44 = 21558, s45 = 20726, s55 = 10766, s56 = 26043, s61 = 14135, s66 = 20501)\n",
    "Fcase4 = F.substitute(m1 = 6241, m2 = 121, m3 = 9, m4 = 26569, m5 = 289, m6 = 121, m7 = 289, s11 = 7028, s12 = 57030, s123 = 32731, s22 = 25366, s23 = 15109, s234 = 37473, s33 = 11077, s34 = 44583, s345 = 60728, s44 = 17658, s45 = 35865, s55 = 8271, s56 = 47727, s61 = 39718, s66 = 46446)"
   ]
  },
  {
   "cell_type": "markdown",
   "metadata": {},
   "source": [
    "<b> We construct the elliptic curve associated to the Double-box and its associated Picard-Fuchs operator for the above numerical cases</b>"
   ]
  },
  {
   "cell_type": "code",
   "execution_count": 11,
   "metadata": {},
   "outputs": [],
   "source": [
    "# Case 1\n",
    "G = (Fcase1.substitute(y1=y1*q, y2=y2*q,y3=y3*q)/z).numerator()\n",
    "H = G.substitute(x3 = X - x1 - x2 - y1-y2-y3).substitute(x1=x1/w,x2=x2/w,y1=y1/w,y2=y2/w,y3=y3/w).numerator()\n",
    "L = matrix(S,6)\n",
    "for i in range(0,len(Xlist)):\n",
    "    for j in range(0,len(Xlist)):\n",
    "        if i == j:\n",
    "            L[i,j] = 2*H.coefficient(Xlist[i]*Xlist[j])\n",
    "        else:\n",
    "            L[i,j] = H.coefficient(Xlist[i]*Xlist[j])\n",
    "Disc = (L.determinant()/(X^2*z^3)).numerator()\n",
    "G = Disc.substitute(z= 1)\n",
    "B4 = G.coefficient(X^4)\n",
    "B3 = G.coefficient(X^3)\n",
    "B2 = G.coefficient(X^2)\n",
    "B1 = G.coefficient(X)\n",
    "B0 = G.substitute(X=0)\n",
    "#\n",
    "H = X^3 + B2*X^2 + (-4*B0*B4+B1*B3)*X + (B0*B3^2-4*B0*B2*B4+B1^2*B4)\n",
    "H1 = 4*H.substitute(X=X-B2/3)\n",
    "g2 = H1.coefficient(X)\n",
    "g3 = H1.substitute(X=0)\n",
    "h2 = -(H1).coefficient(X)\n",
    "h3 = -(H1).substitute(X=0)\n",
    "Del = h2^3 - 27*h3^2\n",
    "A0 = 21*h2*h3*(h2.derivative(t))^3 - 18*h2^2*(h2.derivative(t))^2*(h3.derivative(t)) + 8*(h3.derivative(t))*(15*h2*(h3.derivative(t))^2 - Del*(h2.derivative(t,2))) - 4*(h2.derivative(t))*(27*h3*(h3.derivative(t))^2 - 2*Del*(h3.derivative(t,2)))\n",
    "A2 = 16*Del*(3*(h2.derivative(t))*h3 - 2*h2*(h3.derivative(t)))\n",
    "A1 = 16*(9*h2^2*h3*(h2.derivative(t))^2 - (7*h2^3 + 135*h3^2)*(h2.derivative(t))*(h3.derivative(t)) + 108*h2*h3*(h3.derivative(t))^2 + Del*(-3*h3*(h2.derivative(t,2)) + 2*h2*(h3.derivative(t,2))))\n",
    "A0 = 21*h2*h3*(h2.derivative(t))^3 - 18*h2^2*(h2.derivative(t))^2*(h3.derivative(t)) + 8*(h3.derivative(t))*(15*h2*(h3.derivative(t))^2 - Del*(h2.derivative(t,2))) - 4*(h2.derivative(t))*(27*h3*(h3.derivative(t))^2 - 2*Del*(h3.derivative(t,2)))\n",
    "P1case1 = A1/A2\n",
    "P2case1 = A0/A2"
   ]
  },
  {
   "cell_type": "code",
   "execution_count": 12,
   "metadata": {},
   "outputs": [],
   "source": [
    "# Case 2\n",
    "G = (Fcase2.substitute(y1=y1*q, y2=y2*q,y3=y3*q)/z).numerator()\n",
    "H = G.substitute(x3 = X - x1 - x2 - y1-y2-y3).substitute(x1=x1/w,x2=x2/w,y1=y1/w,y2=y2/w,y3=y3/w).numerator()\n",
    "L = matrix(S,6)\n",
    "for i in range(0,len(Xlist)):\n",
    "    for j in range(0,len(Xlist)):\n",
    "        if i == j:\n",
    "            L[i,j] = 2*H.coefficient(Xlist[i]*Xlist[j])\n",
    "        else:\n",
    "            L[i,j] = H.coefficient(Xlist[i]*Xlist[j])\n",
    "Disc = (L.determinant()/(X^2*z^3)).numerator()\n",
    "G = Disc.substitute(z= 1)\n",
    "B4 = G.coefficient(X^4)\n",
    "B3 = G.coefficient(X^3)\n",
    "B2 = G.coefficient(X^2)\n",
    "B1 = G.coefficient(X)\n",
    "B0 = G.substitute(X=0)\n",
    "#\n",
    "H = X^3 + B2*X^2 + (-4*B0*B4+B1*B3)*X + (B0*B3^2-4*B0*B2*B4+B1^2*B4)\n",
    "H1 = 4*H.substitute(X=X-B2/3)\n",
    "g2 = H1.coefficient(X)\n",
    "g3 = H1.substitute(X=0)\n",
    "h2 = -(H1).coefficient(X)\n",
    "h3 = -(H1).substitute(X=0)\n",
    "Del = h2^3 - 27*h3^2\n",
    "A0 = 21*h2*h3*(h2.derivative(t))^3 - 18*h2^2*(h2.derivative(t))^2*(h3.derivative(t)) + 8*(h3.derivative(t))*(15*h2*(h3.derivative(t))^2 - Del*(h2.derivative(t,2))) - 4*(h2.derivative(t))*(27*h3*(h3.derivative(t))^2 - 2*Del*(h3.derivative(t,2)))\n",
    "A2 = 16*Del*(3*(h2.derivative(t))*h3 - 2*h2*(h3.derivative(t)))\n",
    "A1 = 16*(9*h2^2*h3*(h2.derivative(t))^2 - (7*h2^3 + 135*h3^2)*(h2.derivative(t))*(h3.derivative(t)) + 108*h2*h3*(h3.derivative(t))^2 + Del*(-3*h3*(h2.derivative(t,2)) + 2*h2*(h3.derivative(t,2))))\n",
    "A0 = 21*h2*h3*(h2.derivative(t))^3 - 18*h2^2*(h2.derivative(t))^2*(h3.derivative(t)) + 8*(h3.derivative(t))*(15*h2*(h3.derivative(t))^2 - Del*(h2.derivative(t,2))) - 4*(h2.derivative(t))*(27*h3*(h3.derivative(t))^2 - 2*Del*(h3.derivative(t,2)))\n",
    "P1case2 = A1/A2\n",
    "P2case2 = A0/A2"
   ]
  },
  {
   "cell_type": "code",
   "execution_count": 13,
   "metadata": {},
   "outputs": [],
   "source": [
    "# Case 3\n",
    "G = (Fcase3.substitute(y1=y1*q, y2=y2*q,y3=y3*q)/z).numerator()\n",
    "H = G.substitute(x3 = X - x1 - x2 - y1-y2-y3).substitute(x1=x1/w,x2=x2/w,y1=y1/w,y2=y2/w,y3=y3/w).numerator()\n",
    "L = matrix(S,6)\n",
    "for i in range(0,len(Xlist)):\n",
    "    for j in range(0,len(Xlist)):\n",
    "        if i == j:\n",
    "            L[i,j] = 2*H.coefficient(Xlist[i]*Xlist[j])\n",
    "        else:\n",
    "            L[i,j] = H.coefficient(Xlist[i]*Xlist[j])\n",
    "Disc = (L.determinant()/(X^2*z^3)).numerator()\n",
    "G = Disc.substitute(z= 1)\n",
    "B4 = G.coefficient(X^4)\n",
    "B3 = G.coefficient(X^3)\n",
    "B2 = G.coefficient(X^2)\n",
    "B1 = G.coefficient(X)\n",
    "B0 = G.substitute(X=0)\n",
    "#\n",
    "H = X^3 + B2*X^2 + (-4*B0*B4+B1*B3)*X + (B0*B3^2-4*B0*B2*B4+B1^2*B4)\n",
    "H1 = 4*H.substitute(X=X-B2/3)\n",
    "g2 = H1.coefficient(X)\n",
    "g3 = H1.substitute(X=0)\n",
    "h2 = -(H1).coefficient(X)\n",
    "h3 = -(H1).substitute(X=0)\n",
    "Del = h2^3 - 27*h3^2\n",
    "A0 = 21*h2*h3*(h2.derivative(t))^3 - 18*h2^2*(h2.derivative(t))^2*(h3.derivative(t)) + 8*(h3.derivative(t))*(15*h2*(h3.derivative(t))^2 - Del*(h2.derivative(t,2))) - 4*(h2.derivative(t))*(27*h3*(h3.derivative(t))^2 - 2*Del*(h3.derivative(t,2)))\n",
    "A2 = 16*Del*(3*(h2.derivative(t))*h3 - 2*h2*(h3.derivative(t)))\n",
    "A1 = 16*(9*h2^2*h3*(h2.derivative(t))^2 - (7*h2^3 + 135*h3^2)*(h2.derivative(t))*(h3.derivative(t)) + 108*h2*h3*(h3.derivative(t))^2 + Del*(-3*h3*(h2.derivative(t,2)) + 2*h2*(h3.derivative(t,2))))\n",
    "A0 = 21*h2*h3*(h2.derivative(t))^3 - 18*h2^2*(h2.derivative(t))^2*(h3.derivative(t)) + 8*(h3.derivative(t))*(15*h2*(h3.derivative(t))^2 - Del*(h2.derivative(t,2))) - 4*(h2.derivative(t))*(27*h3*(h3.derivative(t))^2 - 2*Del*(h3.derivative(t,2)))\n",
    "P1case3 = A1/A2\n",
    "P2case3 = A0/A2"
   ]
  },
  {
   "cell_type": "code",
   "execution_count": 14,
   "metadata": {},
   "outputs": [],
   "source": [
    "# Case 4\n",
    "G = (Fcase4.substitute(y1=y1*q, y2=y2*q,y3=y3*q)/z).numerator()\n",
    "H = G.substitute(x3 = X - x1 - x2 - y1-y2-y3).substitute(x1=x1/w,x2=x2/w,y1=y1/w,y2=y2/w,y3=y3/w).numerator()\n",
    "L = matrix(S,6)\n",
    "for i in range(0,len(Xlist)):\n",
    "    for j in range(0,len(Xlist)):\n",
    "        if i == j:\n",
    "            L[i,j] = 2*H.coefficient(Xlist[i]*Xlist[j])\n",
    "        else:\n",
    "            L[i,j] = H.coefficient(Xlist[i]*Xlist[j])\n",
    "Disc = (L.determinant()/(X^2*z^3)).numerator()\n",
    "G = Disc.substitute(z= 1)\n",
    "B4 = G.coefficient(X^4)\n",
    "B3 = G.coefficient(X^3)\n",
    "B2 = G.coefficient(X^2)\n",
    "B1 = G.coefficient(X)\n",
    "B0 = G.substitute(X=0)\n",
    "#\n",
    "H = X^3 + B2*X^2 + (-4*B0*B4+B1*B3)*X + (B0*B3^2-4*B0*B2*B4+B1^2*B4)\n",
    "H1 = 4*H.substitute(X=X-B2/3)\n",
    "g2 = H1.coefficient(X)\n",
    "g3 = H1.substitute(X=0)\n",
    "h2 = -(H1).coefficient(X)\n",
    "h3 = -(H1).substitute(X=0)\n",
    "Del = h2^3 - 27*h3^2\n",
    "A0 = 21*h2*h3*(h2.derivative(t))^3 - 18*h2^2*(h2.derivative(t))^2*(h3.derivative(t)) + 8*(h3.derivative(t))*(15*h2*(h3.derivative(t))^2 - Del*(h2.derivative(t,2))) - 4*(h2.derivative(t))*(27*h3*(h3.derivative(t))^2 - 2*Del*(h3.derivative(t,2)))\n",
    "A2 = 16*Del*(3*(h2.derivative(t))*h3 - 2*h2*(h3.derivative(t)))\n",
    "A1 = 16*(9*h2^2*h3*(h2.derivative(t))^2 - (7*h2^3 + 135*h3^2)*(h2.derivative(t))*(h3.derivative(t)) + 108*h2*h3*(h3.derivative(t))^2 + Del*(-3*h3*(h2.derivative(t,2)) + 2*h2*(h3.derivative(t,2))))\n",
    "A0 = 21*h2*h3*(h2.derivative(t))^3 - 18*h2^2*(h2.derivative(t))^2*(h3.derivative(t)) + 8*(h3.derivative(t))*(15*h2*(h3.derivative(t))^2 - Del*(h2.derivative(t,2))) - 4*(h2.derivative(t))*(27*h3*(h3.derivative(t))^2 - 2*Del*(h3.derivative(t,2)))\n",
    "P1case4 = A1/A2\n",
    "P2case4 = A0/A2\n",
    "Lcase4 = (P2case4 - (P1case4.derivative(t))/2 - (P1case4^2)/4)"
   ]
  },
  {
   "cell_type": "code",
   "execution_count": 15,
   "metadata": {},
   "outputs": [],
   "source": [
    "from ore_algebra import *\n",
    "OA, z, Dz = DifferentialOperators(QQ, 'z')"
   ]
  },
  {
   "cell_type": "markdown",
   "metadata": {},
   "source": [
    "``F := (1369*x1 + 1369*x2 + 1849*x3 + 5041*x4 + 9409*x5 + 1849*x6 + 22201*x7)*(x1*x4 + x2*x4 + x3*x4 + x1*x5 + x2*x5 + x3*x5 + x1*x6 + x2*x6 + x3*x6 + x1*x7 + x2*x7 + x3*x7 + x4*x7 + x5*x7 + x6*x7) - t*(7419*x1*x2*x4 + 17337*x1*x3*x4 + 21028*x2*x3*x4 + 7419*x1*x2*x5 + 17337*x1*x3*x5 + 21028*x2*x3*x5 + 9735*x1*x4*x5 + 9735*x2*x4*x5 + 9735*x3*x4*x5 + 7419*x1*x2*x6 + 17337*x1*x3*x6 + 21028*x2*x3*x6 + 25171*x1*x4*x6 + 25171*x2*x4*x6 + 25171*x3*x4*x6 + 10770*x1*x5*x6 + 10770*x2*x5*x6 + 10770*x3*x5*x6 + 7419*x1*x2*x7 + 17337*x1*x3*x7 + 21028*x2*x3*x7 + 15716*x1*x4*x7 + 39449*x2*x4*x7 + 26899*x3*x4*x7 + 13929*x1*x5*x7 + 35926*x2*x5*x7 + 18678*x3*x5*x7 + 9735*x4*x5*x7 + 34157*x1*x6*x7 + 50886*x2*x6*x7 + 19674*x3*x6*x7 + 25171*x4*x6*x7 + 10770*x5*x6*x7)``\n",
    "<br>\n",
    "<b>The associated Picard-Fuchs operator is in the file <a href=\"PF-DoubleBox-6pt-case1.txt\">PF-DoubleBox-6pt-case1.txt</a></b>"
   ]
  },
  {
   "cell_type": "code",
   "execution_count": 16,
   "metadata": {
    "scrolled": true
   },
   "outputs": [],
   "source": [
    "s = open(\"PF-DoubleBox-6pt-case1.txt\").readlines()[0]\n",
    "DoubleBox6ptcase1 = OA(s.replace(\"^\", \"**\").replace(\"t\", \"z\").replace(\"D\", \"Dz\"))"
   ]
  },
  {
   "cell_type": "code",
   "execution_count": 17,
   "metadata": {},
   "outputs": [],
   "source": [
    "listcoeff=DoubleBox6ptcase1.coefficients()\n",
    "p1case1=listcoeff[1]/listcoeff[2]\n",
    "p2case1=listcoeff[0]/listcoeff[2]"
   ]
  },
  {
   "cell_type": "markdown",
   "metadata": {},
   "source": [
    "<b>This show that the Picard-Fuchs operator obtained using the algorithms in <a href=\"https://arxiv.org/abs/2209.10962\">[arXiv:2209.10962]</a> is the same as one from the Double-box elliptic curve constructed above</b>"
   ]
  },
  {
   "cell_type": "code",
   "execution_count": 18,
   "metadata": {},
   "outputs": [
    {
     "data": {
      "text/plain": [
       "0"
      ]
     },
     "execution_count": 18,
     "metadata": {},
     "output_type": "execute_result"
    }
   ],
   "source": [
    "p1case1.subs(z=t)-P1case1\n",
    "p2case1.subs(z=t)-P2case1"
   ]
  },
  {
   "cell_type": "markdown",
   "metadata": {},
   "source": [
    "``F := (36481*x1 + 529*x2 + 529*x3 + 1681*x4 + 169*x5 + 3481*x6 + 2209*x7)*(x1*x4 + x2*x4 + x3*x4 + x1*x5 + x2*x5 + x3*x5 + x1*x6 + x2*x6 + x3*x6 + x1*x7 + x2*x7 + x3*x7 + x4*x7 + x5*x7 + x6*x7) - t*(7419*x1*x2*x4 + 17337*x1*x3*x4 + 21028*x2*x3*x4 + 7419*x1*x2*x5 + 17337*x1*x3*x5 + 21028*x2*x3*x5 + 9735*x1*x4*x5 + 9735*x2*x4*x5 + 9735*x3*x4*x5 + 7419*x1*x2*x6 + 17337*x1*x3*x6 + 21028*x2*x3*x6 + 25171*x1*x4*x6 + 25171*x2*x4*x6 + 25171*x3*x4*x6 + 10770*x1*x5*x6 + 10770*x2*x5*x6 + 10770*x3*x5*x6 + 7419*x1*x2*x7 + 17337*x1*x3*x7 + 21028*x2*x3*x7 + 15716*x1*x4*x7 + 39449*x2*x4*x7 + 26899*x3*x4*x7 + 13929*x1*x5*x7 + 35926*x2*x5*x7 + 18678*x3*x5*x7 + 9735*x4*x5*x7 + 34157*x1*x6*x7 + 50886*x2*x6*x7 + 19674*x3*x6*x7 + 25171*x4*x6*x7 + 10770*x5*x6*x7)``\n",
    "<br>\n",
    "<b>The associated Picard-Fuchs operator is the file <a href=\"PF-DoubleBox-6pt-case2.txt\">PF-DoubleBox-6pt-case2.txt</a></b>"
   ]
  },
  {
   "cell_type": "code",
   "execution_count": 19,
   "metadata": {},
   "outputs": [],
   "source": [
    "s = open(\"PF-DoubleBox-6pt-case2.txt\").readlines()[0]\n",
    "DoubleBox6ptcase2 = OA(s.replace(\"^\", \"**\").replace(\"t\", \"z\").replace(\"D\", \"Dz\"))"
   ]
  },
  {
   "cell_type": "code",
   "execution_count": 20,
   "metadata": {},
   "outputs": [],
   "source": [
    "listcoeff=DoubleBox6ptcase2.coefficients()\n",
    "p1case2=listcoeff[1]/listcoeff[2]\n",
    "p2case2=listcoeff[0]/listcoeff[2]"
   ]
  },
  {
   "cell_type": "markdown",
   "metadata": {},
   "source": [
    "<b>This show that the Picard-Fuchs operator obtained using the algorithms in <a href=\"https://arxiv.org/abs/2209.10962\">[arXiv:2209.10962]</a> is the same as one from the Double-box elliptic curve constructed above</b>"
   ]
  },
  {
   "cell_type": "code",
   "execution_count": 21,
   "metadata": {},
   "outputs": [
    {
     "data": {
      "text/plain": [
       "0"
      ]
     },
     "execution_count": 21,
     "metadata": {},
     "output_type": "execute_result"
    }
   ],
   "source": [
    "p1case2.subs(z=t)-P1case2\n",
    "p2case2.subs(z=t)-P2case2"
   ]
  },
  {
   "cell_type": "markdown",
   "metadata": {},
   "source": [
    "``F := (10609*x1 + 39601*x2 + 5329*x3 + 289*x4 + 32761*x5 + 9*x6 + 9409*x7)*(x1*x4 + x2*x4 + x3*x4 + x1*x5 + x2*x5 + x3*x5 + x1*x6 + x2*x6 + x3*x6 + x1*x7 + x2*x7 + x3*x7 + x4*x7 + x5*x7 + x6*x7) - t*(5676*x1*x2*x4 + 16990*x1*x3*x4 + 9062*x2*x3*x4 + 5676*x1*x2*x5 + 16990*x1*x3*x5 + 9062*x2*x3*x5 + 10766*x1*x4*x5 + 10766*x2*x4*x5 + 10766*x3*x4*x5 + 5676*x1*x2*x6 + 16990*x1*x3*x6 + 9062*x2*x3*x6 + 20726*x1*x4*x6 + 20726*x2*x4*x6 + 20726*x3*x4*x6 + 21558*x1*x5*x6 + 21558*x2*x5*x6 + 21558*x3*x5*x6 + 5676*x1*x2*x7 + 16990*x1*x3*x7 + 9062*x2*x3*x7 + 20501*x1*x4*x7 + 14135*x2*x4*x7 + 35557*x3*x4*x7 + 26043*x1*x5*x7 + 8533*x2*x5*x7 + 19419*x3*x5*x7 + 10766*x4*x5*x7 + 7749*x1*x6*x7 + 6887*x2*x6*x7 + 13151*x3*x6*x7 + 20726*x4*x6*x7 + 21558*x5*x6*x7)``\n",
    "<br>\n",
    "<b>The associated Picard-Fuchs operator is in the file <a href=\"PF-DoubleBox-6pt-case3.txt\">PF-DoubleBox-6pt-case3.txt</a></b>"
   ]
  },
  {
   "cell_type": "code",
   "execution_count": 22,
   "metadata": {
    "scrolled": true
   },
   "outputs": [],
   "source": [
    "s = open(\"PF-DoubleBox-6pt-case3.txt\").readlines()[0]\n",
    "DoubleBox6ptcase3 = OA(s.replace(\"^\", \"**\").replace(\"t\", \"z\").replace(\"D\", \"Dz\"))"
   ]
  },
  {
   "cell_type": "code",
   "execution_count": 23,
   "metadata": {},
   "outputs": [],
   "source": [
    "listcoeff=DoubleBox6ptcase3.coefficients()\n",
    "p1case3=listcoeff[1]/listcoeff[2]\n",
    "p2case3=listcoeff[0]/listcoeff[2]"
   ]
  },
  {
   "cell_type": "markdown",
   "metadata": {},
   "source": [
    "<b>This show that the Picard-Fuchs operator obtained using the algorithms in <a href=\"https://arxiv.org/abs/2209.10962\">[arXiv:2209.10962]</a> is the same as one from the Double-box elliptic curve constructed above</b>"
   ]
  },
  {
   "cell_type": "code",
   "execution_count": 24,
   "metadata": {},
   "outputs": [
    {
     "data": {
      "text/plain": [
       "0"
      ]
     },
     "execution_count": 24,
     "metadata": {},
     "output_type": "execute_result"
    }
   ],
   "source": [
    "p1case3.subs(z=t)-P1case3\n",
    "p2case3.subs(z=t)-P2case3"
   ]
  },
  {
   "cell_type": "markdown",
   "metadata": {},
   "source": [
    "``F := (6241*x1 + 121*x2 + 9*x3 + 289*x4 + 121*x5 + 289*x6 + 26569*x7)*(x1*x4 + x2*x4 + x3*x4 + x1*x5 + x2*x5 + x3*x5 + x1*x6 + x2*x6 + x3*x6 + x1*x7 + x2*x7 + x3*x7 + x4*x7 + x5*x7 + x6*x7) - t*(7028*x1*x2*x4 + 57030*x1*x3*x4 + 25366*x2*x3*x4 + 7028*x1*x2*x5 + 57030*x1*x3*x5 + 25366*x2*x3*x5 + 8271*x1*x4*x5 + 8271*x2*x4*x5 + 8271*x3*x4*x5 + 7028*x1*x2*x6 + 57030*x1*x3*x6 + 25366*x2*x3*x6 + 35865*x1*x4*x6 + 35865*x2*x4*x6 + 35865*x3*x4*x6 + 17658*x1*x5*x6 + 17658*x2*x5*x6 + 17658*x3*x5*x6 + 7028*x1*x2*x7 + 57030*x1*x3*x7 + 25366*x2*x3*x7 + 46446*x1*x4*x7 + 39718*x2*x4*x7 + 60728*x3*x4*x7 + 47727*x1*x5*x7 + 37473*x2*x5*x7 + 44583*x3*x5*x7 + 8271*x4*x5*x7 + 32731*x1*x6*x7 + 15109*x2*x6*x7 + 11077*x3*x6*x7 + 35865*x4*x6*x7 + 17658*x5*x6*x7)``\n",
    "<br>\n",
    "<b>The associated Picard-Fuchs operator is in the file <a href=\"PF-DoubleBox-6pt-case4.txt\">PF-DoubleBox-6pt-case4.txt</a></b>"
   ]
  },
  {
   "cell_type": "code",
   "execution_count": 25,
   "metadata": {
    "scrolled": true
   },
   "outputs": [],
   "source": [
    "s = open(\"PF-DoubleBox-6pt-case4.txt\").readlines()[0]\n",
    "DoubleBox6ptcase4 = OA(s.replace(\"^\", \"**\").replace(\"t\", \"z\").replace(\"D\", \"Dz\"))"
   ]
  },
  {
   "cell_type": "code",
   "execution_count": 26,
   "metadata": {},
   "outputs": [],
   "source": [
    "listcoeff=DoubleBox6ptcase4.coefficients()\n",
    "p1case4=listcoeff[1]/listcoeff[2]\n",
    "p2case4=listcoeff[0]/listcoeff[2]"
   ]
  },
  {
   "cell_type": "markdown",
   "metadata": {},
   "source": [
    "<b>This show that the Picard-Fuchs operator obtained using the algorithms in <a href=\"https://arxiv.org/abs/2209.10962\">[arXiv:2209.10962]</a> is the same as one from the Double-box elliptic curve constructed above</b>"
   ]
  },
  {
   "cell_type": "code",
   "execution_count": 27,
   "metadata": {},
   "outputs": [
    {
     "data": {
      "text/plain": [
       "0"
      ]
     },
     "execution_count": 27,
     "metadata": {},
     "output_type": "execute_result"
    }
   ],
   "source": [
    "p1case4.subs(z=t)-P1case4\n",
    "p2case4.subs(z=t)-P2case4"
   ]
  },
  {
   "cell_type": "code",
   "execution_count": null,
   "metadata": {},
   "outputs": [],
   "source": []
  }
 ],
 "metadata": {
  "kernelspec": {
   "display_name": "SageMath 9.8",
   "language": "sage",
   "name": "sagemath-9.8"
  },
  "language_info": {
   "codemirror_mode": {
    "name": "ipython",
    "version": 3
   },
   "file_extension": ".py",
   "mimetype": "text/x-python",
   "name": "python",
   "nbconvert_exporter": "python",
   "pygments_lexer": "ipython3",
   "version": "3.11.1"
  }
 },
 "nbformat": 4,
 "nbformat_minor": 1
}
