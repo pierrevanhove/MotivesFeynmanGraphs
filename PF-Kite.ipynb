{
 "cells": [
  {
   "cell_type": "markdown",
   "metadata": {},
   "source": [
    "![Kite4pt](Kite4pt.png)"
   ]
  },
  {
   "cell_type": "markdown",
   "metadata": {},
   "source": [
    "<H3><center><b>Picard-Fuchs equation for the two-loop Kite integral in four dimensions</b></center></H3>\n",
    "$$\n",
    "\\int_{x_i\\geq0} {dx_1\\cdots dx_{5}\\over {\\bf U}_{2,1,2}{\\bf F}_{2,1,2}} \n",
    "$$\n",
    "with the following graph polynomials\n",
    "\\begin{align}\n",
    "{\\bf U}_{2,1,2} & = \\left(z +  x_1 + x_2\\right) \\left( y_1 + y_2 \\right) + z \\left(x_1 + x_2\\right), \\cr\n",
    "{\\bf V}_{2,1,2} & = \\left( z + y_1 + y_2\\right)\\, p^2 x_1\n",
    "                  x_2  + \\left(z+x_1 + x_2\\right)\\, q^2\n",
    "                  y_1y_2 \\cr\n",
    "                  &+ z \\left(r_{11}^2 x_1y_2 + r_{12}^2x_1y_2 + r_{21}^2x_2y_1 + r_{22}^2x_2y_2 \\right),\\cr\n",
    "{\\bf F}_{2,1,2} & = {\\bf U}_{2,1,2}\\left( m_1^2y_1 + m_2^2y_2 + m_{3}^2x_1 + m_{4}^2x_2 + m^2_{5} z\\right) + {\\bf V}_{2,1,2},\n",
    "\\end{align}"
   ]
  },
  {
   "cell_type": "code",
   "execution_count": null,
   "metadata": {},
   "outputs": [],
   "source": [
    "R.<x1,x2,z,y1,y2,y3,w,p,q,r11,r12,r21,r22,m1,m2,m3,m4,m5,t,X, y,a11,a12,a13,f1,a22,a23, f2,a33, f3, g> = QQ[]\n",
    "U = (z + x1 + x2)*(y1+y2) + z*(x1 + x2)\n",
    "V = (z + y1 + y2)*(p^2*x1*x2) + (z + x1 + x2)*(q^2*y1*y2) + z*(r11^2*x1*y2 + r12^2*x1*y2 + r21^2*x2*y1 + r22^2*x2*y2)\n",
    "F = U*(m1^2*y1 + m2^2*y2 + m3^2*x1 + m4^2*x2 + m5^2*z) + V\n",
    "Fex = 54*x1^2*y1 + 304*x1*x2*y1 + 46*x2^2*y1 + 5*x1*y1^2 + 5*x2*y1^2 + 54*x1^2*y2 + 304*x1*x2*y2 + 46*x2^2*y2 + 270*x1*y1*y2 + 270*x2*y1*y2 + 22*x1*y2^2 + 22*x2*y2^2 + 54*x1^2*z + 304*x1*x2*z + 46*x2^2*z + 842*x1*y1*z + 338*x2*y1*z + 5*y1^2*z + 1908*x1*y2*z + 984*x2*y2*z + 270*y1*y2*z + 22*y2^2*z + 89*x1*z^2 + 89*x2*z^2 + 89*y1*z^2 + 89*y2*z^2\n",
    "G = Fex.substitute(y1=y1/w, y2=y2/w).numerator()\n",
    "Xlist = [y1,y2,w]\n",
    "L = matrix(R,3)\n",
    "for i in range(0,len(Xlist)):\n",
    "    for j in range(0,len(Xlist)):\n",
    "        if i == j:\n",
    "            L[i,j] = 2*G.coefficient(Xlist[i]*Xlist[j])\n",
    "        else:\n",
    "            L[i,j] = G.coefficient(Xlist[i]*Xlist[j])\n",
    "L.determinant().factor()\n",
    "L[0,2].factor()\n",
    "Jac = Matrix(R,[[U.derivative(x1), U.derivative(x2), U.derivative(z), U.derivative(y1), U.derivative(y2)],[Fex.derivative(x1), Fex.derivative(x2), Fex.derivative(z), Fex.derivative(y1), Fex.derivative(y2)]])\n",
    "J = R.ideal([U.derivative(x1), U.derivative(x2), U.derivative(z), U.derivative(y1), U.derivative(y2)])\n",
    "K = R.ideal([Fex.derivative(x1), Fex.derivative(x2), Fex.derivative(z), Fex.derivative(y1), Fex.derivative(y2)])\n",
    "I = R.ideal(Jac.minors(2))\n",
    "I\n",
    "I.radical().groebner_basis()"
   ]
  },
  {
   "cell_type": "code",
   "execution_count": 53,
   "metadata": {},
   "outputs": [],
   "source": [
    "R.<x0,x1,z,y0,y1,t,X,w> = QQ[]\n",
    "# case1\n",
    "m0 = 1\n",
    "m1 = 9\n",
    "m2 = 16\n",
    "m3 = 64\n",
    "m4 = 1\n",
    "p = 676\n",
    "p00 = 28\n",
    "p01 = 324\n",
    "p10 = 9\n",
    "p11 = 32\n",
    "q = 1156  \n",
    "\n",
    "#case2\n",
    "#m0 = 64, m1 = 4,  m2 = 49, m3 = 100, m4 = 36, p = 1225, p00 = 9, p01 = 529,  p10 = 4, p11 = 4, q = 484  \n",
    "\n",
    "#case3\n",
    "#m0 = 1, m1 = 1, m2 = 1,  m3 = 1, m4 = 1, p = 1225, p00 = 9, p01 = 529, p10 = 4,  p11 = 4, q = 484  \n",
    "\n",
    "#case4\n",
    "#m0 = 9, m1 = 1, m2 = 27, m3 = 7,  m4 = 11, p = 18587, p00 = 11990, p01 = 13117, p10 = 30107,  p11 = 8388, q = 40073  \n",
    "\n",
    "#case5\n",
    "#m0 = 49, m1 = 25, m2 = 100,  m3 = 100, m4 = 100, p = 784, p00 = 23, p01 = 256, p10 = 676,  p11 = 13, q = 841  \n",
    "\n",
    "#case6\n",
    "#m0 = 9, m1 = 1, m2 = 27, m3 = 7,  m4 = 11, p = 9425, p00 = 14428, p01 = 32253, p10 = 8379,  p11 = 11622, q = 28699  \n",
    "\n",
    "#case7\n",
    "#m0 = 9, m1 = 1, m2 = 27, m3 = 7,  m4 = 11, p = 3043, p00 = 13562, p01 = 19975, p10 = 10377,  p11 = 12990, q = 30113\n",
    "\n",
    "U = z*(x0 + x1 + y0 + y1) + (x0 + x1)*(y0 + y1)\n",
    "V = p*x0*x1*(z + y0 + y1) + q*y0*y1*(z + x0 + x1) + z*(p00*x0*y0 + p01*x0*y1 + p10*x1*y0 + p11*x1*y1)\n",
    "F = U*(m0*x0 + m1*x1 + m2*z + m3*y0 + m4*y1) - t*V\n",
    "q = z/(z + x0 + x1)\n",
    "G = (F.substitute(y0=y0*q, y1=y1*q)/z).numerator()\n",
    "H = G.substitute(x0 = X - x1 - y0 - y1)\n",
    "H1 = H.substitute(x1=x1/w, y0=y0/w, y1=y1/w).numerator()\n",
    "Xlist = [w,x1,y0,y1]\n",
    "M = matrix(R,4)\n",
    "for i in range(0,len(Xlist)):\n",
    "    for j in range(0,len(Xlist)):\n",
    "        if i == j:\n",
    "            M[i,j] = 2*H1.coefficient(Xlist[i]*Xlist[j])\n",
    "        else:\n",
    "            M[i,j] = H1.coefficient(Xlist[i]*Xlist[j])\n",
    "            Wt = (M.determinant()/(X^2*z^2)).numerator()\n",
    "Wt=Wt.substitute(z=1)\n",
    "B4 = Wt.coefficient(X^4)\n",
    "B3 = Wt.coefficient(X^3)\n",
    "B2 = Wt.coefficient(X^2)\n",
    "B1 = Wt.coefficient(X)\n",
    "B0 = Wt.substitute(X=0)\n",
    "#\n",
    "R = X^3 + B2*X^2 + (-4*B0*B4+B1*B3)*X + (B0*B3^2-4*B0*B2*B4+B1^2*B4)\n",
    "R1 = R.substitute(X=X-B2/3)\n",
    "g2 = R1.coefficient(X)\n",
    "g3 = R1.substitute(X=0)\n",
    "disc=4*g2^3 + 27*g3^2\n",
    "delta=3*g3*diff(g2,t)-2*g2*diff(g3,t)\n",
    "J = 4*g2^3/disc\n",
    "H1 = 4*R.substitute(X=X-B2/3)\n",
    "g2 = H1.coefficient(X)\n",
    "g3 = H1.substitute(X=0)\n",
    "h2 = -(H1).coefficient(X)\n",
    "h3 = -(H1).substitute(X=0)\n",
    "Del = h2^3 - 27*h3^2"
   ]
  },
  {
   "cell_type": "code",
   "execution_count": 57,
   "metadata": {},
   "outputs": [
    {
     "data": {
      "text/plain": [
       "(-33554432/27) * t^6 * (192315887902462649705461552662746989217151949598619109821760405504*t^18 + 57747779917522756811868060255410505560355839823200019066899005440*t^17 + 6624326899741741048865506844577804680660530006379060425187487744*t^16 - 189024840481250230742267890337590780384998162050684984568442880*t^15 - 50381119858192181047706198338482389662589136260567018788601664*t^14 + 455992485128898687366992318917892672395740970053118897985376*t^13 + 576643260152609636688594065182006689884468818227541576433065*t^12 - 40965159559576179661594382363550214151578923250587782565156*t^11 + 1019085393479697985346848001385141250482695844603008567196*t^10 - 58111098978701761673106028130827706189425156685499812480*t^9 + 9518729854345313296256216798812969918834141783931166384*t^8 - 591051262642402931996411333850978197078411864028703296*t^7 + 18503582792657332074858167589209518386489208926541376*t^6 - 228574806215437944396173811625300469798079687280128*t^5 + 4408453934451497670923280025626774118702877285376*t^4 - 131358989489585642141465952581970954906834468864*t^3 + 1849783010427270010908184777860916371117686784*t^2 - 11099659119562269469544285391850890991632384*t + 23738080925749758907645034719617878327296)"
      ]
     },
     "execution_count": 57,
     "metadata": {},
     "output_type": "execute_result"
    }
   ],
   "source": [
    "(g2^3 - 27*g3^2).factor()"
   ]
  },
  {
   "cell_type": "code",
   "execution_count": 30,
   "metadata": {},
   "outputs": [],
   "source": [
    "from ore_algebra import *\n",
    "OA, z, Dz = DifferentialOperators(QQ, 'z')"
   ]
  },
  {
   "cell_type": "markdown",
   "metadata": {},
   "source": [
    "`F := (9*x1 + x2 + 64*x3 + x4 + 16*x5)*((x3 + x4)*x5 + x1*(x3 + x4 + x5) + x2*(x3 + x4 + x5)) - t*((9*x1*x3 + 28*x2*x3 + 32*x1*x4 + 324*x2*x4)*x5 + 1156*x3*x4*(x1 + x2 + x5) + 676*x1*x2*(x3 + x4 + x5))`"
   ]
  },
  {
   "cell_type": "code",
   "execution_count": 31,
   "metadata": {
    "scrolled": true
   },
   "outputs": [
    {
     "data": {
      "text/plain": [
       "[7,\n",
       " 83,\n",
       " (-1551626029027231006382106111177086012732846142052059893802542623456943192896587225290505281964950629981355931180398923481253218063013193141160330388740788599056324413550224342568792116647313119964542072407037652926287722816822062415678624103541419290207698285405494006649263393724617895587358426724209984079728648430010970799560546875) * (alpha - 4) * (alpha - 3) * (alpha - 2) * (alpha - 1) * alpha * (alpha + 1)^2]"
      ]
     },
     "execution_count": 31,
     "metadata": {},
     "output_type": "execute_result"
    }
   ],
   "source": [
    "s = open(\"PF-Kite-d4-case1.txt\").readlines()[0]\n",
    "dopKited4case1 = OA(s.replace(\"^\", \"**\").replace(\"t\", \"z\").replace(\"D\", \"Dz\"))\n",
    "[dopKited4case1.order(),dopKited4case1.degree(),dopKited4case1.indicial_polynomial(z).factor()]"
   ]
  },
  {
   "cell_type": "code",
   "execution_count": 47,
   "metadata": {
    "scrolled": true
   },
   "outputs": [
    {
     "data": {
      "text/plain": [
       "(268435456) * t^6 * (186655247440462658668517682854435034945239462255864299782144*t^18 - 1263164057025173586838105377281687340154577271669632213852160*t^17 + 506031978583166129265278675451693821555756334982629599391744*t^16 + 904793497790204888296751784050374192468441835181837166229760*t^15 + 54140391287673823548743372027458927642722749721004745715680*t^14 - 1669778101167127140271381685300548480802368457466052987122*t^13 - 593071256790316029137435126518311083257459842451172963859*t^12 + 175111104460948896924781444320856765818234534902476717077*t^11 - 12264578630584862972354697519372608236117714424808575738*t^10 + 293071154807739371521130455120242965920026759341400256*t^9 + 15434703046387960672875786961610223472541160818355728*t^8 - 1272850058637293794577032428471996263221556236691600*t^7 + 34209159543967709838613889143114773569829967537568*t^6 - 290574192922064457168892005845986657000168381184*t^5 - 13587815278969002677635177141145444789857508864*t^4 + 592344065720567360505758059835947720692846592*t^3 - 8548898421907411739988177152700299496660992*t^2 + 51381236006136697519105315248227172679680*t - 109897624516537254598906816168345600000)"
      ]
     },
     "execution_count": 47,
     "metadata": {},
     "output_type": "execute_result"
    }
   ],
   "source": [
    "Del.factor()"
   ]
  },
  {
   "cell_type": "code",
   "execution_count": 39,
   "metadata": {},
   "outputs": [],
   "source": [
    "dopKited4case1desing=dopKited4case1.desingularize()"
   ]
  },
  {
   "cell_type": "code",
   "execution_count": 40,
   "metadata": {},
   "outputs": [
    {
     "data": {
      "text/plain": [
       "(z - 81/1156) * (z - 49/1156) * (z - 4/169) * (z - 1/169) * z^2 * (z^2 + 2232483943465/64036087046568*z - 117916789735/2049154785490176) * (z^2 + 745713978035/1793011377024*z - 75422205785615/33163538429435904) * (z^10 - 755949288816940893972368908621/103335565741105939652777498496*z^9 + 240754454689484820609930312357817859993/35611719257045722281189693753328367616*z^8 + 17746908640099306353587956956521971655/20349553861168984160679825001901924352*z^7 + 37233597096760645638062648291643400633/2279150032450926225996140400213015527424*z^6 - 5733819772873235801332375823677346989/1139575016225463112998070200106507763712*z^5 - 46765743060053182291709296632855449/325592861778703746570877200030430789632*z^4 + 700824481044588868588976833141511/71223438514091444562379387506656735232*z^3 + 37571685004429214555587794056497/71223438514091444562379387506656735232*z^2 - 20962269470169928699283390495/635923558161530755021244531309435136*z + 32816286237237404453624855/60564148396336262382975669648517632)"
      ]
     },
     "execution_count": 40,
     "metadata": {},
     "output_type": "execute_result"
    }
   ],
   "source": [
    "dopKited4case1desing.leading_coefficient().factor()"
   ]
  },
  {
   "cell_type": "markdown",
   "metadata": {},
   "source": [
    "The factorisation is in the text file <a href=\"PF-Kite-d4-case1-factor.txt\">PF-Kite-d4-case1-factor.txt</a>"
   ]
  },
  {
   "cell_type": "code",
   "execution_count": 6,
   "metadata": {},
   "outputs": [
    {
     "data": {
      "text/plain": [
       "[2, 2, 2, 1]"
      ]
     },
     "execution_count": 6,
     "metadata": {},
     "output_type": "execute_result"
    }
   ],
   "source": [
    "file = open('PF-Kite-d4-case1-factor.txt', 'r')\n",
    "lines = file.readlines()\n",
    "s = ''.join(lines);\n",
    "fac1=eval(preparse(s))\n",
    "[x.order() for x  in fac1]"
   ]
  },
  {
   "cell_type": "markdown",
   "metadata": {},
   "source": [
    "`F := (4*x1 + 64*x2 + 100*x3 + 36*x4 + 49*x5)*((x3 + x4)*x5 + x1*(x3 + x4 + x5) + x2*(x3 + x4 + x5)) - t*((4*x1*x3 + 9*x2*x3 + 4*x1*x4 + 529*x2*x4)*x5 + 484*x3*x4*(x1 + x2 + x5) + 1225*x1*x2*(x3 + x4 + x5))`"
   ]
  },
  {
   "cell_type": "code",
   "execution_count": 4,
   "metadata": {},
   "outputs": [
    {
     "data": {
      "text/plain": [
       "[7, 83, [log(z)/z, 1/z, 1, z, z^2, z^3, z^4]]"
      ]
     },
     "execution_count": 4,
     "metadata": {},
     "output_type": "execute_result"
    }
   ],
   "source": [
    "s = open(\"PF-Kite-d4-case2.txt\").readlines()[0]\n",
    "dopKited4case2 = OA(s.replace(\"^\", \"**\").replace(\"t\", \"z\").replace(\"D\", \"Dz\"))\n",
    "[dopKited4case2.order(),dopKited4case2.degree(),dopKited4case2.local_basis_monomials(0)]"
   ]
  },
  {
   "cell_type": "code",
   "execution_count": null,
   "metadata": {},
   "outputs": [],
   "source": [
    "#fac2=dopKited4case2.factor(); \n",
    "#save(fac2,'PF-Kite-d4-case2-factorized.txt')"
   ]
  },
  {
   "cell_type": "markdown",
   "metadata": {},
   "source": [
    "The factorisation is in the text file <a href=\"PF-Kite-d4-case2-factor.txt\">PF-Kite-d4-case2-factor.txt</a>"
   ]
  },
  {
   "cell_type": "code",
   "execution_count": 34,
   "metadata": {},
   "outputs": [
    {
     "data": {
      "text/plain": [
       "[2, 2, 2, 1]"
      ]
     },
     "execution_count": 34,
     "metadata": {},
     "output_type": "execute_result"
    }
   ],
   "source": [
    "file = open('PF-Kite-d4-case2-factor.txt', 'r')\n",
    "lines = file.readlines()\n",
    "s = ''.join(lines);\n",
    "fac2=eval(preparse(s))\n",
    "[x.order() for x  in fac2]"
   ]
  },
  {
   "cell_type": "code",
   "execution_count": 35,
   "metadata": {
    "scrolled": true
   },
   "outputs": [
    {
     "data": {
      "text/plain": [
       "z*Dz + 1"
      ]
     },
     "execution_count": 35,
     "metadata": {},
     "output_type": "execute_result"
    }
   ],
   "source": [
    "fac2[3]"
   ]
  },
  {
   "cell_type": "code",
   "execution_count": 67,
   "metadata": {},
   "outputs": [
    {
     "data": {
      "text/plain": [
       "(-15002808437346304) * alpha * (alpha + 1)"
      ]
     },
     "execution_count": 67,
     "metadata": {},
     "output_type": "execute_result"
    }
   ],
   "source": [
    "fac2[2].indicial_polynomial(z).factor()"
   ]
  },
  {
   "cell_type": "markdown",
   "metadata": {},
   "source": [
    "`F := (x1 + x2 + x3 + x4 + x5)*((x3 + x4)*x5 + x1*(x3 + x4 + x5) + x2*(x3 + x4 + x5)) - t*((4*x1*x3 + 9*x2*x3 + 4*x1*x4 + 529*x2*x4)*x5 + 484*x3*x4*(x1 + x2 + x5) + 1225*x1*x2*(x3 + x4 + x5))`"
   ]
  },
  {
   "cell_type": "code",
   "execution_count": 7,
   "metadata": {},
   "outputs": [
    {
     "data": {
      "text/plain": [
       "[7, 64, [log(z)/z, 1/z, 1/sqrt(z), log(z), 1, sqrt(z), z]]"
      ]
     },
     "execution_count": 7,
     "metadata": {},
     "output_type": "execute_result"
    }
   ],
   "source": [
    "s = open(\"PF-Kite-d4-case3.txt\").readlines()[0]\n",
    "dopKited4case3 = OA(s.replace(\"^\", \"**\").replace(\"t\", \"z\").replace(\"D\", \"Dz\"))\n",
    "[dopKited4case3.order(),dopKited4case3.degree(),dopKited4case3.local_basis_monomials(0)]"
   ]
  },
  {
   "cell_type": "code",
   "execution_count": null,
   "metadata": {},
   "outputs": [],
   "source": [
    "#fac3=dopKited4case3.factor(); \n",
    "#save(fac3,'PF-Kite-d4-case3-factorized.txt')"
   ]
  },
  {
   "cell_type": "markdown",
   "metadata": {},
   "source": [
    "The factorisation is in the text file <a href=\"PF-Kite-d4-case3-factor.txt\">PF-Kite-d4-case3-factor.txt</a>"
   ]
  },
  {
   "cell_type": "code",
   "execution_count": 36,
   "metadata": {},
   "outputs": [
    {
     "data": {
      "text/plain": [
       "[2, 2, 2, 1]"
      ]
     },
     "execution_count": 36,
     "metadata": {},
     "output_type": "execute_result"
    }
   ],
   "source": [
    "file = open('PF-Kite-d4-case3-factor.txt', 'r')\n",
    "lines = file.readlines()\n",
    "s = ''.join(lines);\n",
    "fac3=eval(preparse(s))\n",
    "[x.order() for x  in fac3]"
   ]
  },
  {
   "cell_type": "code",
   "execution_count": 37,
   "metadata": {},
   "outputs": [
    {
     "data": {
      "text/plain": [
       "z*Dz + 1"
      ]
     },
     "execution_count": 37,
     "metadata": {},
     "output_type": "execute_result"
    }
   ],
   "source": [
    "fac3[3]"
   ]
  },
  {
   "cell_type": "code",
   "execution_count": 68,
   "metadata": {},
   "outputs": [
    {
     "data": {
      "text/plain": [
       "(-10737135502) * (alpha + 1/2) * (alpha + 1)"
      ]
     },
     "execution_count": 68,
     "metadata": {},
     "output_type": "execute_result"
    }
   ],
   "source": [
    "fac3[2].indicial_polynomial(z).factor()"
   ]
  },
  {
   "cell_type": "markdown",
   "metadata": {},
   "source": [
    "`F := (x1 + 9*x2 + 7*x3 + 11*x4 + 27*x5)*(x1*x3 + x2*x3 + x1*x4 + x2*x4 + x1*x5 + x2*x5 + x3*x5 + x4*x5) - t*(18587*x1*x2*x3 + 18587*x1*x2*x4 + 40073*x1*x3*x4 + 40073*x2*x3*x4 + 18587*x1*x2*x5 + 30107*x1*x3*x5 + 11990*x2*x3*x5 + 8388*x1*x4*x5 + 13117*x2*x4*x5 + 40073*x3*x4*x5)`"
   ]
  },
  {
   "cell_type": "code",
   "execution_count": 77,
   "metadata": {},
   "outputs": [
    {
     "data": {
      "text/plain": [
       "[7, 83, [log(z)/z, 1/z, 1, z, z^2, z^3, z^4]]"
      ]
     },
     "execution_count": 77,
     "metadata": {},
     "output_type": "execute_result"
    }
   ],
   "source": [
    "s = open(\"PF-Kite-d4-case4.txt\").readlines()[0]\n",
    "dopKited4case4 = OA(s.replace(\"^\", \"**\").replace(\"t\", \"z\").replace(\"D\", \"Dz\"))\n",
    "[dopKited4case4.order(),dopKited4case4.degree(),dopKited4case4.local_basis_monomials(0)]"
   ]
  },
  {
   "cell_type": "code",
   "execution_count": 21,
   "metadata": {},
   "outputs": [],
   "source": [
    "#fac4=dopKited4case4.factor(); \n",
    "#save(fac4,'PF-Kite-d4-case4-factorized.txt')"
   ]
  },
  {
   "cell_type": "markdown",
   "metadata": {},
   "source": [
    "The factorisation is in the text file <a href=\"PF-Kite-d4-case4-factor.txt\">PF-Kite-d4-case4-factor.txt</a>"
   ]
  },
  {
   "cell_type": "code",
   "execution_count": 78,
   "metadata": {},
   "outputs": [
    {
     "data": {
      "text/plain": [
       "[2, 2, 2, 1]"
      ]
     },
     "execution_count": 78,
     "metadata": {},
     "output_type": "execute_result"
    }
   ],
   "source": [
    "file = open('PF-Kite-d4-case4-factor.txt', 'r')\n",
    "lines = file.readlines()\n",
    "s = ''.join(lines);\n",
    "fac4=eval(preparse(s))\n",
    "[x.order() for x  in fac4]"
   ]
  },
  {
   "cell_type": "code",
   "execution_count": 80,
   "metadata": {},
   "outputs": [
    {
     "data": {
      "text/plain": [
       "z*Dz + 1"
      ]
     },
     "execution_count": 80,
     "metadata": {},
     "output_type": "execute_result"
    }
   ],
   "source": [
    "fac4[3]"
   ]
  },
  {
   "cell_type": "code",
   "execution_count": 83,
   "metadata": {},
   "outputs": [
    {
     "data": {
      "text/plain": [
       "(-11777525590975855237455256523512994182656) * alpha * (alpha + 1)"
      ]
     },
     "execution_count": 83,
     "metadata": {},
     "output_type": "execute_result"
    }
   ],
   "source": [
    "fac4[2].indicial_polynomial(z).factor()"
   ]
  },
  {
   "cell_type": "code",
   "execution_count": 82,
   "metadata": {},
   "outputs": [
    {
     "data": {
      "text/plain": [
       "f(z) = _C1/z*exp(Int(847/88047022669060805739854742669972843905645406*I*(115873965948158562936450175*z^2-53402656910111343602130*z-66457295285137400136)*169365811678089384801542845083^(1/2)*((1605845329*z^2-1442628*z+16)*(38604042431705866407252675*z^2-71123541708392066285260*z+33228647642568700068))^(1/2)*151866489106463630740974311009010948821091245798505274884912631227^(1/2)/(12945558468042521915*z^2-10621955457125639*z+216349271176)/(61992121219472667071984719871505075*z^4-169904679759525050388205264580440*z^3+156582546012407332229287888452*z^2-49074554158637871702262864*z+531658362281099201088),z))/(38604042431705866407252675*z^2-71123541708392066285260*z+33228647642568700068)^(1/2)*((12945558468042521915*z^2-10621955457125639*z+216349271176)/(1605845329*z^2-1442628*z+16))^(1/2)+_C2/z*exp(-Int(847/88047022669060805739854742669972843905645406*I*(115873965948158562936450175*z^2-53402656910111343602130*z-66457295285137400136)*169365811678089384801542845083^(1/2)*((1605845329*z^2-1442628*z+16)*(38604042431705866407252675*z^2-71123541708392066285260*z+33228647642568700068))^(1/2)*151866489106463630740974311009010948821091245798505274884912631227^(1/2)/(12945558468042521915*z^2-10621955457125639*z+216349271176)/(61992121219472667071984719871505075*z^4-169904679759525050388205264580440*z^3+156582546012407332229287888452*z^2-49074554158637871702262864*z+531658362281099201088),z))/(38604042431705866407252675*z^2-71123541708392066285260*z+33228647642568700068)^(1/2)*((12945558468042521915*z^2-10621955457125639*z+216349271176)/(1605845329*z^2-1442628*z+16))^(1/2)"
      ]
     },
     "execution_count": 82,
     "metadata": {},
     "output_type": "execute_result"
    }
   ],
   "source": [
    "maple('with(DEtools);')\n",
    "maple.set('L',fac4[2])\n",
    "solKite4ptcase5=maple('dsolve(diffop2de(L,f(z),[Dz,z]))')\n",
    "solKite4ptcase5"
   ]
  },
  {
   "cell_type": "markdown",
   "metadata": {},
   "source": [
    "`F := (25*x1 + 49*x2 + 100*x3 + 100*x4 + 100*x5)*((x3 + x4)*x5 + x1*(x3 + x4 + x5) + x2*(x3 + x4 + x5)) - t*((676*x1*x3 + 23*x2*x3 + 13*x1*x4 + 256*x2*x4)*x5 + 841*x3*x4*(x1 + x2 + x5) + 784*x1*x2*(x3 + x4 + x5))`"
   ]
  },
  {
   "cell_type": "code",
   "execution_count": 11,
   "metadata": {},
   "outputs": [
    {
     "data": {
      "text/plain": [
       "[7, 82, [log(z)/z, 1/z, 1/sqrt(z), 1, z, z^2, z^3]]"
      ]
     },
     "execution_count": 11,
     "metadata": {},
     "output_type": "execute_result"
    }
   ],
   "source": [
    "s = open(\"PF-Kite-d4-case5.txt\").readlines()[0]\n",
    "dopKited4case5 = OA(s.replace(\"^\", \"**\").replace(\"t\", \"z\").replace(\"D\", \"Dz\"))\n",
    "[dopKited4case5.order(),dopKited4case5.degree(),dopKited4case5.local_basis_monomials(0)]"
   ]
  },
  {
   "cell_type": "code",
   "execution_count": 28,
   "metadata": {},
   "outputs": [],
   "source": [
    "#fac5=dopKited4case5.factor(); \n",
    "#[x.order() for x in fac5]\n",
    "#save(fac5,'PF-Kite-d4-case5-factorized.txt')"
   ]
  },
  {
   "cell_type": "markdown",
   "metadata": {},
   "source": [
    "The factorisation is in the text file <a href=\"PF-Kite-d4-case5-factor.txt\">PF-Kite-d4-case5-factor.txt</a>"
   ]
  },
  {
   "cell_type": "code",
   "execution_count": 42,
   "metadata": {},
   "outputs": [
    {
     "data": {
      "text/plain": [
       "[2, 2, 2, 1]"
      ]
     },
     "execution_count": 42,
     "metadata": {},
     "output_type": "execute_result"
    }
   ],
   "source": [
    "file = open('PF-Kite-d4-case5-factor.txt', 'r')\n",
    "lines = file.readlines()\n",
    "s = ''.join(lines);\n",
    "fac5=eval(preparse(s))\n",
    "[x.order() for x  in fac5]"
   ]
  },
  {
   "cell_type": "code",
   "execution_count": 72,
   "metadata": {},
   "outputs": [
    {
     "data": {
      "text/plain": [
       "(28040323154154623325) * alpha * (alpha + 1)"
      ]
     },
     "execution_count": 72,
     "metadata": {},
     "output_type": "execute_result"
    }
   ],
   "source": [
    "fac5[2].indicial_polynomial(z).factor()"
   ]
  },
  {
   "cell_type": "code",
   "execution_count": 55,
   "metadata": {},
   "outputs": [
    {
     "data": {
      "text/plain": []
     },
     "execution_count": 55,
     "metadata": {},
     "output_type": "execute_result"
    }
   ],
   "source": [
    "maple('with(DEtools);')\n",
    "maple.set('L',fac5[2])\n",
    "solKite4ptcase5=maple('dsolve(diffop2de(L,f(z),[Dz,z]))')\n",
    "solKite4ptcase5"
   ]
  },
  {
   "cell_type": "markdown",
   "metadata": {},
   "source": [
    "`F := (x1 + 9*x2 + 7*x3 + 11*x4 + 27*x5)*(x1*x3 + x2*x3 + x1*x4 + x2*x4 + x1*x5 + x2*x5 + x3*x5 + x4*x5) - t*(9425*x1*x2*x3 + 9425*x1*x2*x4 + 28699*x1*x3*x4 + 28699*x2*x3*x4 + 9425*x1*x2*x5 + 8379*x1*x3*x5 + 14428*x2*x3*x5 + 11622*x1*x4*x5 + 32253*x2*x4*x5 + 28699*x3*x4*x5)`"
   ]
  },
  {
   "cell_type": "code",
   "execution_count": 4,
   "metadata": {},
   "outputs": [
    {
     "data": {
      "text/plain": [
       "[7, 83, [log(z)/z, 1/z, 1, z, z^2, z^3, z^4]]"
      ]
     },
     "execution_count": 4,
     "metadata": {},
     "output_type": "execute_result"
    }
   ],
   "source": [
    "s = open(\"PF-Kite-d4-case6.txt\").readlines()[0]\n",
    "dopKited4case6 = OA(s.replace(\"^\", \"**\").replace(\"t\", \"z\").replace(\"D\", \"Dz\"))\n",
    "[dopKited4case6.order(),dopKited4case6.degree(),dopKited4case6.local_basis_monomials(0)]"
   ]
  },
  {
   "cell_type": "code",
   "execution_count": 21,
   "metadata": {},
   "outputs": [],
   "source": [
    "#fac6=dopKited4case6.factor(); \n",
    "#[x.order() for x in fac6]\n",
    "#save(fac6,'PF-Kite-d4-case6-factorized.txt')"
   ]
  },
  {
   "cell_type": "markdown",
   "metadata": {},
   "source": [
    "The factorisation is in the text file <a href=\"PF-Kite-d4-case6-factor.txt\">PF-Kite-d4-case6-factor.txt</a>"
   ]
  },
  {
   "cell_type": "code",
   "execution_count": 89,
   "metadata": {},
   "outputs": [
    {
     "data": {
      "text/plain": [
       "[2, 2, 2, 1]"
      ]
     },
     "execution_count": 89,
     "metadata": {},
     "output_type": "execute_result"
    }
   ],
   "source": [
    "file = open('PF-Kite-d4-case6-factor.txt', 'r')\n",
    "lines = file.readlines()\n",
    "s = ''.join(lines);\n",
    "fac6=eval(preparse(s))\n",
    "[x.order() for x  in fac6]"
   ]
  },
  {
   "cell_type": "code",
   "execution_count": 46,
   "metadata": {},
   "outputs": [
    {
     "data": {
      "text/plain": [
       "z*Dz + 1"
      ]
     },
     "execution_count": 46,
     "metadata": {},
     "output_type": "execute_result"
    }
   ],
   "source": [
    "fac6[3]"
   ]
  },
  {
   "cell_type": "code",
   "execution_count": 90,
   "metadata": {},
   "outputs": [
    {
     "data": {
      "text/plain": [
       "(27563759227091343110757450261958856704) * alpha * (alpha + 1)"
      ]
     },
     "execution_count": 90,
     "metadata": {},
     "output_type": "execute_result"
    }
   ],
   "source": [
    "fac6[2].indicial_polynomial(z).factor()"
   ]
  },
  {
   "cell_type": "code",
   "execution_count": 91,
   "metadata": {},
   "outputs": [
    {
     "data": {
      "text/plain": [
       "f(z) = _C1/z*exp(Int(28275/42567237279667355491905696060267242182*I*(4158470347527492606423125*z^2-4285547979234601962350*z+1312529981254984112)*10057060313594737^(1/2)*((9425*z-4)*(9425*z-16)*(893374953319316484420625*z^2-1054014058282744341900*z+328132495313746028))^(1/2)*135126689593440630512845987182923918242875189398752452675339^(1/2)/(49895644624109375*z^2-73095346700675*z+24157431392)/(79359055462700707883886881640625*z^4-262029906256733763919478500000*z^3+285005861640263194209577500*z^2-129309875096736764159600*z+21000479700079745792),z))/(893374953319316484420625*z^2-1054014058282744341900*z+328132495313746028)^(1/2)*((49895644624109375*z^2-73095346700675*z+24157431392)/(9425*z-4)/(9425*z-16))^(1/2)+_C2/z*exp(-Int(28275/42567237279667355491905696060267242182*I*(4158470347527492606423125*z^2-4285547979234601962350*z+1312529981254984112)*10057060313594737^(1/2)*((9425*z-4)*(9425*z-16)*(893374953319316484420625*z^2-1054014058282744341900*z+328132495313746028))^(1/2)*135126689593440630512845987182923918242875189398752452675339^(1/2)/(49895644624109375*z^2-73095346700675*z+24157431392)/(79359055462700707883886881640625*z^4-262029906256733763919478500000*z^3+285005861640263194209577500*z^2-129309875096736764159600*z+21000479700079745792),z))/(893374953319316484420625*z^2-1054014058282744341900*z+328132495313746028)^(1/2)*((49895644624109375*z^2-73095346700675*z+24157431392)/(9425*z-4)/(9425*z-16))^(1/2)"
      ]
     },
     "execution_count": 91,
     "metadata": {},
     "output_type": "execute_result"
    }
   ],
   "source": [
    "maple('with(DEtools);')\n",
    "maple.set('L',fac6[2])\n",
    "solKite4ptcase6=maple('dsolve(diffop2de(L,f(z),[Dz,z]))')\n",
    "solKite4ptcase6"
   ]
  },
  {
   "cell_type": "markdown",
   "metadata": {},
   "source": [
    "`F := (x1 + 9*x2 + 7*x3 + 11*x4 + 27*x5)*(x1*x3 + x2*x3 + x1*x4 + x2*x4 + x1*x5 + x2*x5 + x3*x5 + x4*x5) - t*(9425*x1*x2*x3 + 9425*x1*x2*x4 + 28699*x1*x3*x4 + 28699*x2*x3*x4 + 9425*x1*x2*x5 + 8379*x1*x3*x5 + 14428*x2*x3*x5 + 11622*x1*x4*x5 + 32253*x2*x4*x5 + 28699*x3*x4*x5)`"
   ]
  },
  {
   "cell_type": "code",
   "execution_count": 3,
   "metadata": {},
   "outputs": [
    {
     "data": {
      "text/plain": [
       "[7, 83, [log(z)/z, 1/z, 1, z, z^2, z^3, z^4]]"
      ]
     },
     "execution_count": 3,
     "metadata": {},
     "output_type": "execute_result"
    }
   ],
   "source": [
    "s = open(\"PF-Kite-d4-case7.txt\").readlines()[0]\n",
    "dopKited4case7 = OA(s.replace(\"^\", \"**\").replace(\"t\", \"z\").replace(\"D\", \"Dz\"))\n",
    "[dopKited4case7.order(),dopKited4case7.degree(),dopKited4case7.local_basis_monomials(0)]"
   ]
  },
  {
   "cell_type": "code",
   "execution_count": null,
   "metadata": {},
   "outputs": [],
   "source": [
    "#fac7=dopKited4case7.factor(); \n",
    "#[x.order() for x in fac7]\n",
    "#save(fac7,'PF-Kite-d4-case7-factorized.txt')"
   ]
  },
  {
   "cell_type": "markdown",
   "metadata": {},
   "source": [
    "The factorisation is in the text file <a href=\"PF-Kite-d4-case7-factor.txt\">PF-Kite-d4-case7-factor.txt</a>"
   ]
  },
  {
   "cell_type": "code",
   "execution_count": 85,
   "metadata": {},
   "outputs": [
    {
     "data": {
      "text/plain": [
       "[2, 2, 2, 1]"
      ]
     },
     "execution_count": 85,
     "metadata": {},
     "output_type": "execute_result"
    }
   ],
   "source": [
    "file = open('PF-Kite-d4-case7-factor.txt', 'r')\n",
    "lines = file.readlines()\n",
    "s = ''.join(lines);\n",
    "fac7=eval(preparse(s))\n",
    "[x.order() for x  in fac7]"
   ]
  },
  {
   "cell_type": "code",
   "execution_count": 86,
   "metadata": {},
   "outputs": [
    {
     "data": {
      "text/plain": [
       "z*Dz + 1"
      ]
     },
     "execution_count": 86,
     "metadata": {},
     "output_type": "execute_result"
    }
   ],
   "source": [
    "fac7[3]"
   ]
  },
  {
   "cell_type": "code",
   "execution_count": 87,
   "metadata": {},
   "outputs": [
    {
     "data": {
      "text/plain": [
       "(1346642082271886600835354721848) * alpha * (alpha + 1)"
      ]
     },
     "execution_count": 87,
     "metadata": {},
     "output_type": "execute_result"
    }
   ],
   "source": [
    "fac7[2].indicial_polynomial(z).factor()"
   ]
  },
  {
   "cell_type": "code",
   "execution_count": 88,
   "metadata": {},
   "outputs": [
    {
     "data": {
      "text/plain": [
       "f(z) = _C1/z*exp(Int(60025/26008128507152566372044876*(14762142213854*z^2-2049898523355*z-305480270160)*7860567^(1/2)*((49*z-9)*(196*z-1)*(24650738112*z^2-131484067255*z-50913378360))^(1/2)*37648041476460396119349768588492681226487481^(1/2)/(26369025718*z^2+40557940479*z-391641372)/(236745688827648*z^4-1307464770114076*z^3-250369615193117*z^2+91122598361385*z-458220405240),z))*(1/(49*z-9)/(196*z-1)/(24650738112*z^2-131484067255*z-50913378360)*(26369025718*z^2+40557940479*z-391641372))^(1/2)+_C2/z*exp(-Int(60025/26008128507152566372044876*(14762142213854*z^2-2049898523355*z-305480270160)*7860567^(1/2)*((49*z-9)*(196*z-1)*(24650738112*z^2-131484067255*z-50913378360))^(1/2)*37648041476460396119349768588492681226487481^(1/2)/(26369025718*z^2+40557940479*z-391641372)/(236745688827648*z^4-1307464770114076*z^3-250369615193117*z^2+91122598361385*z-458220405240),z))*(1/(49*z-9)/(196*z-1)/(24650738112*z^2-131484067255*z-50913378360)*(26369025718*z^2+40557940479*z-391641372))^(1/2)"
      ]
     },
     "execution_count": 88,
     "metadata": {},
     "output_type": "execute_result"
    }
   ],
   "source": [
    "maple('with(DEtools);')\n",
    "maple.set('L',fac5[2])\n",
    "solKite4ptcase7=maple('dsolve(diffop2de(L,f(z),[Dz,z]))')\n",
    "solKite4ptcase7"
   ]
  }
 ],
 "metadata": {
  "kernelspec": {
   "display_name": "SageMath 9.6",
   "language": "sage",
   "name": "sagemath-9.6"
  },
  "language_info": {
   "codemirror_mode": {
    "name": "ipython",
    "version": 3
   },
   "file_extension": ".py",
   "mimetype": "text/x-python",
   "name": "python",
   "nbconvert_exporter": "python",
   "pygments_lexer": "ipython3",
   "version": "3.10.3"
  }
 },
 "nbformat": 4,
 "nbformat_minor": 1
}
