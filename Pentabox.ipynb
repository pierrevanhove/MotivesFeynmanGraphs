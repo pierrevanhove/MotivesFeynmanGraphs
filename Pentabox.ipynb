{
 "cells": [
  {
   "cell_type": "markdown",
   "metadata": {},
   "source": [
    "<img src=\"Pentabox.png\" alt=\"Pentabox\" style=\"width:200px\">"
   ]
  },
  {
   "cell_type": "markdown",
   "metadata": {},
   "source": [
    "<H3><center><b>Picard-Fuchs equation for the pentabox graph $(4,1,3)$ with  seven-points</b></center></H3>\n",
    "$$\n",
    "\\int_{x_i\\geq0}{\\textbf{U}_{(2,1,3)}^2\\over \\textbf{F}_{(2,1,3);D}(t)^4} dx_1\\cdots dx_{7}\n",
    "$$\n",
    "\\begin{align}\n",
    "{\\bf U}_{(4,1,3)} & = (x_1 + x_2 + x_3 + x_4) (y_1 + y_2 + y_3) + \n",
    " z (x_1 + x_2 + x_3 + x_4 + y_1 + y_2 + y_3) ,\\\\\n",
    "{\\bf V}_{(4,1,3);D} & =  x_1 x_2 y_1 p_1  \\cdot  p_1 + x_1 x_3 y_1 p_1  \\cdot  p_1 + x_1 x_4 y_1 p_1  \\cdot  p_1 + x_1 x_2 y_2 p_1  \\cdot  p_1 + \n",
    " x_1 x_3 y_2 p_1  \\cdot  p_1 + x_1 x_4 y_2 p_1  \\cdot  p_1 + x_1 y_1 y_2 p_1  \\cdot  p_1 + x_2 y_1 y_2 p_1  \\cdot  p_1 + \n",
    " x_3 y_1 y_2 p_1  \\cdot  p_1 + x_4 y_1 y_2 p_1  \\cdot  p_1 + x_1 x_2 y_3 p_1  \\cdot  p_1 + x_1 x_3 y_3 p_1  \\cdot  p_1 + \n",
    " x_1 x_4 y_3 p_1  \\cdot  p_1 + x_1 y_1 y_3 p_1  \\cdot  p_1 + x_2 y_1 y_3 p_1  \\cdot  p_1 + x_3 y_1 y_3 p_1  \\cdot  p_1 + \n",
    " x_4 y_1 y_3 p_1  \\cdot  p_1 + x_1 x_2 z p_1  \\cdot  p_1 + x_1 x_3 z p_1  \\cdot  p_1 + x_1 x_4 z p_1  \\cdot  p_1 + \n",
    " x_2 y_1 z p_1  \\cdot  p_1 + x_3 y_1 z p_1  \\cdot  p_1 + x_4 y_1 z p_1  \\cdot  p_1 + x_1 y_2 z p_1  \\cdot  p_1 + \n",
    " y_1 y_2 z p_1  \\cdot  p_1 + x_1 y_3 z p_1  \\cdot  p_1 + y_1 y_3 z p_1  \\cdot  p_1 + 2 x_1 x_3 y_1 p_1  \\cdot  p_2 + \n",
    " 2 x_1 x_4 y_1 p_1  \\cdot  p_2 + 2 x_1 x_3 y_2 p_1  \\cdot  p_2 + 2 x_1 x_4 y_2 p_1  \\cdot  p_2 + 2 x_1 y_1 y_2 p_1  \\cdot  p_2 + \n",
    " 2 x_2 y_1 y_2 p_1  \\cdot  p_2 + 2 x_3 y_1 y_2 p_1  \\cdot  p_2 + 2 x_4 y_1 y_2 p_1  \\cdot  p_2 + 2 x_1 x_3 y_3 p_1  \\cdot  p_2 + \n",
    " 2 x_1 x_4 y_3 p_1  \\cdot  p_2 + 2 x_1 y_1 y_3 p_1  \\cdot  p_2 + 2 x_2 y_1 y_3 p_1  \\cdot  p_2 + 2 x_3 y_1 y_3 p_1  \\cdot  p_2 + \n",
    " 2 x_4 y_1 y_3 p_1  \\cdot  p_2 + 2 x_1 x_3 z p_1  \\cdot  p_2 + 2 x_1 x_4 z p_1  \\cdot  p_2 + 2 x_3 y_1 z p_1  \\cdot  p_2 + \n",
    " 2 x_4 y_1 z p_1  \\cdot  p_2 + 2 x_1 y_2 z p_1  \\cdot  p_2 + 2 y_1 y_2 z p_1  \\cdot  p_2 + 2 x_1 y_3 z p_1  \\cdot  p_2 + \n",
    " 2 y_1 y_3 z p_1  \\cdot  p_2 + 2 x_1 x_4 y_1 p_1  \\cdot  p_3 + 2 x_1 x_4 y_2 p_1  \\cdot  p_3 + 2 x_1 y_1 y_2 p_1  \\cdot  p_3 + \n",
    " 2 x_2 y_1 y_2 p_1  \\cdot  p_3 + 2 x_3 y_1 y_2 p_1  \\cdot  p_3 + 2 x_4 y_1 y_2 p_1  \\cdot  p_3 + 2 x_1 x_4 y_3 p_1  \\cdot  p_3 + \n",
    " 2 x_1 y_1 y_3 p_1  \\cdot  p_3 + 2 x_2 y_1 y_3 p_1  \\cdot  p_3 + 2 x_3 y_1 y_3 p_1  \\cdot  p_3 + 2 x_4 y_1 y_3 p_1  \\cdot  p_3 + \n",
    " 2 x_1 x_4 z p_1  \\cdot  p_3 + 2 x_4 y_1 z p_1  \\cdot  p_3 + 2 x_1 y_2 z p_1  \\cdot  p_3 + 2 y_1 y_2 z p_1  \\cdot  p_3 + \n",
    " 2 x_1 y_3 z p_1  \\cdot  p_3 + 2 y_1 y_3 z p_1  \\cdot  p_3 + 2 x_1 y_1 y_2 p_1  \\cdot  p_4 + 2 x_2 y_1 y_2 p_1  \\cdot  p_4 + \n",
    " 2 x_3 y_1 y_2 p_1  \\cdot  p_4 + 2 x_4 y_1 y_2 p_1  \\cdot  p_4 + 2 x_1 y_2 z p_1  \\cdot  p_4 + 2 y_1 y_2 z p_1  \\cdot  p_4 + \n",
    " 2 x_1 y_1 y_2 p_1  \\cdot  p_6 + 2 x_2 y_1 y_2 p_1  \\cdot  p_6 + 2 x_3 y_1 y_2 p_1  \\cdot  p_6 + 2 x_4 y_1 y_2 p_1  \\cdot  p_6 + \n",
    " 2 x_1 y_1 y_3 p_1  \\cdot  p_6 + 2 x_2 y_1 y_3 p_1  \\cdot  p_6 + 2 x_3 y_1 y_3 p_1  \\cdot  p_6 + 2 x_4 y_1 y_3 p_1  \\cdot  p_6 + \n",
    " 2 x_2 y_1 z p_1  \\cdot  p_6 + 2 x_3 y_1 z p_1  \\cdot  p_6 + 2 x_4 y_1 z p_1  \\cdot  p_6 + 2 y_1 y_2 z p_1  \\cdot  p_6 + \n",
    " 2 y_1 y_3 z p_1  \\cdot  p_6 + 2 x_1 y_1 y_2 p_1  \\cdot  p_7 + 2 x_2 y_1 y_2 p_1  \\cdot  p_7 + 2 x_3 y_1 y_2 p_1  \\cdot  p_7 + \n",
    " 2 x_4 y_1 y_2 p_1  \\cdot  p_7 + 2 x_1 y_1 y_3 p_1  \\cdot  p_7 + 2 x_2 y_1 y_3 p_1  \\cdot  p_7 + 2 x_3 y_1 y_3 p_1  \\cdot  p_7 + \n",
    " 2 x_4 y_1 y_3 p_1  \\cdot  p_7 + 2 x_1 y_2 z p_1  \\cdot  p_7 + 2 y_1 y_2 z p_1  \\cdot  p_7 + 2 x_1 y_3 z p_1  \\cdot  p_7 + \n",
    " 2 y_1 y_3 z p_1  \\cdot  p_7 + x_1 x_3 y_1 p_2  \\cdot  p_2 + x_2 x_3 y_1 p_2  \\cdot  p_2 + x_1 x_4 y_1 p_2  \\cdot  p_2 + \n",
    " x_2 x_4 y_1 p_2  \\cdot  p_2 + x_1 x_3 y_2 p_2  \\cdot  p_2 + x_2 x_3 y_2 p_2  \\cdot  p_2 + x_1 x_4 y_2 p_2  \\cdot  p_2 + \n",
    " x_2 x_4 y_2 p_2  \\cdot  p_2 + x_1 y_1 y_2 p_2  \\cdot  p_2 + x_2 y_1 y_2 p_2  \\cdot  p_2 + x_3 y_1 y_2 p_2  \\cdot  p_2 + \n",
    " x_4 y_1 y_2 p_2  \\cdot  p_2 + x_1 x_3 y_3 p_2  \\cdot  p_2 + x_2 x_3 y_3 p_2  \\cdot  p_2 + x_1 x_4 y_3 p_2  \\cdot  p_2 + \n",
    " x_2 x_4 y_3 p_2  \\cdot  p_2 + x_1 y_1 y_3 p_2  \\cdot  p_2 + x_2 y_1 y_3 p_2  \\cdot  p_2 + x_3 y_1 y_3 p_2  \\cdot  p_2 + \n",
    " x_4 y_1 y_3 p_2  \\cdot  p_2 + x_1 x_3 z p_2  \\cdot  p_2 + x_2 x_3 z p_2  \\cdot  p_2 + x_1 x_4 z p_2  \\cdot  p_2 + \n",
    " x_2 x_4 z p_2  \\cdot  p_2 + x_3 y_1 z p_2  \\cdot  p_2 + x_4 y_1 z p_2  \\cdot  p_2 + x_1 y_2 z p_2  \\cdot  p_2 + \n",
    " x_2 y_2 z p_2  \\cdot  p_2 + y_1 y_2 z p_2  \\cdot  p_2 + x_1 y_3 z p_2  \\cdot  p_2 + x_2 y_3 z p_2  \\cdot  p_2 + \n",
    " y_1 y_3 z p_2  \\cdot  p_2 + 2 x_1 x_4 y_1 p_2  \\cdot  p_3 + 2 x_2 x_4 y_1 p_2  \\cdot  p_3 + 2 x_1 x_4 y_2 p_2  \\cdot  p_3 + \n",
    " 2 x_2 x_4 y_2 p_2  \\cdot  p_3 + 2 x_1 y_1 y_2 p_2  \\cdot  p_3 + 2 x_2 y_1 y_2 p_2  \\cdot  p_3 + 2 x_3 y_1 y_2 p_2  \\cdot  p_3 + \n",
    " 2 x_4 y_1 y_2 p_2  \\cdot  p_3 + 2 x_1 x_4 y_3 p_2  \\cdot  p_3 + 2 x_2 x_4 y_3 p_2  \\cdot  p_3 + 2 x_1 y_1 y_3 p_2  \\cdot  p_3 + \n",
    " 2 x_2 y_1 y_3 p_2  \\cdot  p_3 + 2 x_3 y_1 y_3 p_2  \\cdot  p_3 + 2 x_4 y_1 y_3 p_2  \\cdot  p_3 + 2 x_1 x_4 z p_2  \\cdot  p_3 + \n",
    " 2 x_2 x_4 z p_2  \\cdot  p_3 + 2 x_4 y_1 z p_2  \\cdot  p_3 + 2 x_1 y_2 z p_2  \\cdot  p_3 + 2 x_2 y_2 z p_2  \\cdot  p_3 + \n",
    " 2 y_1 y_2 z p_2  \\cdot  p_3 + 2 x_1 y_3 z p_2  \\cdot  p_3 + 2 x_2 y_3 z p_2  \\cdot  p_3 + 2 y_1 y_3 z p_2  \\cdot  p_3 + \n",
    " 2 x_1 y_1 y_2 p_2  \\cdot  p_4 + 2 x_2 y_1 y_2 p_2  \\cdot  p_4 + 2 x_3 y_1 y_2 p_2  \\cdot  p_4 + 2 x_4 y_1 y_2 p_2  \\cdot  p_4 + \n",
    " 2 x_1 y_2 z p_2  \\cdot  p_4 + 2 x_2 y_2 z p_2  \\cdot  p_4 + 2 y_1 y_2 z p_2  \\cdot  p_4 + 2 x_1 y_1 y_2 p_2  \\cdot  p_6 + \n",
    " 2 x_2 y_1 y_2 p_2  \\cdot  p_6 + 2 x_3 y_1 y_2 p_2  \\cdot  p_6 + 2 x_4 y_1 y_2 p_2  \\cdot  p_6 + 2 x_1 y_1 y_3 p_2  \\cdot  p_6 + \n",
    " 2 x_2 y_1 y_3 p_2  \\cdot  p_6 + 2 x_3 y_1 y_3 p_2  \\cdot  p_6 + 2 x_4 y_1 y_3 p_2  \\cdot  p_6 + 2 x_3 y_1 z p_2  \\cdot  p_6 + \n",
    " 2 x_4 y_1 z p_2  \\cdot  p_6 + 2 y_1 y_2 z p_2  \\cdot  p_6 + 2 y_1 y_3 z p_2  \\cdot  p_6 + 2 x_1 y_1 y_2 p_2  \\cdot  p_7 + \n",
    " 2 x_2 y_1 y_2 p_2  \\cdot  p_7 + 2 x_3 y_1 y_2 p_2  \\cdot  p_7 + 2 x_4 y_1 y_2 p_2  \\cdot  p_7 + 2 x_1 y_1 y_3 p_2  \\cdot  p_7 + \n",
    " 2 x_2 y_1 y_3 p_2  \\cdot  p_7 + 2 x_3 y_1 y_3 p_2  \\cdot  p_7 + 2 x_4 y_1 y_3 p_2  \\cdot  p_7 + 2 x_1 y_2 z p_2  \\cdot  p_7 + \n",
    " 2 x_2 y_2 z p_2  \\cdot  p_7 + 2 y_1 y_2 z p_2  \\cdot  p_7 + 2 x_1 y_3 z p_2  \\cdot  p_7 + 2 x_2 y_3 z p_2  \\cdot  p_7 + \n",
    " 2 y_1 y_3 z p_2  \\cdot  p_7 + x_1 x_4 y_1 p_3  \\cdot  p_3 + x_2 x_4 y_1 p_3  \\cdot  p_3 + x_3 x_4 y_1 p_3  \\cdot  p_3 + \n",
    " x_1 x_4 y_2 p_3  \\cdot  p_3 + x_2 x_4 y_2 p_3  \\cdot  p_3 + x_3 x_4 y_2 p_3  \\cdot  p_3 + x_1 y_1 y_2 p_3  \\cdot  p_3 + \n",
    " x_2 y_1 y_2 p_3  \\cdot  p_3 + x_3 y_1 y_2 p_3  \\cdot  p_3 + x_4 y_1 y_2 p_3  \\cdot  p_3 + x_1 x_4 y_3 p_3  \\cdot  p_3 + \n",
    " x_2 x_4 y_3 p_3  \\cdot  p_3 + x_3 x_4 y_3 p_3  \\cdot  p_3 + x_1 y_1 y_3 p_3  \\cdot  p_3 + x_2 y_1 y_3 p_3  \\cdot  p_3 + \n",
    " x_3 y_1 y_3 p_3  \\cdot  p_3 + x_4 y_1 y_3 p_3  \\cdot  p_3 + x_1 x_4 z p_3  \\cdot  p_3 + x_2 x_4 z p_3  \\cdot  p_3 + \n",
    " x_3 x_4 z p_3  \\cdot  p_3 + x_4 y_1 z p_3  \\cdot  p_3 + x_1 y_2 z p_3  \\cdot  p_3 + x_2 y_2 z p_3  \\cdot  p_3 + \n",
    " x_3 y_2 z p_3  \\cdot  p_3 + y_1 y_2 z p_3  \\cdot  p_3 + x_1 y_3 z p_3  \\cdot  p_3 + x_2 y_3 z p_3  \\cdot  p_3 + \n",
    " x_3 y_3 z p_3  \\cdot  p_3 + y_1 y_3 z p_3  \\cdot  p_3 + 2 x_1 y_1 y_2 p_3  \\cdot  p_4 + 2 x_2 y_1 y_2 p_3  \\cdot  p_4 + \n",
    " 2 x_3 y_1 y_2 p_3  \\cdot  p_4 + 2 x_4 y_1 y_2 p_3  \\cdot  p_4 + 2 x_1 y_2 z p_3  \\cdot  p_4 + 2 x_2 y_2 z p_3  \\cdot  p_4 + \n",
    " 2 x_3 y_2 z p_3  \\cdot  p_4 + 2 y_1 y_2 z p_3  \\cdot  p_4 + 2 x_1 y_1 y_2 p_3  \\cdot  p_6 + 2 x_2 y_1 y_2 p_3  \\cdot  p_6 + \n",
    " 2 x_3 y_1 y_2 p_3  \\cdot  p_6 + 2 x_4 y_1 y_2 p_3  \\cdot  p_6 + 2 x_1 y_1 y_3 p_3  \\cdot  p_6 + 2 x_2 y_1 y_3 p_3  \\cdot  p_6 + \n",
    " 2 x_3 y_1 y_3 p_3  \\cdot  p_6 + 2 x_4 y_1 y_3 p_3  \\cdot  p_6 + 2 x_4 y_1 z p_3  \\cdot  p_6 + 2 y_1 y_2 z p_3  \\cdot  p_6 + \n",
    " 2 y_1 y_3 z p_3  \\cdot  p_6 + 2 x_1 y_1 y_2 p_3  \\cdot  p_7 + 2 x_2 y_1 y_2 p_3  \\cdot  p_7 + 2 x_3 y_1 y_2 p_3  \\cdot  p_7 + \n",
    " 2 x_4 y_1 y_2 p_3  \\cdot  p_7 + 2 x_1 y_1 y_3 p_3  \\cdot  p_7 + 2 x_2 y_1 y_3 p_3  \\cdot  p_7 + 2 x_3 y_1 y_3 p_3  \\cdot  p_7 + \n",
    " 2 x_4 y_1 y_3 p_3  \\cdot  p_7 + 2 x_1 y_2 z p_3  \\cdot  p_7 + 2 x_2 y_2 z p_3  \\cdot  p_7 + 2 x_3 y_2 z p_3  \\cdot  p_7 + \n",
    " 2 y_1 y_2 z p_3  \\cdot  p_7 + 2 x_1 y_3 z p_3  \\cdot  p_7 + 2 x_2 y_3 z p_3  \\cdot  p_7 + 2 x_3 y_3 z p_3  \\cdot  p_7 + \n",
    " 2 y_1 y_3 z p_3  \\cdot  p_7 + x_1 y_1 y_2 p_4  \\cdot  p_4 + x_2 y_1 y_2 p_4  \\cdot  p_4 + x_3 y_1 y_2 p_4  \\cdot  p_4 + \n",
    " x_4 y_1 y_2 p_4  \\cdot  p_4 + x_1 y_2 y_3 p_4  \\cdot  p_4 + x_2 y_2 y_3 p_4  \\cdot  p_4 + x_3 y_2 y_3 p_4  \\cdot  p_4 + \n",
    " x_4 y_2 y_3 p_4  \\cdot  p_4 + x_1 y_2 z p_4  \\cdot  p_4 + x_2 y_2 z p_4  \\cdot  p_4 + x_3 y_2 z p_4  \\cdot  p_4 + \n",
    " x_4 y_2 z p_4  \\cdot  p_4 + y_1 y_2 z p_4  \\cdot  p_4 + y_2 y_3 z p_4  \\cdot  p_4 + 2 x_1 y_1 y_2 p_4  \\cdot  p_6 + \n",
    " 2 x_2 y_1 y_2 p_4  \\cdot  p_6 + 2 x_3 y_1 y_2 p_4  \\cdot  p_6 + 2 x_4 y_1 y_2 p_4  \\cdot  p_6 + 2 y_1 y_2 z p_4  \\cdot  p_6 + \n",
    " 2 x_1 y_1 y_2 p_4  \\cdot  p_7 + 2 x_2 y_1 y_2 p_4  \\cdot  p_7 + 2 x_3 y_1 y_2 p_4  \\cdot  p_7 + 2 x_4 y_1 y_2 p_4  \\cdot  p_7 + \n",
    " 2 x_1 y_2 z p_4  \\cdot  p_7 + 2 x_2 y_2 z p_4  \\cdot  p_7 + 2 x_3 y_2 z p_4  \\cdot  p_7 + 2 x_4 y_2 z p_4  \\cdot  p_7 + \n",
    " 2 y_1 y_2 z p_4  \\cdot  p_7 + x_1 y_1 y_2 p_6  \\cdot  p_6 + x_2 y_1 y_2 p_6  \\cdot  p_6 + x_3 y_1 y_2 p_6  \\cdot  p_6 + \n",
    " x_4 y_1 y_2 p_6  \\cdot  p_6 + x_1 y_1 y_3 p_6  \\cdot  p_6 + x_2 y_1 y_3 p_6  \\cdot  p_6 + x_3 y_1 y_3 p_6  \\cdot  p_6 + \n",
    " x_4 y_1 y_3 p_6  \\cdot  p_6 + x_1 y_1 z p_6  \\cdot  p_6 + x_2 y_1 z p_6  \\cdot  p_6 + x_3 y_1 z p_6  \\cdot  p_6 + \n",
    " x_4 y_1 z p_6  \\cdot  p_6 + y_1 y_2 z p_6  \\cdot  p_6 + y_1 y_3 z p_6  \\cdot  p_6 + 2 x_1 y_1 y_2 p_6  \\cdot  p_7 + \n",
    " 2 x_2 y_1 y_2 p_6  \\cdot  p_7 + 2 x_3 y_1 y_2 p_6  \\cdot  p_7 + 2 x_4 y_1 y_2 p_6  \\cdot  p_7 + 2 x_1 y_1 y_3 p_6  \\cdot  p_7 + \n",
    " 2 x_2 y_1 y_3 p_6  \\cdot  p_7 + 2 x_3 y_1 y_3 p_6  \\cdot  p_7 + 2 x_4 y_1 y_3 p_6  \\cdot  p_7 + 2 y_1 y_2 z p_6  \\cdot  p_7 + \n",
    " 2 y_1 y_3 z p_6  \\cdot  p_7 + x_1 y_1 y_2 p_7  \\cdot  p_7 + x_2 y_1 y_2 p_7  \\cdot  p_7 + x_3 y_1 y_2 p_7  \\cdot  p_7 + \n",
    " x_4 y_1 y_2 p_7  \\cdot  p_7 + x_1 y_1 y_3 p_7  \\cdot  p_7 + x_2 y_1 y_3 p_7  \\cdot  p_7 + x_3 y_1 y_3 p_7  \\cdot  p_7 + \n",
    " x_4 y_1 y_3 p_7  \\cdot  p_7 + x_1 y_2 z p_7  \\cdot  p_7 + x_2 y_2 z p_7  \\cdot  p_7 + x_3 y_2 z p_7  \\cdot  p_7 + \n",
    " x_4 y_2 z p_7  \\cdot  p_7 + y_1 y_2 z p_7  \\cdot  p_7 + x_1 y_3 z p_7  \\cdot  p_7 + x_2 y_3 z p_7  \\cdot  p_7 + \n",
    " x_3 y_3 z p_7  \\cdot  p_7 + x_4 y_3 z p_7  \\cdot  p_7 + y_1 y_3 z p_7  \\cdot  p_7 ,\\cr\n",
    "\\nonumber {\\bf F}_{(4,1,3);D}(t) & = {\\bf U}_{(4,1,3)}\\left( \\sum_{i=1}^3 m_{i+4}^2 y_i + \\sum_{i=1}^4 m^2_i x_i+  m^2_{8} z\\right) -t {\\bf V}_{(4,1,3);D}.\n",
    "\\end{align}"
   ]
  },
  {
   "cell_type": "markdown",
   "metadata": {},
   "source": [
    "<b>This is a derivation of the pentabox elliptic curve associated to a given graph polynomial F discussed in section 5.4 of the paper [XXXX]</b>\n",
    "\n",
    "<b>There are some of the numerical cases obtained in <a href=\"https://arxiv.org/abs/2209.10962\">[arXiv:2209.10962]</a> and given on the page <a href=\"https://nbviewer.org/github/pierrevanhove/PicardFuchs/blob/main/PF-Pentabox.ipynb\">PF-Pentabox.ipynb</a>  </b>"
   ]
  },
  {
   "cell_type": "code",
   "execution_count": 1,
   "metadata": {},
   "outputs": [],
   "source": [
    "from ore_algebra import *\n",
    "OA, z, Dz = DifferentialOperators(QQ, 'z')"
   ]
  },
  {
   "cell_type": "markdown",
   "metadata": {},
   "source": [
    "`F := (19321*x1 + 7921*x2 + 7921*x3 + 11449*x4 + 3481*x5 + 39601*x6 + 10609*x7 + 36481*x8)*(x1*x5 + x2*x5 + x3*x5 + x4*x5 + x1*x6 + x2*x6 + x3*x6 + x4*x6 + x1*x7 + x2*x7 + x3*x7 + x4*x7 + x1*x8 + x2*x8 + x3*x8 + x4*x8 + x5*x8 + x6*x8 + x7*x8) - t*(3*x2*x3*x5 + 101*x1*x4*x5 + 5*x2*x4*x5 + 97*x3*x4*x5 + 3*x2*x3*x6 + 101*x1*x4*x6 + 5*x2*x4*x6 + 97*x3*x4*x6 + 131*x1*x5*x6 + 131*x2*x5*x6 + 131*x3*x5*x6 + 131*x4*x5*x6 + 3*x2*x3*x7 + 101*x1*x4*x7 + 5*x2*x4*x7 + 97*x3*x4*x7 + 101*x1*x5*x7 + 101*x2*x5*x7 + 101*x3*x5*x7 + 101*x4*x5*x7 + 7*x1*x6*x7 + 7*x2*x6*x7 + 7*x3*x6*x7 + 7*x4*x6*x7 + 3*x2*x3*x8 + 101*x1*x4*x8 + 5*x2*x4*x8 + 97*x3*x4*x8 + 101*x4*x5*x8 + 131*x1*x6*x8 + 73*x2*x6*x8 + 193*x3*x6*x8 + 7*x4*x6*x8 + 131*x5*x6*x8 + 101*x1*x7*x8 + 5*x2*x7*x8 + 97*x3*x7*x8 + 101*x5*x7*x8 + 7*x6*x7*x8 + 137*x2*(x5*x8 + x1*(x5 + x6 + x7 + x8)) + 103*x3*(x5*x8 + x1*(x5 + x6 + x7 + x8)))`"
   ]
  },
  {
   "cell_type": "markdown",
   "metadata": {},
   "source": [
    "<b>The associated Picard-Fuchs operator is the file <a href=\"PF-Pentabox-5pt-case1.txt\">PF-Pentabox-5pt-case1.txt</a></b>"
   ]
  },
  {
   "cell_type": "code",
   "execution_count": 11,
   "metadata": {
    "scrolled": true
   },
   "outputs": [
    {
     "data": {
      "text/plain": [
       "[2, 18]"
      ]
     },
     "execution_count": 11,
     "metadata": {},
     "output_type": "execute_result"
    }
   ],
   "source": [
    "s = open(\"PF-Pentabox-5pt-case1.txt\").readlines()[0]\n",
    "PentaBox5ptcase1 = OA(s.replace(\"^\", \"**\").replace(\"t\", \"z\").replace(\"D\", \"Dz\"))\n",
    "[PentaBox5ptcase1.order(),PentaBox5ptcase1.degree()]"
   ]
  },
  {
   "cell_type": "markdown",
   "metadata": {},
   "source": [
    "`F := (361*x1 + 169*x2 + 9*x3 + 25*x4 + 25*x5 + 4*x6 + 361*x7 + 121*x8)*(x1*x5 + x2*x5 + x3*x5 + x4*x5 + x1*x6 + x2*x6 + x3*x6 + x4*x6 + x1*x7 + x2*x7 + x3*x7 + x4*x7 + x1*x8 + x2*x8 + x3*x8 + x4*x8 + x5*x8 + x6*x8 + x7*x8) + t*(13502*x1*x2*x5 + 52526*x1*x3*x5 + 12020*x2*x3*x5 + 122580*x1*x4*x5 + 55070*x2*x4*x5 + 19010*x3*x4*x5 + 13502*x1*x2*x6 + 52526*x1*x3*x6 + 12020*x2*x3*x6 + 122580*x1*x4*x6 + 55070*x2*x4*x6 + 19010*x3*x4*x6 + 219379*x1*x5*x6 + 219379*x2*x5*x6 + 219379*x3*x5*x6 + 219379*x4*x5*x6 + 13502*x1*x2*x7 + 52526*x1*x3*x7 + 12020*x2*x3*x7 + 122580*x1*x4*x7 + 55070*x2*x4*x7 + 19010*x3*x4*x7 + 122580*x1*x5*x7 + 122580*x2*x5*x7 + 122580*x3*x5*x7 + 122580*x4*x5*x7 + 7735*x1*x6*x7 + 7735*x2*x6*x7 + 7735*x3*x6*x7 + 7735*x4*x6*x7 + 13502*x1*x2*x8 + 52526*x1*x3*x8 + 12020*x2*x3*x8 + 122580*x1*x4*x8 + 55070*x2*x4*x8 + 19010*x3*x4*x8 + 13502*x2*x5*x8 + 52526*x3*x5*x8 + 122580*x4*x5*x8 + 219379*x1*x6*x8 + 124865*x2*x6*x8 + 64765*x3*x6*x8 + 7735*x4*x6*x8 + 219379*x5*x6*x8 + 122580*x1*x7*x8 + 55070*x2*x7*x8 + 19010*x3*x7*x8 + 122580*x5*x7*x8 + 7735*x6*x7*x8)`"
   ]
  },
  {
   "cell_type": "markdown",
   "metadata": {},
   "source": [
    "<b>The associated Picard-Fuchs operator is the file <a href=\"PF-Pentabox-5pt-case2.txt\">PF-Pentabox-5pt-case2.txt</a></b>"
   ]
  },
  {
   "cell_type": "code",
   "execution_count": 12,
   "metadata": {},
   "outputs": [
    {
     "data": {
      "text/plain": [
       "[2, 18]"
      ]
     },
     "execution_count": 12,
     "metadata": {},
     "output_type": "execute_result"
    }
   ],
   "source": [
    "s = open(\"PF-Pentabox-5pt-case2.txt\").readlines()[0]\n",
    "PentaBox5ptcase2 = OA(s.replace(\"^\", \"**\").replace(\"t\", \"z\").replace(\"D\", \"Dz\"))\n",
    "[PentaBox5ptcase2.order(),PentaBox5ptcase2.degree()]"
   ]
  },
  {
   "cell_type": "markdown",
   "metadata": {},
   "source": [
    "`F := (361*x1 + 9*x2 + 25*x3 + 4*x4 + 4*x5 + 361*x6 + 49*x7 + 4*x8)*(x1*x5 + x2*x5 + x3*x5 + x4*x5 + x1*x6 + x2*x6 + x3*x6 + x4*x6 + x1*x7 + x2*x7 + x3*x7 + x4*x7 + x1*x8 + x2*x8 + x3*x8 + x4*x8 + x5*x8 + x6*x8 + x7*x8) + t*(5670*x1*x2*x5 + 30558*x1*x3*x5 + 13548*x2*x3*x5 + 82477*x1*x4*x5 + 54127*x2*x4*x5 + 13483*x3*x4*x5 + 5670*x1*x2*x6 + 30558*x1*x3*x6 + 13548*x2*x3*x6 + 82477*x1*x4*x6 + 54127*x2*x4*x6 + 13483*x3*x4*x6 + 155339*x1*x5*x6 + 155339*x2*x5*x6 + 155339*x3*x5*x6 + 155339*x4*x5*x6 + 5670*x1*x2*x7 + 30558*x1*x3*x7 + 13548*x2*x3*x7 + 82477*x1*x4*x7 + 54127*x2*x4*x7 + 13483*x3*x4*x7 + 82477*x1*x5*x7 + 82477*x2*x5*x7 + 82477*x3*x5*x7 + 82477*x4*x5*x7 + 7460*x1*x6*x7 + 7460*x2*x6*x7 + 7460*x3*x6*x7 + 7460*x4*x6*x7 + 5670*x1*x2*x8 + 30558*x1*x3*x8 + 13548*x2*x3*x8 + 82477*x1*x4*x8 + 54127*x2*x4*x8 + 13483*x3*x4*x8 + 5670*x2*x5*x8 + 30558*x3*x5*x8 + 82477*x4*x5*x8 + 155339*x1*x6*x8 + 115649*x2*x6*x8 + 47909*x3*x6*x8 + 7460*x4*x6*x8 + 155339*x5*x6*x8 + 82477*x1*x7*x8 + 54127*x2*x7*x8 + 13483*x3*x7*x8 + 82477*x5*x7*x8 + 7460*x6*x7*x8)`"
   ]
  },
  {
   "cell_type": "markdown",
   "metadata": {},
   "source": [
    "<b>The associated Picard-Fuchs operator is the file <a href=\"PF-Pentabox-5pt-case3.txt\">PF-Pentabox-5pt-case3.txt</a></b>"
   ]
  },
  {
   "cell_type": "code",
   "execution_count": 14,
   "metadata": {},
   "outputs": [
    {
     "data": {
      "text/plain": [
       "[2, 18]"
      ]
     },
     "execution_count": 14,
     "metadata": {},
     "output_type": "execute_result"
    }
   ],
   "source": [
    "s = open(\"PF-Pentabox-5pt-case3.txt\").readlines()[0]\n",
    "PentaBox5ptcase3 = OA(s.replace(\"^\", \"**\").replace(\"t\", \"z\").replace(\"D\", \"Dz\"))\n",
    "[PentaBox5ptcase3.order(),PentaBox5ptcase3.degree()]"
   ]
  },
  {
   "cell_type": "code",
   "execution_count": null,
   "metadata": {},
   "outputs": [],
   "source": []
  }
 ],
 "metadata": {
  "kernelspec": {
   "display_name": "SageMath 9.7",
   "language": "sage",
   "name": "sagemath-9.7"
  },
  "language_info": {
   "codemirror_mode": {
    "name": "ipython",
    "version": 3
   },
   "file_extension": ".py",
   "mimetype": "text/x-python",
   "name": "python",
   "nbconvert_exporter": "python",
   "pygments_lexer": "ipython3",
   "version": "3.10.5"
  }
 },
 "nbformat": 4,
 "nbformat_minor": 1
}
