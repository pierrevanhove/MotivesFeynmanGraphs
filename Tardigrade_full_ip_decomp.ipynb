{
 "cells": [
  {
   "cell_type": "markdown",
   "metadata": {},
   "source": [
    "<center><h1>This is the worksheet for the computation of the Picard Lattice for the tardigrade described in appendix B of the paper [XXX]<br>\n",
    "by Eric Pichon-Pharabod</h1></center>"
   ]
  },
  {
   "cell_type": "code",
   "execution_count": 1,
   "metadata": {},
   "outputs": [],
   "source": [
    "Qt.<t> = PolynomialRing(QQ)"
   ]
  },
  {
   "cell_type": "code",
   "execution_count": 2,
   "metadata": {},
   "outputs": [],
   "source": [
    "K.<alpha> = NumberField(1681*x^2 - 421*x + 841)\n",
    "Ring.<X,Y,Z,W,t> = K[]\n",
    "F = 6124*X^4 - 24782692*X^3*Y + 24962401977*X^2*Y^2 - 20842243972*X*Y^3 + 4331388844*Y^4 + 13827992*X^3*Z - 27919677996*X^2*Y*Z - 119291704836*X*Y^2*Z + 50444249752*Y^3*Z + 7840306116*X^2*Z^2 - 1895725740*X*Y*Z^2 + 168749562396*Y^2*Z^2 + 38842829528*X*Z^3 + 168487393048*Y*Z^3 + 48321305644*Z^4 - 101996680*X^3*W + 204653103868*X^2*Y*W - 85803990572*X*Y^2*W + 10300568*Y^3*W - 115176640844*X^2*Z*W - 460049503942*X*Y*Z*W - 18769272012*Y^2*Z*W - 311785995116*X*Z^2*W - 108990818964*Y*Z^2*W - 62891049316*Z^3*W + 417760330428*X^2*W^2 - 126779372*X*Y*W^2 + 10306692*Y^2*W^2 + 179497287052*X*Z*W^2 + 37592148*Y*Z*W^2 + 22845754953*Z^2*W^2 - 101996680*X*W^3 + 12248*Y*W^3 - 22389124*Z*W^3 + 6124*W^4"
   ]
  },
  {
   "cell_type": "code",
   "execution_count": 3,
   "metadata": {},
   "outputs": [],
   "source": [
    "# Project from the point Z = -alpha, Y = 1, X = 1, W = 1\n",
    "F2 = F.substitute(Z = Z+alpha*W,Y=Y-W,X=X-alpha*W)"
   ]
  },
  {
   "cell_type": "code",
   "execution_count": 4,
   "metadata": {},
   "outputs": [],
   "source": [
    "# This is now quadric in W. We project onto P2 from the point above. Change variables a little bit above. \n",
    "D = F2.discriminant(W).substitute(X=X-Z)"
   ]
  },
  {
   "cell_type": "code",
   "execution_count": 5,
   "metadata": {},
   "outputs": [],
   "source": [
    "# Change variables one more time, so that the discriminant is quartic in Z. Change variables to Z = X, and X = t (base variable.)\n",
    "G = D.substitute(Y=1).substitute(X=t,Z=X)"
   ]
  },
  {
   "cell_type": "code",
   "execution_count": 6,
   "metadata": {},
   "outputs": [],
   "source": [
    "# The output of this cell is the coefficients of an expression Y^2 = X^3 + g2*X + g3 where g2 and g3 are functions of t.\n",
    "\n",
    "B4 = G.coefficient(X^4)\n",
    "B3 = G.coefficient(X^3)\n",
    "B2 = G.coefficient(X^2)\n",
    "B1 = G.coefficient(X)\n",
    "B0 = G.substitute(X=0)\n",
    "\n",
    "R = X^3 + B2*X^2 + (-4*B0*B4+B1*B3)*X + (B0*B3^2-4*B0*B2*B4+B1^2*B4)\n",
    "R=R\n",
    "R1 = R.substitute(X=X-B2/3)\n",
    "g2 = R1.coefficient(X)\n",
    "g3 = R1.substitute(X=0)\n",
    "\n",
    "g2 = g2(t=1/t+1) * t^g2.degree()\n",
    "g3 = g3(t=1/t+1) * t^g3.degree()\n",
    "\n",
    "g2 = Qt(g2(X=0, Y=0, Z=0))\n",
    "g3 = Qt(g3(X=0, Y=0, Z=0))\n",
    "\n",
    "Delta = (4*g2^3 + 27*g3^2)"
   ]
  },
  {
   "cell_type": "code",
   "execution_count": 7,
   "metadata": {},
   "outputs": [],
   "source": [
    "S1.<X,Y,Z> = PolynomialRing(QQ)\n",
    "S2.<t> = PolynomialRing(S1)\n",
    "P  =Y^2 - (X^3 + S2(g2)*X + S2(g3))\n",
    "P = S2(P)\n",
    "\n",
    "coefs = [c.homogenize(Z) for c in P.coefficients()]\n",
    "P = sum([coefs[i]* Z^(3-coefs[i].degree()) * t^i for i in range(len(coefs))])"
   ]
  },
  {
   "cell_type": "code",
   "execution_count": 8,
   "metadata": {},
   "outputs": [],
   "source": [
    "P = P(X=10**25*X,Y=Y,Z=100*Z)"
   ]
  },
  {
   "cell_type": "code",
   "execution_count": 9,
   "metadata": {},
   "outputs": [],
   "source": [
    "os.environ[\"SAGE_NUM_THREADS\"] = '4'\n",
    "\n",
    "import ore_algebra\n",
    "\n",
    "sys.path.insert(0, '../../../gits/lefschetz-family')\n",
    "sys.path.insert(0, '../../../gits/numperiods')\n",
    "\n",
    "from periods import LefschetzFamily\n",
    "import numperiods\n",
    "from Util import Util"
   ]
  },
  {
   "cell_type": "code",
   "execution_count": 10,
   "metadata": {},
   "outputs": [],
   "source": [
    "import logging\n",
    "logging.basicConfig()\n",
    "logging.getLogger('periods').setLevel(logging.INFO)"
   ]
  },
  {
   "cell_type": "markdown",
   "metadata": {},
   "source": [
    "### Making sure the elliptic curve above the basepoint is computed correctly"
   ]
  },
  {
   "cell_type": "code",
   "execution_count": 11,
   "metadata": {},
   "outputs": [],
   "source": [
    "basepoint=-5/2"
   ]
  },
  {
   "cell_type": "code",
   "execution_count": 12,
   "metadata": {},
   "outputs": [],
   "source": [
    "variety = LefschetzFamily(P(basepoint), nbits=1000, debug=True)"
   ]
  },
  {
   "cell_type": "code",
   "execution_count": 13,
   "metadata": {},
   "outputs": [],
   "source": [
    "variety._fibration = (vector([1,0,0]), vector([0, 0, 1]))"
   ]
  },
  {
   "cell_type": "code",
   "execution_count": 14,
   "metadata": {},
   "outputs": [
    {
     "name": "stderr",
     "output_type": "stream",
     "text": [
      "INFO:periods:Computing critical points\n",
      "INFO:periods:Critical points computed in 00:00:00\n"
     ]
    },
    {
     "data": {
      "text/plain": [
       "[-1.501694431194927?, -0.6523074854262903?, 2.154001916621217?]"
      ]
     },
     "execution_count": 14,
     "metadata": {},
     "output_type": "execute_result"
    }
   ],
   "source": [
    "variety.critical_points"
   ]
  },
  {
   "cell_type": "code",
   "execution_count": 15,
   "metadata": {},
   "outputs": [],
   "source": [
    "variety._paths = [\n",
    "    [variety.basepoint, -1-I, -1+I, variety.basepoint],\n",
    "    [variety.basepoint, -1+I, -1-I, 0, -1+I, variety.basepoint],\n",
    "    [variety.basepoint, -1+I, 0, -1-I, 4, -1+I, variety.basepoint],\n",
    "    [variety.basepoint, -1+I, 4, -1-I, variety.basepoint],\n",
    "]\n",
    "variety._loops=variety._paths\n",
    "variety._sps=[[] for i in range(len(variety._paths))]"
   ]
  },
  {
   "cell_type": "code",
   "execution_count": 16,
   "metadata": {},
   "outputs": [],
   "source": [
    "edges=[]\n",
    "for path in variety.paths:\n",
    "    for i in range(len(path)-1):\n",
    "        e = path[i:i+2]\n",
    "        if e not in edges:\n",
    "            edges.append(e)"
   ]
  },
  {
   "cell_type": "code",
   "execution_count": 17,
   "metadata": {},
   "outputs": [],
   "source": [
    "variety._edges = edges"
   ]
  },
  {
   "cell_type": "code",
   "execution_count": 18,
   "metadata": {},
   "outputs": [
    {
     "data": {
      "image/png": "[encoded data removed]",
      "text/plain": [
       "Graphics object consisting of 2 graphics primitives"
      ]
     },
     "execution_count": 18,
     "metadata": {},
     "output_type": "execute_result"
    }
   ],
   "source": [
    "\n",
    "(\n",
    "    list_plot([[z.real(), z.imag()] for z in variety.critical_points], color=\"red\") + \n",
    "    list_plot([[z.real(), z.imag()] for z in variety.paths[3]], True)\n",
    ")"
   ]
  },
  {
   "cell_type": "code",
   "execution_count": 19,
   "metadata": {},
   "outputs": [
    {
     "data": {
      "image/png": "[encoded data removed]",
      "text/plain": [
       "Graphics object consisting of 2 graphics primitives"
      ]
     },
     "execution_count": 19,
     "metadata": {},
     "output_type": "execute_result"
    }
   ],
   "source": [
    "paths = variety.paths\n",
    "pathtot = []\n",
    "for p in paths:\n",
    "    pathtot= pathtot+p\n",
    "pathtot = Util.simplify_path(pathtot)\n",
    "pathtot\n",
    "\n",
    "(\n",
    "    list_plot([[z.real(), z.imag()] for z in variety.critical_points], color=\"red\") + \n",
    "    list_plot([[z.real(), z.imag()] for z in pathtot], True)\n",
    ")"
   ]
  },
  {
   "cell_type": "code",
   "execution_count": 20,
   "metadata": {},
   "outputs": [],
   "source": [
    "variety._monodromy_matrices = [matrix([[0,1],[1,0]])]*4"
   ]
  },
  {
   "cell_type": "code",
   "execution_count": 21,
   "metadata": {},
   "outputs": [],
   "source": [
    "variety._homology = [vector([1,0,-1,0]), vector([0,1,-1,0])]"
   ]
  },
  {
   "cell_type": "code",
   "execution_count": 22,
   "metadata": {},
   "outputs": [
    {
     "name": "stderr",
     "output_type": "stream",
     "text": [
      "INFO:periods:Computing Picard-Fuchs equations of 2 forms in dimension 1\n",
      "INFO:periods:Operator [1/2] has order 1 and degree 3 for form with numerator of degree 0\n",
      "INFO:periods:Operator [2/2] has order 1 and degree 6 for form with numerator of degree 3\n",
      "INFO:periods:Computing numerical transition matrices of operator of order 2 and degree 3 (14 edges total).\n",
      "INFO:periods:Computation of edges finished -- total time: 00:00:02.\n",
      "INFO:periods:Computing numerical transition matrices of operator of order 2 and degree 6 (14 edges total).\n",
      "INFO:periods:Computation of edges finished -- total time: 00:00:02.\n"
     ]
    },
    {
     "data": {
      "text/plain": [
       "[  [-5.54497040138481814302232372995582442654586935432389160080366098173330370272997026698824833962116386836580914125944733501568962282341157855991533821164e-39 +/- 6.63e-189] + [-7.2421954374401662118913994822459233182041821451654366596888715934318409262404856107548843796550857438554052087056085487620033508496862344044425407222e-39 +/- 1.12e-188]*I                                                                                                                                                                [+/- 9.75e-189] + [-7.2421954374401662118913994822459233182041821451654366596888715934318409262404856107548843796550857438554052087056085487620033508496862344044425407222e-39 +/- 1.12e-188]*I]\n",
       "[[-1.58980297740448127888362398579677011431670874186108890593429353480784027413165190487715992943669775132543616075556838698152257799295625160251407611870e-115 +/- 4.11e-265] + [1.43098199190123671069078733066937191467049934702448856977987457323986532392158745578126516225710279253792918396580669684685265374609192934624352734951e-114 +/- 4.51e-264]*I                                                                                                                                                               [+/- 5.94e-265] + [1.43098199190123671069078733066937191467049934702448856977987457323986532392158745578126516225710279253792918396580669684685265374609192934624352734951e-114 +/- 4.51e-264]*I]"
      ]
     },
     "execution_count": 22,
     "metadata": {},
     "output_type": "execute_result"
    }
   ],
   "source": [
    "variety.period_matrix"
   ]
  },
  {
   "cell_type": "markdown",
   "metadata": {},
   "source": [
    "## The K3 surface"
   ]
  },
  {
   "cell_type": "code",
   "execution_count": 23,
   "metadata": {},
   "outputs": [],
   "source": [
    "from numperiods import Family"
   ]
  },
  {
   "cell_type": "code",
   "execution_count": 24,
   "metadata": {},
   "outputs": [],
   "source": [
    "K3 = LefschetzFamily(P(1), debug=True)"
   ]
  },
  {
   "cell_type": "code",
   "execution_count": 25,
   "metadata": {},
   "outputs": [],
   "source": [
    "K3._critical_points = Qt(Delta).roots(QQbar, multiplicities=False)"
   ]
  },
  {
   "cell_type": "code",
   "execution_count": 26,
   "metadata": {},
   "outputs": [],
   "source": [
    "K3._family = Family(P)"
   ]
  },
  {
   "cell_type": "code",
   "execution_count": 27,
   "metadata": {},
   "outputs": [],
   "source": [
    "assert K3.basepoint == basepoint"
   ]
  },
  {
   "cell_type": "code",
   "execution_count": 28,
   "metadata": {},
   "outputs": [
    {
     "data": {
      "text/plain": [
       "-5/2"
      ]
     },
     "execution_count": 28,
     "metadata": {},
     "output_type": "execute_result"
    }
   ],
   "source": [
    "K3.basepoint"
   ]
  },
  {
   "cell_type": "code",
   "execution_count": 29,
   "metadata": {},
   "outputs": [],
   "source": [
    "K3._fiber = variety"
   ]
  },
  {
   "cell_type": "code",
   "execution_count": 30,
   "metadata": {},
   "outputs": [
    {
     "data": {
      "text/plain": [
       "17"
      ]
     },
     "execution_count": 30,
     "metadata": {},
     "output_type": "execute_result"
    }
   ],
   "source": [
    "len(K3.critical_points)"
   ]
  },
  {
   "cell_type": "code",
   "execution_count": 31,
   "metadata": {},
   "outputs": [
    {
     "name": "stderr",
     "output_type": "stream",
     "text": [
      "INFO:periods:Computing homotopy representants of the image of the projection in dimension 1\n",
      "INFO:periods:Computing Voronoi Diagram of 17 points\n",
      "INFO:periods:Voronoi diagram computed. Extracting edges.\n",
      "INFO:periods:Edges are computed.\n"
     ]
    },
    {
     "data": {
      "image/png": "[encoded data removed]",
      "text/plain": [
       "Graphics object consisting of 18 graphics primitives"
      ]
     },
     "execution_count": 31,
     "metadata": {},
     "output_type": "execute_result"
    }
   ],
   "source": [
    "zoom=1.7\n",
    "sum([list_plot([[p.real(), p.imag()] for p in path], True, xmin=-zoom, xmax=zoom, ymin=-zoom, ymax=zoom) for path in K3.paths], axes=False)+ list_plot([[p.real(), p.imag()] for p in K3.critical_points], color=\"red\", axes=False)"
   ]
  },
  {
   "cell_type": "markdown",
   "metadata": {},
   "source": [
    "We manually removed the critical point around -1700 because it was messing with the numerics to compute the fiber. Now that we have a reasonable choice of basepoint, we may add it back"
   ]
  },
  {
   "cell_type": "code",
   "execution_count": 32,
   "metadata": {},
   "outputs": [],
   "source": [
    "L = K3.family.picard_fuchs_equation(vector([1,0]))"
   ]
  },
  {
   "cell_type": "code",
   "execution_count": 33,
   "metadata": {},
   "outputs": [
    {
     "name": "stderr",
     "output_type": "stream",
     "text": [
      "INFO:periods:Computing numerical transition matrices of operator of order 3 and degree 28 (36 edges total).\n",
      "INFO:periods:Computation of edges finished -- total time: 00:00:35.\n"
     ]
    }
   ],
   "source": [
    "K3.ctx.nbits = 1000\n",
    "ntms = K3.integrate(L*L.parent()('Dt'))"
   ]
  },
  {
   "cell_type": "code",
   "execution_count": 34,
   "metadata": {},
   "outputs": [],
   "source": [
    "derivatives_at_basepoint = K3.family._coordinates([P.parent()(0),P.parent()(1), - K3.family.pol.derivative()], K3.basepoint)\n",
    "integration_correction = diagonal_matrix([1/ZZ(factorial(k)) for k in range(3)])\n",
    "initial_conditions = integration_correction * derivatives_at_basepoint*K3.fiber.period_matrix"
   ]
  },
  {
   "cell_type": "code",
   "execution_count": 35,
   "metadata": {},
   "outputs": [],
   "source": [
    "monodromy_matrices=  [(initial_conditions.submatrix(1,0)**-1*M.submatrix(1,1)*initial_conditions.submatrix(1,0)).change_ring(ZZ) for M in ntms]"
   ]
  },
  {
   "cell_type": "code",
   "execution_count": 36,
   "metadata": {},
   "outputs": [
    {
     "data": {
      "text/plain": [
       "[1, 1, 1, 1, 1, 1, 1, 1, 1, 1, 1, 1, 1, 1, 1, 1, 1]"
      ]
     },
     "execution_count": 36,
     "metadata": {},
     "output_type": "execute_result"
    }
   ],
   "source": [
    "[(M-1).rank() for M in monodromy_matrices]"
   ]
  },
  {
   "cell_type": "code",
   "execution_count": 37,
   "metadata": {},
   "outputs": [],
   "source": [
    "K3._monodromy_matrices = monodromy_matrices"
   ]
  },
  {
   "cell_type": "code",
   "execution_count": 38,
   "metadata": {},
   "outputs": [
    {
     "data": {
      "text/plain": [
       "[1, 1, 1, 1, 1, 1, 1, 1, 1, 1, 4, 1, 1, 2, 4, 1, 1]"
      ]
     },
     "execution_count": 38,
     "metadata": {},
     "output_type": "execute_result"
    }
   ],
   "source": [
    "multiplicities = [gcd((M-1).image().gens()[0]) for M in monodromy_matrices]\n",
    "multiplicities"
   ]
  },
  {
   "cell_type": "code",
   "execution_count": 39,
   "metadata": {},
   "outputs": [],
   "source": [
    "singular_indices=[]\n",
    "for i in range(len(multiplicities)):\n",
    "    if multiplicities[i]!=1:\n",
    "        singular_indices+=[i]"
   ]
  },
  {
   "cell_type": "code",
   "execution_count": 40,
   "metadata": {},
   "outputs": [
    {
     "name": "stdout",
     "output_type": "stream",
     "text": [
      "0 : 4\n",
      "-0.50000000000000000? : 2\n",
      "-1 : 4\n"
     ]
    }
   ],
   "source": [
    "for i in singular_indices:\n",
    "    print(K3.critical_points[i], \":\",multiplicities[i])"
   ]
  },
  {
   "cell_type": "code",
   "execution_count": 41,
   "metadata": {},
   "outputs": [
    {
     "data": {
      "image/png": "[encoded data removed]",
      "text/plain": [
       "Graphics object consisting of 2 graphics primitives"
      ]
     },
     "execution_count": 41,
     "metadata": {},
     "output_type": "execute_result"
    }
   ],
   "source": [
    "from Util import Util\n",
    "\n",
    "paths = K3.paths\n",
    "pathtot = []\n",
    "for p in paths:\n",
    "    pathtot= pathtot+p\n",
    "pathtot = Util.simplify_path(pathtot)\n",
    "pathtot\n",
    "\n",
    "(\n",
    "    list_plot([[z.real(), z.imag()] for z in K3.critical_points], color=\"red\") + \n",
    "    list_plot([[z.real(), z.imag()] for z in pathtot], True)\n",
    ")"
   ]
  },
  {
   "cell_type": "markdown",
   "metadata": {},
   "source": [
    "We also need to deal with the $I_4$ at $\\infty$. Again we add the paths manually and compute the monodromy matrix."
   ]
  },
  {
   "cell_type": "markdown",
   "metadata": {},
   "source": [
    "##### We now have all the monodromy matrices. We may reconstruct the cycles."
   ]
  },
  {
   "cell_type": "code",
   "execution_count": 42,
   "metadata": {},
   "outputs": [],
   "source": [
    "boundaries= []\n",
    "permuting_cycles=[]\n",
    "for M in monodromy_matrices:\n",
    "    for i in range((M-1).rank()):\n",
    "        D, U, V = (M-1).smith_form()\n",
    "        v = V*vector([1 if j==i else 0 for j in range(2)])\n",
    "        permuting_cycles+=[v]\n",
    "        boundaries+=[(M-1)*v]\n",
    "boundaries=matrix(boundaries)"
   ]
  },
  {
   "cell_type": "markdown",
   "metadata": {},
   "source": [
    "We check that we have the correct number of critical points. Each $I_i$ contributes $i$ to the dimension, and we also need to remove 2 cycles when canceling boundaries, and 2 when removing loops around regular points. Finally we also need to add the fiber and section."
   ]
  },
  {
   "cell_type": "code",
   "execution_count": 43,
   "metadata": {},
   "outputs": [
    {
     "data": {
      "text/plain": [
       "22"
      ]
     },
     "execution_count": 43,
     "metadata": {},
     "output_type": "execute_result"
    }
   ],
   "source": [
    "len(monodromy_matrices) - 2*2+1 + 3*2+1+1"
   ]
  },
  {
   "cell_type": "code",
   "execution_count": 44,
   "metadata": {},
   "outputs": [
    {
     "data": {
      "text/plain": [
       "17"
      ]
     },
     "execution_count": 44,
     "metadata": {},
     "output_type": "execute_result"
    }
   ],
   "source": [
    "Nthimbles = sum([(M-1).rank() for M in monodromy_matrices])\n",
    "Nthimbles"
   ]
  },
  {
   "cell_type": "code",
   "execution_count": 45,
   "metadata": {},
   "outputs": [],
   "source": [
    "# cycles = (quotient_basis*boundaries.kernel().basis_matrix()).transpose()\n",
    "cycles = (boundaries.kernel().basis_matrix()).transpose()"
   ]
  },
  {
   "cell_type": "markdown",
   "metadata": {},
   "source": [
    "We have 2 too many cycles, which are loops around a regular point (extension of cycles of the fiber around the composition of the loops). To recover the Picard rank and compute the periods, we do not need to remove them yet"
   ]
  },
  {
   "cell_type": "code",
   "execution_count": 46,
   "metadata": {},
   "outputs": [
    {
     "data": {
      "text/html": [
       "<html>\\[\\newcommand{\\Bold}[1]{\\mathbf{#1}}\\left(\\begin{array}{rrrrrrrrrrrrrrrrr}\n",
       "1 & 0 & 0 & 0 & 0 & 0 & 0 & 0 & 0 & 0 & 0 & 0 & 0 & 0 & 0 & 0 & -1 \\\\\n",
       "0 & 1 & 0 & 0 & 0 & 0 & 0 & 0 & 0 & 0 & 0 & 1 & 0 & 0 & 0 & 1 & 3 \\\\\n",
       "0 & 0 & 1 & 0 & 0 & 0 & 0 & 0 & 0 & 0 & 0 & 1 & 0 & 0 & 0 & 1 & 3 \\\\\n",
       "0 & 0 & 0 & 1 & 0 & 0 & 0 & 0 & 0 & 0 & 0 & 1 & 0 & 0 & 0 & 1 & 3 \\\\\n",
       "0 & 0 & 0 & 0 & 1 & 0 & 0 & 0 & 0 & 0 & 0 & 0 & 0 & 0 & 0 & 1 & 2 \\\\\n",
       "0 & 0 & 0 & 0 & 0 & 1 & 0 & 0 & 0 & 0 & 0 & 1 & 0 & 0 & 0 & 1 & 3 \\\\\n",
       "0 & 0 & 0 & 0 & 0 & 0 & 1 & 0 & 0 & 0 & 0 & 1 & 0 & 0 & 0 & 1 & 2 \\\\\n",
       "0 & 0 & 0 & 0 & 0 & 0 & 0 & 1 & 0 & 0 & 0 & 1 & 0 & 0 & 0 & 1 & 3 \\\\\n",
       "0 & 0 & 0 & 0 & 0 & 0 & 0 & 0 & 1 & 0 & 0 & 1 & 0 & 0 & 0 & 1 & 3 \\\\\n",
       "0 & 0 & 0 & 0 & 0 & 0 & 0 & 0 & 0 & 1 & 0 & 1 & 0 & 0 & 0 & 1 & 3 \\\\\n",
       "0 & 0 & 0 & 0 & 0 & 0 & 0 & 0 & 0 & 0 & 1 & 0 & 0 & 0 & 0 & 2 & 6 \\\\\n",
       "0 & 0 & 0 & 0 & 0 & 0 & 0 & 0 & 0 & 0 & 0 & 2 & 0 & 0 & 0 & 1 & 3 \\\\\n",
       "0 & 0 & 0 & 0 & 0 & 0 & 0 & 0 & 0 & 0 & 0 & 0 & 1 & 0 & 0 & 2 & 5 \\\\\n",
       "0 & 0 & 0 & 0 & 0 & 0 & 0 & 0 & 0 & 0 & 0 & 0 & 0 & 1 & 0 & 2 & 4 \\\\\n",
       "0 & 0 & 0 & 0 & 0 & 0 & 0 & 0 & 0 & 0 & 0 & 0 & 0 & 0 & 1 & 2 & 2\n",
       "\\end{array}\\right)\\]</html>"
      ],
      "text/latex": [
       "$$\\newcommand{\\Bold}[1]{\\mathbf{#1}}\\left(\\begin{array}{rrrrrrrrrrrrrrrrr}\n",
       "1 & 0 & 0 & 0 & 0 & 0 & 0 & 0 & 0 & 0 & 0 & 0 & 0 & 0 & 0 & 0 & -1 \\\\\n",
       "0 & 1 & 0 & 0 & 0 & 0 & 0 & 0 & 0 & 0 & 0 & 1 & 0 & 0 & 0 & 1 & 3 \\\\\n",
       "0 & 0 & 1 & 0 & 0 & 0 & 0 & 0 & 0 & 0 & 0 & 1 & 0 & 0 & 0 & 1 & 3 \\\\\n",
       "0 & 0 & 0 & 1 & 0 & 0 & 0 & 0 & 0 & 0 & 0 & 1 & 0 & 0 & 0 & 1 & 3 \\\\\n",
       "0 & 0 & 0 & 0 & 1 & 0 & 0 & 0 & 0 & 0 & 0 & 0 & 0 & 0 & 0 & 1 & 2 \\\\\n",
       "0 & 0 & 0 & 0 & 0 & 1 & 0 & 0 & 0 & 0 & 0 & 1 & 0 & 0 & 0 & 1 & 3 \\\\\n",
       "0 & 0 & 0 & 0 & 0 & 0 & 1 & 0 & 0 & 0 & 0 & 1 & 0 & 0 & 0 & 1 & 2 \\\\\n",
       "0 & 0 & 0 & 0 & 0 & 0 & 0 & 1 & 0 & 0 & 0 & 1 & 0 & 0 & 0 & 1 & 3 \\\\\n",
       "0 & 0 & 0 & 0 & 0 & 0 & 0 & 0 & 1 & 0 & 0 & 1 & 0 & 0 & 0 & 1 & 3 \\\\\n",
       "0 & 0 & 0 & 0 & 0 & 0 & 0 & 0 & 0 & 1 & 0 & 1 & 0 & 0 & 0 & 1 & 3 \\\\\n",
       "0 & 0 & 0 & 0 & 0 & 0 & 0 & 0 & 0 & 0 & 1 & 0 & 0 & 0 & 0 & 2 & 6 \\\\\n",
       "0 & 0 & 0 & 0 & 0 & 0 & 0 & 0 & 0 & 0 & 0 & 2 & 0 & 0 & 0 & 1 & 3 \\\\\n",
       "0 & 0 & 0 & 0 & 0 & 0 & 0 & 0 & 0 & 0 & 0 & 0 & 1 & 0 & 0 & 2 & 5 \\\\\n",
       "0 & 0 & 0 & 0 & 0 & 0 & 0 & 0 & 0 & 0 & 0 & 0 & 0 & 1 & 0 & 2 & 4 \\\\\n",
       "0 & 0 & 0 & 0 & 0 & 0 & 0 & 0 & 0 & 0 & 0 & 0 & 0 & 0 & 1 & 2 & 2\n",
       "\\end{array}\\right)$$"
      ],
      "text/plain": [
       "[ 1  0  0  0  0  0  0  0  0  0  0  0  0  0  0  0 -1]\n",
       "[ 0  1  0  0  0  0  0  0  0  0  0  1  0  0  0  1  3]\n",
       "[ 0  0  1  0  0  0  0  0  0  0  0  1  0  0  0  1  3]\n",
       "[ 0  0  0  1  0  0  0  0  0  0  0  1  0  0  0  1  3]\n",
       "[ 0  0  0  0  1  0  0  0  0  0  0  0  0  0  0  1  2]\n",
       "[ 0  0  0  0  0  1  0  0  0  0  0  1  0  0  0  1  3]\n",
       "[ 0  0  0  0  0  0  1  0  0  0  0  1  0  0  0  1  2]\n",
       "[ 0  0  0  0  0  0  0  1  0  0  0  1  0  0  0  1  3]\n",
       "[ 0  0  0  0  0  0  0  0  1  0  0  1  0  0  0  1  3]\n",
       "[ 0  0  0  0  0  0  0  0  0  1  0  1  0  0  0  1  3]\n",
       "[ 0  0  0  0  0  0  0  0  0  0  1  0  0  0  0  2  6]\n",
       "[ 0  0  0  0  0  0  0  0  0  0  0  2  0  0  0  1  3]\n",
       "[ 0  0  0  0  0  0  0  0  0  0  0  0  1  0  0  2  5]\n",
       "[ 0  0  0  0  0  0  0  0  0  0  0  0  0  1  0  2  4]\n",
       "[ 0  0  0  0  0  0  0  0  0  0  0  0  0  0  1  2  2]"
      ]
     },
     "execution_count": 46,
     "metadata": {},
     "output_type": "execute_result"
    }
   ],
   "source": [
    "show(cycles.transpose())"
   ]
  },
  {
   "cell_type": "code",
   "execution_count": 47,
   "metadata": {},
   "outputs": [
    {
     "data": {
      "text/plain": [
       "(17, 15)"
      ]
     },
     "execution_count": 47,
     "metadata": {},
     "output_type": "execute_result"
    }
   ],
   "source": [
    "cycles.dimensions()"
   ]
  },
  {
   "cell_type": "markdown",
   "metadata": {},
   "source": [
    "We find $15-2=13$ cycles, plus $2\\times 3 + 1 = 7$ cycles coming from singularities, + 1 section + 1 fiber makes 22?"
   ]
  },
  {
   "cell_type": "markdown",
   "metadata": {},
   "source": [
    "### Computing periods "
   ]
  },
  {
   "cell_type": "code",
   "execution_count": 48,
   "metadata": {},
   "outputs": [],
   "source": [
    "derivatives = derivatives_at_basepoint"
   ]
  },
  {
   "cell_type": "code",
   "execution_count": 49,
   "metadata": {},
   "outputs": [],
   "source": [
    "integration_correction = diagonal_matrix([1/ZZ(factorial(k)) for k in range(3)])"
   ]
  },
  {
   "cell_type": "code",
   "execution_count": 50,
   "metadata": {},
   "outputs": [],
   "source": [
    "initial_conditions = integration_correction* derivatives*K3.fiber.period_matrix"
   ]
  },
  {
   "cell_type": "code",
   "execution_count": 51,
   "metadata": {},
   "outputs": [],
   "source": [
    "integrated_thimbles=[]\n",
    "pci=0\n",
    "for i in range(len(monodromy_matrices)):\n",
    "    M=monodromy_matrices[i]\n",
    "    for j in range((M-1).rank()):\n",
    "        integrated_thimbles+=[(ntms[i]*initial_conditions*permuting_cycles[pci])[0]]\n",
    "        pci +=1"
   ]
  },
  {
   "cell_type": "code",
   "execution_count": 52,
   "metadata": {},
   "outputs": [
    {
     "data": {
      "text/html": [
       "<html>\\[\\newcommand{\\Bold}[1]{\\mathbf{#1}}\\left(\\verb|[3.1780106706151430342031559761809625790840914977530700729364336930720846550803289287826953611928839222249042018138178742324679920563039499432976544e-38|\\verb| |\\verb|+/-|\\verb| |\\verb|1.37e-184]|\\verb| |\\verb|+|\\verb| |\\verb|[2.817966574912509166790457024552798175784351772172486223154224505605668483333751064611993607352368158681224916558485228999012540984129253413177515e-39|\\verb| |\\verb|+/-|\\verb| |\\verb|5.03e-184]*I|,\\,\\verb|[-2.74075092224388929539463713936222396701086993759258412381741472355084237297727636530788225500269210459649765946749220789141357197570521109340009925e-37|\\verb| |\\verb|+/-|\\verb| |\\verb|4.83e-184]|\\verb| |\\verb|+|\\verb| |\\verb|[-9.3116436034967699115829643752385860788364412425956612372734766275434099547506499437427579016164878189073294962131847522210665307888827412070479175e-38|\\verb| |\\verb|+/-|\\verb| |\\verb|4.29e-184]*I|,\\,\\verb|[-2.19832297368788676232302858116861891719963541944291016231163230031510419563359100937276997238871958288168848718021267100130248624649054893554558191e-37|\\verb| |\\verb|+/-|\\verb| |\\verb|7.93e-184]|\\verb| |\\verb|+|\\verb| |\\verb|[-6.8316642885044553882891486689192730661263882144016831119792557750329143311353526005265943226979474524202336741031937159551061924727225708261997159e-38|\\verb| |\\verb|+/-|\\verb| |\\verb|4.47e-184]*I|,\\,\\verb|[-2.74075092224388929539463713936222396701086993759258412381741472355084237297727636530788225500269210459649765946749220789141357197570521109340009925e-37|\\verb| |\\verb|+/-|\\verb| |\\verb|4.74e-184]|\\verb| |\\verb|+|\\verb| |\\verb|[-7.8927448974127136897385945479853365974173324177856226245123172554247898050383401853419097880418771721177892813575712315306570201079135599520787090e-38|\\verb| |\\verb|+/-|\\verb| |\\verb|5.47e-184]*I|,\\,\\verb|[-7.3558295399054776442929651315642479966753785960938991468894022193900478819687030742596478997324684198901519296780197122329905858374922490573220751e-38|\\verb| |\\verb|+/-|\\verb| |\\verb|7.65e-184]|\\verb| |\\verb|+|\\verb| |\\verb|[-2.7748366991529621807915251869987690935918085580055060912067384398841348992196699315927608054668419297568945811580471458904085094574854811400146220e-37|\\verb| |\\verb|+/-|\\verb| |\\verb|9.58e-184]*I|,\\,\\verb|[-3.47212093209255879434150317336832102577691871750934424762876076273889207669563671628128484621042847504283430657369755778041528580707587310830678645e-37|\\verb| |\\verb|+/-|\\verb| |\\verb|5.33e-184]|\\verb| |\\verb|+|\\verb| |\\verb|[-1.8519978673146321537981642144655144608139883757231919393726951624038671976936873242638854148824644624734906129883689055664313919565632984300827830e-38|\\verb| |\\verb|+/-|\\verb| |\\verb|4.43e-184]*I|,\\,\\verb|[-7.3558295399054776442929651315642479966753785960938991468894022193900478819687030742596478997324684198901519296780197122329905858374922490573220751e-38|\\verb| |\\verb|+/-|\\verb| |\\verb|4.37e-184]|\\verb| |\\verb|+|\\verb| |\\verb|[-2.90367715438617521283553246795426457615752036013437556068092346601240824932236364272690947480804101283061914412571433186707139783345922591475935001e-37|\\verb| |\\verb|+/-|\\verb| |\\verb|4.50e-184]*I|,\\,\\verb|[-4.20349094194122829328836920737441808454296749742610437144010680192694178041399706725468743741816484548917095367990290766941699963844653512321347365e-37|\\verb| |\\verb|+/-|\\verb| |\\verb|8.32e-184]|\\verb| |\\verb|+|\\verb| |\\verb|[-7.8927448974127136897385945479853365974173324177856226245123172554247898050383401853419097880418771721177892813575712315306570201079135599520787090e-38|\\verb| |\\verb|+/-|\\verb| |\\verb|5.93e-184]*I|,\\,\\verb|[-4.74591889049723082635997776556802313435420201557577833294588922516267995775768242318979972003213736720398012596718244455952808536766119728106799099e-37|\\verb| |\\verb|+/-|\\verb| |\\verb|5.73e-184]|\\verb| |\\verb|+|\\verb| |\\verb|[-6.8316642885044553882891486689192730661263882144016831119792557750329143311353526005265943226979474524202336741031937159551061924727225708261997159e-38|\\verb| |\\verb|+/-|\\verb| |\\verb|4.90e-184]*I|,\\,\\verb|[-4.20349094194122829328836920737441808454296749742610437144010680192694178041399706725468743741816484548917095367990290766941699963844653512321347365e-37|\\verb| |\\verb|+/-|\\verb| |\\verb|8.34e-184]|\\verb| |\\verb|+|\\verb| |\\verb|[-9.3116436034967699115829643752385860788364412425956612372734766275434099547506499437427579016164878189073294962131847522210665307888827412070479175e-38|\\verb| |\\verb|+/-|\\verb| |\\verb|4.66e-184]*I|,\\,\\verb|[-6.9442418641851175886830063467366420515538374350186884952575215254777841533912734325625696924208569500856686131473951155608305716141517462166135729e-37|\\verb| |\\verb|+/-|\\verb| |\\verb|1.09e-183]|\\verb| |\\verb|+|\\verb| |\\verb|[-1.48970181073970780630979916605170173660589383549020277835690063321969293059522341061970621538695182951613576469073760518786860486973707866065416687e-37|\\verb| |\\verb|+/-|\\verb| |\\verb|6.09e-184]*I|,\\,\\verb|[-3.47212093209255879434150317336832102577691871750934424762876076273889207669563671628128484621042847504283430657369755778041528580707587310830678645e-37|\\verb| |\\verb|+/-|\\verb| |\\verb|5.41e-184]|\\verb| |\\verb|+|\\verb| |\\verb|[-7.4758665646705205485091850736967504789549472250460304593501809056742810816488211561973376694039428677888564889415296458384206343525912946999233559e-38|\\verb| |\\verb|+/-|\\verb| |\\verb|7.15e-184]*I|,\\,\\verb|[-3.7899219991540730977618187709864172836853278672846512549224041320461005422036696091595543823297168672653247267550793452036620850127062681026365519e-37|\\verb| |\\verb|+/-|\\verb| |\\verb|5.18e-183]|\\verb| |\\verb|+|\\verb| |\\verb|[-3.5841078321394225999684284105023677031776113768150422151222812695581180395686284924696882478309173860518247449872495414726742560803408928577140694e-37|\\verb| |\\verb|+/-|\\verb| |\\verb|7.54e-183]*I|,\\,\\verb|[-6.356021341230286068406311952361925158168182995506140145872867386144169310160657857565390722385767844449808403627635748464935984112607899886595309e-38|\\verb| |\\verb|+/-|\\verb| |\\verb|3.15e-183]|\\verb| |\\verb|+|\\verb| |\\verb|[-3.5559281663902975083005238402568397214197678590933173528907390245020613547352909818235683117573937044650124958216646891826841306704996003235822943e-37|\\verb| |\\verb|+/-|\\verb| |\\verb|1.95e-183]*I|,\\,\\verb|[+/-|\\verb| |\\verb|3.75e-184]|\\verb| |\\verb|+|\\verb| |\\verb|[-5.635933149825018333580914049105596351568703544344972446308449011211336966667502129223987214704736317362449833116970457998025081968258506826355029e-39|\\verb| |\\verb|+/-|\\verb| |\\verb|4.14e-184]*I|\\right)\\]</html>"
      ],
      "text/latex": [
       "$$\\newcommand{\\Bold}[1]{\\mathbf{#1}}\\left(\\verb|[3.1780106706151430342031559761809625790840914977530700729364336930720846550803289287826953611928839222249042018138178742324679920563039499432976544e-38|\\verb| |\\verb|+/-|\\verb| |\\verb|1.37e-184]|\\verb| |\\verb|+|\\verb| |\\verb|[2.817966574912509166790457024552798175784351772172486223154224505605668483333751064611993607352368158681224916558485228999012540984129253413177515e-39|\\verb| |\\verb|+/-|\\verb| |\\verb|5.03e-184]*I|,\\,\\verb|[-2.74075092224388929539463713936222396701086993759258412381741472355084237297727636530788225500269210459649765946749220789141357197570521109340009925e-37|\\verb| |\\verb|+/-|\\verb| |\\verb|4.83e-184]|\\verb| |\\verb|+|\\verb| |\\verb|[-9.3116436034967699115829643752385860788364412425956612372734766275434099547506499437427579016164878189073294962131847522210665307888827412070479175e-38|\\verb| |\\verb|+/-|\\verb| |\\verb|4.29e-184]*I|,\\,\\verb|[-2.19832297368788676232302858116861891719963541944291016231163230031510419563359100937276997238871958288168848718021267100130248624649054893554558191e-37|\\verb| |\\verb|+/-|\\verb| |\\verb|7.93e-184]|\\verb| |\\verb|+|\\verb| |\\verb|[-6.8316642885044553882891486689192730661263882144016831119792557750329143311353526005265943226979474524202336741031937159551061924727225708261997159e-38|\\verb| |\\verb|+/-|\\verb| |\\verb|4.47e-184]*I|,\\,\\verb|[-2.74075092224388929539463713936222396701086993759258412381741472355084237297727636530788225500269210459649765946749220789141357197570521109340009925e-37|\\verb| |\\verb|+/-|\\verb| |\\verb|4.74e-184]|\\verb| |\\verb|+|\\verb| |\\verb|[-7.8927448974127136897385945479853365974173324177856226245123172554247898050383401853419097880418771721177892813575712315306570201079135599520787090e-38|\\verb| |\\verb|+/-|\\verb| |\\verb|5.47e-184]*I|,\\,\\verb|[-7.3558295399054776442929651315642479966753785960938991468894022193900478819687030742596478997324684198901519296780197122329905858374922490573220751e-38|\\verb| |\\verb|+/-|\\verb| |\\verb|7.65e-184]|\\verb| |\\verb|+|\\verb| |\\verb|[-2.7748366991529621807915251869987690935918085580055060912067384398841348992196699315927608054668419297568945811580471458904085094574854811400146220e-37|\\verb| |\\verb|+/-|\\verb| |\\verb|9.58e-184]*I|,\\,\\verb|[-3.47212093209255879434150317336832102577691871750934424762876076273889207669563671628128484621042847504283430657369755778041528580707587310830678645e-37|\\verb| |\\verb|+/-|\\verb| |\\verb|5.33e-184]|\\verb| |\\verb|+|\\verb| |\\verb|[-1.8519978673146321537981642144655144608139883757231919393726951624038671976936873242638854148824644624734906129883689055664313919565632984300827830e-38|\\verb| |\\verb|+/-|\\verb| |\\verb|4.43e-184]*I|,\\,\\verb|[-7.3558295399054776442929651315642479966753785960938991468894022193900478819687030742596478997324684198901519296780197122329905858374922490573220751e-38|\\verb| |\\verb|+/-|\\verb| |\\verb|4.37e-184]|\\verb| |\\verb|+|\\verb| |\\verb|[-2.90367715438617521283553246795426457615752036013437556068092346601240824932236364272690947480804101283061914412571433186707139783345922591475935001e-37|\\verb| |\\verb|+/-|\\verb| |\\verb|4.50e-184]*I|,\\,\\verb|[-4.20349094194122829328836920737441808454296749742610437144010680192694178041399706725468743741816484548917095367990290766941699963844653512321347365e-37|\\verb| |\\verb|+/-|\\verb| |\\verb|8.32e-184]|\\verb| |\\verb|+|\\verb| |\\verb|[-7.8927448974127136897385945479853365974173324177856226245123172554247898050383401853419097880418771721177892813575712315306570201079135599520787090e-38|\\verb| |\\verb|+/-|\\verb| |\\verb|5.93e-184]*I|,\\,\\verb|[-4.74591889049723082635997776556802313435420201557577833294588922516267995775768242318979972003213736720398012596718244455952808536766119728106799099e-37|\\verb| |\\verb|+/-|\\verb| |\\verb|5.73e-184]|\\verb| |\\verb|+|\\verb| |\\verb|[-6.8316642885044553882891486689192730661263882144016831119792557750329143311353526005265943226979474524202336741031937159551061924727225708261997159e-38|\\verb| |\\verb|+/-|\\verb| |\\verb|4.90e-184]*I|,\\,\\verb|[-4.20349094194122829328836920737441808454296749742610437144010680192694178041399706725468743741816484548917095367990290766941699963844653512321347365e-37|\\verb| |\\verb|+/-|\\verb| |\\verb|8.34e-184]|\\verb| |\\verb|+|\\verb| |\\verb|[-9.3116436034967699115829643752385860788364412425956612372734766275434099547506499437427579016164878189073294962131847522210665307888827412070479175e-38|\\verb| |\\verb|+/-|\\verb| |\\verb|4.66e-184]*I|,\\,\\verb|[-6.9442418641851175886830063467366420515538374350186884952575215254777841533912734325625696924208569500856686131473951155608305716141517462166135729e-37|\\verb| |\\verb|+/-|\\verb| |\\verb|1.09e-183]|\\verb| |\\verb|+|\\verb| |\\verb|[-1.48970181073970780630979916605170173660589383549020277835690063321969293059522341061970621538695182951613576469073760518786860486973707866065416687e-37|\\verb| |\\verb|+/-|\\verb| |\\verb|6.09e-184]*I|,\\,\\verb|[-3.47212093209255879434150317336832102577691871750934424762876076273889207669563671628128484621042847504283430657369755778041528580707587310830678645e-37|\\verb| |\\verb|+/-|\\verb| |\\verb|5.41e-184]|\\verb| |\\verb|+|\\verb| |\\verb|[-7.4758665646705205485091850736967504789549472250460304593501809056742810816488211561973376694039428677888564889415296458384206343525912946999233559e-38|\\verb| |\\verb|+/-|\\verb| |\\verb|7.15e-184]*I|,\\,\\verb|[-3.7899219991540730977618187709864172836853278672846512549224041320461005422036696091595543823297168672653247267550793452036620850127062681026365519e-37|\\verb| |\\verb|+/-|\\verb| |\\verb|5.18e-183]|\\verb| |\\verb|+|\\verb| |\\verb|[-3.5841078321394225999684284105023677031776113768150422151222812695581180395686284924696882478309173860518247449872495414726742560803408928577140694e-37|\\verb| |\\verb|+/-|\\verb| |\\verb|7.54e-183]*I|,\\,\\verb|[-6.356021341230286068406311952361925158168182995506140145872867386144169310160657857565390722385767844449808403627635748464935984112607899886595309e-38|\\verb| |\\verb|+/-|\\verb| |\\verb|3.15e-183]|\\verb| |\\verb|+|\\verb| |\\verb|[-3.5559281663902975083005238402568397214197678590933173528907390245020613547352909818235683117573937044650124958216646891826841306704996003235822943e-37|\\verb| |\\verb|+/-|\\verb| |\\verb|1.95e-183]*I|,\\,\\verb|[+/-|\\verb| |\\verb|3.75e-184]|\\verb| |\\verb|+|\\verb| |\\verb|[-5.635933149825018333580914049105596351568703544344972446308449011211336966667502129223987214704736317362449833116970457998025081968258506826355029e-39|\\verb| |\\verb|+/-|\\verb| |\\verb|4.14e-184]*I|\\right)$$"
      ],
      "text/plain": [
       "([3.1780106706151430342031559761809625790840914977530700729364336930720846550803289287826953611928839222249042018138178742324679920563039499432976544e-38 +/- 1.37e-184] + [2.817966574912509166790457024552798175784351772172486223154224505605668483333751064611993607352368158681224916558485228999012540984129253413177515e-39 +/- 5.03e-184]*I, [-2.74075092224388929539463713936222396701086993759258412381741472355084237297727636530788225500269210459649765946749220789141357197570521109340009925e-37 +/- 4.83e-184] + [-9.3116436034967699115829643752385860788364412425956612372734766275434099547506499437427579016164878189073294962131847522210665307888827412070479175e-38 +/- 4.29e-184]*I, [-2.19832297368788676232302858116861891719963541944291016231163230031510419563359100937276997238871958288168848718021267100130248624649054893554558191e-37 +/- 7.93e-184] + [-6.8316642885044553882891486689192730661263882144016831119792557750329143311353526005265943226979474524202336741031937159551061924727225708261997159e-38 +/- 4.47e-184]*I, [-2.74075092224388929539463713936222396701086993759258412381741472355084237297727636530788225500269210459649765946749220789141357197570521109340009925e-37 +/- 4.74e-184] + [-7.8927448974127136897385945479853365974173324177856226245123172554247898050383401853419097880418771721177892813575712315306570201079135599520787090e-38 +/- 5.47e-184]*I, [-7.3558295399054776442929651315642479966753785960938991468894022193900478819687030742596478997324684198901519296780197122329905858374922490573220751e-38 +/- 7.65e-184] + [-2.7748366991529621807915251869987690935918085580055060912067384398841348992196699315927608054668419297568945811580471458904085094574854811400146220e-37 +/- 9.58e-184]*I, [-3.47212093209255879434150317336832102577691871750934424762876076273889207669563671628128484621042847504283430657369755778041528580707587310830678645e-37 +/- 5.33e-184] + [-1.8519978673146321537981642144655144608139883757231919393726951624038671976936873242638854148824644624734906129883689055664313919565632984300827830e-38 +/- 4.43e-184]*I, [-7.3558295399054776442929651315642479966753785960938991468894022193900478819687030742596478997324684198901519296780197122329905858374922490573220751e-38 +/- 4.37e-184] + [-2.90367715438617521283553246795426457615752036013437556068092346601240824932236364272690947480804101283061914412571433186707139783345922591475935001e-37 +/- 4.50e-184]*I, [-4.20349094194122829328836920737441808454296749742610437144010680192694178041399706725468743741816484548917095367990290766941699963844653512321347365e-37 +/- 8.32e-184] + [-7.8927448974127136897385945479853365974173324177856226245123172554247898050383401853419097880418771721177892813575712315306570201079135599520787090e-38 +/- 5.93e-184]*I, [-4.74591889049723082635997776556802313435420201557577833294588922516267995775768242318979972003213736720398012596718244455952808536766119728106799099e-37 +/- 5.73e-184] + [-6.8316642885044553882891486689192730661263882144016831119792557750329143311353526005265943226979474524202336741031937159551061924727225708261997159e-38 +/- 4.90e-184]*I, [-4.20349094194122829328836920737441808454296749742610437144010680192694178041399706725468743741816484548917095367990290766941699963844653512321347365e-37 +/- 8.34e-184] + [-9.3116436034967699115829643752385860788364412425956612372734766275434099547506499437427579016164878189073294962131847522210665307888827412070479175e-38 +/- 4.66e-184]*I, [-6.9442418641851175886830063467366420515538374350186884952575215254777841533912734325625696924208569500856686131473951155608305716141517462166135729e-37 +/- 1.09e-183] + [-1.48970181073970780630979916605170173660589383549020277835690063321969293059522341061970621538695182951613576469073760518786860486973707866065416687e-37 +/- 6.09e-184]*I, [-3.47212093209255879434150317336832102577691871750934424762876076273889207669563671628128484621042847504283430657369755778041528580707587310830678645e-37 +/- 5.41e-184] + [-7.4758665646705205485091850736967504789549472250460304593501809056742810816488211561973376694039428677888564889415296458384206343525912946999233559e-38 +/- 7.15e-184]*I, [-3.7899219991540730977618187709864172836853278672846512549224041320461005422036696091595543823297168672653247267550793452036620850127062681026365519e-37 +/- 5.18e-183] + [-3.5841078321394225999684284105023677031776113768150422151222812695581180395686284924696882478309173860518247449872495414726742560803408928577140694e-37 +/- 7.54e-183]*I, [-6.356021341230286068406311952361925158168182995506140145872867386144169310160657857565390722385767844449808403627635748464935984112607899886595309e-38 +/- 3.15e-183] + [-3.5559281663902975083005238402568397214197678590933173528907390245020613547352909818235683117573937044650124958216646891826841306704996003235822943e-37 +/- 1.95e-183]*I, [+/- 3.75e-184] + [-5.635933149825018333580914049105596351568703544344972446308449011211336966667502129223987214704736317362449833116970457998025081968258506826355029e-39 +/- 4.14e-184]*I)"
      ]
     },
     "execution_count": 52,
     "metadata": {},
     "output_type": "execute_result"
    }
   ],
   "source": [
    "periods = vector(integrated_thimbles)*cycles\n",
    "show(periods)"
   ]
  },
  {
   "cell_type": "markdown",
   "metadata": {},
   "source": [
    "### Computing the Picard rank"
   ]
  },
  {
   "cell_type": "code",
   "execution_count": 53,
   "metadata": {},
   "outputs": [],
   "source": [
    "IR = numperiods.IntegerRelations(matrix(periods).transpose())"
   ]
  },
  {
   "cell_type": "code",
   "execution_count": 54,
   "metadata": {},
   "outputs": [
    {
     "data": {
      "text/plain": [
       "(4, 15)"
      ]
     },
     "execution_count": 54,
     "metadata": {},
     "output_type": "execute_result"
    }
   ],
   "source": [
    "IR.basis.dimensions()"
   ]
  },
  {
   "cell_type": "code",
   "execution_count": 55,
   "metadata": {},
   "outputs": [
    {
     "data": {
      "text/plain": [
       "11"
      ]
     },
     "execution_count": 55,
     "metadata": {},
     "output_type": "execute_result"
    }
   ],
   "source": [
    "22-(IR.basis.dimensions()[1]-IR.basis.dimensions()[0])"
   ]
  },
  {
   "cell_type": "markdown",
   "metadata": {},
   "source": [
    "### Computing homology of desgingularization"
   ]
  },
  {
   "cell_type": "markdown",
   "metadata": {},
   "source": [
    "We formally take a smoothing of the variety to get the cycles are pinched at the singularities"
   ]
  },
  {
   "cell_type": "code",
   "execution_count": 56,
   "metadata": {},
   "outputs": [],
   "source": [
    "monodromy_matrices_smoothed = []\n",
    "for M in monodromy_matrices:\n",
    "    monodromy_matrices_smoothed += [(1+(M-1)/gcd((M-1).image().gens()[0])).change_ring(ZZ)]*gcd((M-1).image().gens()[0])"
   ]
  },
  {
   "cell_type": "code",
   "execution_count": 57,
   "metadata": {},
   "outputs": [
    {
     "data": {
      "text/html": [
       "<html>\\[\\newcommand{\\Bold}[1]{\\mathbf{#1}}\\left[\\left(\\begin{array}{rr}\n",
       "1 & 0 \\\\\n",
       "-1 & 1\n",
       "\\end{array}\\right), \\left(\\begin{array}{rr}\n",
       "3 & 1 \\\\\n",
       "-4 & -1\n",
       "\\end{array}\\right), \\left(\\begin{array}{rr}\n",
       "3 & 1 \\\\\n",
       "-4 & -1\n",
       "\\end{array}\\right), \\left(\\begin{array}{rr}\n",
       "3 & 1 \\\\\n",
       "-4 & -1\n",
       "\\end{array}\\right), \\left(\\begin{array}{rr}\n",
       "7 & 4 \\\\\n",
       "-9 & -5\n",
       "\\end{array}\\right), \\left(\\begin{array}{rr}\n",
       "3 & 1 \\\\\n",
       "-4 & -1\n",
       "\\end{array}\\right), \\left(\\begin{array}{rr}\n",
       "2 & 1 \\\\\n",
       "-1 & 0\n",
       "\\end{array}\\right), \\left(\\begin{array}{rr}\n",
       "3 & 1 \\\\\n",
       "-4 & -1\n",
       "\\end{array}\\right), \\left(\\begin{array}{rr}\n",
       "3 & 1 \\\\\n",
       "-4 & -1\n",
       "\\end{array}\\right), \\left(\\begin{array}{rr}\n",
       "3 & 1 \\\\\n",
       "-4 & -1\n",
       "\\end{array}\\right), \\left(\\begin{array}{rr}\n",
       "9 & 4 \\\\\n",
       "-16 & -7\n",
       "\\end{array}\\right), \\left(\\begin{array}{rr}\n",
       "3 & 1 \\\\\n",
       "-4 & -1\n",
       "\\end{array}\\right), \\left(\\begin{array}{rr}\n",
       "29 & 16 \\\\\n",
       "-49 & -27\n",
       "\\end{array}\\right), \\left(\\begin{array}{rr}\n",
       "13 & 8 \\\\\n",
       "-18 & -11\n",
       "\\end{array}\\right), \\left(\\begin{array}{rr}\n",
       "5 & 4 \\\\\n",
       "-4 & -3\n",
       "\\end{array}\\right), \\left(\\begin{array}{rr}\n",
       "3 & 4 \\\\\n",
       "-1 & -1\n",
       "\\end{array}\\right), \\left(\\begin{array}{rr}\n",
       "1 & 0 \\\\\n",
       "-1 & 1\n",
       "\\end{array}\\right)\\right]\\]</html>"
      ],
      "text/latex": [
       "$$\\newcommand{\\Bold}[1]{\\mathbf{#1}}\\left[\\left(\\begin{array}{rr}\n",
       "1 & 0 \\\\\n",
       "-1 & 1\n",
       "\\end{array}\\right), \\left(\\begin{array}{rr}\n",
       "3 & 1 \\\\\n",
       "-4 & -1\n",
       "\\end{array}\\right), \\left(\\begin{array}{rr}\n",
       "3 & 1 \\\\\n",
       "-4 & -1\n",
       "\\end{array}\\right), \\left(\\begin{array}{rr}\n",
       "3 & 1 \\\\\n",
       "-4 & -1\n",
       "\\end{array}\\right), \\left(\\begin{array}{rr}\n",
       "7 & 4 \\\\\n",
       "-9 & -5\n",
       "\\end{array}\\right), \\left(\\begin{array}{rr}\n",
       "3 & 1 \\\\\n",
       "-4 & -1\n",
       "\\end{array}\\right), \\left(\\begin{array}{rr}\n",
       "2 & 1 \\\\\n",
       "-1 & 0\n",
       "\\end{array}\\right), \\left(\\begin{array}{rr}\n",
       "3 & 1 \\\\\n",
       "-4 & -1\n",
       "\\end{array}\\right), \\left(\\begin{array}{rr}\n",
       "3 & 1 \\\\\n",
       "-4 & -1\n",
       "\\end{array}\\right), \\left(\\begin{array}{rr}\n",
       "3 & 1 \\\\\n",
       "-4 & -1\n",
       "\\end{array}\\right), \\left(\\begin{array}{rr}\n",
       "9 & 4 \\\\\n",
       "-16 & -7\n",
       "\\end{array}\\right), \\left(\\begin{array}{rr}\n",
       "3 & 1 \\\\\n",
       "-4 & -1\n",
       "\\end{array}\\right), \\left(\\begin{array}{rr}\n",
       "29 & 16 \\\\\n",
       "-49 & -27\n",
       "\\end{array}\\right), \\left(\\begin{array}{rr}\n",
       "13 & 8 \\\\\n",
       "-18 & -11\n",
       "\\end{array}\\right), \\left(\\begin{array}{rr}\n",
       "5 & 4 \\\\\n",
       "-4 & -3\n",
       "\\end{array}\\right), \\left(\\begin{array}{rr}\n",
       "3 & 4 \\\\\n",
       "-1 & -1\n",
       "\\end{array}\\right), \\left(\\begin{array}{rr}\n",
       "1 & 0 \\\\\n",
       "-1 & 1\n",
       "\\end{array}\\right)\\right]$$"
      ],
      "text/plain": [
       "[\n",
       "[ 1  0]  [ 3  1]  [ 3  1]  [ 3  1]  [ 7  4]  [ 3  1]  [ 2  1]  [ 3  1]\n",
       "[-1  1], [-4 -1], [-4 -1], [-4 -1], [-9 -5], [-4 -1], [-1  0], [-4 -1],\n",
       "\n",
       "[ 3  1]  [ 3  1]  [  9   4]  [ 3  1]  [ 29  16]  [ 13   8]  [ 5  4]\n",
       "[-4 -1], [-4 -1], [-16  -7], [-4 -1], [-49 -27], [-18 -11], [-4 -3],\n",
       "\n",
       "[ 3  4]  [ 1  0]\n",
       "[-1 -1], [-1  1]\n",
       "]"
      ]
     },
     "execution_count": 57,
     "metadata": {},
     "output_type": "execute_result"
    }
   ],
   "source": [
    "show(monodromy_matrices)"
   ]
  },
  {
   "cell_type": "code",
   "execution_count": 58,
   "metadata": {},
   "outputs": [
    {
     "data": {
      "text/html": [
       "<html>\\[\\newcommand{\\Bold}[1]{\\mathbf{#1}}\\left[\\left(\\begin{array}{rr}\n",
       "1 & 0 \\\\\n",
       "-1 & 1\n",
       "\\end{array}\\right), \\left(\\begin{array}{rr}\n",
       "3 & 1 \\\\\n",
       "-4 & -1\n",
       "\\end{array}\\right), \\left(\\begin{array}{rr}\n",
       "3 & 1 \\\\\n",
       "-4 & -1\n",
       "\\end{array}\\right), \\left(\\begin{array}{rr}\n",
       "3 & 1 \\\\\n",
       "-4 & -1\n",
       "\\end{array}\\right), \\left(\\begin{array}{rr}\n",
       "7 & 4 \\\\\n",
       "-9 & -5\n",
       "\\end{array}\\right), \\left(\\begin{array}{rr}\n",
       "3 & 1 \\\\\n",
       "-4 & -1\n",
       "\\end{array}\\right), \\left(\\begin{array}{rr}\n",
       "2 & 1 \\\\\n",
       "-1 & 0\n",
       "\\end{array}\\right), \\left(\\begin{array}{rr}\n",
       "3 & 1 \\\\\n",
       "-4 & -1\n",
       "\\end{array}\\right), \\left(\\begin{array}{rr}\n",
       "3 & 1 \\\\\n",
       "-4 & -1\n",
       "\\end{array}\\right), \\left(\\begin{array}{rr}\n",
       "3 & 1 \\\\\n",
       "-4 & -1\n",
       "\\end{array}\\right), \\left(\\begin{array}{rr}\n",
       "3 & 1 \\\\\n",
       "-4 & -1\n",
       "\\end{array}\\right), \\left(\\begin{array}{rr}\n",
       "3 & 1 \\\\\n",
       "-4 & -1\n",
       "\\end{array}\\right), \\left(\\begin{array}{rr}\n",
       "3 & 1 \\\\\n",
       "-4 & -1\n",
       "\\end{array}\\right), \\left(\\begin{array}{rr}\n",
       "3 & 1 \\\\\n",
       "-4 & -1\n",
       "\\end{array}\\right), \\left(\\begin{array}{rr}\n",
       "3 & 1 \\\\\n",
       "-4 & -1\n",
       "\\end{array}\\right), \\left(\\begin{array}{rr}\n",
       "29 & 16 \\\\\n",
       "-49 & -27\n",
       "\\end{array}\\right), \\left(\\begin{array}{rr}\n",
       "7 & 4 \\\\\n",
       "-9 & -5\n",
       "\\end{array}\\right), \\left(\\begin{array}{rr}\n",
       "7 & 4 \\\\\n",
       "-9 & -5\n",
       "\\end{array}\\right), \\left(\\begin{array}{rr}\n",
       "2 & 1 \\\\\n",
       "-1 & 0\n",
       "\\end{array}\\right), \\left(\\begin{array}{rr}\n",
       "2 & 1 \\\\\n",
       "-1 & 0\n",
       "\\end{array}\\right), \\left(\\begin{array}{rr}\n",
       "2 & 1 \\\\\n",
       "-1 & 0\n",
       "\\end{array}\\right), \\left(\\begin{array}{rr}\n",
       "2 & 1 \\\\\n",
       "-1 & 0\n",
       "\\end{array}\\right), \\left(\\begin{array}{rr}\n",
       "3 & 4 \\\\\n",
       "-1 & -1\n",
       "\\end{array}\\right), \\left(\\begin{array}{rr}\n",
       "1 & 0 \\\\\n",
       "-1 & 1\n",
       "\\end{array}\\right)\\right]\\]</html>"
      ],
      "text/latex": [
       "$$\\newcommand{\\Bold}[1]{\\mathbf{#1}}\\left[\\left(\\begin{array}{rr}\n",
       "1 & 0 \\\\\n",
       "-1 & 1\n",
       "\\end{array}\\right), \\left(\\begin{array}{rr}\n",
       "3 & 1 \\\\\n",
       "-4 & -1\n",
       "\\end{array}\\right), \\left(\\begin{array}{rr}\n",
       "3 & 1 \\\\\n",
       "-4 & -1\n",
       "\\end{array}\\right), \\left(\\begin{array}{rr}\n",
       "3 & 1 \\\\\n",
       "-4 & -1\n",
       "\\end{array}\\right), \\left(\\begin{array}{rr}\n",
       "7 & 4 \\\\\n",
       "-9 & -5\n",
       "\\end{array}\\right), \\left(\\begin{array}{rr}\n",
       "3 & 1 \\\\\n",
       "-4 & -1\n",
       "\\end{array}\\right), \\left(\\begin{array}{rr}\n",
       "2 & 1 \\\\\n",
       "-1 & 0\n",
       "\\end{array}\\right), \\left(\\begin{array}{rr}\n",
       "3 & 1 \\\\\n",
       "-4 & -1\n",
       "\\end{array}\\right), \\left(\\begin{array}{rr}\n",
       "3 & 1 \\\\\n",
       "-4 & -1\n",
       "\\end{array}\\right), \\left(\\begin{array}{rr}\n",
       "3 & 1 \\\\\n",
       "-4 & -1\n",
       "\\end{array}\\right), \\left(\\begin{array}{rr}\n",
       "3 & 1 \\\\\n",
       "-4 & -1\n",
       "\\end{array}\\right), \\left(\\begin{array}{rr}\n",
       "3 & 1 \\\\\n",
       "-4 & -1\n",
       "\\end{array}\\right), \\left(\\begin{array}{rr}\n",
       "3 & 1 \\\\\n",
       "-4 & -1\n",
       "\\end{array}\\right), \\left(\\begin{array}{rr}\n",
       "3 & 1 \\\\\n",
       "-4 & -1\n",
       "\\end{array}\\right), \\left(\\begin{array}{rr}\n",
       "3 & 1 \\\\\n",
       "-4 & -1\n",
       "\\end{array}\\right), \\left(\\begin{array}{rr}\n",
       "29 & 16 \\\\\n",
       "-49 & -27\n",
       "\\end{array}\\right), \\left(\\begin{array}{rr}\n",
       "7 & 4 \\\\\n",
       "-9 & -5\n",
       "\\end{array}\\right), \\left(\\begin{array}{rr}\n",
       "7 & 4 \\\\\n",
       "-9 & -5\n",
       "\\end{array}\\right), \\left(\\begin{array}{rr}\n",
       "2 & 1 \\\\\n",
       "-1 & 0\n",
       "\\end{array}\\right), \\left(\\begin{array}{rr}\n",
       "2 & 1 \\\\\n",
       "-1 & 0\n",
       "\\end{array}\\right), \\left(\\begin{array}{rr}\n",
       "2 & 1 \\\\\n",
       "-1 & 0\n",
       "\\end{array}\\right), \\left(\\begin{array}{rr}\n",
       "2 & 1 \\\\\n",
       "-1 & 0\n",
       "\\end{array}\\right), \\left(\\begin{array}{rr}\n",
       "3 & 4 \\\\\n",
       "-1 & -1\n",
       "\\end{array}\\right), \\left(\\begin{array}{rr}\n",
       "1 & 0 \\\\\n",
       "-1 & 1\n",
       "\\end{array}\\right)\\right]$$"
      ],
      "text/plain": [
       "[\n",
       "[ 1  0]  [ 3  1]  [ 3  1]  [ 3  1]  [ 7  4]  [ 3  1]  [ 2  1]  [ 3  1]\n",
       "[-1  1], [-4 -1], [-4 -1], [-4 -1], [-9 -5], [-4 -1], [-1  0], [-4 -1],\n",
       "\n",
       "[ 3  1]  [ 3  1]  [ 3  1]  [ 3  1]  [ 3  1]  [ 3  1]  [ 3  1]\n",
       "[-4 -1], [-4 -1], [-4 -1], [-4 -1], [-4 -1], [-4 -1], [-4 -1],\n",
       "\n",
       "[ 29  16]  [ 7  4]  [ 7  4]  [ 2  1]  [ 2  1]  [ 2  1]  [ 2  1]\n",
       "[-49 -27], [-9 -5], [-9 -5], [-1  0], [-1  0], [-1  0], [-1  0],\n",
       "\n",
       "[ 3  4]  [ 1  0]\n",
       "[-1 -1], [-1  1]\n",
       "]"
      ]
     },
     "execution_count": 58,
     "metadata": {},
     "output_type": "execute_result"
    }
   ],
   "source": [
    "show(monodromy_matrices_smoothed)"
   ]
  },
  {
   "cell_type": "code",
   "execution_count": 59,
   "metadata": {},
   "outputs": [],
   "source": [
    "boundaries_smoothed= []\n",
    "permuting_cycles_smoothed=[]\n",
    "for M in monodromy_matrices_smoothed:\n",
    "    for i in range((M-1).rank()):\n",
    "        D, U, V = (M-1).smith_form()\n",
    "        v = V*vector([1 if j==i else 0 for j in range(2)])\n",
    "        permuting_cycles_smoothed+=[v]\n",
    "        boundaries_smoothed+=[(M-1)*v]\n",
    "boundaries_smoothed=matrix(boundaries_smoothed)"
   ]
  },
  {
   "cell_type": "code",
   "execution_count": 60,
   "metadata": {},
   "outputs": [
    {
     "data": {
      "text/plain": [
       "22"
      ]
     },
     "execution_count": 60,
     "metadata": {},
     "output_type": "execute_result"
    }
   ],
   "source": [
    "len(monodromy_matrices_smoothed) - 2*2+1+1"
   ]
  },
  {
   "cell_type": "code",
   "execution_count": 61,
   "metadata": {},
   "outputs": [
    {
     "data": {
      "text/plain": [
       "(22, 24)"
      ]
     },
     "execution_count": 61,
     "metadata": {},
     "output_type": "execute_result"
    }
   ],
   "source": [
    "cycles_smoothed = (boundaries_smoothed.kernel().basis_matrix())\n",
    "cycles_smoothed.dimensions()"
   ]
  },
  {
   "cell_type": "code",
   "execution_count": 62,
   "metadata": {},
   "outputs": [],
   "source": [
    "def subdivide_matrix(M, l):\n",
    "    assert sum(l) == M.ncols()\n",
    "    res = []\n",
    "    s=0\n",
    "    for i in l:\n",
    "        res+=[M.submatrix(0,s,M.nrows(), i)]\n",
    "        s+=i\n",
    "    return block_matrix([res])"
   ]
  },
  {
   "cell_type": "code",
   "execution_count": 63,
   "metadata": {},
   "outputs": [
    {
     "name": "stdout",
     "output_type": "stream",
     "text": [
      "[0, [10, 14], [16, 18], [18, 22], 24]\n"
     ]
    }
   ],
   "source": [
    "groups=[0]\n",
    "added_cycles=0\n",
    "for i in singular_indices:\n",
    "    groups+=[[]]\n",
    "    groups[-1]+=[i+added_cycles]\n",
    "    added_cycles+=multiplicities[i]-1\n",
    "    groups[-1]+=[i+added_cycles+1]\n",
    "groups+=[24]\n",
    "print(groups)"
   ]
  },
  {
   "cell_type": "code",
   "execution_count": 64,
   "metadata": {},
   "outputs": [],
   "source": [
    "diffs=  [b-a for a,b in zip(flatten(groups)[:-1], flatten(groups)[1:])]"
   ]
  },
  {
   "cell_type": "code",
   "execution_count": 65,
   "metadata": {},
   "outputs": [
    {
     "data": {
      "text/html": [
       "<html>\\[\\newcommand{\\Bold}[1]{\\mathbf{#1}}\\left(\\begin{array}{rrrrrrrrrr|rrrr|rr|rr||rrrr|rr}\n",
       "1 & 0 & 0 & 0 & 0 & 0 & 0 & 0 & 0 & 0 & 0 & 0 & 0 & 0 & 0 & 0 & 0 & 0 & 0 & 0 & 0 & 0 & 0 & -1 \\\\\n",
       "0 & 1 & 0 & 0 & 0 & 0 & 0 & 0 & 0 & 0 & 0 & 0 & 0 & 0 & 0 & 0 & 0 & 0 & 0 & 0 & 0 & 1 & 1 & 2 \\\\\n",
       "0 & 0 & 1 & 0 & 0 & 0 & 0 & 0 & 0 & 0 & 0 & 0 & 0 & 0 & 0 & 0 & 0 & 0 & 0 & 0 & 0 & 1 & 1 & 2 \\\\\n",
       "0 & 0 & 0 & 1 & 0 & 0 & 0 & 0 & 0 & 0 & 0 & 0 & 0 & 0 & 0 & 0 & 0 & 0 & 0 & 0 & 0 & 1 & 1 & 2 \\\\\n",
       "0 & 0 & 0 & 0 & 1 & 0 & 0 & 0 & 0 & 0 & 0 & 0 & 0 & 0 & 0 & 0 & 0 & 0 & 0 & 0 & 0 & 0 & 1 & 2 \\\\\n",
       "0 & 0 & 0 & 0 & 0 & 1 & 0 & 0 & 0 & 0 & 0 & 0 & 0 & 0 & 0 & 0 & 0 & 0 & 0 & 0 & 0 & 1 & 1 & 2 \\\\\n",
       "0 & 0 & 0 & 0 & 0 & 0 & 1 & 0 & 0 & 0 & 0 & 0 & 0 & 0 & 0 & 0 & 0 & 0 & 0 & 0 & 0 & 1 & 1 & 1 \\\\\n",
       "0 & 0 & 0 & 0 & 0 & 0 & 0 & 1 & 0 & 0 & 0 & 0 & 0 & 0 & 0 & 0 & 0 & 0 & 0 & 0 & 0 & 1 & 1 & 2 \\\\\n",
       "0 & 0 & 0 & 0 & 0 & 0 & 0 & 0 & 1 & 0 & 0 & 0 & 0 & 0 & 0 & 0 & 0 & 0 & 0 & 0 & 0 & 1 & 1 & 2 \\\\\n",
       "0 & 0 & 0 & 0 & 0 & 0 & 0 & 0 & 0 & 1 & 0 & 0 & 0 & 0 & 0 & 0 & 0 & 0 & 0 & 0 & 0 & 1 & 1 & 2 \\\\\n",
       "0 & 0 & 0 & 0 & 0 & 0 & 0 & 0 & 0 & 0 & 1 & 0 & 0 & 0 & 0 & 0 & 0 & 0 & 0 & 0 & 0 & 1 & 1 & 2 \\\\\n",
       "0 & 0 & 0 & 0 & 0 & 0 & 0 & 0 & 0 & 0 & 0 & 1 & 0 & 0 & 0 & 0 & 0 & 0 & 0 & 0 & 0 & 1 & 1 & 2 \\\\\n",
       "0 & 0 & 0 & 0 & 0 & 0 & 0 & 0 & 0 & 0 & 0 & 0 & 1 & 0 & 0 & 0 & 0 & 0 & 0 & 0 & 0 & 1 & 1 & 2 \\\\\n",
       "0 & 0 & 0 & 0 & 0 & 0 & 0 & 0 & 0 & 0 & 0 & 0 & 0 & 1 & 0 & 0 & 0 & 0 & 0 & 0 & 0 & 1 & 1 & 2 \\\\\n",
       "0 & 0 & 0 & 0 & 0 & 0 & 0 & 0 & 0 & 0 & 0 & 0 & 0 & 0 & 1 & 0 & 0 & 0 & 0 & 0 & 0 & 1 & 1 & 2 \\\\\n",
       "0 & 0 & 0 & 0 & 0 & 0 & 0 & 0 & 0 & 0 & 0 & 0 & 0 & 0 & 0 & 1 & 0 & 0 & 0 & 0 & 0 & 0 & 2 & 5 \\\\\n",
       "0 & 0 & 0 & 0 & 0 & 0 & 0 & 0 & 0 & 0 & 0 & 0 & 0 & 0 & 0 & 0 & 1 & 0 & 0 & 0 & 0 & 0 & 1 & 2 \\\\\n",
       "0 & 0 & 0 & 0 & 0 & 0 & 0 & 0 & 0 & 0 & 0 & 0 & 0 & 0 & 0 & 0 & 0 & 1 & 0 & 0 & 0 & 0 & 1 & 2 \\\\\n",
       "0 & 0 & 0 & 0 & 0 & 0 & 0 & 0 & 0 & 0 & 0 & 0 & 0 & 0 & 0 & 0 & 0 & 0 & 1 & 0 & 0 & 1 & 1 & 1 \\\\\n",
       "0 & 0 & 0 & 0 & 0 & 0 & 0 & 0 & 0 & 0 & 0 & 0 & 0 & 0 & 0 & 0 & 0 & 0 & 0 & 1 & 0 & 1 & 1 & 1 \\\\\n",
       "0 & 0 & 0 & 0 & 0 & 0 & 0 & 0 & 0 & 0 & 0 & 0 & 0 & 0 & 0 & 0 & 0 & 0 & 0 & 0 & 1 & 1 & 1 & 1 \\\\\n",
       "0 & 0 & 0 & 0 & 0 & 0 & 0 & 0 & 0 & 0 & 0 & 0 & 0 & 0 & 0 & 0 & 0 & 0 & 0 & 0 & 0 & 2 & 1 & 1\n",
       "\\end{array}\\right)\\]</html>"
      ],
      "text/latex": [
       "$$\\newcommand{\\Bold}[1]{\\mathbf{#1}}\\left(\\begin{array}{rrrrrrrrrr|rrrr|rr|rr||rrrr|rr}\n",
       "1 & 0 & 0 & 0 & 0 & 0 & 0 & 0 & 0 & 0 & 0 & 0 & 0 & 0 & 0 & 0 & 0 & 0 & 0 & 0 & 0 & 0 & 0 & -1 \\\\\n",
       "0 & 1 & 0 & 0 & 0 & 0 & 0 & 0 & 0 & 0 & 0 & 0 & 0 & 0 & 0 & 0 & 0 & 0 & 0 & 0 & 0 & 1 & 1 & 2 \\\\\n",
       "0 & 0 & 1 & 0 & 0 & 0 & 0 & 0 & 0 & 0 & 0 & 0 & 0 & 0 & 0 & 0 & 0 & 0 & 0 & 0 & 0 & 1 & 1 & 2 \\\\\n",
       "0 & 0 & 0 & 1 & 0 & 0 & 0 & 0 & 0 & 0 & 0 & 0 & 0 & 0 & 0 & 0 & 0 & 0 & 0 & 0 & 0 & 1 & 1 & 2 \\\\\n",
       "0 & 0 & 0 & 0 & 1 & 0 & 0 & 0 & 0 & 0 & 0 & 0 & 0 & 0 & 0 & 0 & 0 & 0 & 0 & 0 & 0 & 0 & 1 & 2 \\\\\n",
       "0 & 0 & 0 & 0 & 0 & 1 & 0 & 0 & 0 & 0 & 0 & 0 & 0 & 0 & 0 & 0 & 0 & 0 & 0 & 0 & 0 & 1 & 1 & 2 \\\\\n",
       "0 & 0 & 0 & 0 & 0 & 0 & 1 & 0 & 0 & 0 & 0 & 0 & 0 & 0 & 0 & 0 & 0 & 0 & 0 & 0 & 0 & 1 & 1 & 1 \\\\\n",
       "0 & 0 & 0 & 0 & 0 & 0 & 0 & 1 & 0 & 0 & 0 & 0 & 0 & 0 & 0 & 0 & 0 & 0 & 0 & 0 & 0 & 1 & 1 & 2 \\\\\n",
       "0 & 0 & 0 & 0 & 0 & 0 & 0 & 0 & 1 & 0 & 0 & 0 & 0 & 0 & 0 & 0 & 0 & 0 & 0 & 0 & 0 & 1 & 1 & 2 \\\\\n",
       "0 & 0 & 0 & 0 & 0 & 0 & 0 & 0 & 0 & 1 & 0 & 0 & 0 & 0 & 0 & 0 & 0 & 0 & 0 & 0 & 0 & 1 & 1 & 2 \\\\\n",
       "0 & 0 & 0 & 0 & 0 & 0 & 0 & 0 & 0 & 0 & 1 & 0 & 0 & 0 & 0 & 0 & 0 & 0 & 0 & 0 & 0 & 1 & 1 & 2 \\\\\n",
       "0 & 0 & 0 & 0 & 0 & 0 & 0 & 0 & 0 & 0 & 0 & 1 & 0 & 0 & 0 & 0 & 0 & 0 & 0 & 0 & 0 & 1 & 1 & 2 \\\\\n",
       "0 & 0 & 0 & 0 & 0 & 0 & 0 & 0 & 0 & 0 & 0 & 0 & 1 & 0 & 0 & 0 & 0 & 0 & 0 & 0 & 0 & 1 & 1 & 2 \\\\\n",
       "0 & 0 & 0 & 0 & 0 & 0 & 0 & 0 & 0 & 0 & 0 & 0 & 0 & 1 & 0 & 0 & 0 & 0 & 0 & 0 & 0 & 1 & 1 & 2 \\\\\n",
       "0 & 0 & 0 & 0 & 0 & 0 & 0 & 0 & 0 & 0 & 0 & 0 & 0 & 0 & 1 & 0 & 0 & 0 & 0 & 0 & 0 & 1 & 1 & 2 \\\\\n",
       "0 & 0 & 0 & 0 & 0 & 0 & 0 & 0 & 0 & 0 & 0 & 0 & 0 & 0 & 0 & 1 & 0 & 0 & 0 & 0 & 0 & 0 & 2 & 5 \\\\\n",
       "0 & 0 & 0 & 0 & 0 & 0 & 0 & 0 & 0 & 0 & 0 & 0 & 0 & 0 & 0 & 0 & 1 & 0 & 0 & 0 & 0 & 0 & 1 & 2 \\\\\n",
       "0 & 0 & 0 & 0 & 0 & 0 & 0 & 0 & 0 & 0 & 0 & 0 & 0 & 0 & 0 & 0 & 0 & 1 & 0 & 0 & 0 & 0 & 1 & 2 \\\\\n",
       "0 & 0 & 0 & 0 & 0 & 0 & 0 & 0 & 0 & 0 & 0 & 0 & 0 & 0 & 0 & 0 & 0 & 0 & 1 & 0 & 0 & 1 & 1 & 1 \\\\\n",
       "0 & 0 & 0 & 0 & 0 & 0 & 0 & 0 & 0 & 0 & 0 & 0 & 0 & 0 & 0 & 0 & 0 & 0 & 0 & 1 & 0 & 1 & 1 & 1 \\\\\n",
       "0 & 0 & 0 & 0 & 0 & 0 & 0 & 0 & 0 & 0 & 0 & 0 & 0 & 0 & 0 & 0 & 0 & 0 & 0 & 0 & 1 & 1 & 1 & 1 \\\\\n",
       "0 & 0 & 0 & 0 & 0 & 0 & 0 & 0 & 0 & 0 & 0 & 0 & 0 & 0 & 0 & 0 & 0 & 0 & 0 & 0 & 0 & 2 & 1 & 1\n",
       "\\end{array}\\right)$$"
      ],
      "text/plain": [
       "22 x 24 dense matrix over Integer Ring (use the '.str()' method to see the entries)"
      ]
     },
     "execution_count": 65,
     "metadata": {},
     "output_type": "execute_result"
    },
    {
     "data": {
      "text/plain": [
       "(22, 24)"
      ]
     },
     "execution_count": 65,
     "metadata": {},
     "output_type": "execute_result"
    }
   ],
   "source": [
    "decomp_mat = subdivide_matrix(cycles_smoothed, diffs)\n",
    "show(decomp_mat)\n",
    "decomp_mat.dimensions()"
   ]
  },
  {
   "cell_type": "markdown",
   "metadata": {},
   "source": [
    "We now decompose the cycles we get in the singular version in this basis. This way we will see which cycles we miss."
   ]
  },
  {
   "cell_type": "code",
   "execution_count": 66,
   "metadata": {},
   "outputs": [],
   "source": [
    "# this matrix converts thimbles of singular into thimbles of smoothed\n",
    "convert=zero_matrix(24,17)\n",
    "i=0\n",
    "for k,m in zip(range(len(multiplicities)),multiplicities):\n",
    "    for j in range(m):\n",
    "        convert[i,k]=1\n",
    "        i+=1"
   ]
  },
  {
   "cell_type": "code",
   "execution_count": 67,
   "metadata": {},
   "outputs": [],
   "source": [
    "cycles_dec=[]\n",
    "for r in cycles.transpose().rows():\n",
    "    cycles_dec+=[convert*r]\n",
    "for interval in groups[1:-1]:\n",
    "    for j in range(interval[0], interval[-1]-1):\n",
    "        cycles_dec+=[vector([-1 if i==j+1 else 1 if i==j else 0 for i in range(24)])]\n",
    "cycles_dec = matrix(cycles_dec)"
   ]
  },
  {
   "cell_type": "code",
   "execution_count": 68,
   "metadata": {},
   "outputs": [
    {
     "data": {
      "text/plain": [
       "(22, 24)"
      ]
     },
     "execution_count": 68,
     "metadata": {},
     "output_type": "execute_result"
    }
   ],
   "source": [
    "cycles_dec.dimensions()"
   ]
  },
  {
   "cell_type": "code",
   "execution_count": 69,
   "metadata": {},
   "outputs": [
    {
     "data": {
      "text/plain": [
       "(32, (22, 22))"
      ]
     },
     "execution_count": 69,
     "metadata": {},
     "output_type": "execute_result"
    }
   ],
   "source": [
    "sl = cycles_smoothed.solve_left(matrix(cycles_dec))\n",
    "sl.determinant(), sl.dimensions()"
   ]
  },
  {
   "cell_type": "markdown",
   "metadata": {},
   "source": [
    "### Computing periods of the smoothed basis"
   ]
  },
  {
   "cell_type": "code",
   "execution_count": 70,
   "metadata": {},
   "outputs": [],
   "source": [
    "periods_smoothed = sl.inverse()*vector(list(periods) + [0]*7)"
   ]
  },
  {
   "cell_type": "code",
   "execution_count": 71,
   "metadata": {},
   "outputs": [],
   "source": [
    "IRsmoothed = numperiods.IntegerRelations(matrix(periods_smoothed).transpose())"
   ]
  },
  {
   "cell_type": "code",
   "execution_count": 72,
   "metadata": {},
   "outputs": [
    {
     "data": {
      "text/plain": [
       "(11, 22)"
      ]
     },
     "execution_count": 72,
     "metadata": {},
     "output_type": "execute_result"
    }
   ],
   "source": [
    "IRsmoothed.basis.dimensions()"
   ]
  },
  {
   "cell_type": "markdown",
   "metadata": {},
   "source": [
    "We find the same Picard rank, which is expected as these periods are just rational linear combinations of the pervious ones"
   ]
  },
  {
   "cell_type": "code",
   "execution_count": 73,
   "metadata": {},
   "outputs": [
    {
     "data": {
      "text/plain": [
       "11"
      ]
     },
     "execution_count": 73,
     "metadata": {},
     "output_type": "execute_result"
    }
   ],
   "source": [
    "22-(IRsmoothed.basis.dimensions()[1]-IRsmoothed.basis.dimensions()[0])"
   ]
  },
  {
   "cell_type": "code",
   "execution_count": 74,
   "metadata": {},
   "outputs": [],
   "source": [
    "alg_cycles = IRsmoothed.basis*boundaries_smoothed.kernel().basis_matrix()"
   ]
  },
  {
   "cell_type": "markdown",
   "metadata": {},
   "source": [
    "### Identifying components"
   ]
  },
  {
   "cell_type": "code",
   "execution_count": 75,
   "metadata": {},
   "outputs": [],
   "source": [
    "def get_complement(Mat, sigma=None):\n",
    "    totdim = Mat.ncols()\n",
    "    if sigma==None:\n",
    "        sigma = [i for i in range(totdim)]\n",
    "        shuffle(sigma)\n",
    "        print(sigma)\n",
    "    \n",
    "    rank = Mat.rank()\n",
    "    assert rank == Mat.nrows(), \"matrix did not represent an independant family\"\n",
    "    compl = [[0 for i in range(totdim)]]\n",
    "    N=0\n",
    "    for i in range(totdim):\n",
    "        v=[1 if j==sigma[i] else 0 for j in range(totdim)]\n",
    "        M=block_matrix([[Mat],[matrix(compl)],[matrix([v])]],subdivide=False)\n",
    "        if rank+N+1==M.rank():\n",
    "            compl += [v]\n",
    "            N+=1\n",
    "        if rank+N == totdim:\n",
    "            break\n",
    "    res = matrix(compl[1:])\n",
    "    print(block_matrix([[res],[Mat]]).determinant())\n",
    "    return res"
   ]
  },
  {
   "cell_type": "markdown",
   "metadata": {},
   "source": [
    "The following gives a complement of the picard Lattice"
   ]
  },
  {
   "cell_type": "code",
   "execution_count": 76,
   "metadata": {},
   "outputs": [
    {
     "name": "stdout",
     "output_type": "stream",
     "text": [
      "-1\n"
     ]
    }
   ],
   "source": [
    "sigma = [11, 0, 19, 2, 15, 5, 10, 7, 9, 6, 18, 1, 17, 20, 13, 8, 3, 14, 21, 16, 12, 4]\n",
    "compl_tot =get_complement(IRsmoothed.basis, sigma=sigma)*boundaries_smoothed.kernel().basis_matrix()"
   ]
  },
  {
   "cell_type": "code",
   "execution_count": 77,
   "metadata": {},
   "outputs": [
    {
     "data": {
      "text/plain": [
       "(11, 24)"
      ]
     },
     "execution_count": 77,
     "metadata": {},
     "output_type": "execute_result"
    }
   ],
   "source": [
    "compl_tot.dimensions()"
   ]
  },
  {
   "cell_type": "markdown",
   "metadata": {},
   "source": [
    "### Removing two loops at infinity"
   ]
  },
  {
   "cell_type": "code",
   "execution_count": 78,
   "metadata": {},
   "outputs": [],
   "source": [
    "def concatenate(v1,v2):\n",
    "    res = []\n",
    "    for i in v1:\n",
    "        res+=[i]\n",
    "    for i in v2:\n",
    "        res+=[i]\n",
    "    return vector(res)"
   ]
  },
  {
   "cell_type": "code",
   "execution_count": 79,
   "metadata": {},
   "outputs": [],
   "source": [
    "infinity_loops=[]\n",
    "for j in range(2):\n",
    "    v = vector([1 if i==j else 0 for i in range(2)])\n",
    "    coefs=vector([])\n",
    "    bounds = []\n",
    "    for M in monodromy_matrices_smoothed:\n",
    "        D, U, V = (M-1).smith_form()\n",
    "        b = (M-1)*v\n",
    "        bounds+=[b]\n",
    "        coefs = concatenate(coefs, D.submatrix(0,0,D.rank(),D.rank())**-1*(U*b)[:(M-1).rank()])\n",
    "        v = M*v\n",
    "    infinity_loops += [coefs]\n",
    "infinity_loops=matrix(infinity_loops)"
   ]
  },
  {
   "cell_type": "code",
   "execution_count": 80,
   "metadata": {},
   "outputs": [
    {
     "name": "stdout",
     "output_type": "stream",
     "text": [
      "-1\n"
     ]
    }
   ],
   "source": [
    "sigma=[6, 1, 0, 10, 3, 9, 8, 5, 4, 2, 7]\n",
    "compl_alg = get_complement(alg_cycles.solve_left(block_matrix([[infinity_loops],[cycles_dec[15:]]])), sigma=sigma)*alg_cycles"
   ]
  },
  {
   "cell_type": "code",
   "execution_count": 81,
   "metadata": {},
   "outputs": [
    {
     "data": {
      "text/plain": [
       "(2, 24)"
      ]
     },
     "execution_count": 81,
     "metadata": {},
     "output_type": "execute_result"
    }
   ],
   "source": [
    "compl_alg.dimensions()"
   ]
  },
  {
   "cell_type": "code",
   "execution_count": 82,
   "metadata": {},
   "outputs": [
    {
     "data": {
      "text/plain": [
       "[ 0  0 -1  0  1  0 -1  0 -1  0  0  0  0  0  1  0  0  0  1  0  0 -1  0  0]\n",
       "[ 1  0  1  1  0  1 -1 -1  0  0 -1  0 -1  0 -1  1  0  0  0  0  0 -2  0  1]\n",
       "[-----------------------------------------------------------------------]\n",
       "[ 0  0  0  0  0  0  0  0  0  0  1 -1  0  0  0  0  0  0  0  0  0  0  0  0]\n",
       "[ 0  0  0  0  0  0  0  0  0  0  0  1 -1  0  0  0  0  0  0  0  0  0  0  0]\n",
       "[ 0  0  0  0  0  0  0  0  0  0  0  0  1 -1  0  0  0  0  0  0  0  0  0  0]\n",
       "[ 0  0  0  0  0  0  0  0  0  0  0  0  0  0  0  0  1 -1  0  0  0  0  0  0]\n",
       "[ 0  0  0  0  0  0  0  0  0  0  0  0  0  0  0  0  0  0  1 -1  0  0  0  0]\n",
       "[ 0  0  0  0  0  0  0  0  0  0  0  0  0  0  0  0  0  0  0  1 -1  0  0  0]\n",
       "[ 0  0  0  0  0  0  0  0  0  0  0  0  0  0  0  0  0  0  0  0  1 -1  0  0]"
      ]
     },
     "execution_count": 82,
     "metadata": {},
     "output_type": "execute_result"
    }
   ],
   "source": [
    "block_matrix([[compl_alg], [cycles_dec[15:]]])"
   ]
  },
  {
   "cell_type": "code",
   "execution_count": 83,
   "metadata": {},
   "outputs": [],
   "source": [
    "picard_lattice = block_matrix([[compl_alg], [cycles_dec[15:]]])"
   ]
  },
  {
   "cell_type": "code",
   "execution_count": 84,
   "metadata": {},
   "outputs": [],
   "source": [
    "full_lattice = block_matrix([[compl_tot],[picard_lattice]])"
   ]
  },
  {
   "cell_type": "code",
   "execution_count": 85,
   "metadata": {},
   "outputs": [
    {
     "data": {
      "text/plain": [
       "(20, 24)"
      ]
     },
     "execution_count": 85,
     "metadata": {},
     "output_type": "execute_result"
    }
   ],
   "source": [
    "full_lattice.dimensions()"
   ]
  },
  {
   "cell_type": "markdown",
   "metadata": {},
   "source": [
    "### Computing intersection products"
   ]
  },
  {
   "cell_type": "code",
   "execution_count": 86,
   "metadata": {},
   "outputs": [],
   "source": [
    "K3.fiber.fiber._intersection_product = identity_matrix(2)"
   ]
  },
  {
   "cell_type": "code",
   "execution_count": 87,
   "metadata": {},
   "outputs": [],
   "source": [
    "intersection_product_thimbles = matrix([[variety._compute_intersection_product_thimbles(i,j) for j in range(len(variety.monodromy_matrices))] for i in range(len(variety.monodromy_matrices))])"
   ]
  },
  {
   "cell_type": "code",
   "execution_count": 88,
   "metadata": {},
   "outputs": [],
   "source": [
    "K3.fiber._intersection_product = matrix(variety.homology)*intersection_product_thimbles*matrix(variety.homology).transpose()"
   ]
  },
  {
   "cell_type": "code",
   "execution_count": 90,
   "metadata": {},
   "outputs": [],
   "source": [
    "def compute_intersection_product_thimbles(i,j):\n",
    "    vi = permuting_cycles_smoothed[i]\n",
    "    Mi = monodromy_matrices_smoothed[i]\n",
    "    vj = permuting_cycles_smoothed[j]\n",
    "    Mj = monodromy_matrices_smoothed[j]\n",
    "\n",
    "    di, dj = (Mi-1)*vi, (Mj-1)*vj\n",
    "\n",
    "\n",
    "    res = -di*K3.fiber.intersection_product*dj\n",
    "    resid = vi*K3.fiber.intersection_product*di\n",
    "\n",
    "    if i==j:\n",
    "        return resid\n",
    "    if i<j:\n",
    "        return res\n",
    "    else:\n",
    "        return 0"
   ]
  },
  {
   "cell_type": "code",
   "execution_count": 91,
   "metadata": {
    "scrolled": true
   },
   "outputs": [],
   "source": [
    "intersection_product_thimbles = matrix([[compute_intersection_product_thimbles(i,j) for j in range(len(monodromy_matrices_smoothed))] for i in range(len(monodromy_matrices_smoothed))])"
   ]
  },
  {
   "cell_type": "code",
   "execution_count": 92,
   "metadata": {},
   "outputs": [],
   "source": [
    "inter_product_extensions = full_lattice*intersection_product_thimbles*full_lattice.transpose()"
   ]
  },
  {
   "cell_type": "code",
   "execution_count": 93,
   "metadata": {},
   "outputs": [
    {
     "data": {
      "text/html": [
       "<html>\\[\\newcommand{\\Bold}[1]{\\mathbf{#1}}\\left(\\begin{array}{rrrrrrrrrrr|rrrrrrrrr}\n",
       "-4 & 2 & -2 & -3 & -5 & -3 & -3 & -3 & -1 & -3 & -2 & 1 & 1 & 1 & -1 & 0 & 0 & 0 & 0 & 1 \\\\\n",
       "2 & -2 & 1 & 2 & 5 & 2 & 2 & 2 & 1 & 2 & 2 & 0 & 0 & 0 & 0 & 0 & 0 & 0 & 0 & 0 \\\\\n",
       "-2 & 1 & -2 & -2 & -3 & -2 & -2 & -2 & -1 & -2 & -1 & 1 & 1 & 0 & 0 & 0 & 0 & 1 & -1 & 1 \\\\\n",
       "-3 & 2 & -2 & -4 & -5 & -3 & -3 & -3 & -2 & -3 & -2 & 2 & 1 & 0 & 0 & 0 & 0 & 0 & 0 & 1 \\\\\n",
       "-5 & 5 & -3 & -5 & -10 & -5 & -5 & -5 & 0 & -5 & -4 & 0 & 0 & 0 & 0 & 0 & 0 & 0 & 0 & 0 \\\\\n",
       "-3 & 2 & -2 & -3 & -5 & -4 & -3 & -3 & -2 & -3 & -2 & 2 & 1 & 0 & 0 & 0 & 0 & 0 & 0 & 1 \\\\\n",
       "-3 & 2 & -2 & -3 & -5 & -3 & -4 & -3 & -1 & -3 & -2 & 1 & 2 & 0 & 0 & 0 & 0 & 0 & 0 & 1 \\\\\n",
       "-3 & 2 & -2 & -3 & -5 & -3 & -3 & -4 & -1 & -3 & -2 & 1 & 1 & 0 & 0 & 0 & 0 & 0 & 0 & 1 \\\\\n",
       "-1 & 1 & -1 & -2 & 0 & -2 & -1 & -1 & -2 & -2 & 0 & 2 & 1 & 0 & 0 & 0 & 0 & 0 & 0 & 1 \\\\\n",
       "-3 & 2 & -2 & -3 & -5 & -3 & -3 & -3 & -2 & -4 & -2 & 1 & 2 & 0 & 0 & 0 & 0 & 0 & 0 & 1 \\\\\n",
       "-2 & 2 & -1 & -2 & -4 & -2 & -2 & -2 & 0 & -2 & -2 & 0 & 0 & 0 & 0 & 0 & 1 & 0 & 0 & 0 \\\\\n",
       "\\hline\n",
       " 1 & 0 & 1 & 2 & 0 & 2 & 1 & 1 & 2 & 1 & 0 & -6 & 0 & 0 & 0 & 0 & 0 & -1 & 0 & -1 \\\\\n",
       "1 & 0 & 1 & 1 & 0 & 1 & 2 & 1 & 1 & 2 & 0 & 0 & -6 & 1 & -1 & 1 & 0 & 0 & 0 & -2 \\\\\n",
       "1 & 0 & 0 & 0 & 0 & 0 & 0 & 0 & 0 & 0 & 0 & 0 & 1 & -2 & 1 & 0 & 0 & 0 & 0 & 0 \\\\\n",
       "-1 & 0 & 0 & 0 & 0 & 0 & 0 & 0 & 0 & 0 & 0 & 0 & -1 & 1 & -2 & 1 & 0 & 0 & 0 & 0 \\\\\n",
       "0 & 0 & 0 & 0 & 0 & 0 & 0 & 0 & 0 & 0 & 0 & 0 & 1 & 0 & 1 & -2 & 0 & 0 & 0 & 0 \\\\\n",
       "0 & 0 & 0 & 0 & 0 & 0 & 0 & 0 & 0 & 0 & 1 & 0 & 0 & 0 & 0 & 0 & -2 & 0 & 0 & 0 \\\\\n",
       "0 & 0 & 1 & 0 & 0 & 0 & 0 & 0 & 0 & 0 & 0 & -1 & 0 & 0 & 0 & 0 & 0 & -2 & 1 & 0 \\\\\n",
       "0 & 0 & -1 & 0 & 0 & 0 & 0 & 0 & 0 & 0 & 0 & 0 & 0 & 0 & 0 & 0 & 0 & 1 & -2 & 1 \\\\\n",
       "1 & 0 & 1 & 1 & 0 & 1 & 1 & 1 & 1 & 1 & 0 & -1 & -2 & 0 & 0 & 0 & 0 & 0 & 1 & -2\n",
       "\\end{array}\\right)\\]</html>"
      ],
      "text/latex": [
       "$$\\newcommand{\\Bold}[1]{\\mathbf{#1}}\\left(\\begin{array}{rrrrrrrrrrr|rrrrrrrrr}\n",
       "-4 & 2 & -2 & -3 & -5 & -3 & -3 & -3 & -1 & -3 & -2 & 1 & 1 & 1 & -1 & 0 & 0 & 0 & 0 & 1 \\\\\n",
       "2 & -2 & 1 & 2 & 5 & 2 & 2 & 2 & 1 & 2 & 2 & 0 & 0 & 0 & 0 & 0 & 0 & 0 & 0 & 0 \\\\\n",
       "-2 & 1 & -2 & -2 & -3 & -2 & -2 & -2 & -1 & -2 & -1 & 1 & 1 & 0 & 0 & 0 & 0 & 1 & -1 & 1 \\\\\n",
       "-3 & 2 & -2 & -4 & -5 & -3 & -3 & -3 & -2 & -3 & -2 & 2 & 1 & 0 & 0 & 0 & 0 & 0 & 0 & 1 \\\\\n",
       "-5 & 5 & -3 & -5 & -10 & -5 & -5 & -5 & 0 & -5 & -4 & 0 & 0 & 0 & 0 & 0 & 0 & 0 & 0 & 0 \\\\\n",
       "-3 & 2 & -2 & -3 & -5 & -4 & -3 & -3 & -2 & -3 & -2 & 2 & 1 & 0 & 0 & 0 & 0 & 0 & 0 & 1 \\\\\n",
       "-3 & 2 & -2 & -3 & -5 & -3 & -4 & -3 & -1 & -3 & -2 & 1 & 2 & 0 & 0 & 0 & 0 & 0 & 0 & 1 \\\\\n",
       "-3 & 2 & -2 & -3 & -5 & -3 & -3 & -4 & -1 & -3 & -2 & 1 & 1 & 0 & 0 & 0 & 0 & 0 & 0 & 1 \\\\\n",
       "-1 & 1 & -1 & -2 & 0 & -2 & -1 & -1 & -2 & -2 & 0 & 2 & 1 & 0 & 0 & 0 & 0 & 0 & 0 & 1 \\\\\n",
       "-3 & 2 & -2 & -3 & -5 & -3 & -3 & -3 & -2 & -4 & -2 & 1 & 2 & 0 & 0 & 0 & 0 & 0 & 0 & 1 \\\\\n",
       "-2 & 2 & -1 & -2 & -4 & -2 & -2 & -2 & 0 & -2 & -2 & 0 & 0 & 0 & 0 & 0 & 1 & 0 & 0 & 0 \\\\\n",
       "\\hline\n",
       " 1 & 0 & 1 & 2 & 0 & 2 & 1 & 1 & 2 & 1 & 0 & -6 & 0 & 0 & 0 & 0 & 0 & -1 & 0 & -1 \\\\\n",
       "1 & 0 & 1 & 1 & 0 & 1 & 2 & 1 & 1 & 2 & 0 & 0 & -6 & 1 & -1 & 1 & 0 & 0 & 0 & -2 \\\\\n",
       "1 & 0 & 0 & 0 & 0 & 0 & 0 & 0 & 0 & 0 & 0 & 0 & 1 & -2 & 1 & 0 & 0 & 0 & 0 & 0 \\\\\n",
       "-1 & 0 & 0 & 0 & 0 & 0 & 0 & 0 & 0 & 0 & 0 & 0 & -1 & 1 & -2 & 1 & 0 & 0 & 0 & 0 \\\\\n",
       "0 & 0 & 0 & 0 & 0 & 0 & 0 & 0 & 0 & 0 & 0 & 0 & 1 & 0 & 1 & -2 & 0 & 0 & 0 & 0 \\\\\n",
       "0 & 0 & 0 & 0 & 0 & 0 & 0 & 0 & 0 & 0 & 1 & 0 & 0 & 0 & 0 & 0 & -2 & 0 & 0 & 0 \\\\\n",
       "0 & 0 & 1 & 0 & 0 & 0 & 0 & 0 & 0 & 0 & 0 & -1 & 0 & 0 & 0 & 0 & 0 & -2 & 1 & 0 \\\\\n",
       "0 & 0 & -1 & 0 & 0 & 0 & 0 & 0 & 0 & 0 & 0 & 0 & 0 & 0 & 0 & 0 & 0 & 1 & -2 & 1 \\\\\n",
       "1 & 0 & 1 & 1 & 0 & 1 & 1 & 1 & 1 & 1 & 0 & -1 & -2 & 0 & 0 & 0 & 0 & 0 & 1 & -2\n",
       "\\end{array}\\right)$$"
      ],
      "text/plain": [
       "20 x 20 dense matrix over Integer Ring (use the '.str()' method to see the entries)"
      ]
     },
     "execution_count": 93,
     "metadata": {},
     "output_type": "execute_result"
    },
    {
     "data": {
      "text/plain": [
       "1"
      ]
     },
     "execution_count": 93,
     "metadata": {},
     "output_type": "execute_result"
    }
   ],
   "source": [
    "show(inter_product_extensions)\n",
    "assert inter_product_extensions.is_symmetric()\n",
    "inter_product_extensions.determinant()"
   ]
  },
  {
   "cell_type": "code",
   "execution_count": 94,
   "metadata": {},
   "outputs": [],
   "source": [
    "ip_sf = matrix([[0,1],[1,-2]])"
   ]
  },
  {
   "cell_type": "code",
   "execution_count": 95,
   "metadata": {},
   "outputs": [
    {
     "data": {
      "text/html": [
       "<html>\\[\\newcommand{\\Bold}[1]{\\mathbf{#1}}\\left(\\begin{array}{rrrrrrrrrrrrrrrrrrrrrr}\n",
       "-4 & 2 & -2 & -3 & -5 & -3 & -3 & -3 & -1 & -3 & -2 & 1 & 1 & 1 & -1 & 0 & 0 & 0 & 0 & 1 & 0 & 0 \\\\\n",
       "2 & -2 & 1 & 2 & 5 & 2 & 2 & 2 & 1 & 2 & 2 & 0 & 0 & 0 & 0 & 0 & 0 & 0 & 0 & 0 & 0 & 0 \\\\\n",
       "-2 & 1 & -2 & -2 & -3 & -2 & -2 & -2 & -1 & -2 & -1 & 1 & 1 & 0 & 0 & 0 & 0 & 1 & -1 & 1 & 0 & 0 \\\\\n",
       "-3 & 2 & -2 & -4 & -5 & -3 & -3 & -3 & -2 & -3 & -2 & 2 & 1 & 0 & 0 & 0 & 0 & 0 & 0 & 1 & 0 & 0 \\\\\n",
       "-5 & 5 & -3 & -5 & -10 & -5 & -5 & -5 & 0 & -5 & -4 & 0 & 0 & 0 & 0 & 0 & 0 & 0 & 0 & 0 & 0 & 0 \\\\\n",
       "-3 & 2 & -2 & -3 & -5 & -4 & -3 & -3 & -2 & -3 & -2 & 2 & 1 & 0 & 0 & 0 & 0 & 0 & 0 & 1 & 0 & 0 \\\\\n",
       "-3 & 2 & -2 & -3 & -5 & -3 & -4 & -3 & -1 & -3 & -2 & 1 & 2 & 0 & 0 & 0 & 0 & 0 & 0 & 1 & 0 & 0 \\\\\n",
       "-3 & 2 & -2 & -3 & -5 & -3 & -3 & -4 & -1 & -3 & -2 & 1 & 1 & 0 & 0 & 0 & 0 & 0 & 0 & 1 & 0 & 0 \\\\\n",
       "-1 & 1 & -1 & -2 & 0 & -2 & -1 & -1 & -2 & -2 & 0 & 2 & 1 & 0 & 0 & 0 & 0 & 0 & 0 & 1 & 0 & 0 \\\\\n",
       "-3 & 2 & -2 & -3 & -5 & -3 & -3 & -3 & -2 & -4 & -2 & 1 & 2 & 0 & 0 & 0 & 0 & 0 & 0 & 1 & 0 & 0 \\\\\n",
       "-2 & 2 & -1 & -2 & -4 & -2 & -2 & -2 & 0 & -2 & -2 & 0 & 0 & 0 & 0 & 0 & 1 & 0 & 0 & 0 & 0 & 0 \\\\\n",
       "1 & 0 & 1 & 2 & 0 & 2 & 1 & 1 & 2 & 1 & 0 & -6 & 0 & 0 & 0 & 0 & 0 & -1 & 0 & -1 & 0 & 0 \\\\\n",
       "1 & 0 & 1 & 1 & 0 & 1 & 2 & 1 & 1 & 2 & 0 & 0 & -6 & 1 & -1 & 1 & 0 & 0 & 0 & -2 & 0 & 0 \\\\\n",
       "1 & 0 & 0 & 0 & 0 & 0 & 0 & 0 & 0 & 0 & 0 & 0 & 1 & -2 & 1 & 0 & 0 & 0 & 0 & 0 & 0 & 0 \\\\\n",
       "-1 & 0 & 0 & 0 & 0 & 0 & 0 & 0 & 0 & 0 & 0 & 0 & -1 & 1 & -2 & 1 & 0 & 0 & 0 & 0 & 0 & 0 \\\\\n",
       "0 & 0 & 0 & 0 & 0 & 0 & 0 & 0 & 0 & 0 & 0 & 0 & 1 & 0 & 1 & -2 & 0 & 0 & 0 & 0 & 0 & 0 \\\\\n",
       "0 & 0 & 0 & 0 & 0 & 0 & 0 & 0 & 0 & 0 & 1 & 0 & 0 & 0 & 0 & 0 & -2 & 0 & 0 & 0 & 0 & 0 \\\\\n",
       "0 & 0 & 1 & 0 & 0 & 0 & 0 & 0 & 0 & 0 & 0 & -1 & 0 & 0 & 0 & 0 & 0 & -2 & 1 & 0 & 0 & 0 \\\\\n",
       "0 & 0 & -1 & 0 & 0 & 0 & 0 & 0 & 0 & 0 & 0 & 0 & 0 & 0 & 0 & 0 & 0 & 1 & -2 & 1 & 0 & 0 \\\\\n",
       "1 & 0 & 1 & 1 & 0 & 1 & 1 & 1 & 1 & 1 & 0 & -1 & -2 & 0 & 0 & 0 & 0 & 0 & 1 & -2 & 0 & 0 \\\\\n",
       "0 & 0 & 0 & 0 & 0 & 0 & 0 & 0 & 0 & 0 & 0 & 0 & 0 & 0 & 0 & 0 & 0 & 0 & 0 & 0 & 0 & 1 \\\\\n",
       "0 & 0 & 0 & 0 & 0 & 0 & 0 & 0 & 0 & 0 & 0 & 0 & 0 & 0 & 0 & 0 & 0 & 0 & 0 & 0 & 1 & -2\n",
       "\\end{array}\\right)\\]</html>"
      ],
      "text/latex": [
       "$$\\newcommand{\\Bold}[1]{\\mathbf{#1}}\\left(\\begin{array}{rrrrrrrrrrrrrrrrrrrrrr}\n",
       "-4 & 2 & -2 & -3 & -5 & -3 & -3 & -3 & -1 & -3 & -2 & 1 & 1 & 1 & -1 & 0 & 0 & 0 & 0 & 1 & 0 & 0 \\\\\n",
       "2 & -2 & 1 & 2 & 5 & 2 & 2 & 2 & 1 & 2 & 2 & 0 & 0 & 0 & 0 & 0 & 0 & 0 & 0 & 0 & 0 & 0 \\\\\n",
       "-2 & 1 & -2 & -2 & -3 & -2 & -2 & -2 & -1 & -2 & -1 & 1 & 1 & 0 & 0 & 0 & 0 & 1 & -1 & 1 & 0 & 0 \\\\\n",
       "-3 & 2 & -2 & -4 & -5 & -3 & -3 & -3 & -2 & -3 & -2 & 2 & 1 & 0 & 0 & 0 & 0 & 0 & 0 & 1 & 0 & 0 \\\\\n",
       "-5 & 5 & -3 & -5 & -10 & -5 & -5 & -5 & 0 & -5 & -4 & 0 & 0 & 0 & 0 & 0 & 0 & 0 & 0 & 0 & 0 & 0 \\\\\n",
       "-3 & 2 & -2 & -3 & -5 & -4 & -3 & -3 & -2 & -3 & -2 & 2 & 1 & 0 & 0 & 0 & 0 & 0 & 0 & 1 & 0 & 0 \\\\\n",
       "-3 & 2 & -2 & -3 & -5 & -3 & -4 & -3 & -1 & -3 & -2 & 1 & 2 & 0 & 0 & 0 & 0 & 0 & 0 & 1 & 0 & 0 \\\\\n",
       "-3 & 2 & -2 & -3 & -5 & -3 & -3 & -4 & -1 & -3 & -2 & 1 & 1 & 0 & 0 & 0 & 0 & 0 & 0 & 1 & 0 & 0 \\\\\n",
       "-1 & 1 & -1 & -2 & 0 & -2 & -1 & -1 & -2 & -2 & 0 & 2 & 1 & 0 & 0 & 0 & 0 & 0 & 0 & 1 & 0 & 0 \\\\\n",
       "-3 & 2 & -2 & -3 & -5 & -3 & -3 & -3 & -2 & -4 & -2 & 1 & 2 & 0 & 0 & 0 & 0 & 0 & 0 & 1 & 0 & 0 \\\\\n",
       "-2 & 2 & -1 & -2 & -4 & -2 & -2 & -2 & 0 & -2 & -2 & 0 & 0 & 0 & 0 & 0 & 1 & 0 & 0 & 0 & 0 & 0 \\\\\n",
       "1 & 0 & 1 & 2 & 0 & 2 & 1 & 1 & 2 & 1 & 0 & -6 & 0 & 0 & 0 & 0 & 0 & -1 & 0 & -1 & 0 & 0 \\\\\n",
       "1 & 0 & 1 & 1 & 0 & 1 & 2 & 1 & 1 & 2 & 0 & 0 & -6 & 1 & -1 & 1 & 0 & 0 & 0 & -2 & 0 & 0 \\\\\n",
       "1 & 0 & 0 & 0 & 0 & 0 & 0 & 0 & 0 & 0 & 0 & 0 & 1 & -2 & 1 & 0 & 0 & 0 & 0 & 0 & 0 & 0 \\\\\n",
       "-1 & 0 & 0 & 0 & 0 & 0 & 0 & 0 & 0 & 0 & 0 & 0 & -1 & 1 & -2 & 1 & 0 & 0 & 0 & 0 & 0 & 0 \\\\\n",
       "0 & 0 & 0 & 0 & 0 & 0 & 0 & 0 & 0 & 0 & 0 & 0 & 1 & 0 & 1 & -2 & 0 & 0 & 0 & 0 & 0 & 0 \\\\\n",
       "0 & 0 & 0 & 0 & 0 & 0 & 0 & 0 & 0 & 0 & 1 & 0 & 0 & 0 & 0 & 0 & -2 & 0 & 0 & 0 & 0 & 0 \\\\\n",
       "0 & 0 & 1 & 0 & 0 & 0 & 0 & 0 & 0 & 0 & 0 & -1 & 0 & 0 & 0 & 0 & 0 & -2 & 1 & 0 & 0 & 0 \\\\\n",
       "0 & 0 & -1 & 0 & 0 & 0 & 0 & 0 & 0 & 0 & 0 & 0 & 0 & 0 & 0 & 0 & 0 & 1 & -2 & 1 & 0 & 0 \\\\\n",
       "1 & 0 & 1 & 1 & 0 & 1 & 1 & 1 & 1 & 1 & 0 & -1 & -2 & 0 & 0 & 0 & 0 & 0 & 1 & -2 & 0 & 0 \\\\\n",
       "0 & 0 & 0 & 0 & 0 & 0 & 0 & 0 & 0 & 0 & 0 & 0 & 0 & 0 & 0 & 0 & 0 & 0 & 0 & 0 & 0 & 1 \\\\\n",
       "0 & 0 & 0 & 0 & 0 & 0 & 0 & 0 & 0 & 0 & 0 & 0 & 0 & 0 & 0 & 0 & 0 & 0 & 0 & 0 & 1 & -2\n",
       "\\end{array}\\right)$$"
      ],
      "text/plain": [
       "22 x 22 dense matrix over Integer Ring (use the '.str()' method to see the entries)"
      ]
     },
     "execution_count": 95,
     "metadata": {},
     "output_type": "execute_result"
    },
    {
     "data": {
      "text/plain": [
       "-1"
      ]
     },
     "execution_count": 95,
     "metadata": {},
     "output_type": "execute_result"
    }
   ],
   "source": [
    "ip_tot = block_matrix([[inter_product_extensions, zero_matrix(20,2)],[zero_matrix(2,20), ip_sf]], subdivide=False)\n",
    "show(ip_tot)\n",
    "ip_tot.determinant()"
   ]
  },
  {
   "cell_type": "markdown",
   "metadata": {},
   "source": [
    "### Trying to find a change of basis to make this matrix pretty"
   ]
  },
  {
   "cell_type": "code",
   "execution_count": 96,
   "metadata": {},
   "outputs": [],
   "source": [
    "CB = Permutation([1,2,3,4,5,6,7,8,9,10,11,12,13,22,17,14,15,16,18,19,20,21]).to_matrix()"
   ]
  },
  {
   "cell_type": "code",
   "execution_count": 97,
   "metadata": {},
   "outputs": [],
   "source": [
    "CB2 = identity_matrix(22)\n",
    "\n",
    "CB2[21,11] = 2\n",
    "CB2[13,11] = 1\n",
    "\n",
    "CB2[21,12] = 2\n",
    "CB2[13,12] = 1"
   ]
  },
  {
   "cell_type": "code",
   "execution_count": 98,
   "metadata": {},
   "outputs": [],
   "source": [
    "CB3 = identity_matrix(22)\n",
    "\n",
    "CB3[16,12] = -1\n",
    "CB3[20,12] = -1\n",
    "\n",
    "CB3[18,11] = -1\n",
    "CB3[19,11] = -1\n",
    "CB3[20,11] = -1\n",
    "\n",
    "CB3[18,18] = -1\n",
    "CB3[19,19] = -1\n",
    "CB3[20,20] = -1"
   ]
  },
  {
   "cell_type": "code",
   "execution_count": 99,
   "metadata": {},
   "outputs": [],
   "source": [
    "CB4 = Permutation([1,3,4,2,5,6,7,8,9,10,11,13,12,14,15,16,17,18,19,20,21,22]).to_matrix()"
   ]
  },
  {
   "cell_type": "code",
   "execution_count": 100,
   "metadata": {},
   "outputs": [],
   "source": [
    "CB5 =identity_matrix(22)\n",
    "\n",
    "CB5[2,0] = -1\n",
    "CB5[2,1] = -1\n",
    "CB5[2,5] = -1\n",
    "CB5[2,6] = -1\n",
    "CB5[2,7] = -1\n",
    "CB5[2,8] = -1\n",
    "CB5[2,9] = -1"
   ]
  },
  {
   "cell_type": "code",
   "execution_count": 101,
   "metadata": {},
   "outputs": [],
   "source": [
    "CB6 =identity_matrix(22)\n",
    "\n",
    "CB6[7,0] = -1\n",
    "CB6[7,1] = -1\n",
    "CB6[7,2] = 1\n",
    "CB6[7,6] = -1\n",
    "CB6[7,9] = -1\n",
    "CB6[7,7] = -1"
   ]
  },
  {
   "cell_type": "code",
   "execution_count": 102,
   "metadata": {},
   "outputs": [],
   "source": [
    "CB7 =identity_matrix(22)\n",
    "\n",
    "CB7[9,0] = -1\n",
    "CB7[9,6] = -1\n",
    "\n",
    "CB7[2,0] = 1"
   ]
  },
  {
   "cell_type": "code",
   "execution_count": 103,
   "metadata": {},
   "outputs": [],
   "source": [
    "CB8 = Permutation([10,8,11,1,2,3,4,5,6,7,9,12,13,14,15,16,17,18,19,20,21,22]).to_matrix()"
   ]
  },
  {
   "cell_type": "code",
   "execution_count": 104,
   "metadata": {},
   "outputs": [],
   "source": [
    "CB9=identity_matrix(22)\n",
    "CB9[5,3]=-1"
   ]
  },
  {
   "cell_type": "code",
   "execution_count": 105,
   "metadata": {},
   "outputs": [
    {
     "data": {
      "text/html": [
       "<html>\\[\\newcommand{\\Bold}[1]{\\mathbf{#1}}\\left(\\begin{array}{rrrrrrrrrrrrrrrrrrrrrr}\n",
       "-2 & -1 & 0 & 1 & -1 & 1 & 0 & 0 & 0 & 1 & -1 & 1 & 0 & 0 & 0 & 0 & 0 & 0 & 0 & 0 & 0 & 0 \\\\\n",
       "-1 & -2 & 0 & 0 & -1 & 1 & 0 & 0 & 1 & 0 & 0 & 0 & 1 & 0 & 0 & 0 & 0 & 0 & 0 & 0 & 0 & 0 \\\\\n",
       "0 & 0 & -2 & 0 & 1 & -2 & 2 & -4 & 0 & 0 & 2 & 0 & 0 & 0 & 1 & 0 & 0 & 0 & 0 & 0 & 0 & 0 \\\\\n",
       "1 & 0 & 0 & -2 & 0 & 0 & 0 & 0 & 0 & -1 & 1 & 0 & 0 & 0 & 0 & 1 & -1 & 0 & 0 & 0 & 0 & 0 \\\\\n",
       "-1 & -1 & 1 & 0 & -2 & 2 & -1 & 2 & 0 & 0 & -1 & 0 & 0 & 0 & 0 & 0 & 0 & 0 & -1 & 1 & 0 & 0 \\\\\n",
       "1 & 1 & -2 & 0 & 2 & -4 & 2 & -5 & 0 & 0 & 2 & 0 & 0 & 0 & 0 & 0 & 0 & 0 & 0 & 0 & -1 & 0 \\\\\n",
       "0 & 0 & 2 & 0 & -1 & 2 & -2 & 5 & 0 & 0 & -1 & 0 & 0 & 0 & 0 & 0 & 0 & 0 & 0 & 0 & 0 & 0 \\\\\n",
       "0 & 0 & -4 & 0 & 2 & -5 & 5 & -10 & 0 & 0 & 5 & 0 & 0 & 0 & 0 & 0 & 0 & 0 & 0 & 0 & 0 & 0 \\\\\n",
       "0 & 1 & 0 & 0 & 0 & 0 & 0 & 0 & -2 & 0 & -1 & 0 & 0 & 0 & 0 & 0 & 0 & 0 & 0 & 0 & 0 & 0 \\\\\n",
       "1 & 0 & 0 & -1 & 0 & 0 & 0 & 0 & 0 & -2 & 1 & 0 & 0 & 0 & 0 & 0 & 0 & 0 & 0 & 0 & 0 & 0 \\\\\n",
       "-1 & 0 & 2 & 1 & -1 & 2 & -1 & 5 & -1 & 1 & -2 & 0 & 0 & 0 & 0 & 0 & 0 & 0 & 0 & 0 & 0 & 0 \\\\\n",
       "1 & 0 & 0 & 0 & 0 & 0 & 0 & 0 & 0 & 0 & 0 & -2 & 4 & 0 & 0 & 0 & 1 & 0 & 0 & 1 & 0 & 1 \\\\\n",
       "0 & 1 & 0 & 0 & 0 & 0 & 0 & 0 & 0 & 0 & 0 & 4 & -2 & 0 & 0 & 0 & 0 & 0 & 0 & 0 & 0 & 1 \\\\\n",
       "0 & 0 & 0 & 0 & 0 & 0 & 0 & 0 & 0 & 0 & 0 & 0 & 0 & -2 & 0 & 0 & 0 & 0 & 0 & 0 & 0 & 1 \\\\\n",
       "0 & 0 & 1 & 0 & 0 & 0 & 0 & 0 & 0 & 0 & 0 & 0 & 0 & 0 & -2 & 0 & 0 & 0 & 0 & 0 & 0 & 0 \\\\\n",
       "0 & 0 & 0 & 1 & 0 & 0 & 0 & 0 & 0 & 0 & 0 & 0 & 0 & 0 & 0 & -2 & 1 & 0 & 0 & 0 & 0 & 0 \\\\\n",
       "0 & 0 & 0 & -1 & 0 & 0 & 0 & 0 & 0 & 0 & 0 & 1 & 0 & 0 & 0 & 1 & -2 & 1 & 0 & 0 & 0 & 0 \\\\\n",
       "0 & 0 & 0 & 0 & 0 & 0 & 0 & 0 & 0 & 0 & 0 & 0 & 0 & 0 & 0 & 0 & 1 & -2 & 0 & 0 & 0 & 0 \\\\\n",
       "0 & 0 & 0 & 0 & -1 & 0 & 0 & 0 & 0 & 0 & 0 & 0 & 0 & 0 & 0 & 0 & 0 & 0 & -2 & 1 & 0 & 0 \\\\\n",
       "0 & 0 & 0 & 0 & 1 & 0 & 0 & 0 & 0 & 0 & 0 & 1 & 0 & 0 & 0 & 0 & 0 & 0 & 1 & -2 & 1 & 0 \\\\\n",
       "0 & 0 & 0 & 0 & 0 & -1 & 0 & 0 & 0 & 0 & 0 & 0 & 0 & 0 & 0 & 0 & 0 & 0 & 0 & 1 & -2 & 0 \\\\\n",
       "0 & 0 & 0 & 0 & 0 & 0 & 0 & 0 & 0 & 0 & 0 & 1 & 1 & 1 & 0 & 0 & 0 & 0 & 0 & 0 & 0 & 0\n",
       "\\end{array}\\right)\\]</html>"
      ],
      "text/latex": [
       "$$\\newcommand{\\Bold}[1]{\\mathbf{#1}}\\left(\\begin{array}{rrrrrrrrrrrrrrrrrrrrrr}\n",
       "-2 & -1 & 0 & 1 & -1 & 1 & 0 & 0 & 0 & 1 & -1 & 1 & 0 & 0 & 0 & 0 & 0 & 0 & 0 & 0 & 0 & 0 \\\\\n",
       "-1 & -2 & 0 & 0 & -1 & 1 & 0 & 0 & 1 & 0 & 0 & 0 & 1 & 0 & 0 & 0 & 0 & 0 & 0 & 0 & 0 & 0 \\\\\n",
       "0 & 0 & -2 & 0 & 1 & -2 & 2 & -4 & 0 & 0 & 2 & 0 & 0 & 0 & 1 & 0 & 0 & 0 & 0 & 0 & 0 & 0 \\\\\n",
       "1 & 0 & 0 & -2 & 0 & 0 & 0 & 0 & 0 & -1 & 1 & 0 & 0 & 0 & 0 & 1 & -1 & 0 & 0 & 0 & 0 & 0 \\\\\n",
       "-1 & -1 & 1 & 0 & -2 & 2 & -1 & 2 & 0 & 0 & -1 & 0 & 0 & 0 & 0 & 0 & 0 & 0 & -1 & 1 & 0 & 0 \\\\\n",
       "1 & 1 & -2 & 0 & 2 & -4 & 2 & -5 & 0 & 0 & 2 & 0 & 0 & 0 & 0 & 0 & 0 & 0 & 0 & 0 & -1 & 0 \\\\\n",
       "0 & 0 & 2 & 0 & -1 & 2 & -2 & 5 & 0 & 0 & -1 & 0 & 0 & 0 & 0 & 0 & 0 & 0 & 0 & 0 & 0 & 0 \\\\\n",
       "0 & 0 & -4 & 0 & 2 & -5 & 5 & -10 & 0 & 0 & 5 & 0 & 0 & 0 & 0 & 0 & 0 & 0 & 0 & 0 & 0 & 0 \\\\\n",
       "0 & 1 & 0 & 0 & 0 & 0 & 0 & 0 & -2 & 0 & -1 & 0 & 0 & 0 & 0 & 0 & 0 & 0 & 0 & 0 & 0 & 0 \\\\\n",
       "1 & 0 & 0 & -1 & 0 & 0 & 0 & 0 & 0 & -2 & 1 & 0 & 0 & 0 & 0 & 0 & 0 & 0 & 0 & 0 & 0 & 0 \\\\\n",
       "-1 & 0 & 2 & 1 & -1 & 2 & -1 & 5 & -1 & 1 & -2 & 0 & 0 & 0 & 0 & 0 & 0 & 0 & 0 & 0 & 0 & 0 \\\\\n",
       "1 & 0 & 0 & 0 & 0 & 0 & 0 & 0 & 0 & 0 & 0 & -2 & 4 & 0 & 0 & 0 & 1 & 0 & 0 & 1 & 0 & 1 \\\\\n",
       "0 & 1 & 0 & 0 & 0 & 0 & 0 & 0 & 0 & 0 & 0 & 4 & -2 & 0 & 0 & 0 & 0 & 0 & 0 & 0 & 0 & 1 \\\\\n",
       "0 & 0 & 0 & 0 & 0 & 0 & 0 & 0 & 0 & 0 & 0 & 0 & 0 & -2 & 0 & 0 & 0 & 0 & 0 & 0 & 0 & 1 \\\\\n",
       "0 & 0 & 1 & 0 & 0 & 0 & 0 & 0 & 0 & 0 & 0 & 0 & 0 & 0 & -2 & 0 & 0 & 0 & 0 & 0 & 0 & 0 \\\\\n",
       "0 & 0 & 0 & 1 & 0 & 0 & 0 & 0 & 0 & 0 & 0 & 0 & 0 & 0 & 0 & -2 & 1 & 0 & 0 & 0 & 0 & 0 \\\\\n",
       "0 & 0 & 0 & -1 & 0 & 0 & 0 & 0 & 0 & 0 & 0 & 1 & 0 & 0 & 0 & 1 & -2 & 1 & 0 & 0 & 0 & 0 \\\\\n",
       "0 & 0 & 0 & 0 & 0 & 0 & 0 & 0 & 0 & 0 & 0 & 0 & 0 & 0 & 0 & 0 & 1 & -2 & 0 & 0 & 0 & 0 \\\\\n",
       "0 & 0 & 0 & 0 & -1 & 0 & 0 & 0 & 0 & 0 & 0 & 0 & 0 & 0 & 0 & 0 & 0 & 0 & -2 & 1 & 0 & 0 \\\\\n",
       "0 & 0 & 0 & 0 & 1 & 0 & 0 & 0 & 0 & 0 & 0 & 1 & 0 & 0 & 0 & 0 & 0 & 0 & 1 & -2 & 1 & 0 \\\\\n",
       "0 & 0 & 0 & 0 & 0 & -1 & 0 & 0 & 0 & 0 & 0 & 0 & 0 & 0 & 0 & 0 & 0 & 0 & 0 & 1 & -2 & 0 \\\\\n",
       "0 & 0 & 0 & 0 & 0 & 0 & 0 & 0 & 0 & 0 & 0 & 1 & 1 & 1 & 0 & 0 & 0 & 0 & 0 & 0 & 0 & 0\n",
       "\\end{array}\\right)$$"
      ],
      "text/plain": [
       "22 x 22 dense matrix over Integer Ring (use the '.str()' method to see the entries)"
      ]
     },
     "execution_count": 105,
     "metadata": {},
     "output_type": "execute_result"
    }
   ],
   "source": [
    "CBtot = CB*CB2*CB3*CB4*CB5*CB6*CB7*CB8*CB9\n",
    "CBmat = CBtot.transpose()*ip_tot*CBtot\n",
    "show(CBmat)"
   ]
  },
  {
   "cell_type": "code",
   "execution_count": 106,
   "metadata": {},
   "outputs": [
    {
     "data": {
      "text/plain": [
       "-1"
      ]
     },
     "execution_count": 106,
     "metadata": {},
     "output_type": "execute_result"
    }
   ],
   "source": [
    "CBmat.determinant()"
   ]
  },
  {
   "cell_type": "code",
   "execution_count": 107,
   "metadata": {},
   "outputs": [],
   "source": [
    "IL = IntegralLattice(ip_tot)"
   ]
  },
  {
   "cell_type": "code",
   "execution_count": 108,
   "metadata": {},
   "outputs": [
    {
     "data": {
      "text/plain": [
       "Genus\n",
       "Signature:  (3, 19)\n",
       "Genus symbol at 2:    1^22"
      ]
     },
     "execution_count": 108,
     "metadata": {},
     "output_type": "execute_result"
    }
   ],
   "source": [
    "IL.genus()"
   ]
  }
 ],
 "metadata": {
  "kernelspec": {
   "display_name": "SageMath 9.7",
   "language": "sage",
   "name": "sagemath-9.7"
  },
  "language_info": {
   "codemirror_mode": {
    "name": "ipython",
    "version": 3
   },
   "file_extension": ".py",
   "mimetype": "text/x-python",
   "name": "python",
   "nbconvert_exporter": "python",
   "pygments_lexer": "ipython3",
   "version": "3.10.5"
  }
 },
 "nbformat": 4,
 "nbformat_minor": 4
}
