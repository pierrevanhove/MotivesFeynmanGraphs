{
 "cells": [
  {
   "cell_type": "markdown",
   "metadata": {},
   "source": [
    "<H3><center><b>The Tardigrade graph  motive</b></center></H3>\n",
    "<b>In this worksheet we illustrate the relation between the Picard-Fuchs operator for the Tardigrade graph obtained in section 6.2 of <a href=\"https://arxiv.org/abs/2209.10962\">arXiv:2209.10962</a> and the Picard-Fuchs operator for the K3 surface constructed in section 8 of <a href=\"https://arxiv.org/search/advanced?advanced=&terms-0-operator=AND&terms-0-term=vanhove&terms-0-field=author&terms-1-operator=AND&terms-1-term=doran&terms-1-field=author&terms-2-operator=AND&terms-2-term=harder&terms-2-field=author&classification-mathematics=y&classification-physics_archives=all&classification-include_cross_list=include&date-filter_by=all_dates&date-year=&date-from_date=&date-to_date=&date-date_type=submitted_date&abstracts=show&size=50&order=-announced_date_first\">Motivic geometry of two-loop Feynman integrals</a></b>"
   ]
  },
  {
   "cell_type": "markdown",
   "metadata": {},
   "source": [
    "<center><img src=\"Tardigrade.png\" alt=\"Tardigrade\" style=\"width:200px\"></center>"
   ]
  },
  {
   "cell_type": "markdown",
   "metadata": {},
   "source": [
    "<H3><center><b>Picard-Fuchs equation for the tardigrade with 5 points in four dimensions</b></center></H3>\n",
    "\\begin{align*}\n",
    "{\\bf U}_{(2,2,2)} &=  (x_0 + x_1)(y_0 + y_1) + (x_0 + x_1)(z_0 + z_1) + (y_0 + y_1)(z_0 + z_1) ,\\cr\n",
    "{\\bf V}_{(2,2,2);D} &= p^2 x_0x_1(y_0 + y_1 + z_0 + z_1) + q^2 y_0y_1(x_0 + x_1 +\n",
    "            z_0 + z_1) + r^2 z_0z_1(x_0 + x_1 + y_0 + y_1) +k^2 x_0y_0z_0\n",
    "           + (k+r)^2 x_0y_0z_1   \\cr&  +(k+q)^2 x_0y_1z_0 + (k+q+r)^2 x_0y_1z_1 \n",
    "                                                           +(k+p)^2\n",
    "                                                                     x_1y_0z_0     +(k+p+r)^2\n",
    "                                                                     x_1y_0z_1      +(k+p+q)^2\n",
    "                                                                    x_1y_1z_0\n",
    "                                                                     +\n",
    "                                                                     (k+p+q+r)^2\n",
    "                                                                     x_1y_1z_1, \\cr\n",
    " {\\bf F}_{(2,2,2);D}(t)&=  {\\bf U}_{(2,2,2)}(m_1^2x_0 +m_2^2x_1 +m_3^2 y_0 + m_4^2 y_1 + m_5^2z_0 + m_6^2 z_1) -t {\\bf V}_{(2,2,2);D}\n",
    "\\end{align*}\n",
    " \n",
    "$$Int =\\int {dx_1\\cdots dx_6\\over\n",
    "      {\\bf F}_{(2,2,2);D}(t)^{2}}\n",
    "$$"
   ]
  },
  {
   "cell_type": "code",
   "execution_count": 1,
   "metadata": {},
   "outputs": [],
   "source": [
    "from ore_algebra import *\n",
    "OA, z, Dz = DifferentialOperators(QQ, 'z')"
   ]
  },
  {
   "cell_type": "markdown",
   "metadata": {},
   "source": [
    "``F := (x1 + 841*x2 + 2809*x3 + x4 + 121*x5 + 3481*x6)*(x3*x4 + x3*x5 + x4*x5 + x3*x6 + x4*x6 + x2*(x3 + x5 + x6) + x1*(x2 + x4 + x5 + x6)) - t*(5329*x1*x2*x5 + 7*x2*x3*x5 + 11524*x1*x4*x5 + 6623*x3*x4*x5 + 37*x2*x3*x6 + 71*x1*x4*x6 + 529*x3*x4*x6 + 6124*x1*x5*x6 + 6124*x2*x5*x6 + 6124*x3*x5*x6 + 6124*x4*x5*x6 + 1681*x1*x3*(x2 + x4 + x5 + x6) + 841*x4*(x3*x5 + x1*(x2 + x5) + x2*(x3 + x5 + x6)))``\n",
    "<br>\n",
    "<b>The Picard-Fuchs differential operator is given in <a href=\"PF-Tardigrade-5pt-d4-case1.txt\">PF-Tardigrade-5pt-d4-case1.txt</a> obtained in <a href=\"https://arxiv.org/abs/2209.10962\">arXiv:2209.10962</a></b>"
   ]
  },
  {
   "cell_type": "code",
   "execution_count": 2,
   "metadata": {
    "scrolled": true
   },
   "outputs": [
    {
     "data": {
      "text/plain": [
       "[11]"
      ]
     },
     "execution_count": 2,
     "metadata": {},
     "output_type": "execute_result"
    }
   ],
   "source": [
    "s = open(\"PF-Tardigrade-5pt-d4-case1.txt\").readlines()[0]\n",
    "dopTardigrade5ptd4case1 = OA(s.replace(\"^\", \"**\").replace(\"t\", \"z\").replace(\"D\", \"Dz\"))\n",
    "[dopTardigrade5ptd4case1.order()]"
   ]
  },
  {
   "cell_type": "markdown",
   "metadata": {},
   "source": [
    "`Q= -(t*(-6124*x1^4 - 4331388844*x2^4 - 48321305644*x3^4 + 11236*(2735842 + 2861439*t)*x3^3*x4 - 3*(3530775692 + t*(-3975638889 + 8060114848*t))*x3^2*x4^2 + 4*(2735842 + 2861439*t)*x3*x4^3 - 6124*x4^4 - 6728*x2^3*((2843419 + 4654240*t)*x3 - 1531*(-842 + 841*t)*x4) + 4*x2^2*(-((8255351409 + 7*t*(4847377523 + 56647*t))*x3^2) + (-2487474474 + t*(-648639203 + 7828431680*t))*x3*x4 - 1531*(710646 + 841*t*(-1684 + 841*t))*x4^2) + 4*x2*(-5618*(2843419 + 4654240*t)*x3^3 + 3*(-845005726 + t*(7442039872 + 2485534101*t))*x3^2*x4 + 3*(765964042 + (33060012 - 802156733*t)*t)*x3*x4^2 + 3062*(-842 + 841*t)*x4^3) + 2*x1*(2*(-841*(-7412818 + 1217145*t)*x2^3 + 3*(4099527954 + t*(688473482 + 5152973967*t))*x2^2*x3 + (4842590982 + t*(-20016214427 + 15647554880*t))*x2*x3^2 + 8601158*(-2810 + 1681*t)*x3^3) + (2*(19559246574 + t*(868132124 + 1023618945*t))*x2^2 + (38164345848 + t*(115968824921 + 75891581202*t))*x2*x3 + 2*(52169629902 + (30586947836 - 4810078959*t)*t)*x3^2)*x4 - 2*((-13340902134 + t*(5182059139 + 8127148152*t))*x2 + (9953242938 + 5*(7971225438 - 987009673*t)*t)*x3)*x4^2 + 4*(7917749 + 4831836*t)*x4^3) + 4*x1^3*((7412818 - 1217145*t)*x2 + 15835498*x4 + 3062*(-2810*x3 + 1681*t*x3 + 3156*t*x4)) + x1^2*(3*(-11870168524 + 3549367865*t)*x2^2 - 6124*(7901718 + 1681*t*(-5620 + 1681*t))*x3^2 + 4*(44500485222 + (538307621 - 16244632632*t)*t)*x3*x4 - 4*(36761722833 + t*(66334271909 + 1344087865*t))*x4^2 + 4*x2*(3*(6941443914 + t*(-5296810996 + 682006915*t))*x3 + (-37295933226 + t*(-21173159916 + 7305817175*t))*x4))))`\n",
    "<br><b>This is the quadric polynomial ${\\bf G}_{(2,2,2)}(t)$ in eq.(154) of the paper</b>"
   ]
  },
  {
   "cell_type": "code",
   "execution_count": 3,
   "metadata": {},
   "outputs": [
    {
     "data": {
      "text/plain": [
       "[11]"
      ]
     },
     "execution_count": 3,
     "metadata": {},
     "output_type": "execute_result"
    }
   ],
   "source": [
    "s = open(\"PF-Quartic-case1.txt\").readlines()[0]\n",
    "dopQuarticcase1 = OA(s.replace(\"^\", \"**\").replace(\"t\", \"z\").replace(\"D\", \"Dz\"))\n",
    "[dopQuarticcase1.order()]"
   ]
  },
  {
   "cell_type": "markdown",
   "metadata": {},
   "source": [
    "<b>The Picard--Fuchs operator for the Tardigrade Feynman integral <tt>dopTardigrade5ptd4case1</tt> and for the quartic <tt>dopQuarticcase1</tt> have the same normal form as can be checked with the maple command <tt>convert( ,NormalForm)</tt> therefore the two differential operators are related by the scaling function $$\\lambda(z)=\\exp\\left(-{1\\over11}\\int \\left({q_{10}(z)\\over q_{11}(z)}-{\\tilde q_{10}(z)\\over \\tilde q_{11}(z)}\\right) dz\\right)=\\frac{1}{\\sqrt{2343961* z^{2}-2757331*z +705600}}$$ where $q_r(t)$ is the coefficient of $Dz^r$ of <tt>dopTardigrade5ptd4case1</tt> and $\\tilde q_r(z)$ is the coefficient of $Dz^r$ of <tt>dopQuarticcase1</tt></b>"
   ]
  },
  {
   "cell_type": "code",
   "execution_count": 4,
   "metadata": {},
   "outputs": [],
   "source": [
    "# Comparing the normal form with maple\n",
    "#This takes a very long time\n",
    "#maple('with(DEtools);')\n",
    "#maple.set('L1',dopTardigrade5ptd4case1)\n",
    "#maple.set('L1de','diffop2de(L1,f(z),[Dz,z])')\n",
    "#Tardigrade5ptd4case1NormalForm=maple('convert(L1de,NormalForm)')\n",
    "#maple.set('LQ',dopQuarticcase1)\n",
    "#maple.set('LQde','diffop2de(LQ,f(z),[Dz,z])')\n",
    "#QNormalForm=maple('convert(LQde,NormalForm)')"
   ]
  }
 ],
 "metadata": {
  "kernelspec": {
   "display_name": "SageMath 9.8",
   "language": "sage",
   "name": "sagemath-9.8"
  },
  "language_info": {
   "codemirror_mode": {
    "name": "ipython",
    "version": 3
   },
   "file_extension": ".py",
   "mimetype": "text/x-python",
   "name": "python",
   "nbconvert_exporter": "python",
   "pygments_lexer": "ipython3",
   "version": "3.11.1"
  }
 },
 "nbformat": 4,
 "nbformat_minor": 1
}
