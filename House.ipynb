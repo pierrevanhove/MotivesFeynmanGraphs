{
 "cells": [
  {
   "cell_type": "markdown",
   "metadata": {},
   "source": [
    "<img src=\"House.png\" alt=\"House\" style=\"width:200px\">"
   ]
  },
  {
   "cell_type": "markdown",
   "metadata": {},
   "source": [
    "<H3><center><b>Picard-Fuchs equation for the house graph with 5 points in four dimensions</b></center></H3>\n",
    "$$\n",
    "{\\bf U}_{(3,1,2)}  = \\left(  x_1+x_2\\right) \\left( y_1+y_2+y_3 \\right) + z \\left( x_1+x_2+ y_1+y_2+y_3\\right)\n",
    "$$\n",
    "$$\n",
    "{\\bf V}_{(3,1,2);D}  = \\left( z +  y_1+y_2+y_3\\right)\\, p^2 x_1  x_2+ \\left(z+ x_1+x_2\\right)\\left(\n",
    "                  k^2y_1 y_2+(k+r)^2y_1y_3+r^2y_2y_3 \\right) \n",
    "                                                +\n",
    "                                                                  zx_1\\left(p^2y_1+(k+q)^2y_2+(k+q+r)^2 y_3\\right)+zx_2\\left((p-q)^2y_1+(k-p+q)^2y_2+(k-p+q+r)^2y_3\\right)\n",
    "$$                                                                  \n",
    "  $$                                                                \n",
    "{\\bf F}_{(3,1,2);D}(t) = {\\bf U}_{3,1,2)}\\left( \\sum_{i=1}^3 m^2_i y_i +\\sum_{i=1}^2 m_{i+3}^2 x_i + m^2_{7} z\\right)-t {\\bf V}_{(3,1,2);D}.\n",
    "$$\n",
    "$$Int =\\int {dx_1\\cdots dx_6\\over\n",
    "     {\\bf F}_{(3,1,2);D}(t)^{2}}\n",
    "$$"
   ]
  },
  {
   "cell_type": "code",
   "execution_count": 60,
   "metadata": {},
   "outputs": [],
   "source": [
    "from ore_algebra import *\n",
    "OA, z, Dz = DifferentialOperators(QQ, 'z')"
   ]
  },
  {
   "cell_type": "markdown",
   "metadata": {},
   "source": [
    "``F := (4900*x1 + 121*x2 + 4489*x3 + 576*x4 + 1369*x5 + 2116*x6)*(x1*x3 + x2*x3 + x1*x4 + x2*x4 + x1*x5 + x2*x5 + x1*x6 + x2*x6 + x3*x6 + x4*x6 + x5*x6) + t*(-11570*x1*x2*x3 - 11570*x1*x2*x4 - 11570*x1*x2*x5 - 20239*x1*x3*x5 - 20239*x2*x3*x5 - 8801*x1*x4*x5 - 8801*x2*x4*x5 - 11570*x1*x2*x6 - 13365*x1*x3*x6 - 15881*x2*x3*x6 - 10965*x1*x4*x6 - 13481*x2*x4*x6 - 22420*x1*x5*x6 - 31672*x2*x5*x6 - 20239*x3*x5*x6 - 8801*x4*x5*x6 - 14204*x2*(x4 + x5)*x6) - 7049*t*(x4 + x5)*(x3*x6 + x1*(x3 + x6) + x2*(x3 + x6))``\n",
    "<br>\n",
    "The Picard-Fuchs differential operator is given in <a href=\"PF-I321-case1-d4.txt\">PF-I321-case1-d4.txt</a>"
   ]
  },
  {
   "cell_type": "code",
   "execution_count": 61,
   "metadata": {
    "scrolled": true
   },
   "outputs": [
    {
     "data": {
      "text/plain": [
       "[8,\n",
       " 99,\n",
       " (alpha - 5) * (alpha - 4) * (alpha - 3) * (alpha - 2) * (alpha - 1) * alpha * (alpha + 1)^2]"
      ]
     },
     "execution_count": 61,
     "metadata": {},
     "output_type": "execute_result"
    }
   ],
   "source": [
    "s = open(\"PF-I321-case1-d4.txt\").readlines()[0]\n",
    "dopHouse5ptd4case1 = OA(s.replace(\"^\", \"**\").replace(\"t\", \"z\").replace(\"D\", \"Dz\"))\n",
    "[dopHouse5ptd4case1.order(),dopHouse5ptd4case1.degree(),((dopHouse5ptd4case1.indicial_polynomial(z))/(dopHouse5ptd4case1.indicial_polynomial(z).leading_coefficient())).factor()]"
   ]
  },
  {
   "cell_type": "code",
   "execution_count": 62,
   "metadata": {},
   "outputs": [],
   "source": [
    "#fac1=dopHouse5ptd4case1.factor(verbose=True); \n",
    "#[x.order() for x in fac1]\n",
    "#with open('PF-I321-case1-d4-factor.txt',\"w\") as f:\n",
    "#     f.write(str(fac1))"
   ]
  },
  {
   "cell_type": "markdown",
   "metadata": {},
   "source": [
    "The factorisation is in the text file <a href=\"PF-I321-case1-d4-factor.txt\">PF-I321-case1-d4-factor.txt</a>"
   ]
  },
  {
   "cell_type": "code",
   "execution_count": 63,
   "metadata": {},
   "outputs": [
    {
     "data": {
      "text/plain": [
       "[3, 1, 1, 1, 2]"
      ]
     },
     "execution_count": 63,
     "metadata": {},
     "output_type": "execute_result"
    }
   ],
   "source": [
    "file = open('PF-I321-case1-d4-factor.txt', 'r')\n",
    "lines = file.readlines()\n",
    "s = ''.join(lines);\n",
    "fac1=eval(preparse(s))\n",
    "[x.order() for x  in fac1]"
   ]
  },
  {
   "cell_type": "code",
   "execution_count": 64,
   "metadata": {},
   "outputs": [],
   "source": [
    "L1=fac1[4]"
   ]
  },
  {
   "cell_type": "code",
   "execution_count": 65,
   "metadata": {},
   "outputs": [
    {
     "data": {
      "text/plain": [
       "z^2 * (z^2 - 115844350/176785687*z + 26660881/258379081) * (z^5 + 776861144660327768600499315111903477146318785346886/1323137342665108537498283269075392005224773709946737*z^4 - 285175584057677040520436230241992049313097031988366/1323137342665108537498283269075392005224773709946737*z^3 + 24462666170443052856035403470678319449060909386828/1323137342665108537498283269075392005224773709946737*z^2 - 123132573730920702922286423265454804889145065499/1323137342665108537498283269075392005224773709946737*z - 295372421861340237816736725789985733531640798270/69638807508689923026225435214494316064461774207723) * (z^6 + 112229010187978383771712256627758235704284704493212219351/149500215319524436429574525625097076873325716324691573395*z^5 + 58461690535606291824606597854907348914188241704819223281/149500215319524436429574525625097076873325716324691573395*z^4 - 9809792442421875219598615130983608368064137326281073718/149500215319524436429574525625097076873325716324691573395*z^3 + 4441980763655669539111602806727271373398430525510255913/149500215319524436429574525625097076873325716324691573395*z^2 + 19642949722336778416108863075550049418938851703246139/29900043063904887285914905125019415374665143264938314679*z + 74988882648040905821118042774516540436636489909795215/29900043063904887285914905125019415374665143264938314679)"
      ]
     },
     "execution_count": 65,
     "metadata": {},
     "output_type": "execute_result"
    }
   ],
   "source": [
    "L1desing=L1.desingularize()\n",
    "L1.leading_coefficient().factor()"
   ]
  },
  {
   "cell_type": "markdown",
   "metadata": {},
   "source": [
    "``F := (7225*x1 + 169*x2 + 1764*x3 + 1296*x4 + 5929*x5 + 2209*x6)*(x1*x3 + x2*x3 + x1*x4 + x2*x4 + x1*x5 + x2*x5 + x1*x6 + x2*x6 + x3*x6 + x4*x6 + x5*x6) + t*(-7268*x1*x2*x3 - 7268*x1*x2*x4 - 7268*x1*x2*x5 - 14259*x1*x3*x5 - 14259*x2*x3*x5 - 7009*x1*x4*x5 - 7009*x2*x4*x5 - 7268*x1*x2*x6 - 6724*x1*x3*x6 - 12180*x2*x3*x6 - 20060*x1*x4*x6 - 25516*x2*x4*x6 - 33557*x1*x5*x6 - 29911*x2*x5*x6 - 14259*x3*x5*x6 - 7009*x4*x5*x6 + 6156*x2*(x4 + x5)*x6) - 9214*t*(x4 + x5)*(x3*x6 + x1*(x3 + x6) + x2*(x3 + x6))``\n",
    "<br>\n",
    "The Picard-Fuchs differential operator is given in <a href=\"PF-I321-case2-d4.txt\">PF-I321-case2-d4.txt</a>"
   ]
  },
  {
   "cell_type": "code",
   "execution_count": 66,
   "metadata": {},
   "outputs": [
    {
     "data": {
      "text/plain": [
       "[8,\n",
       " 99,\n",
       " (alpha - 5) * (alpha - 4) * (alpha - 3) * (alpha - 2) * (alpha - 1) * alpha * (alpha + 1)^2]"
      ]
     },
     "execution_count": 66,
     "metadata": {},
     "output_type": "execute_result"
    }
   ],
   "source": [
    "s = open(\"PF-I321-case2-d4.txt\").readlines()[0]\n",
    "dopHouse5ptd4case2 = OA(s.replace(\"^\", \"**\").replace(\"t\", \"z\").replace(\"D\", \"Dz\"))\n",
    "[dopHouse5ptd4case2.order(),dopHouse5ptd4case2.degree(),((dopHouse5ptd4case2.indicial_polynomial(z))/(dopHouse5ptd4case2.indicial_polynomial(z).leading_coefficient())).factor()]"
   ]
  },
  {
   "cell_type": "code",
   "execution_count": 67,
   "metadata": {},
   "outputs": [],
   "source": [
    "#fac2=dopHouse5ptd4case2.factor(verbose=True); \n",
    "#[x.order() for x in fac2]\n",
    "#with open('PF-I321-case2-d4-factor.txt',\"w\") as f:\n",
    "#     f.write(str(fac2))"
   ]
  },
  {
   "cell_type": "markdown",
   "metadata": {},
   "source": [
    "The factorisation is in the text file <a href=\"PF-I321-case2-d4-factor.txt\">PF-I321-case2-d4-factor.txt</a>"
   ]
  },
  {
   "cell_type": "code",
   "execution_count": 68,
   "metadata": {},
   "outputs": [
    {
     "data": {
      "text/plain": [
       "[3, 1, 1, 1, 2]"
      ]
     },
     "execution_count": 68,
     "metadata": {},
     "output_type": "execute_result"
    }
   ],
   "source": [
    "file = open('PF-I321-case2-d4-factor.txt', 'r')\n",
    "lines = file.readlines()\n",
    "s = ''.join(lines);\n",
    "fac2=eval(preparse(s))\n",
    "[x.order() for x  in fac2]"
   ]
  },
  {
   "cell_type": "markdown",
   "metadata": {},
   "source": [
    "``F := (1024*x1 + 256*x2 + 100*x3 + 5929*x4 + 900*x5 + 5776*x6)*(x1*x3 + x2*x3 + x1*x4 + x2*x4 + x1*x5 + x2*x5 + x1*x6 + x2*x6 + x3*x6 + x4*x6 + x5*x6) + t*(-12441*x1*x2*x3 - 12441*x1*x2*x4 - 12441*x1*x2*x5 - 44660*x1*x3*x5 - 44660*x2*x3*x5 - 14564*x1*x4*x5 - 14564*x2*x4*x5 - 12441*x1*x2*x6 - 11536*x1*x3*x6 - 22261*x2*x3*x6 - 17576*x1*x4*x6 - 28301*x2*x4*x6 - 77948*x1*x5*x6 - 74623*x2*x5*x6 - 44660*x3*x5*x6 - 14564*x4*x5*x6 + 13580*x2*(x4 + x5)*x6) - 20866*t*(x4 + x5)*(x3*x6 + x1*(x3 + x6) + x2*(x3 + x6))``\n",
    "<br>\n",
    "The Picard-Fuchs differential operator is given in <a href=\"PF-I321-case3-d4.txt\">PF-I321-case3-d4.txt</a>"
   ]
  },
  {
   "cell_type": "code",
   "execution_count": 69,
   "metadata": {},
   "outputs": [
    {
     "data": {
      "text/plain": [
       "[8,\n",
       " 99,\n",
       " (alpha - 5) * (alpha - 4) * (alpha - 3) * (alpha - 2) * (alpha - 1) * alpha * (alpha + 1)^2]"
      ]
     },
     "execution_count": 69,
     "metadata": {},
     "output_type": "execute_result"
    }
   ],
   "source": [
    "s = open(\"PF-I321-case3-d4.txt\").readlines()[0]\n",
    "dopHouse5ptd4case3 = OA(s.replace(\"^\", \"**\").replace(\"t\", \"z\").replace(\"D\", \"Dz\"))\n",
    "[dopHouse5ptd4case3.order(),dopHouse5ptd4case3.degree(),((dopHouse5ptd4case3.indicial_polynomial(z))/(dopHouse5ptd4case3.indicial_polynomial(z).leading_coefficient())).factor()]"
   ]
  },
  {
   "cell_type": "markdown",
   "metadata": {},
   "source": [
    "The factorisation is in the text file <a href=\"PF-Tardigrade-5pt-factor.txt\">PF-Tardigrade-5pt-factor.txt</a>"
   ]
  },
  {
   "cell_type": "code",
   "execution_count": 70,
   "metadata": {
    "scrolled": false
   },
   "outputs": [],
   "source": [
    "#fac3=dopHouse5ptd4case3.factor(verbose=True); \n",
    "#[x.order() for x in fac3]\n",
    "#with open('PF-I321-case3-d4-factor.txt',\"w\") as f:\n",
    "#     f.write(str(fac3))"
   ]
  },
  {
   "cell_type": "markdown",
   "metadata": {},
   "source": [
    "The factorisation is in the text file <a href=\"PF-I321-case3-d4-factor.txt\">PF-I321-case3-d4-factor.txt</a>"
   ]
  },
  {
   "cell_type": "code",
   "execution_count": 71,
   "metadata": {},
   "outputs": [
    {
     "data": {
      "text/plain": [
       "[3, 1, 1, 1, 2]"
      ]
     },
     "execution_count": 71,
     "metadata": {},
     "output_type": "execute_result"
    }
   ],
   "source": [
    "file = open('PF-I321-case3-d4-factor.txt', 'r')\n",
    "lines = file.readlines()\n",
    "s = ''.join(lines);\n",
    "fac3=eval(preparse(s))\n",
    "[x.order() for x  in fac3]"
   ]
  },
  {
   "cell_type": "markdown",
   "metadata": {},
   "source": [
    "``F := (25*x1 + 36*x2 + 16*x3 + 9*x4 + 100*x5 + 100*x6)*((x1 + x2 + x3)*(x4 + x5) + (x1 + x2 + x3)*x6 + (x4 + x5)*x6) - t*(2304*x2*x3*(x4 + x5 + x6) + x2*x4*(2209*x5 + 34*x6) + x5*(2209*x3*x4 + 1685*x3*x6 + 2209*x4*x6) + x1*(2209*x4*x5 + 1225*x4*x6 + 40*x5*x6 + 2500*x2*(x4 + x5 + x6) + 10*x3*(x4 + x5 + x6)))``\n",
    "<br>\n",
    "The Picard-Fuchs differential operator is given in <a href=\"PF-I321-case4-d4.txt\">PF-I321-case4-d4.txt</a>"
   ]
  },
  {
   "cell_type": "code",
   "execution_count": 72,
   "metadata": {},
   "outputs": [
    {
     "data": {
      "text/plain": [
       "[8,\n",
       " 99,\n",
       " (alpha - 5) * (alpha - 4) * (alpha - 3) * (alpha - 2) * (alpha - 1) * alpha * (alpha + 1)^2]"
      ]
     },
     "execution_count": 72,
     "metadata": {},
     "output_type": "execute_result"
    }
   ],
   "source": [
    "s = open(\"PF-I321-case4-d4.txt\").readlines()[0]\n",
    "dopHouse5ptd4case4 = OA(s.replace(\"^\", \"**\").replace(\"t\", \"z\").replace(\"D\", \"Dz\"))\n",
    "[dopHouse5ptd4case4.order(),dopHouse5ptd4case4.degree(),((dopHouse5ptd4case4.indicial_polynomial(z))/(dopHouse5ptd4case4.indicial_polynomial(z).leading_coefficient())).factor()]"
   ]
  },
  {
   "cell_type": "code",
   "execution_count": 73,
   "metadata": {},
   "outputs": [],
   "source": [
    "#fac4=dopHouse5ptd4case4.factor(verbose=True); \n",
    "#[x.order() for x in fac4]\n",
    "#with open('PF-I321-case4-d4-factor.txt',\"w\") as f:\n",
    "#     f.write(str(fac4))"
   ]
  },
  {
   "cell_type": "markdown",
   "metadata": {},
   "source": [
    "The factorisation is in the text file <a href=\"PF-I321-case4-d4-factor.txt\">PF-I321-case4-d4-factor.txt</a>"
   ]
  },
  {
   "cell_type": "code",
   "execution_count": 74,
   "metadata": {},
   "outputs": [
    {
     "data": {
      "text/plain": [
       "[3, 1, 1, 1, 2]"
      ]
     },
     "execution_count": 74,
     "metadata": {},
     "output_type": "execute_result"
    }
   ],
   "source": [
    "file = open('PF-I321-case4-d4-factor.txt', 'r')\n",
    "lines = file.readlines()\n",
    "s = ''.join(lines);\n",
    "fac4=eval(preparse(s))\n",
    "[x.order() for x  in fac4]"
   ]
  }
 ],
 "metadata": {
  "kernelspec": {
   "display_name": "SageMath 9.7",
   "language": "sage",
   "name": "sagemath-9.7"
  },
  "language_info": {
   "codemirror_mode": {
    "name": "ipython",
    "version": 3
   },
   "file_extension": ".py",
   "mimetype": "text/x-python",
   "name": "python",
   "nbconvert_exporter": "python",
   "pygments_lexer": "ipython3",
   "version": "3.10.5"
  }
 },
 "nbformat": 4,
 "nbformat_minor": 1
}
