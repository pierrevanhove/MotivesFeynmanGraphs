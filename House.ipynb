{
 "cells": [
  {
   "cell_type": "markdown",
   "metadata": {},
   "source": [
    "<img src=\"House.png\" alt=\"House\" style=\"width:200px\">"
   ]
  },
  {
   "cell_type": "markdown",
   "metadata": {},
   "source": [
    "<H3><center><b>Picard-Fuchs equation for the house graph with 5 points in four dimensions</b></center></H3>\n",
    "$$\n",
    "{\\bf U}_{(3,1,2)}  = \\left(  x_1+x_2\\right) \\left( y_1+y_2+y_3 \\right) + z \\left( x_1+x_2+ y_1+y_2+y_3\\right)\n",
    "$$\n",
    "$$\n",
    "{\\bf V}_{(3,1,2);D}  = \\left( z +  y_1+y_2+y_3\\right)\\, p^2 x_1  x_2+ \\left(z+ x_1+x_2\\right)\\left(\n",
    "                  k^2y_1 y_2+(k+r)^2y_1y_3+r^2y_2y_3 \\right) \n",
    "                                                +\n",
    "                                                                  zx_1\\left(q^2y_1+(k+q)^2y_2+(k+q+r)^2 y_3\\right)+zx_2\\left((p-q)^2y_1+(k-p+q)^2y_2+(k-p+q+r)^2y_3\\right)\n",
    "$$                                                                  \n",
    "  $$                                                                \n",
    "{\\bf F}_{(3,1,2);D}(t) = {\\bf U}_{3,1,2)}\\left( \\sum_{i=1}^3 m^2_i y_i +\\sum_{i=1}^2 m_{i+3}^2 x_i + m^2_{7} z\\right)-t {\\bf V}_{(3,1,2);D}.\n",
    "$$\n",
    "$$Int =\\int {dx_1\\cdots dx_6\\over\n",
    "     {\\bf F}_{(3,1,2);D}(t)^{2}}\n",
    "$$"
   ]
  },
  {
   "cell_type": "markdown",
   "metadata": {},
   "source": [
    "<b>Starting from a generic graph polynomial we perform the analysis of section 6.1 of the paper [XXX]</b>\n",
    "\n",
    "<b>There are  numerical cases obtained using the algorithms for the extended Griffiths--Dwork method described of <a href=\"https://arxiv.org/abs/2209.10962\">[arXiv:2209.10962]</a> </b>"
   ]
  },
  {
   "cell_type": "code",
   "execution_count": 2,
   "metadata": {},
   "outputs": [],
   "source": [
    "from ore_algebra import *\n",
    "OA, z, Dz = DifferentialOperators(QQ, 'z')"
   ]
  },
  {
   "cell_type": "markdown",
   "metadata": {},
   "source": [
    "``Fcase1 =  (4900*x1 + 121*x2 + 4489*y1 + 576*y2 + 1369*y3 + 2116*z)*  (x1*y1 + x2*y1 + x1*y2 + x2*y2 + x1*y3 + x2*y3 + x1*z + x2*z + y1*z + y2*z + y3*z) +  t*(-11570*x1*x2*y1 - 11570*x1*x2*y2 - 11570*x1*x2*y3 - 20239*x1*y1*y3 -   20239*x2*y1*y3 - 8801*x1*y2*y3 - 8801*x2*y2*y3 - 11570*x1*x2*z - 13365*x1*y1*z -    15881*x2*y1*z - 10965*x1*y2*z - 13481*x2*y2*z - 22420*x1*y3*z - 31672*x2*y3*z -    20239*y1*y3*z - 8801*y2*y3*z - 14204*x2*(y2 + y3)*z) -  7049*t*(y2 + y3)*(y1*z + x1*(y1 + z) + x2*(y1 + z))\n",
    "``\n",
    "<br>\n",
    "<b>The Picard-Fuchs differential operator derived using the extended Griffiths-Dwork algorithm of <a href=\"http://arxiv.org/abs/2209.10962\">arXiv:2209.10962</a>   is given in <a href=\"PF-I321-case1-d4.txt\">PF-I321-case1-d4.txt</a></b>"
   ]
  },
  {
   "cell_type": "code",
   "execution_count": 3,
   "metadata": {
    "scrolled": true
   },
   "outputs": [
    {
     "data": {
      "text/plain": [
       "[8, 99]"
      ]
     },
     "execution_count": 3,
     "metadata": {},
     "output_type": "execute_result"
    }
   ],
   "source": [
    "s = open(\"PF-I321-case1-d4.txt\").readlines()[0]\n",
    "dopHouse5ptd4case1 = OA(s.replace(\"^\", \"**\").replace(\"t\", \"z\").replace(\"D\", \"Dz\"))\n",
    "[dopHouse5ptd4case1.order(),dopHouse5ptd4case1.degree()]"
   ]
  },
  {
   "cell_type": "code",
   "execution_count": 4,
   "metadata": {},
   "outputs": [],
   "source": [
    "#fac1=dopHouse5ptd4case1.factor(verbose=True); \n",
    "#[x.order() for x in fac1]\n",
    "#with open('PF-I321-case1-d4-factor.txt',\"w\") as f:\n",
    "#     f.write(str(fac1))"
   ]
  },
  {
   "cell_type": "markdown",
   "metadata": {},
   "source": [
    "<b>The factorisation is in the text file <a href=\"PF-I321-case1-d4-factor.txt\">PF-I321-case1-d4-factor.txt</a></b>"
   ]
  },
  {
   "cell_type": "code",
   "execution_count": 5,
   "metadata": {},
   "outputs": [
    {
     "data": {
      "text/plain": [
       "[3, 1, 1, 1, 2]"
      ]
     },
     "execution_count": 5,
     "metadata": {},
     "output_type": "execute_result"
    }
   ],
   "source": [
    "file = open('PF-I321-case1-d4-factor.txt', 'r')\n",
    "lines = file.readlines()\n",
    "s = ''.join(lines);\n",
    "fac1=eval(preparse(s))\n",
    "[x.order() for x  in fac1]"
   ]
  },
  {
   "cell_type": "code",
   "execution_count": 6,
   "metadata": {},
   "outputs": [],
   "source": [
    "L1=fac1[4]"
   ]
  },
  {
   "cell_type": "markdown",
   "metadata": {},
   "source": [
    "<center><b><h2>The motivic elliptic curve associated to the House graph and its associated Picard-Fuchs operator</h2></b></center>\n",
    "<b>The construction of the elliptic curve is described in section 5.1 of the paper with the result\n",
    "$$ y^2=4x^3-g_2(t)x-g_3(t)$$\n",
    "with the polynomial coefficient $g_2(t)$ is  of degree 4 in $t$ and $g_3(t)$ of order 6\n",
    "Their expressions are given in this file <a href=\"g2g3house.txt\">g2g3house.txt</a></b>"
   ]
  },
  {
   "cell_type": "code",
   "execution_count": 7,
   "metadata": {},
   "outputs": [],
   "source": [
    "R.<x1,x2,y1,y2,y3,z,t,w,X> = QQ[]\n",
    "Fcase1 = (4900*x1 + 121*x2 + 4489*y1 + 576*y2 + 1369*y3 + 2116*z)*  (x1*y1 + x2*y1 + x1*y2 + x2*y2 + x1*y3 + x2*y3 + x1*z + x2*z + y1*z + y2*z + y3*z) +  t*(-11570*x1*x2*y1 - 11570*x1*x2*y2 - 11570*x1*x2*y3 - 20239*x1*y1*y3 -   20239*x2*y1*y3 - 8801*x1*y2*y3 - 8801*x2*y2*y3 - 11570*x1*x2*z - 13365*x1*y1*z -    15881*x2*y1*z - 10965*x1*y2*z - 13481*x2*y2*z - 22420*x1*y3*z - 31672*x2*y3*z -    20239*y1*y3*z - 8801*y2*y3*z - 14204*x2*(y2 + y3)*z) -  7049*t*(y2 + y3)*(y1*z + x1*(y1 + z) + x2*(y1 + z))\n",
    "S = Fcase1.substitute(y1=y1/w,y2=y2/w,y3=y3/w).numerator()\n",
    "Xlist = [y1,y2,y3,w]\n",
    "M = matrix(R,4)\n",
    "for i in range(0,len(Xlist)):\n",
    "    for j in range(0,len(Xlist)):\n",
    "        if i == j:\n",
    "            M[i,j] = 2*S.coefficient(Xlist[i]*Xlist[j])\n",
    "        else:\n",
    "            M[i,j] = S.coefficient(Xlist[i]*Xlist[j])\n",
    "P=((M.determinant())//(t^2*(x1+x2+z)^2))\n",
    "G = P.substitute(z=-x1-x2).substitute(x1=1,x2=X)\n",
    "B4 = G.coefficient(X^4)\n",
    "B3 = G.coefficient(X^3)\n",
    "B2 = G.coefficient(X^2)\n",
    "B1 = G.coefficient(X)\n",
    "B0 = G.substitute(X=0)\n",
    "\n",
    "H = X^3 + B2*X^2 + (-4*B0*B4+B1*B3)*X + (B0*B3^2-4*B0*B2*B4+B1^2*B4)\n",
    "H1 = 4*H.substitute(X=X-B2/3)\n",
    "g2 = H1.coefficient(X)\n",
    "g3 = H1.substitute(X=0)\n",
    "h2 = -(H1).coefficient(X)\n",
    "h3 = -(H1).substitute(X=0)\n",
    "Del = h2^3 - 27*h3^2\n",
    "A2 = 16*Del*(3*(h2.derivative(t))*h3 - 2*h2*(h3.derivative(t)))\n",
    "A1 = 16*(9*h2^2*h3*(h2.derivative(t))^2 - (7*h2^3 + 135*h3^2)*(h2.derivative(t))*(h3.derivative(t)) + 108*h2*h3*(h3.derivative(t))^2 + Del*(-3*h3*(h2.derivative(t,2)) + 2*h2*(h3.derivative(t,2))))\n",
    "A0 = 21*h2*h3*(h2.derivative(t))^3 - 18*h2^2*(h2.derivative(t))^2*(h3.derivative(t)) + 8*(h3.derivative(t))*(15*h2*(h3.derivative(t))^2 - Del*(h2.derivative(t,2))) - 4*(h2.derivative(t))*(27*h3*(h3.derivative(t))^2 - 2*Del*(h3.derivative(t,2)))\n",
    "P1 = A1/A2\n",
    "P2 = A0/A2\n",
    "LEllcase1=OA(denominator(P1).substitute(t=z))*Dz^2+OA(numerator(P1).substitute(t=z))*Dz+OA(numerator(P2).substitute(t=z))"
   ]
  },
  {
   "cell_type": "markdown",
   "metadata": {},
   "source": [
    "<b>We check that the Picard-Fuchs operators constructed from the motivic elliptic curve is the most right factor once multiplied by $z$</b>"
   ]
  },
  {
   "cell_type": "code",
   "execution_count": 13,
   "metadata": {},
   "outputs": [
    {
     "data": {
      "text/plain": [
       "0"
      ]
     },
     "execution_count": 13,
     "metadata": {},
     "output_type": "execute_result"
    }
   ],
   "source": [
    "n1=(L1.leading_coefficient())/(LEllcase1*z).leading_coefficient()\n",
    "L1-n1*LEllcase1*z"
   ]
  },
  {
   "cell_type": "markdown",
   "metadata": {},
   "source": [
    "``Fcase2 = (7225*x1 + 169*x2 + 1764*y1 + 1296*y2 + 5929*y3 + 2209*z)*  (x1*y1 + x2*y1 + x1*y2 + x2*y2 + x1*y3 + x2*y3 + x1*z + x2*z + y1*z + y2*z + y3*z) +  t*(-7268*x1*x2*y1 - 7268*x1*x2*y2 - 7268*x1*x2*y3 - 14259*x1*y1*y3 - 14259*x2*y1*y3 -    7009*x1*y2*y3 - 7009*x2*y2*y3 - 7268*x1*x2*z - 6724*x1*y1*z - 12180*x2*y1*z -    20060*x1*y2*z - 25516*x2*y2*z - 33557*x1*y3*z - 29911*x2*y3*z - 14259*y1*y3*z -    7009*y2*y3*z + 6156*x2*(y2 + y3)*z) - 9214*t*(y2 + y3)*  (y1*z + x1*(y1 + z) + x2*(y1 + z))``\n",
    "<br>\n",
    "<b>The Picard-Fuchs differential operator derived using the extended Griffiths-Dwork algorithm of <a href=\"http://arxiv.org/abs/2209.10962\">arXiv:2209.10962</a>   is given in <a href=\"PF-I321-case2-d4.txt\">PF-I321-case2-d4.txt</a></b>"
   ]
  },
  {
   "cell_type": "code",
   "execution_count": 66,
   "metadata": {},
   "outputs": [
    {
     "data": {
      "text/plain": [
       "[8,\n",
       " 99,\n",
       " (alpha - 5) * (alpha - 4) * (alpha - 3) * (alpha - 2) * (alpha - 1) * alpha * (alpha + 1)^2]"
      ]
     },
     "execution_count": 66,
     "metadata": {},
     "output_type": "execute_result"
    }
   ],
   "source": [
    "s = open(\"PF-I321-case2-d4.txt\").readlines()[0]\n",
    "dopHouse5ptd4case2 = OA(s.replace(\"^\", \"**\").replace(\"t\", \"z\").replace(\"D\", \"Dz\"))\n",
    "[dopHouse5ptd4case2.order(),dopHouse5ptd4case2.degree()]"
   ]
  },
  {
   "cell_type": "code",
   "execution_count": 67,
   "metadata": {},
   "outputs": [],
   "source": [
    "#fac2=dopHouse5ptd4case2.factor(verbose=True); \n",
    "#[x.order() for x in fac2]\n",
    "#with open('PF-I321-case2-d4-factor.txt',\"w\") as f:\n",
    "#     f.write(str(fac2))"
   ]
  },
  {
   "cell_type": "markdown",
   "metadata": {},
   "source": [
    "<b>The factorisation is in the text file <a href=\"PF-I321-case2-d4-factor.txt\">PF-I321-case2-d4-factor.txt</a></b>"
   ]
  },
  {
   "cell_type": "code",
   "execution_count": 14,
   "metadata": {},
   "outputs": [
    {
     "data": {
      "text/plain": [
       "[3, 1, 1, 1, 2]"
      ]
     },
     "execution_count": 14,
     "metadata": {},
     "output_type": "execute_result"
    }
   ],
   "source": [
    "file = open('PF-I321-case2-d4-factor.txt', 'r')\n",
    "lines = file.readlines()\n",
    "s = ''.join(lines);\n",
    "fac2=eval(preparse(s))\n",
    "[x.order() for x  in fac2]"
   ]
  },
  {
   "cell_type": "code",
   "execution_count": 15,
   "metadata": {},
   "outputs": [],
   "source": [
    "L2=fac2[4]"
   ]
  },
  {
   "cell_type": "markdown",
   "metadata": {},
   "source": [
    "<b>We construct the motivic elliptic curve from the quartic G and the associated Picard-Fuchs operator</b>"
   ]
  },
  {
   "cell_type": "code",
   "execution_count": 18,
   "metadata": {},
   "outputs": [],
   "source": [
    "R.<x1,x2,y1,y2,y3,z,t,w,X> = QQ[]\n",
    "Fcase2 =(7225*x1 + 169*x2 + 1764*y1 + 1296*y2 + 5929*y3 + 2209*z)*  (x1*y1 + x2*y1 + x1*y2 + x2*y2 + x1*y3 + x2*y3 + x1*z + x2*z + y1*z + y2*z + y3*z) +  t*(-7268*x1*x2*y1 - 7268*x1*x2*y2 - 7268*x1*x2*y3 - 14259*x1*y1*y3 - 14259*x2*y1*y3 -    7009*x1*y2*y3 - 7009*x2*y2*y3 - 7268*x1*x2*z - 6724*x1*y1*z - 12180*x2*y1*z -    20060*x1*y2*z - 25516*x2*y2*z - 33557*x1*y3*z - 29911*x2*y3*z - 14259*y1*y3*z -    7009*y2*y3*z + 6156*x2*(y2 + y3)*z) - 9214*t*(y2 + y3)*  (y1*z + x1*(y1 + z) + x2*(y1 + z))\n",
    "S = Fcase2.substitute(y1=y1/w,y2=y2/w,y3=y3/w).numerator()\n",
    "Xlist = [y1,y2,y3,w]\n",
    "M = matrix(R,4)\n",
    "for i in range(0,len(Xlist)):\n",
    "    for j in range(0,len(Xlist)):\n",
    "        if i == j:\n",
    "            M[i,j] = 2*S.coefficient(Xlist[i]*Xlist[j])\n",
    "        else:\n",
    "            M[i,j] = S.coefficient(Xlist[i]*Xlist[j])\n",
    "P=((M.determinant())//(t^2*(x1+x2+z)^2))\n",
    "G = P.substitute(z=-x1-x2).substitute(x1=1,x2=X)\n",
    "B4 = G.coefficient(X^4)\n",
    "B3 = G.coefficient(X^3)\n",
    "B2 = G.coefficient(X^2)\n",
    "B1 = G.coefficient(X)\n",
    "B0 = G.substitute(X=0)\n",
    "\n",
    "H = X^3 + B2*X^2 + (-4*B0*B4+B1*B3)*X + (B0*B3^2-4*B0*B2*B4+B1^2*B4)\n",
    "H1 = 4*H.substitute(X=X-B2/3)\n",
    "g2 = H1.coefficient(X)\n",
    "g3 = H1.substitute(X=0)\n",
    "h2 = -(H1).coefficient(X)\n",
    "h3 = -(H1).substitute(X=0)\n",
    "Del = h2^3 - 27*h3^2\n",
    "A2 = 16*Del*(3*(h2.derivative(t))*h3 - 2*h2*(h3.derivative(t)))\n",
    "A1 = 16*(9*h2^2*h3*(h2.derivative(t))^2 - (7*h2^3 + 135*h3^2)*(h2.derivative(t))*(h3.derivative(t)) + 108*h2*h3*(h3.derivative(t))^2 + Del*(-3*h3*(h2.derivative(t,2)) + 2*h2*(h3.derivative(t,2))))\n",
    "A0 = 21*h2*h3*(h2.derivative(t))^3 - 18*h2^2*(h2.derivative(t))^2*(h3.derivative(t)) + 8*(h3.derivative(t))*(15*h2*(h3.derivative(t))^2 - Del*(h2.derivative(t,2))) - 4*(h2.derivative(t))*(27*h3*(h3.derivative(t))^2 - 2*Del*(h3.derivative(t,2)))\n",
    "P1 = A1/A2\n",
    "P2 = A0/A2\n",
    "LEllcase2=OA(denominator(P1).substitute(t=z))*Dz^2+OA(numerator(P1).substitute(t=z))*Dz+OA(numerator(P2).substitute(t=z))"
   ]
  },
  {
   "cell_type": "markdown",
   "metadata": {},
   "source": [
    "<b>We check that the Picard-Fuchs operators constructed from the motivic elliptic curve is the most right factor once multiplied by $z$</b>"
   ]
  },
  {
   "cell_type": "code",
   "execution_count": 19,
   "metadata": {},
   "outputs": [
    {
     "data": {
      "text/plain": [
       "0"
      ]
     },
     "execution_count": 19,
     "metadata": {},
     "output_type": "execute_result"
    }
   ],
   "source": [
    "n2=L2.leading_coefficient()/(z*LEllcase2.leading_coefficient())\n",
    "L2-n2*Lcase2*z"
   ]
  },
  {
   "cell_type": "markdown",
   "metadata": {},
   "source": [
    "``Fcase3 = (1024*x1 + 256*x2 + 100*y1 + 5929*y2 + 900*y3 + 5776*z)*  (x1*y1 + x2*y1 + x1*y2 + x2*y2 + x1*y3 + x2*y3 + x1*z + x2*z + y1*z + y2*z + y3*z) +  t*(-12441*x1*x2*y1 - 12441*x1*x2*y2 - 12441*x1*x2*y3 - 44660*x1*y1*y3 - 44660*x2*y1*y3 - 14564*x1*y2*y3 - 14564*x2*y2*y3 - 12441*x1*x2*z - 11536*x1*y1*z -    22261*x2*y1*z - 17576*x1*y2*z - 28301*x2*y2*z - 77948*x1*y3*z - 74623*x2*y3*z -    44660*y1*y3*z - 14564*y2*y3*z + 13580*x2*(y2 + y3)*z) -  20866*t*(y2 + y3)*(y1*z + x1*(y1 + z) + x2*(y1 + z))``\n",
    "<br>\n",
    "<b>The Picard-Fuchs differential operator derived using the extended Griffiths-Dwork algorithm of <a href=\"http://arxiv.org/abs/2209.10962\">arXiv:2209.10962</a>   is given in <a href=\"PF-I321-case3-d4.txt\">PF-I321-case3-d4.txt</a></b>"
   ]
  },
  {
   "cell_type": "code",
   "execution_count": 20,
   "metadata": {},
   "outputs": [
    {
     "data": {
      "text/plain": [
       "[8, 99]"
      ]
     },
     "execution_count": 20,
     "metadata": {},
     "output_type": "execute_result"
    }
   ],
   "source": [
    "s = open(\"PF-I321-case3-d4.txt\").readlines()[0]\n",
    "dopHouse5ptd4case3 = OA(s.replace(\"^\", \"**\").replace(\"t\", \"z\").replace(\"D\", \"Dz\"))\n",
    "[dopHouse5ptd4case3.order(),dopHouse5ptd4case3.degree()]"
   ]
  },
  {
   "cell_type": "code",
   "execution_count": 70,
   "metadata": {
    "scrolled": false
   },
   "outputs": [],
   "source": [
    "#fac3=dopHouse5ptd4case3.factor(verbose=True); \n",
    "#[x.order() for x in fac3]\n",
    "#with open('PF-I321-case3-d4-factor.txt',\"w\") as f:\n",
    "#     f.write(str(fac3))"
   ]
  },
  {
   "cell_type": "markdown",
   "metadata": {},
   "source": [
    "<b>The factorisation is in the text file <a href=\"PF-I321-case3-d4-factor.txt\">PF-I321-case3-d4-factor.txt</a></b>"
   ]
  },
  {
   "cell_type": "code",
   "execution_count": 21,
   "metadata": {},
   "outputs": [
    {
     "data": {
      "text/plain": [
       "[3, 1, 1, 1, 2]"
      ]
     },
     "execution_count": 21,
     "metadata": {},
     "output_type": "execute_result"
    }
   ],
   "source": [
    "file = open('PF-I321-case3-d4-factor.txt', 'r')\n",
    "lines = file.readlines()\n",
    "s = ''.join(lines);\n",
    "fac3=eval(preparse(s))\n",
    "[x.order() for x  in fac3]"
   ]
  },
  {
   "cell_type": "code",
   "execution_count": 22,
   "metadata": {},
   "outputs": [],
   "source": [
    "L3=fac3[4]"
   ]
  },
  {
   "cell_type": "markdown",
   "metadata": {},
   "source": [
    "<b>We construct the motivic elliptic curve from the quartic G and the associated Picard-Fuchs operator</b>"
   ]
  },
  {
   "cell_type": "code",
   "execution_count": 23,
   "metadata": {},
   "outputs": [],
   "source": [
    "R.<x1,x2,y1,y2,y3,z,t,w,X> = QQ[]\n",
    "Fcase3 =(1024*x1 + 256*x2 + 100*y1 + 5929*y2 + 900*y3 + 5776*z)*  (x1*y1 + x2*y1 + x1*y2 + x2*y2 + x1*y3 + x2*y3 + x1*z + x2*z + y1*z + y2*z + y3*z) +  t*(-12441*x1*x2*y1 - 12441*x1*x2*y2 - 12441*x1*x2*y3 - 44660*x1*y1*y3 -    44660*x2*y1*y3 - 14564*x1*y2*y3 - 14564*x2*y2*y3 - 12441*x1*x2*z - 11536*x1*y1*z -    22261*x2*y1*z - 17576*x1*y2*z - 28301*x2*y2*z - 77948*x1*y3*z - 74623*x2*y3*z -    44660*y1*y3*z - 14564*y2*y3*z + 13580*x2*(y2 + y3)*z) -  20866*t*(y2 + y3)*(y1*z + x1*(y1 + z) + x2*(y1 + z))\n",
    "S = Fcase3.substitute(y1=y1/w,y2=y2/w,y3=y3/w).numerator()\n",
    "Xlist = [y1,y2,y3,w]\n",
    "M = matrix(R,4)\n",
    "for i in range(0,len(Xlist)):\n",
    "    for j in range(0,len(Xlist)):\n",
    "        if i == j:\n",
    "            M[i,j] = 2*S.coefficient(Xlist[i]*Xlist[j])\n",
    "        else:\n",
    "            M[i,j] = S.coefficient(Xlist[i]*Xlist[j])\n",
    "P=((M.determinant())//(t^2*(x1+x2+z)^2))\n",
    "G = P.substitute(z=-x1-x2).substitute(x1=1,x2=X)\n",
    "B4 = G.coefficient(X^4)\n",
    "B3 = G.coefficient(X^3)\n",
    "B2 = G.coefficient(X^2)\n",
    "B1 = G.coefficient(X)\n",
    "B0 = G.substitute(X=0)\n",
    "\n",
    "H = X^3 + B2*X^2 + (-4*B0*B4+B1*B3)*X + (B0*B3^2-4*B0*B2*B4+B1^2*B4)\n",
    "H1 = 4*H.substitute(X=X-B2/3)\n",
    "g2 = H1.coefficient(X)\n",
    "g3 = H1.substitute(X=0)\n",
    "h2 = -(H1).coefficient(X)\n",
    "h3 = -(H1).substitute(X=0)\n",
    "Del = h2^3 - 27*h3^2\n",
    "A2 = 16*Del*(3*(h2.derivative(t))*h3 - 2*h2*(h3.derivative(t)))\n",
    "A1 = 16*(9*h2^2*h3*(h2.derivative(t))^2 - (7*h2^3 + 135*h3^2)*(h2.derivative(t))*(h3.derivative(t)) + 108*h2*h3*(h3.derivative(t))^2 + Del*(-3*h3*(h2.derivative(t,2)) + 2*h2*(h3.derivative(t,2))))\n",
    "A0 = 21*h2*h3*(h2.derivative(t))^3 - 18*h2^2*(h2.derivative(t))^2*(h3.derivative(t)) + 8*(h3.derivative(t))*(15*h2*(h3.derivative(t))^2 - Del*(h2.derivative(t,2))) - 4*(h2.derivative(t))*(27*h3*(h3.derivative(t))^2 - 2*Del*(h3.derivative(t,2)))\n",
    "P1 = A1/A2\n",
    "P2 = A0/A2\n",
    "LEllcase3=OA(denominator(P1).substitute(t=z))*Dz^2+OA(numerator(P1).substitute(t=z))*Dz+OA(numerator(P2).substitute(t=z))"
   ]
  },
  {
   "cell_type": "markdown",
   "metadata": {},
   "source": [
    "<b>We check that the Picard-Fuchs operators constructed from the motivic elliptic curve is the most right factor once multiplied by $z$</b>"
   ]
  },
  {
   "cell_type": "code",
   "execution_count": 25,
   "metadata": {},
   "outputs": [
    {
     "data": {
      "text/plain": [
       "0"
      ]
     },
     "execution_count": 25,
     "metadata": {},
     "output_type": "execute_result"
    }
   ],
   "source": [
    "n3=L3.leading_coefficient()/(z*LEllcase3.leading_coefficient())\n",
    "L3-n3*LEllcase3*z"
   ]
  },
  {
   "cell_type": "markdown",
   "metadata": {},
   "source": [
    "``Fcase4 = (1600*x1 + 64*x2 + 3136*y1 + 8464*y2 + 5929*y3 + 25*z)*  (x1*y1 + x2*y1 + x1*y2 + x2*y2 + x1*y3 + x2*y3 + x1*z + x2*z + y1*z + y2*z + y3*z) +  t*(-14398*x1*x2*y1 - 14398*x1*x2*y2 - 14398*x1*x2*y3 - 11314*x1*y1*y3 -    11314*x2*y1*y3 - 21234*x1*y2*y3 - 21234*x2*y2*y3 - 14398*x1*x2*z - 17419*x1*y1*z -    57109*x2*y1*z - 23309*x1*y2*z - 62999*x2*y2*z - 13183*x1*y3*z - 27811*x2*y3*z -    11314*y1*y3*z - 21234*y2*y3*z - 11376*x2*(y2 + y3)*z) -  3487*t*(y2 + y3)*(y1*z + x1*(y1 + z) + x2*(y1 + z))``\n",
    "<br>\n",
    "<b>The Picard-Fuchs differential operator derived using the extended Griffiths-Dwork algorithm of <a href=\"http://arxiv.org/abs/2209.10962\">arXiv:2209.10962</a>   is given in <a href=\"PF-I321-case4-d4.txt\">PF-I321-case4-d4.txt</a></b>"
   ]
  },
  {
   "cell_type": "code",
   "execution_count": 26,
   "metadata": {},
   "outputs": [
    {
     "data": {
      "text/plain": [
       "[8, 99]"
      ]
     },
     "execution_count": 26,
     "metadata": {},
     "output_type": "execute_result"
    }
   ],
   "source": [
    "s = open(\"PF-I321-case4-d4.txt\").readlines()[0]\n",
    "dopHouse5ptd4case4 = OA(s.replace(\"^\", \"**\").replace(\"t\", \"z\").replace(\"D\", \"Dz\"))\n",
    "[dopHouse5ptd4case4.order(),dopHouse5ptd4case4.degree()]"
   ]
  },
  {
   "cell_type": "code",
   "execution_count": 27,
   "metadata": {},
   "outputs": [],
   "source": [
    "#fac4=dopHouse5ptd4case4.factor(verbose=True); \n",
    "#[x.order() for x in fac4]\n",
    "#with open('PF-I321-case4-d4-factor.txt',\"w\") as f:\n",
    "#     f.write(str(fac4))"
   ]
  },
  {
   "cell_type": "markdown",
   "metadata": {},
   "source": [
    "<b>The factorisation is in the text file <a href=\"PF-I321-case4-d4-factor.txt\">PF-I321-case4-d4-factor.txt</a></b>"
   ]
  },
  {
   "cell_type": "code",
   "execution_count": 28,
   "metadata": {},
   "outputs": [
    {
     "data": {
      "text/plain": [
       "[3, 1, 1, 1, 2]"
      ]
     },
     "execution_count": 28,
     "metadata": {},
     "output_type": "execute_result"
    }
   ],
   "source": [
    "file = open('PF-I321-case4-d4-factor.txt', 'r')\n",
    "lines = file.readlines()\n",
    "s = ''.join(lines);\n",
    "fac4=eval(preparse(s))\n",
    "[x.order() for x  in fac4]"
   ]
  },
  {
   "cell_type": "code",
   "execution_count": 29,
   "metadata": {},
   "outputs": [],
   "source": [
    "L4=fac4[4]"
   ]
  },
  {
   "cell_type": "markdown",
   "metadata": {},
   "source": [
    "<b>We construct the motivic elliptic curve from the quartic G and the associated Picard-Fuchs operator</b>"
   ]
  },
  {
   "cell_type": "code",
   "execution_count": 30,
   "metadata": {},
   "outputs": [],
   "source": [
    "R.<x1,x2,y1,y2,y3,z,t,w,X> = QQ[]\n",
    "Fcase4 =(1600*x1 + 64*x2 + 3136*y1 + 8464*y2 + 5929*y3 + 25*z)*  (x1*y1 + x2*y1 + x1*y2 + x2*y2 + x1*y3 + x2*y3 + x1*z + x2*z + y1*z + y2*z + y3*z) +  t*(-14398*x1*x2*y1 - 14398*x1*x2*y2 - 14398*x1*x2*y3 - 11314*x1*y1*y3 -    11314*x2*y1*y3 - 21234*x1*y2*y3 - 21234*x2*y2*y3 - 14398*x1*x2*z - 17419*x1*y1*z -    57109*x2*y1*z - 23309*x1*y2*z - 62999*x2*y2*z - 13183*x1*y3*z - 27811*x2*y3*z -    11314*y1*y3*z - 21234*y2*y3*z - 11376*x2*(y2 + y3)*z) -  3487*t*(y2 + y3)*(y1*z + x1*(y1 + z) + x2*(y1 + z))\n",
    "S = Fcase4.substitute(y1=y1/w,y2=y2/w,y3=y3/w).numerator()\n",
    "Xlist = [y1,y2,y3,w]\n",
    "M = matrix(R,4)\n",
    "for i in range(0,len(Xlist)):\n",
    "    for j in range(0,len(Xlist)):\n",
    "        if i == j:\n",
    "            M[i,j] = 2*S.coefficient(Xlist[i]*Xlist[j])\n",
    "        else:\n",
    "            M[i,j] = S.coefficient(Xlist[i]*Xlist[j])\n",
    "P=((M.determinant())//(t^2*(x1+x2+z)^2))\n",
    "G = P.substitute(z=-x1-x2).substitute(x1=1,x2=X)\n",
    "B4 = G.coefficient(X^4)\n",
    "B3 = G.coefficient(X^3)\n",
    "B2 = G.coefficient(X^2)\n",
    "B1 = G.coefficient(X)\n",
    "B0 = G.substitute(X=0)\n",
    "\n",
    "H = X^3 + B2*X^2 + (-4*B0*B4+B1*B3)*X + (B0*B3^2-4*B0*B2*B4+B1^2*B4)\n",
    "H1 = 4*H.substitute(X=X-B2/3)\n",
    "g2 = H1.coefficient(X)\n",
    "g3 = H1.substitute(X=0)\n",
    "h2 = -(H1).coefficient(X)\n",
    "h3 = -(H1).substitute(X=0)\n",
    "Del = h2^3 - 27*h3^2\n",
    "A2 = 16*Del*(3*(h2.derivative(t))*h3 - 2*h2*(h3.derivative(t)))\n",
    "A1 = 16*(9*h2^2*h3*(h2.derivative(t))^2 - (7*h2^3 + 135*h3^2)*(h2.derivative(t))*(h3.derivative(t)) + 108*h2*h3*(h3.derivative(t))^2 + Del*(-3*h3*(h2.derivative(t,2)) + 2*h2*(h3.derivative(t,2))))\n",
    "A0 = 21*h2*h3*(h2.derivative(t))^3 - 18*h2^2*(h2.derivative(t))^2*(h3.derivative(t)) + 8*(h3.derivative(t))*(15*h2*(h3.derivative(t))^2 - Del*(h2.derivative(t,2))) - 4*(h2.derivative(t))*(27*h3*(h3.derivative(t))^2 - 2*Del*(h3.derivative(t,2)))\n",
    "P1 = A1/A2\n",
    "P2 = A0/A2\n",
    "LEllcase4=OA(denominator(P1).substitute(t=z))*Dz^2+OA(numerator(P1).substitute(t=z))*Dz+OA(numerator(P2).substitute(t=z))"
   ]
  },
  {
   "cell_type": "markdown",
   "metadata": {},
   "source": [
    "<b>We check that the Picard-Fuchs operators constructed from the motivic elliptic curve is the most right factor once multiplied by $z$</b>"
   ]
  },
  {
   "cell_type": "code",
   "execution_count": 32,
   "metadata": {},
   "outputs": [
    {
     "data": {
      "text/plain": [
       "0"
      ]
     },
     "execution_count": 32,
     "metadata": {},
     "output_type": "execute_result"
    }
   ],
   "source": [
    "n4=L4.leading_coefficient()/(z*LEllcase4.leading_coefficient())\n",
    "L4-n4*LEllcase4*z"
   ]
  }
 ],
 "metadata": {
  "kernelspec": {
   "display_name": "SageMath 9.7",
   "language": "sage",
   "name": "sagemath-9.7"
  },
  "language_info": {
   "codemirror_mode": {
    "name": "ipython",
    "version": 3
   },
   "file_extension": ".py",
   "mimetype": "text/x-python",
   "name": "python",
   "nbconvert_exporter": "python",
   "pygments_lexer": "ipython3",
   "version": "3.10.5"
  }
 },
 "nbformat": 4,
 "nbformat_minor": 1
}
