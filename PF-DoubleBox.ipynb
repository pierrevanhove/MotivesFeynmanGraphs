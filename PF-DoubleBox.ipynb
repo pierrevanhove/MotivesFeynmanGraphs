{
 "cells": [
  {
   "cell_type": "markdown",
   "metadata": {},
   "source": [
    "![DoubleBox6pt](DoubleBox6pt.png)"
   ]
  },
  {
   "cell_type": "markdown",
   "metadata": {},
   "source": [
    "<H3><center><b>The double box motive</b></center></H3>\n",
    "$$\n",
    "\\int_{\\gamma}{{\\bf U}_{3,1,3}^{7-{3D\\over2}} \\over {\\bf F}_{3,1,3}(t)^{7-D}} dx_1\\cdots dx_{7}\n",
    "$$\n",
    "$$\n",
    "{\\bf U}_{3,1,3}  = \\left(z +  \\sum_{i=1}^3 x_i\\right) \\left( \\sum_{i=1}^3 y_i \\right) + z \\left( \\sum_{i=1}^3 x_i\\right)\n",
    "$$\n",
    "$$\n",
    "{\\bf V}_{3,1,3}  = \\left( z + \\sum_{i=1}^3\n",
    "                  y_i\\right)\\left(p_2^2 x_1\n",
    "                  x_2+(p_2+p_3)^2x_1x_3+p_3^2x_2x_3\\right)    + \\left(z+\\sum_{i=1}^3 x_i\\right)\\left(\n",
    "                  p_6^2y_1 y_2+(p_5+p_6)^2y_1y_3+p_5^2y_2y_5 \\right) \n",
    "                                                + z\\left(       \\sum_{i=1}^3\\sum_{j=1}^3\n",
    "                                                                          \\left(\\sum_{s=7-i}^6\n",
    "                                                                          p_{s}+\\sum_{r=1}^j\n",
    "                                                                          p_r\\right)^2\n",
    "                                                                          x_i y_i \\right)\n",
    "$$\n",
    "$$\n",
    "{\\bf F}_{3,1,3}(t) = {\\bf U}_{3,1,3}\\left( \\sum_{i=1}^3 m^2_i y_i +\\sum_{i=1}^3 m_{i+3}^2 x_i + m^2_{7} z\\right)-t {\\bf V}_{3,1,3}\n",
    "$$"
   ]
  },
  {
   "cell_type": "code",
   "execution_count": 3,
   "metadata": {},
   "outputs": [],
   "source": [
    "S.<X,x1,x2,x3,z,y1,y2,y3,w,t,s,s11,s22,s33,s44,s55,s66,s12,s23,s34,s45,s56,s61,s123,s234,s345,s456,s561,s13,s35,m1,m2,m3,m4,m5,m6,m7> = QQ[]\n",
    "U = (y1 + y2 + y3)*z + (x1 + x2 + x3)*z + (y1 + y2 + y3)*(x1 + x2 + x3)\n",
    "P = s55*y1*y2 + s45*y1*y3 + s44*y2*y3\n",
    "Q = s11*x1*x2 + s12*x1*x3 + s22*x2*x3\n",
    "R = s66*x1*y1 + s61*x2*y1 + s345*x3*y1 + s56*x1*y2 + s234*x2*y2 +   s34*x3*y2 + s123*x1*y3 + s23*x2*y3 + s33*x3*y3\n",
    "V = (z+y1+y2+y3)*Q + (z+x1+x2+x3)*P + z*R\n",
    "F = U*(m1*x1+m2*x2+m3*x3 + m4*z + m5*y1 + m6*y2 + m7*y3)  -t* V\n",
    "q = z/(z+x1+x2+x3)\n",
    "Xlist = [x1,x2,y1,y2,y3,w]"
   ]
  },
  {
   "cell_type": "markdown",
   "metadata": {},
   "source": [
    "There are the four numerical cases analysed in <a href=\"https://arxiv.org/abs/2209.10962\">[arXiv:2209.10962]</a> "
   ]
  },
  {
   "cell_type": "code",
   "execution_count": 6,
   "metadata": {},
   "outputs": [],
   "source": [
    "Fcase1 = F.substitute(m1 = 1369,m2 = 1369, m3 = 1849,m4 = 22201,m5 = 5041, m6 = 9409,m7 = 1849,s11 = 7419,s12 = 17337, s123 = 34157, s22 = 21028, s23 = 50886, s234 = 35926, s33 = 19674,   s34 = 18678, s345 = 26899, s44 = 10770,s45 = 25171,s55 = 9735,s56 = 13929,s61 = 39449,s66 = 15716)\n",
    "Fcase2 = F.substitute(m1 = 36481, m2 = 529, m3 = 529, m4 = 2209, m5 = 1681, m6 = 169, m7 = 3481, s11 = 7419, s12 = 17337, s123 = 34157, s22 = 21028, s23 = 50886, s234 = 35926, s33 = 19674, s34 = 18678, s345 = 26899, s44 = 10770, s45 = 25171, s55 = 9735, s56 = 13929, s61 = 39449, s66 = 15716)\n",
    "Fcase3 = F.substitute(m1 = 10609, m2 = 39601, m3 = 5329, m4 = 9409, m5 = 289, m6 = 32761, m7 = 9, s11 = 5676, s12 = 16990, s123 = 7749, s22 = 9062, s23 = 6887, s234 = 8533, s33 = 13151, s34 = 19419, s345 = 35557, s44 = 21558, s45 = 20726, s55 = 10766, s56 = 26043, s61 = 14135, s66 = 20501)\n",
    "Fcase4 = F.substitute(m1 = 6241, m2 = 121, m3 = 9, m4 = 26569, m5 = 289, m6 = 121, m7 = 289, s11 = 7028, s12 = 57030, s123 = 32731, s22 = 25366, s23 = 15109, s234 = 37473, s33 = 11077, s34 = 44583, s345 = 60728, s44 = 17658, s45 = 35865, s55 = 8271, s56 = 47727, s61 = 39718, s66 = 46446)"
   ]
  },
  {
   "cell_type": "code",
   "execution_count": 33,
   "metadata": {},
   "outputs": [],
   "source": [
    "G = (Fcase1.substitute(y1=y1*q, y2=y2*q,y3=y3*q)/z).numerator()\n",
    "H = G.substitute(x3 = X - x1 - x2 - y1-y2-y3).substitute(x1=x1/w,x2=x2/w,y1=y1/w,y2=y2/w,y3=y3/w).numerator()\n",
    "L = matrix(S,6)\n",
    "for i in range(0,len(Xlist)):\n",
    "    for j in range(0,len(Xlist)):\n",
    "        if i == j:\n",
    "            L[i,j] = 2*H.coefficient(Xlist[i]*Xlist[j])\n",
    "        else:\n",
    "            L[i,j] = H.coefficient(Xlist[i]*Xlist[j])\n",
    "Disc = (L.determinant()/(X^2*z^2)).numerator()\n",
    "G = Disc.substitute(z= 1)\n",
    "B4 = G.coefficient(X^4)\n",
    "B3 = G.coefficient(X^3)\n",
    "B2 = G.coefficient(X^2)\n",
    "B1 = G.coefficient(X)\n",
    "B0 = G.substitute(X=0)\n",
    "#\n",
    "H = X^3 + B2*X^2 + (-4*B0*B4+B1*B3)*X + (B0*B3^2-4*B0*B2*B4+B1^2*B4)\n",
    "H1 = 4*H.substitute(X=X-B2/3)\n",
    "g2 = H1.coefficient(X)\n",
    "g3 = H1.substitute(X=0)\n",
    "h2 = -(H1).coefficient(X)\n",
    "h3 = -(H1).substitute(X=0)\n",
    "Del = h2^3 - 27*h3^2\n",
    "A0 = 21*h2*h3*(h2.derivative(t))^3 - 18*h2^2*(h2.derivative(t))^2*(h3.derivative(t)) + 8*(h3.derivative(t))*(15*h2*(h3.derivative(t))^2 - Del*(h2.derivative(t,2))) - 4*(h2.derivative(t))*(27*h3*(h3.derivative(t))^2 - 2*Del*(h3.derivative(t,2)))\n",
    "A2 = 16*Del*(3*(h2.derivative(t))*h3 - 2*h2*(h3.derivative(t)))\n",
    "A1 = 16*(9*h2^2*h3*(h2.derivative(t))^2 - (7*h2^3 + 135*h3^2)*(h2.derivative(t))*(h3.derivative(t)) + 108*h2*h3*(h3.derivative(t))^2 + Del*(-3*h3*(h2.derivative(t,2)) + 2*h2*(h3.derivative(t,2))))\n",
    "A0 = 21*h2*h3*(h2.derivative(t))^3 - 18*h2^2*(h2.derivative(t))^2*(h3.derivative(t)) + 8*(h3.derivative(t))*(15*h2*(h3.derivative(t))^2 - Del*(h2.derivative(t,2))) - 4*(h2.derivative(t))*(27*h3*(h3.derivative(t))^2 - 2*Del*(h3.derivative(t,2)))\n",
    "P1case1 = A1/A2\n",
    "P2case1 = A0/A2\n",
    "Lcase1 = (P2case1 - (P1case1.derivative(t))/2 - (P1case1^2)/4)"
   ]
  },
  {
   "cell_type": "code",
   "execution_count": 34,
   "metadata": {},
   "outputs": [],
   "source": [
    "G = (Fcase2.substitute(y1=y1*q, y2=y2*q,y3=y3*q)/z).numerator()\n",
    "H = G.substitute(x3 = X - x1 - x2 - y1-y2-y3).substitute(x1=x1/w,x2=x2/w,y1=y1/w,y2=y2/w,y3=y3/w).numerator()\n",
    "L = matrix(S,6)\n",
    "for i in range(0,len(Xlist)):\n",
    "    for j in range(0,len(Xlist)):\n",
    "        if i == j:\n",
    "            L[i,j] = 2*H.coefficient(Xlist[i]*Xlist[j])\n",
    "        else:\n",
    "            L[i,j] = H.coefficient(Xlist[i]*Xlist[j])\n",
    "Disc = (L.determinant()/(X^2*z^2)).numerator()\n",
    "G = Disc.substitute(z= 1)\n",
    "B4 = G.coefficient(X^4)\n",
    "B3 = G.coefficient(X^3)\n",
    "B2 = G.coefficient(X^2)\n",
    "B1 = G.coefficient(X)\n",
    "B0 = G.substitute(X=0)\n",
    "#\n",
    "H = X^3 + B2*X^2 + (-4*B0*B4+B1*B3)*X + (B0*B3^2-4*B0*B2*B4+B1^2*B4)\n",
    "H1 = 4*H.substitute(X=X-B2/3)\n",
    "g2 = H1.coefficient(X)\n",
    "g3 = H1.substitute(X=0)\n",
    "h2 = -(H1).coefficient(X)\n",
    "h3 = -(H1).substitute(X=0)\n",
    "Del = h2^3 - 27*h3^2\n",
    "A0 = 21*h2*h3*(h2.derivative(t))^3 - 18*h2^2*(h2.derivative(t))^2*(h3.derivative(t)) + 8*(h3.derivative(t))*(15*h2*(h3.derivative(t))^2 - Del*(h2.derivative(t,2))) - 4*(h2.derivative(t))*(27*h3*(h3.derivative(t))^2 - 2*Del*(h3.derivative(t,2)))\n",
    "A2 = 16*Del*(3*(h2.derivative(t))*h3 - 2*h2*(h3.derivative(t)))\n",
    "A1 = 16*(9*h2^2*h3*(h2.derivative(t))^2 - (7*h2^3 + 135*h3^2)*(h2.derivative(t))*(h3.derivative(t)) + 108*h2*h3*(h3.derivative(t))^2 + Del*(-3*h3*(h2.derivative(t,2)) + 2*h2*(h3.derivative(t,2))))\n",
    "A0 = 21*h2*h3*(h2.derivative(t))^3 - 18*h2^2*(h2.derivative(t))^2*(h3.derivative(t)) + 8*(h3.derivative(t))*(15*h2*(h3.derivative(t))^2 - Del*(h2.derivative(t,2))) - 4*(h2.derivative(t))*(27*h3*(h3.derivative(t))^2 - 2*Del*(h3.derivative(t,2)))\n",
    "P1case2 = A1/A2\n",
    "P2case2 = A0/A2\n",
    "Lcase2 = (P2case2 - (P1case2.derivative(t))/2 - (P1case2^2)/4)"
   ]
  },
  {
   "cell_type": "code",
   "execution_count": 35,
   "metadata": {},
   "outputs": [],
   "source": [
    "G = (Fcase3.substitute(y1=y1*q, y2=y2*q,y3=y3*q)/z).numerator()\n",
    "H = G.substitute(x3 = X - x1 - x2 - y1-y2-y3).substitute(x1=x1/w,x2=x2/w,y1=y1/w,y2=y2/w,y3=y3/w).numerator()\n",
    "L = matrix(S,6)\n",
    "for i in range(0,len(Xlist)):\n",
    "    for j in range(0,len(Xlist)):\n",
    "        if i == j:\n",
    "            L[i,j] = 2*H.coefficient(Xlist[i]*Xlist[j])\n",
    "        else:\n",
    "            L[i,j] = H.coefficient(Xlist[i]*Xlist[j])\n",
    "Disc = (L.determinant()/(X^2*z^2)).numerator()\n",
    "G = Disc.substitute(z= 1)\n",
    "B4 = G.coefficient(X^4)\n",
    "B3 = G.coefficient(X^3)\n",
    "B2 = G.coefficient(X^2)\n",
    "B1 = G.coefficient(X)\n",
    "B0 = G.substitute(X=0)\n",
    "#\n",
    "H = X^3 + B2*X^2 + (-4*B0*B4+B1*B3)*X + (B0*B3^2-4*B0*B2*B4+B1^2*B4)\n",
    "H1 = 4*H.substitute(X=X-B2/3)\n",
    "g2 = H1.coefficient(X)\n",
    "g3 = H1.substitute(X=0)\n",
    "h2 = -(H1).coefficient(X)\n",
    "h3 = -(H1).substitute(X=0)\n",
    "Del = h2^3 - 27*h3^2\n",
    "A0 = 21*h2*h3*(h2.derivative(t))^3 - 18*h2^2*(h2.derivative(t))^2*(h3.derivative(t)) + 8*(h3.derivative(t))*(15*h2*(h3.derivative(t))^2 - Del*(h2.derivative(t,2))) - 4*(h2.derivative(t))*(27*h3*(h3.derivative(t))^2 - 2*Del*(h3.derivative(t,2)))\n",
    "A2 = 16*Del*(3*(h2.derivative(t))*h3 - 2*h2*(h3.derivative(t)))\n",
    "A1 = 16*(9*h2^2*h3*(h2.derivative(t))^2 - (7*h2^3 + 135*h3^2)*(h2.derivative(t))*(h3.derivative(t)) + 108*h2*h3*(h3.derivative(t))^2 + Del*(-3*h3*(h2.derivative(t,2)) + 2*h2*(h3.derivative(t,2))))\n",
    "A0 = 21*h2*h3*(h2.derivative(t))^3 - 18*h2^2*(h2.derivative(t))^2*(h3.derivative(t)) + 8*(h3.derivative(t))*(15*h2*(h3.derivative(t))^2 - Del*(h2.derivative(t,2))) - 4*(h2.derivative(t))*(27*h3*(h3.derivative(t))^2 - 2*Del*(h3.derivative(t,2)))\n",
    "P1case3 = A1/A2\n",
    "P2case3 = A0/A2\n",
    "Lcase3 = (P2case3 - (P1case3.derivative(t))/2 - (P1case3^2)/4)"
   ]
  },
  {
   "cell_type": "code",
   "execution_count": 36,
   "metadata": {},
   "outputs": [],
   "source": [
    "G = (Fcase4.substitute(y1=y1*q, y2=y2*q,y3=y3*q)/z).numerator()\n",
    "H = G.substitute(x3 = X - x1 - x2 - y1-y2-y3).substitute(x1=x1/w,x2=x2/w,y1=y1/w,y2=y2/w,y3=y3/w).numerator()\n",
    "L = matrix(S,6)\n",
    "for i in range(0,len(Xlist)):\n",
    "    for j in range(0,len(Xlist)):\n",
    "        if i == j:\n",
    "            L[i,j] = 2*H.coefficient(Xlist[i]*Xlist[j])\n",
    "        else:\n",
    "            L[i,j] = H.coefficient(Xlist[i]*Xlist[j])\n",
    "Disc = (L.determinant()/(X^2*z^2)).numerator()\n",
    "G = Disc.substitute(z= 1)\n",
    "B4 = G.coefficient(X^4)\n",
    "B3 = G.coefficient(X^3)\n",
    "B2 = G.coefficient(X^2)\n",
    "B1 = G.coefficient(X)\n",
    "B0 = G.substitute(X=0)\n",
    "#\n",
    "H = X^3 + B2*X^2 + (-4*B0*B4+B1*B3)*X + (B0*B3^2-4*B0*B2*B4+B1^2*B4)\n",
    "H1 = 4*H.substitute(X=X-B2/3)\n",
    "g2 = H1.coefficient(X)\n",
    "g3 = H1.substitute(X=0)\n",
    "h2 = -(H1).coefficient(X)\n",
    "h3 = -(H1).substitute(X=0)\n",
    "Del = h2^3 - 27*h3^2\n",
    "A0 = 21*h2*h3*(h2.derivative(t))^3 - 18*h2^2*(h2.derivative(t))^2*(h3.derivative(t)) + 8*(h3.derivative(t))*(15*h2*(h3.derivative(t))^2 - Del*(h2.derivative(t,2))) - 4*(h2.derivative(t))*(27*h3*(h3.derivative(t))^2 - 2*Del*(h3.derivative(t,2)))\n",
    "A2 = 16*Del*(3*(h2.derivative(t))*h3 - 2*h2*(h3.derivative(t)))\n",
    "A1 = 16*(9*h2^2*h3*(h2.derivative(t))^2 - (7*h2^3 + 135*h3^2)*(h2.derivative(t))*(h3.derivative(t)) + 108*h2*h3*(h3.derivative(t))^2 + Del*(-3*h3*(h2.derivative(t,2)) + 2*h2*(h3.derivative(t,2))))\n",
    "A0 = 21*h2*h3*(h2.derivative(t))^3 - 18*h2^2*(h2.derivative(t))^2*(h3.derivative(t)) + 8*(h3.derivative(t))*(15*h2*(h3.derivative(t))^2 - Del*(h2.derivative(t,2))) - 4*(h2.derivative(t))*(27*h3*(h3.derivative(t))^2 - 2*Del*(h3.derivative(t,2)))\n",
    "P1case4 = A1/A2\n",
    "P2case4 = A0/A2\n",
    "Lcase4 = (P2case4 - (P1case4.derivative(t))/2 - (P1case4^2)/4)"
   ]
  },
  {
   "cell_type": "code",
   "execution_count": 37,
   "metadata": {},
   "outputs": [],
   "source": [
    "from ore_algebra import *\n",
    "OA, z, Dz = DifferentialOperators(QQ, 'z')"
   ]
  },
  {
   "cell_type": "markdown",
   "metadata": {},
   "source": [
    "``F := (1369*x1 + 1369*x2 + 1849*x3 + 5041*x4 + 9409*x5 + 1849*x6 + 22201*x7)*(x1*x4 + x2*x4 + x3*x4 + x1*x5 + x2*x5 + x3*x5 + x1*x6 + x2*x6 + x3*x6 + x1*x7 + x2*x7 + x3*x7 + x4*x7 + x5*x7 + x6*x7) - t*(7419*x1*x2*x4 + 17337*x1*x3*x4 + 21028*x2*x3*x4 + 7419*x1*x2*x5 + 17337*x1*x3*x5 + 21028*x2*x3*x5 + 9735*x1*x4*x5 + 9735*x2*x4*x5 + 9735*x3*x4*x5 + 7419*x1*x2*x6 + 17337*x1*x3*x6 + 21028*x2*x3*x6 + 25171*x1*x4*x6 + 25171*x2*x4*x6 + 25171*x3*x4*x6 + 10770*x1*x5*x6 + 10770*x2*x5*x6 + 10770*x3*x5*x6 + 7419*x1*x2*x7 + 17337*x1*x3*x7 + 21028*x2*x3*x7 + 15716*x1*x4*x7 + 39449*x2*x4*x7 + 26899*x3*x4*x7 + 13929*x1*x5*x7 + 35926*x2*x5*x7 + 18678*x3*x5*x7 + 9735*x4*x5*x7 + 34157*x1*x6*x7 + 50886*x2*x6*x7 + 19674*x3*x6*x7 + 25171*x4*x6*x7 + 10770*x5*x6*x7)``\n",
    "<br>\n",
    "The associated Picard-Fuchs operator is the file <a href=\"PF-DoubleBox-6pt-case1.txt\">PF-DoubleBox-6pt-case1.txt</a>"
   ]
  },
  {
   "cell_type": "code",
   "execution_count": 38,
   "metadata": {
    "scrolled": true
   },
   "outputs": [],
   "source": [
    "s = open(\"PF-DoubleBox-6pt-case1.txt\").readlines()[0]\n",
    "DoubleBox6ptcase1 = OA(s.replace(\"^\", \"**\").replace(\"t\", \"z\").replace(\"D\", \"Dz\"))"
   ]
  },
  {
   "cell_type": "code",
   "execution_count": 47,
   "metadata": {},
   "outputs": [],
   "source": [
    "listcoeff=DoubleBox6ptcase1.coefficients()\n",
    "p1case1=listcoeff[1]/listcoeff[2]\n",
    "p2case1=listcoeff[0]/listcoeff[2]"
   ]
  },
  {
   "cell_type": "code",
   "execution_count": 46,
   "metadata": {},
   "outputs": [
    {
     "data": {
      "text/plain": [
       "0"
      ]
     },
     "execution_count": 46,
     "metadata": {},
     "output_type": "execute_result"
    }
   ],
   "source": [
    "p1case1.subs(z=t)-P1case1\n",
    "p2case1.subs(z=t)-P2case1"
   ]
  },
  {
   "cell_type": "markdown",
   "metadata": {},
   "source": [
    "``F := (36481*x1 + 529*x2 + 529*x3 + 1681*x4 + 169*x5 + 3481*x6 + 2209*x7)*(x1*x4 + x2*x4 + x3*x4 + x1*x5 + x2*x5 + x3*x5 + x1*x6 + x2*x6 + x3*x6 + x1*x7 + x2*x7 + x3*x7 + x4*x7 + x5*x7 + x6*x7) - t*(7419*x1*x2*x4 + 17337*x1*x3*x4 + 21028*x2*x3*x4 + 7419*x1*x2*x5 + 17337*x1*x3*x5 + 21028*x2*x3*x5 + 9735*x1*x4*x5 + 9735*x2*x4*x5 + 9735*x3*x4*x5 + 7419*x1*x2*x6 + 17337*x1*x3*x6 + 21028*x2*x3*x6 + 25171*x1*x4*x6 + 25171*x2*x4*x6 + 25171*x3*x4*x6 + 10770*x1*x5*x6 + 10770*x2*x5*x6 + 10770*x3*x5*x6 + 7419*x1*x2*x7 + 17337*x1*x3*x7 + 21028*x2*x3*x7 + 15716*x1*x4*x7 + 39449*x2*x4*x7 + 26899*x3*x4*x7 + 13929*x1*x5*x7 + 35926*x2*x5*x7 + 18678*x3*x5*x7 + 9735*x4*x5*x7 + 34157*x1*x6*x7 + 50886*x2*x6*x7 + 19674*x3*x6*x7 + 25171*x4*x6*x7 + 10770*x5*x6*x7)``\n",
    "<br>\n",
    "The associated Picard-Fuchs operator is the file <a href=\"PF-DoubleBox-6pt-case2.txt\">PF-DoubleBox-6pt-case2.txt</a>"
   ]
  },
  {
   "cell_type": "code",
   "execution_count": 48,
   "metadata": {},
   "outputs": [],
   "source": [
    "s = open(\"PF-DoubleBox-6pt-case2.txt\").readlines()[0]\n",
    "DoubleBox6ptcase2 = OA(s.replace(\"^\", \"**\").replace(\"t\", \"z\").replace(\"D\", \"Dz\"))"
   ]
  },
  {
   "cell_type": "code",
   "execution_count": 49,
   "metadata": {},
   "outputs": [],
   "source": [
    "listcoeff=DoubleBox6ptcase2.coefficients()\n",
    "p1case2=listcoeff[1]/listcoeff[2]\n",
    "p2case2=listcoeff[0]/listcoeff[2]"
   ]
  },
  {
   "cell_type": "code",
   "execution_count": 50,
   "metadata": {},
   "outputs": [
    {
     "data": {
      "text/plain": [
       "0"
      ]
     },
     "execution_count": 50,
     "metadata": {},
     "output_type": "execute_result"
    }
   ],
   "source": [
    "p1case2.subs(z=t)-P1case2\n",
    "p2case2.subs(z=t)-P2case2"
   ]
  },
  {
   "cell_type": "markdown",
   "metadata": {},
   "source": [
    "``F := (10609*x1 + 39601*x2 + 5329*x3 + 289*x4 + 32761*x5 + 9*x6 + 9409*x7)*(x1*x4 + x2*x4 + x3*x4 + x1*x5 + x2*x5 + x3*x5 + x1*x6 + x2*x6 + x3*x6 + x1*x7 + x2*x7 + x3*x7 + x4*x7 + x5*x7 + x6*x7) - t*(5676*x1*x2*x4 + 16990*x1*x3*x4 + 9062*x2*x3*x4 + 5676*x1*x2*x5 + 16990*x1*x3*x5 + 9062*x2*x3*x5 + 10766*x1*x4*x5 + 10766*x2*x4*x5 + 10766*x3*x4*x5 + 5676*x1*x2*x6 + 16990*x1*x3*x6 + 9062*x2*x3*x6 + 20726*x1*x4*x6 + 20726*x2*x4*x6 + 20726*x3*x4*x6 + 21558*x1*x5*x6 + 21558*x2*x5*x6 + 21558*x3*x5*x6 + 5676*x1*x2*x7 + 16990*x1*x3*x7 + 9062*x2*x3*x7 + 20501*x1*x4*x7 + 14135*x2*x4*x7 + 35557*x3*x4*x7 + 26043*x1*x5*x7 + 8533*x2*x5*x7 + 19419*x3*x5*x7 + 10766*x4*x5*x7 + 7749*x1*x6*x7 + 6887*x2*x6*x7 + 13151*x3*x6*x7 + 20726*x4*x6*x7 + 21558*x5*x6*x7)``\n",
    "<br>\n",
    "The associated Picard-Fuchs operator is the file <a href=\"PF-DoubleBox-6pt-case3.txt\">PF-DoubleBox-6pt-case3.txt</a>"
   ]
  },
  {
   "cell_type": "code",
   "execution_count": 51,
   "metadata": {
    "scrolled": true
   },
   "outputs": [],
   "source": [
    "s = open(\"PF-DoubleBox-6pt-case3.txt\").readlines()[0]\n",
    "DoubleBox6ptcase3 = OA(s.replace(\"^\", \"**\").replace(\"t\", \"z\").replace(\"D\", \"Dz\"))"
   ]
  },
  {
   "cell_type": "code",
   "execution_count": 52,
   "metadata": {},
   "outputs": [],
   "source": [
    "listcoeff=DoubleBox6ptcase3.coefficients()\n",
    "p1case3=listcoeff[1]/listcoeff[2]\n",
    "p2case3=listcoeff[0]/listcoeff[2]"
   ]
  },
  {
   "cell_type": "code",
   "execution_count": 53,
   "metadata": {},
   "outputs": [
    {
     "data": {
      "text/plain": [
       "0"
      ]
     },
     "execution_count": 53,
     "metadata": {},
     "output_type": "execute_result"
    }
   ],
   "source": [
    "p1case3.subs(z=t)-P1case3\n",
    "p2case3.subs(z=t)-P2case3"
   ]
  },
  {
   "cell_type": "markdown",
   "metadata": {},
   "source": [
    "``F := (6241*x1 + 121*x2 + 9*x3 + 289*x4 + 121*x5 + 289*x6 + 26569*x7)*(x1*x4 + x2*x4 + x3*x4 + x1*x5 + x2*x5 + x3*x5 + x1*x6 + x2*x6 + x3*x6 + x1*x7 + x2*x7 + x3*x7 + x4*x7 + x5*x7 + x6*x7) - t*(7028*x1*x2*x4 + 57030*x1*x3*x4 + 25366*x2*x3*x4 + 7028*x1*x2*x5 + 57030*x1*x3*x5 + 25366*x2*x3*x5 + 8271*x1*x4*x5 + 8271*x2*x4*x5 + 8271*x3*x4*x5 + 7028*x1*x2*x6 + 57030*x1*x3*x6 + 25366*x2*x3*x6 + 35865*x1*x4*x6 + 35865*x2*x4*x6 + 35865*x3*x4*x6 + 17658*x1*x5*x6 + 17658*x2*x5*x6 + 17658*x3*x5*x6 + 7028*x1*x2*x7 + 57030*x1*x3*x7 + 25366*x2*x3*x7 + 46446*x1*x4*x7 + 39718*x2*x4*x7 + 60728*x3*x4*x7 + 47727*x1*x5*x7 + 37473*x2*x5*x7 + 44583*x3*x5*x7 + 8271*x4*x5*x7 + 32731*x1*x6*x7 + 15109*x2*x6*x7 + 11077*x3*x6*x7 + 35865*x4*x6*x7 + 17658*x5*x6*x7)``\n",
    "<br>\n",
    "The associated Picard-Fuchs operator is the file <a href=\"PF-DoubleBox-6pt-case4.txt\">PF-DoubleBox-6pt-case4.txt</a>"
   ]
  },
  {
   "cell_type": "code",
   "execution_count": 54,
   "metadata": {
    "scrolled": true
   },
   "outputs": [],
   "source": [
    "s = open(\"PF-DoubleBox-6pt-case4.txt\").readlines()[0]\n",
    "DoubleBox6ptcase4 = OA(s.replace(\"^\", \"**\").replace(\"t\", \"z\").replace(\"D\", \"Dz\"))"
   ]
  },
  {
   "cell_type": "code",
   "execution_count": 55,
   "metadata": {},
   "outputs": [],
   "source": [
    "listcoeff=DoubleBox6ptcase4.coefficients()\n",
    "p1case4=listcoeff[1]/listcoeff[2]\n",
    "p2case4=listcoeff[0]/listcoeff[2]"
   ]
  },
  {
   "cell_type": "code",
   "execution_count": 56,
   "metadata": {},
   "outputs": [
    {
     "data": {
      "text/plain": [
       "0"
      ]
     },
     "execution_count": 56,
     "metadata": {},
     "output_type": "execute_result"
    }
   ],
   "source": [
    "p1case4.subs(z=t)-P1case4\n",
    "p2case4.subs(z=t)-P2case4"
   ]
  },
  {
   "cell_type": "markdown",
   "metadata": {},
   "source": [
    "<center><b>The six-point case without imposing the Gram determinant condition</b></center>"
   ]
  },
  {
   "cell_type": "markdown",
   "metadata": {},
   "source": [
    "``F := (6889*x1 + 12769*x2 + 9409*x3 + 24649*x4 + 32761*x5 + 3721*x6 + 5329*x7)*(x1*x4 + x2*x4 + x3*x4 + x1*x5 + x2*x5 + x3*x5 + x1*x6 + x2*x6 + x3*x6 + x1*x7 + x2*x7 + x3*x7 + x4*x7 + x5*x7 + x6*x7) - t*(35494*x1*x2*x4 + 36121*x1*x3*x4 + 38859*x2*x3*x4 + 35494*x1*x2*x5 + 36121*x1*x3*x5 + 38859*x2*x3*x5 + 20462*x1*x4*x5 + 20462*x2*x4*x5 + 20462*x3*x4*x5 + 35494*x1*x2*x6 + 36121*x1*x3*x6 + 38859*x2*x3*x6 + 64537*x1*x4*x6 + 64537*x2*x4*x6 + 64537*x3*x4*x6 + 45621*x1*x5*x6 + 45621*x2*x5*x6 + 45621*x3*x5*x6 + 35494*x1*x2*x7 + 36121*x1*x3*x7 + 38859*x2*x3*x7 + 31431*x1*x4*x7 + 61225*x2*x4*x7 + 64098*x3*x4*x7 + 14197*x1*x5*x7 + 27419*x2*x5*x7 + 43156*x3*x5*x7 + 20462*x4*x5*x7 + 50840*x1*x6*x7 + 66830*x2*x6*x7 + 38323*x3*x6*x7 + 64537*x4*x6*x7 + 45621*x5*x6*x7)``\n",
    "<br>\n",
    "The associated Picard-Fuchs operator is the file <a href=\"PF-DoubleBox-6pt-NoGram-case1.txt\">PF-DoubleBox-6pt-NoGram-case1.txt</a>"
   ]
  },
  {
   "cell_type": "code",
   "execution_count": 60,
   "metadata": {},
   "outputs": [
    {
     "data": {
      "text/plain": [
       "4"
      ]
     },
     "execution_count": 60,
     "metadata": {},
     "output_type": "execute_result"
    }
   ],
   "source": [
    "s = open(\"PF-DoubleBox-6pt-NoGram-case1.txt\").readlines()[0]\n",
    "DoubleBox6ptNoGramcase1 = OA(s.replace(\"^\", \"**\").replace(\"t\", \"z\").replace(\"D\", \"Dz\"))\n",
    "DoubleBox6ptNoGramcase1.order()"
   ]
  },
  {
   "cell_type": "markdown",
   "metadata": {},
   "source": [
    "The factorisation is in the text file <a href=\"PF-DoubleBox-6pt-NoGram-factor.txt\">PF-DoubleBox-6pt-NoGram-factor.txt</a>"
   ]
  },
  {
   "cell_type": "code",
   "execution_count": 59,
   "metadata": {},
   "outputs": [
    {
     "data": {
      "text/plain": [
       "[4]"
      ]
     },
     "execution_count": 59,
     "metadata": {},
     "output_type": "execute_result"
    }
   ],
   "source": [
    "file = open('PF-DoubleBox-6pt-NoGram-factor.txt', 'r')\n",
    "lines = file.readlines()\n",
    "s = ''.join(lines);\n",
    "fac=eval(preparse(s))\n",
    "[x.order() for x  in fac]"
   ]
  },
  {
   "cell_type": "code",
   "execution_count": null,
   "metadata": {},
   "outputs": [],
   "source": []
  }
 ],
 "metadata": {
  "kernelspec": {
   "display_name": "SageMath 9.6",
   "language": "sage",
   "name": "sagemath-9.6"
  },
  "language_info": {
   "codemirror_mode": {
    "name": "ipython",
    "version": 3
   },
   "file_extension": ".py",
   "mimetype": "text/x-python",
   "name": "python",
   "nbconvert_exporter": "python",
   "pygments_lexer": "ipython3",
   "version": "3.10.3"
  }
 },
 "nbformat": 4,
 "nbformat_minor": 1
}
